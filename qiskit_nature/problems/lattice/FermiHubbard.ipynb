{
 "cells": [
  {
   "cell_type": "code",
   "execution_count": 7,
   "source": [
    "import lattice\n",
    "import hamiltonian\n",
    "import retworkx\n",
    "import numpy as np"
   ],
   "outputs": [],
   "metadata": {}
  },
  {
   "cell_type": "markdown",
   "source": [
    "# **General Lattice**"
   ],
   "metadata": {}
  },
  {
   "cell_type": "code",
   "execution_count": 2,
   "source": [
    "graph = retworkx.PyGraph()\n",
    "graph.add_nodes_from(range(6))\n",
    "weighted_edge_list = [(0, 1, 1.0), (0, 2, -1.0), (2, 3, 2.0), (4, 2, -1.0), (4, 4, 3.0), (2, 5, -1.0)]\n",
    "graph.add_edges_from(weighted_edge_list)\n",
    "general_lattice = lattice.Lattice(graph)"
   ],
   "outputs": [],
   "metadata": {}
  },
  {
   "cell_type": "markdown",
   "source": [
    "## visualization"
   ],
   "metadata": {}
  },
  {
   "cell_type": "code",
   "execution_count": 3,
   "source": [
    "general_lattice.draw(with_labels=True)"
   ],
   "outputs": [
    {
     "output_type": "display_data",
     "data": {
      "text/plain": [
       "<Figure size 432x288 with 1 Axes>"
      ],
      "image/png": "[encoded data removed]"
     },
     "metadata": {}
    }
   ],
   "metadata": {}
  },
  {
   "cell_type": "markdown",
   "source": [
    "## hopping matrix $t_{x, y}$"
   ],
   "metadata": {}
  },
  {
   "cell_type": "code",
   "execution_count": 4,
   "source": [
    "general_lattice.to_hopping_matrix()"
   ],
   "outputs": [
    {
     "output_type": "execute_result",
     "data": {
      "text/plain": [
       "array([[ 0.,  1., -1.,  0.,  0.,  0.],\n",
       "       [ 1.,  0.,  0.,  0.,  0.,  0.],\n",
       "       [-1.,  0.,  0.,  2., -1., -1.],\n",
       "       [ 0.,  0.,  2.,  0.,  0.,  0.],\n",
       "       [ 0.,  0., -1.,  0.,  3.,  0.],\n",
       "       [ 0.,  0., -1.,  0.,  0.,  0.]])"
      ]
     },
     "metadata": {},
     "execution_count": 4
    }
   ],
   "metadata": {}
  },
  {
   "cell_type": "markdown",
   "source": [
    "## **Fermi-Hubbard model**"
   ],
   "metadata": {}
  },
  {
   "cell_type": "code",
   "execution_count": 5,
   "source": [
    "u = 2.0\n",
    "hamiltonian.Fermi_Hubbard(\n",
    "    lattice = general_lattice,\n",
    "    onsite_int = u\n",
    ")"
   ],
   "outputs": [
    {
     "output_type": "execute_result",
     "data": {
      "text/plain": [
       "FermionicOp([('+I-IIIIIIIII', (1+0j)), ('-I+IIIIIIIII', (-1+0j)), ('+III-IIIIIII', (-1+0j)), ('-III+IIIIIII', (1+0j)), ('IIII+I-IIIII', (2+0j)), ('IIII-I+IIIII', (-2+0j)), ('IIII+III-III', (-1+0j)), ('IIII-III+III', (1+0j)), ('IIIIIIIINIII', (3+0j)), ('IIII+IIIII-I', (-1+0j)), ('IIII-IIIII+I', (1+0j)), ('I+I-IIIIIIII', (1+0j)), ('I-I+IIIIIIII', (-1+0j)), ('I+III-IIIIII', (-1+0j)), ('I-III+IIIIII', (1+0j)), ('IIIII+I-IIII', (2+0j)), ('IIIII-I+IIII', (-2+0j)), ('IIIII+III-II', (-1+0j)), ('IIIII-III+II', (1+0j)), ('IIIIIIIIINII', (3+0j)), ('IIIII+IIIII-', (-1+0j)), ('IIIII-IIIII+', (1+0j)), ('NNIIIIIIIIII', (2+0j)), ('IINNIIIIIIII', (2+0j)), ('IIIINNIIIIII', (2+0j)), ('IIIIIINNIIII', (2+0j)), ('IIIIIIIINNII', (2+0j)), ('IIIIIIIIIINN', (2+0j))])"
      ]
     },
     "metadata": {},
     "execution_count": 5
    }
   ],
   "metadata": {}
  },
  {
   "cell_type": "markdown",
   "source": [
    "# **One-dimensional case**"
   ],
   "metadata": {}
  },
  {
   "cell_type": "code",
   "execution_count": 6,
   "source": [
    "lattice_points = 4\n",
    "t = -1.0\n",
    "onsite_potential = 1.0\n",
    "one_dim_lattice = lattice.LineLattice(\n",
    "    num_nodes=lattice_points,\n",
    "    hopping_parameter=t,\n",
    "    onsite_potential=onsite_potential,\n",
    "    boundary_condition=\"open\"\n",
    ")"
   ],
   "outputs": [],
   "metadata": {}
  },
  {
   "cell_type": "markdown",
   "source": [
    "## visualization"
   ],
   "metadata": {}
  },
  {
   "cell_type": "code",
   "execution_count": 7,
   "source": [
    "one_dim_lattice.draw(with_labels=True)"
   ],
   "outputs": [
    {
     "output_type": "display_data",
     "data": {
      "text/plain": [
       "<Figure size 432x288 with 1 Axes>"
      ],
      "image/png": "[encoded data removed]"
     },
     "metadata": {}
    }
   ],
   "metadata": {}
  },
  {
   "cell_type": "markdown",
   "source": [
    "## hopping matrix"
   ],
   "metadata": {}
  },
  {
   "cell_type": "code",
   "execution_count": 8,
   "source": [
    "one_dim_lattice.to_hopping_matrix()"
   ],
   "outputs": [
    {
     "output_type": "execute_result",
     "data": {
      "text/plain": [
       "array([[ 1., -1.,  0.,  0.],\n",
       "       [-1.,  1., -1.,  0.],\n",
       "       [ 0., -1.,  1., -1.],\n",
       "       [ 0.,  0., -1.,  1.]])"
      ]
     },
     "metadata": {},
     "execution_count": 8
    }
   ],
   "metadata": {}
  },
  {
   "cell_type": "markdown",
   "source": [
    "## **Fermi-Hubbard model**"
   ],
   "metadata": {}
  },
  {
   "cell_type": "code",
   "execution_count": 9,
   "source": [
    "U = 5.0\n",
    "model = hamiltonian.FermiHubbard(\n",
    "    one_dim_lattice,\n",
    "    U\n",
    ")\n",
    "model.generator()"
   ],
   "outputs": [
    {
     "output_type": "execute_result",
     "data": {
      "text/plain": [
       "FermionicOp([('+I-IIIII', (-1+0j)), ('-I+IIIII', (1+0j)), ('II+I-III', (-1+0j)), ('II-I+III', (1+0j)), ('IIII+I-I', (-1+0j)), ('IIII-I+I', (1+0j)), ('NIIIIIII', (1+0j)), ('IINIIIII', (1+0j)), ('IIIINIII', (1+0j)), ('IIIIIINI', (1+0j)), ('I+I-IIII', (-1+0j)), ('I-I+IIII', (1+0j)), ('III+I-II', (-1+0j)), ('III-I+II', (1+0j)), ('IIIII+I-', (-1+0j)), ('IIIII-I+', (1+0j)), ('INIIIIII', (1+0j)), ('IIINIIII', (1+0j)), ('IIIIINII', (1+0j)), ('IIIIIIIN', (1+0j)), ('NNIIIIII', (5+0j)), ('IINNIIII', (5+0j)), ('IIIINNII', (5+0j)), ('IIIIIINN', (5+0j))])"
      ]
     },
     "metadata": {},
     "execution_count": 9
    }
   ],
   "metadata": {}
  },
  {
   "cell_type": "markdown",
   "source": [
    "## Operator expression"
   ],
   "metadata": {}
  },
  {
   "cell_type": "markdown",
   "source": [
    "$$\n",
    "\\begin{align*}\n",
    "H &= \\sum_{i = 0}^{2} \\sum_{\\sigma = \\uparrow, \\downarrow} (t c_{i, \\sigma}^\\dagger c_{i+1, \\sigma} + t c_{i+1, \\sigma}^\\dagger c_{i, \\sigma})+ U \\sum_{i=0}^{3} n_{i, \\uparrow} n_{i, \\downarrow} \\\\\n",
    "&= t c_{0, \\uparrow}^\\dagger c_{1, \\uparrow} - t c_{0, \\uparrow} c_{1, \\uparrow}^{\\dagger} \\\\\n",
    "& \\ + t c_{1, \\uparrow}^\\dagger c_{2, \\uparrow} - t c_{1, \\uparrow} c_{2, \\uparrow}^{\\dagger} \\\\\n",
    "& \\ + t c_{2, \\uparrow}^\\dagger c_{3, \\uparrow} - t c_{2, \\uparrow} c_{3, \\uparrow}^{\\dagger} \\\\\n",
    "& \\ + v n_{0, \\uparrow} + v n_{1, \\uparrow} + v n_{2, \\uparrow} + v n_{3, \\uparrow} \\\\\n",
    "& \\ + t c_{0, \\downarrow}^\\dagger c_{1, \\downarrow} - t c_{0, \\downarrow} c_{1, \\downarrow}^{\\dagger} \\\\\n",
    "& \\ + t c_{1, \\downarrow}^\\dagger c_{2, \\downarrow} - t c_{1, \\downarrow} c_{2, \\downarrow}^{\\dagger} \\\\\n",
    "& \\ + t c_{2, \\downarrow}^\\dagger c_{3, \\downarrow} - t c_{2, \\downarrow} c_{3, \\downarrow}^{\\dagger} \\\\\n",
    "& \\ + v n_{0, \\downarrow} + v n_{1, \\downarrow} + v n_{2, \\downarrow} + v n_{3, \\downarrow} \\\\\n",
    "& \\ + U n_{0, \\uparrow} n_{0, \\downarrow} + U n_{1, \\uparrow} n_{1, \\downarrow} + + U n_{2, \\uparrow} n_{2, \\downarrow} + U n_{3, \\uparrow} n_{3, \\downarrow}\n",
    "\\end{align*}\n",
    "$$"
   ],
   "metadata": {}
  },
  {
   "cell_type": "code",
   "execution_count": 14,
   "source": [
    "size = [2, 2]\n",
    "square = lattice.SquareLattice(\n",
    "    size=size,\n",
    "    hopping_parameter=[1.0, -1.0],\n",
    "    onsite_potential=-2.0,\n",
    "    boundary_condition=[\"periodic\", \"periodic\"]\n",
    ")"
   ],
   "outputs": [],
   "metadata": {}
  },
  {
   "cell_type": "code",
   "execution_count": 15,
   "source": [
    "def indextocoord(index:int, size:list) -> list:\n",
    "    y = index // size[0]\n",
    "    x = index % size[0]\n",
    "    return [x, y]\n",
    "pos = dict([(index, indextocoord(index, size)) for index in range(np.prod(size))])\n",
    "square.draw(pos=pos, with_labels=True)"
   ],
   "outputs": [
    {
     "output_type": "display_data",
     "data": {
      "text/plain": [
       "<Figure size 432x288 with 1 Axes>"
      ],
      "image/png": "[encoded data removed]"
     },
     "metadata": {}
    }
   ],
   "metadata": {}
  },
  {
   "cell_type": "code",
   "execution_count": 16,
   "source": [
    "model = hamiltonian.FermiHubbard(\n",
    "    lattice=square,\n",
    "    onsite_int=5.0\n",
    ")"
   ],
   "outputs": [],
   "metadata": {}
  },
  {
   "cell_type": "code",
   "execution_count": 17,
   "source": [
    "model.generator()"
   ],
   "outputs": [
    {
     "output_type": "execute_result",
     "data": {
      "text/plain": [
       "FermionicOp([('+I-IIIII', (1+0j)), ('-I+IIIII', (-1+0j)), ('+III-III', (-1+0j)), ('-III+III', (1+0j)), ('NIIIIIII', (-2+0j)), ('IIII+I-I', (1+0j)), ('IIII-I+I', (-1+0j)), ('+III-III', (-1+0j)), ('-III+III', (1+0j)), ('IIIINIII', (-2+0j)), ('+I-IIIII', (1+0j)), ('-I+IIIII', (-1+0j)), ('II+III-I', (-1+0j)), ('II-III+I', (1+0j)), ('IINIIIII', (-2+0j)), ('IIII+I-I', (1+0j)), ('IIII-I+I', (-1+0j)), ('II+III-I', (-1+0j)), ('II-III+I', (1+0j)), ('IIIIIINI', (-2+0j)), ('I+I-IIII', (1+0j)), ('I-I+IIII', (-1+0j)), ('I+III-II', (-1+0j)), ('I-III+II', (1+0j)), ('INIIIIII', (-2+0j)), ('IIIII+I-', (1+0j)), ('IIIII-I+', (-1+0j)), ('I+III-II', (-1+0j)), ('I-III+II', (1+0j)), ('IIIIINII', (-2+0j)), ('I+I-IIII', (1+0j)), ('I-I+IIII', (-1+0j)), ('III+III-', (-1+0j)), ('III-III+', (1+0j)), ('IIINIIII', (-2+0j)), ('IIIII+I-', (1+0j)), ('IIIII-I+', (-1+0j)), ('III+III-', (-1+0j)), ('III-III+', (1+0j)), ('IIIIIIIN', (-2+0j)), ('NNIIIIII', (5+0j)), ('IINNIIII', (5+0j)), ('IIIINNII', (5+0j)), ('IIIIIINN', (5+0j))])"
      ]
     },
     "metadata": {},
     "execution_count": 17
    }
   ],
   "metadata": {}
  },
  {
   "cell_type": "code",
   "execution_count": null,
   "source": [],
   "outputs": [],
   "metadata": {}
  }
 ],
 "metadata": {
  "interpreter": {
   "hash": "9260e481e8ebffe645f675d55196b2f88380578be1352ac7d4f487d5b39fe6ee"
  },
  "kernelspec": {
   "name": "python3",
   "display_name": "Python 3.9.6 64-bit ('3.9.6': pyenv)"
  },
  "language_info": {
   "codemirror_mode": {
    "name": "ipython",
    "version": 3
   },
   "file_extension": ".py",
   "mimetype": "text/x-python",
   "name": "python",
   "nbconvert_exporter": "python",
   "pygments_lexer": "ipython3",
   "version": "3.9.6"
  }
 },
 "nbformat": 4,
 "nbformat_minor": 2
}