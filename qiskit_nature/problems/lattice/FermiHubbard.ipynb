{
 "cells": [
  {
   "cell_type": "markdown",
   "source": [
    "# **Demonstration**"
   ],
   "metadata": {
    "slideshow": {
     "slide_type": "slide"
    }
   }
  },
  {
   "cell_type": "code",
   "execution_count": 1,
   "source": [
    "import lattice\n",
    "from lattice import Lattice, LineLattice, SquareLattice, TriangularLattice\n",
    "from hamiltonian import FermiHubbard\n",
    "import retworkx as rx\n",
    "import numpy as np\n",
    "from math import pi"
   ],
   "outputs": [],
   "metadata": {
    "slideshow": {
     "slide_type": "slide"
    }
   }
  },
  {
   "cell_type": "markdown",
   "source": [
    "## ***General Lattice***"
   ],
   "metadata": {
    "slideshow": {
     "slide_type": "slide"
    }
   }
  },
  {
   "cell_type": "code",
   "execution_count": 2,
   "source": [
    "graph = rx.PyGraph(multigraph=False)\n",
    "graph.add_nodes_from(range(6))\n",
    "weighted_edge_list = [(0, 1, 1.0), (0, 2, -1.0), (2, 3, 2.0), (4, 2, -1.0), (4, 4, 3.0), (2, 5, -1.0)]\n",
    "graph.add_edges_from(weighted_edge_list)\n",
    "\n",
    "# make a lattice\n",
    "general_lattice = Lattice(graph)\n",
    "graph.weighted_edge_list()"
   ],
   "outputs": [
    {
     "output_type": "execute_result",
     "data": {
      "text/plain": [
       "<retworkx.WeightedEdgeList at 0x144b94400>"
      ]
     },
     "metadata": {},
     "execution_count": 2
    }
   ],
   "metadata": {
    "slideshow": {
     "slide_type": "subslide"
    }
   }
  },
  {
   "cell_type": "markdown",
   "source": [
    "### **visualization**"
   ],
   "metadata": {
    "slideshow": {
     "slide_type": "subslide"
    }
   }
  },
  {
   "cell_type": "code",
   "execution_count": 3,
   "source": [
    "general_lattice.draw(self_loop=True, with_labels=True)"
   ],
   "outputs": [
    {
     "output_type": "display_data",
     "data": {
      "text/plain": [
       "<Figure size 432x288 with 1 Axes>"
      ],
      "image/svg+xml": "<?xml version=\"1.0\" encoding=\"utf-8\" standalone=\"no\"?>\n<!DOCTYPE svg PUBLIC \"-//W3C//DTD SVG 1.1//EN\"\n  \"http://www.w3.org/Graphics/SVG/1.1/DTD/svg11.dtd\">\n<svg height=\"302.4pt\" version=\"1.1\" viewBox=\"0 0 446.4 302.4\" width=\"446.4pt\" xmlns=\"http://www.w3.org/2000/svg\" xmlns:xlink=\"http://www.w3.org/1999/xlink\">\n <metadata>\n  <rdf:RDF xmlns:cc=\"http://creativecommons.org/ns#\" xmlns:dc=\"http://purl.org/dc/elements/1.1/\" xmlns:rdf=\"http://www.w3.org/1999/02/22-rdf-syntax-ns#\">\n   <cc:Work>\n    <dc:type rdf:resource=\"http://purl.org/dc/dcmitype/StillImage\"/>\n    <dc:date>2021-08-16T16:25:05.764157</dc:date>\n    <dc:format>image/svg+xml</dc:format>\n    <dc:creator>\n     <cc:Agent>\n      <dc:title>Matplotlib v3.4.2, https://matplotlib.org/</dc:title>\n     </cc:Agent>\n    </dc:creator>\n   </cc:Work>\n  </rdf:RDF>\n </metadata>\n <defs>\n  <style type=\"text/css\">*{stroke-linecap:butt;stroke-linejoin:round;}</style>\n </defs>\n <g id=\"figure_1\">\n  <g id=\"patch_1\">\n   <path d=\"M 0 302.4 \nL 446.4 302.4 \nL 446.4 0 \nL 0 0 \nz\n\" style=\"fill:#ffffff;\"/>\n  </g>\n  <g id=\"axes_1\">\n   <g id=\"patch_2\">\n    <path clip-path=\"url(#p28f4e9ab27)\" d=\"M 121.057463 208.727886 \nQ 86.323 236.993762 51.588537 265.259638 \n\" style=\"fill:none;stroke:#000000;stroke-linecap:round;\"/>\n   </g>\n   <g id=\"patch_3\">\n    <path clip-path=\"url(#p28f4e9ab27)\" d=\"M 134.4789 197.782246 \nQ 177.098492 162.949198 219.718085 128.11615 \n\" style=\"fill:none;stroke:#000000;stroke-linecap:round;\"/>\n   </g>\n   <g id=\"patch_4\">\n    <path clip-path=\"url(#p28f4e9ab27)\" d=\"M 234.838657 124.667619 \nQ 314.065234 143.774529 393.291812 162.88144 \n\" style=\"fill:none;stroke:#000000;stroke-linecap:round;\"/>\n   </g>\n   <g id=\"patch_5\">\n    <path clip-path=\"url(#p28f4e9ab27)\" d=\"M 311.401617 48.73817 \nQ 272.177829 82.847429 232.954041 116.956688 \n\" style=\"fill:none;stroke:#000000;stroke-linecap:round;\"/>\n   </g>\n   <g id=\"patch_6\">\n    <path clip-path=\"url(#p28f4e9ab27)\" d=\"M 317.933839 20.290909 \nC 344.937096 20.290909 344.937096 43.057708 317.933839 43.057708 \nC 290.930583 43.057708 290.930583 20.290909 317.933839 20.290909 \n\" style=\"fill:none;stroke:#000000;stroke-linecap:round;\"/>\n   </g>\n   <g id=\"patch_7\">\n    <path clip-path=\"url(#p28f4e9ab27)\" d=\"M 217.933019 120.933152 \nQ 135.554475 104.39132 53.175931 87.849488 \n\" style=\"fill:none;stroke:#000000;stroke-linecap:round;\"/>\n   </g>\n   <g id=\"PathCollection_1\">\n    <defs>\n     <path d=\"M 0 8.660254 \nC 2.296726 8.660254 4.499694 7.747755 6.123724 6.123724 \nC 7.747755 4.499694 8.660254 2.296726 8.660254 0 \nC 8.660254 -2.296726 7.747755 -4.499694 6.123724 -6.123724 \nC 4.499694 -7.747755 2.296726 -8.660254 0 -8.660254 \nC -2.296726 -8.660254 -4.499694 -7.747755 -6.123724 -6.123724 \nC -7.747755 -4.499694 -8.660254 -2.296726 -8.660254 0 \nC -8.660254 2.296726 -7.747755 4.499694 -6.123724 6.123724 \nC -4.499694 7.747755 -2.296726 8.660254 0 8.660254 \nz\n\" id=\"m68b5ab5dd5\" style=\"stroke:#1f78b4;\"/>\n    </defs>\n    <g clip-path=\"url(#p28f4e9ab27)\">\n     <use style=\"fill:#1f78b4;stroke:#1f78b4;\" x=\"127.774611\" xlink:href=\"#m68b5ab5dd5\" y=\"203.26167\"/>\n     <use style=\"fill:#1f78b4;stroke:#1f78b4;\" x=\"44.871587\" xlink:href=\"#m68b5ab5dd5\" y=\"270.725692\"/>\n     <use style=\"fill:#1f78b4;stroke:#1f78b4;\" x=\"226.421281\" xlink:href=\"#m68b5ab5dd5\" y=\"122.637618\"/>\n     <use style=\"fill:#1f78b4;stroke:#1f78b4;\" x=\"401.712397\" xlink:href=\"#m68b5ab5dd5\" y=\"164.912215\"/>\n     <use style=\"fill:#1f78b4;stroke:#1f78b4;\" x=\"317.933839\" xlink:href=\"#m68b5ab5dd5\" y=\"43.057708\"/>\n     <use style=\"fill:#1f78b4;stroke:#1f78b4;\" x=\"44.687603\" xlink:href=\"#m68b5ab5dd5\" y=\"86.145009\"/>\n    </g>\n   </g>\n   <g id=\"text_1\">\n    <g clip-path=\"url(#p28f4e9ab27)\">\n     <!-- 0 -->\n     <g transform=\"translate(123.957111 206.57292)scale(0.12 -0.12)\">\n      <defs>\n       <path d=\"M 2034 4250 \nQ 1547 4250 1301 3770 \nQ 1056 3291 1056 2328 \nQ 1056 1369 1301 889 \nQ 1547 409 2034 409 \nQ 2525 409 2770 889 \nQ 3016 1369 3016 2328 \nQ 3016 3291 2770 3770 \nQ 2525 4250 2034 4250 \nz\nM 2034 4750 \nQ 2819 4750 3233 4129 \nQ 3647 3509 3647 2328 \nQ 3647 1150 3233 529 \nQ 2819 -91 2034 -91 \nQ 1250 -91 836 529 \nQ 422 1150 422 2328 \nQ 422 3509 836 4129 \nQ 1250 4750 2034 4750 \nz\n\" id=\"DejaVuSans-30\" transform=\"scale(0.015625)\"/>\n      </defs>\n      <use xlink:href=\"#DejaVuSans-30\"/>\n     </g>\n    </g>\n   </g>\n   <g id=\"text_2\">\n    <g clip-path=\"url(#p28f4e9ab27)\">\n     <!-- 1 -->\n     <g transform=\"translate(41.054087 274.036942)scale(0.12 -0.12)\">\n      <defs>\n       <path d=\"M 794 531 \nL 1825 531 \nL 1825 4091 \nL 703 3866 \nL 703 4441 \nL 1819 4666 \nL 2450 4666 \nL 2450 531 \nL 3481 531 \nL 3481 0 \nL 794 0 \nL 794 531 \nz\n\" id=\"DejaVuSans-31\" transform=\"scale(0.015625)\"/>\n      </defs>\n      <use xlink:href=\"#DejaVuSans-31\"/>\n     </g>\n    </g>\n   </g>\n   <g id=\"text_3\">\n    <g clip-path=\"url(#p28f4e9ab27)\">\n     <!-- 2 -->\n     <g transform=\"translate(222.603781 125.948868)scale(0.12 -0.12)\">\n      <defs>\n       <path d=\"M 1228 531 \nL 3431 531 \nL 3431 0 \nL 469 0 \nL 469 531 \nQ 828 903 1448 1529 \nQ 2069 2156 2228 2338 \nQ 2531 2678 2651 2914 \nQ 2772 3150 2772 3378 \nQ 2772 3750 2511 3984 \nQ 2250 4219 1831 4219 \nQ 1534 4219 1204 4116 \nQ 875 4013 500 3803 \nL 500 4441 \nQ 881 4594 1212 4672 \nQ 1544 4750 1819 4750 \nQ 2544 4750 2975 4387 \nQ 3406 4025 3406 3419 \nQ 3406 3131 3298 2873 \nQ 3191 2616 2906 2266 \nQ 2828 2175 2409 1742 \nQ 1991 1309 1228 531 \nz\n\" id=\"DejaVuSans-32\" transform=\"scale(0.015625)\"/>\n      </defs>\n      <use xlink:href=\"#DejaVuSans-32\"/>\n     </g>\n    </g>\n   </g>\n   <g id=\"text_4\">\n    <g clip-path=\"url(#p28f4e9ab27)\">\n     <!-- 3 -->\n     <g transform=\"translate(397.894897 168.223465)scale(0.12 -0.12)\">\n      <defs>\n       <path d=\"M 2597 2516 \nQ 3050 2419 3304 2112 \nQ 3559 1806 3559 1356 \nQ 3559 666 3084 287 \nQ 2609 -91 1734 -91 \nQ 1441 -91 1130 -33 \nQ 819 25 488 141 \nL 488 750 \nQ 750 597 1062 519 \nQ 1375 441 1716 441 \nQ 2309 441 2620 675 \nQ 2931 909 2931 1356 \nQ 2931 1769 2642 2001 \nQ 2353 2234 1838 2234 \nL 1294 2234 \nL 1294 2753 \nL 1863 2753 \nQ 2328 2753 2575 2939 \nQ 2822 3125 2822 3475 \nQ 2822 3834 2567 4026 \nQ 2313 4219 1838 4219 \nQ 1578 4219 1281 4162 \nQ 984 4106 628 3988 \nL 628 4550 \nQ 988 4650 1302 4700 \nQ 1616 4750 1894 4750 \nQ 2613 4750 3031 4423 \nQ 3450 4097 3450 3541 \nQ 3450 3153 3228 2886 \nQ 3006 2619 2597 2516 \nz\n\" id=\"DejaVuSans-33\" transform=\"scale(0.015625)\"/>\n      </defs>\n      <use xlink:href=\"#DejaVuSans-33\"/>\n     </g>\n    </g>\n   </g>\n   <g id=\"text_5\">\n    <g clip-path=\"url(#p28f4e9ab27)\">\n     <!-- 4 -->\n     <g transform=\"translate(314.116339 46.368958)scale(0.12 -0.12)\">\n      <defs>\n       <path d=\"M 2419 4116 \nL 825 1625 \nL 2419 1625 \nL 2419 4116 \nz\nM 2253 4666 \nL 3047 4666 \nL 3047 1625 \nL 3713 1625 \nL 3713 1100 \nL 3047 1100 \nL 3047 0 \nL 2419 0 \nL 2419 1100 \nL 313 1100 \nL 313 1709 \nL 2253 4666 \nz\n\" id=\"DejaVuSans-34\" transform=\"scale(0.015625)\"/>\n      </defs>\n      <use xlink:href=\"#DejaVuSans-34\"/>\n     </g>\n    </g>\n   </g>\n   <g id=\"text_6\">\n    <g clip-path=\"url(#p28f4e9ab27)\">\n     <!-- 5 -->\n     <g transform=\"translate(40.870103 89.456259)scale(0.12 -0.12)\">\n      <defs>\n       <path d=\"M 691 4666 \nL 3169 4666 \nL 3169 4134 \nL 1269 4134 \nL 1269 2991 \nQ 1406 3038 1543 3061 \nQ 1681 3084 1819 3084 \nQ 2600 3084 3056 2656 \nQ 3513 2228 3513 1497 \nQ 3513 744 3044 326 \nQ 2575 -91 1722 -91 \nQ 1428 -91 1123 -41 \nQ 819 9 494 109 \nL 494 744 \nQ 775 591 1075 516 \nQ 1375 441 1709 441 \nQ 2250 441 2565 725 \nQ 2881 1009 2881 1497 \nQ 2881 1984 2565 2268 \nQ 2250 2553 1709 2553 \nQ 1456 2553 1204 2497 \nQ 953 2441 691 2322 \nL 691 4666 \nz\n\" id=\"DejaVuSans-35\" transform=\"scale(0.015625)\"/>\n      </defs>\n      <use xlink:href=\"#DejaVuSans-35\"/>\n     </g>\n    </g>\n   </g>\n  </g>\n </g>\n <defs>\n  <clipPath id=\"p28f4e9ab27\">\n   <rect height=\"288\" width=\"432\" x=\"7.2\" y=\"7.2\"/>\n  </clipPath>\n </defs>\n</svg>\n",
      "image/png": "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"
     },
     "metadata": {}
    }
   ],
   "metadata": {
    "slideshow": {
     "slide_type": "fragment"
    }
   }
  },
  {
   "cell_type": "markdown",
   "source": [
    "### **adjacency matrix(hopping matrix) $t_{x, y}$**"
   ],
   "metadata": {
    "slideshow": {
     "slide_type": "subslide"
    }
   }
  },
  {
   "cell_type": "code",
   "execution_count": 4,
   "source": [
    "general_lattice.to_adjacency_matrix()"
   ],
   "outputs": [
    {
     "output_type": "execute_result",
     "data": {
      "text/plain": [
       "array([[ 0.+0.j,  1.+0.j, -1.+0.j,  0.+0.j,  0.+0.j,  0.+0.j],\n",
       "       [ 1.+0.j,  0.+0.j,  0.+0.j,  0.+0.j,  0.+0.j,  0.+0.j],\n",
       "       [-1.+0.j,  0.+0.j,  0.+0.j,  2.+0.j, -1.+0.j, -1.+0.j],\n",
       "       [ 0.+0.j,  0.+0.j,  2.+0.j,  0.+0.j,  0.+0.j,  0.+0.j],\n",
       "       [ 0.+0.j,  0.+0.j, -1.+0.j,  0.+0.j,  3.+0.j,  0.+0.j],\n",
       "       [ 0.+0.j,  0.+0.j, -1.+0.j,  0.+0.j,  0.+0.j,  0.+0.j]])"
      ]
     },
     "metadata": {},
     "execution_count": 4
    }
   ],
   "metadata": {
    "slideshow": {
     "slide_type": "fragment"
    }
   }
  },
  {
   "cell_type": "markdown",
   "source": [
    "### **Fermi-Hubbard model**"
   ],
   "metadata": {
    "slideshow": {
     "slide_type": "subslide"
    }
   }
  },
  {
   "cell_type": "code",
   "execution_count": 5,
   "source": [
    "onsite_interaction = 2.0\n",
    "\n",
    "FHM = FermiHubbard(\n",
    "    lattice=general_lattice,\n",
    "    onsite_interaction=onsite_interaction\n",
    ")\n",
    "ham = FHM.second_q_ops(sparse_label=False)\n",
    "\n",
    "# even site -> up spin\n",
    "# odd sites -> down spin\n",
    "print(ham)"
   ],
   "outputs": [
    {
     "output_type": "stream",
     "name": "stdout",
     "text": [
      "  +I-IIIIIIIII * (1+0j)\n",
      "+ -I+IIIIIIIII * (-1+0j)\n",
      "+ +III-IIIIIII * (-1+0j)\n",
      "+ -III+IIIIIII * (1+0j)\n",
      "+ IIII+I-IIIII * (2+0j)\n",
      "+ IIII-I+IIIII * (-2+0j)\n",
      "+ IIII+III-III * (-1+0j)\n",
      "+ IIII-III+III * (1+0j)\n",
      "+ IIIIIIIINIII * (3+0j)\n",
      "+ IIII+IIIII-I * (-1+0j)\n",
      "+ IIII-IIIII+I * (1+0j)\n",
      "+ I+I-IIIIIIII * (1+0j)\n",
      "+ I-I+IIIIIIII * (-1+0j)\n",
      "+ I+III-IIIIII * (-1+0j)\n",
      "+ I-III+IIIIII * (1+0j)\n",
      "+ IIIII+I-IIII * (2+0j)\n",
      "+ IIIII-I+IIII * (-2+0j)\n",
      "+ IIIII+III-II * (-1+0j)\n",
      "+ IIIII-III+II * (1+0j)\n",
      "+ IIIIIIIIINII * (3+0j)\n",
      "+ IIIII+IIIII- * (-1+0j)\n",
      "+ IIIII-IIIII+ * (1+0j)\n",
      "+ NNIIIIIIIIII * (2+0j)\n",
      "+ IINNIIIIIIII * (2+0j)\n",
      "+ IIIINNIIIIII * (2+0j)\n",
      "+ IIIIIINNIIII * (2+0j)\n",
      "+ IIIIIIIINNII * (2+0j)\n",
      "+ IIIIIIIIIINN * (2+0j)\n"
     ]
    }
   ],
   "metadata": {
    "slideshow": {
     "slide_type": "fragment"
    }
   }
  },
  {
   "cell_type": "code",
   "execution_count": 6,
   "source": [
    "FHM.hopping_matrix()"
   ],
   "outputs": [
    {
     "output_type": "execute_result",
     "data": {
      "text/plain": [
       "array([[ 0.+0.j,  1.+0.j, -1.+0.j,  0.+0.j,  0.+0.j,  0.+0.j],\n",
       "       [ 1.+0.j,  0.+0.j,  0.+0.j,  0.+0.j,  0.+0.j,  0.+0.j],\n",
       "       [-1.+0.j,  0.+0.j,  0.+0.j,  2.+0.j, -1.+0.j, -1.+0.j],\n",
       "       [ 0.+0.j,  0.+0.j,  2.+0.j,  0.+0.j,  0.+0.j,  0.+0.j],\n",
       "       [ 0.+0.j,  0.+0.j, -1.+0.j,  0.+0.j,  3.+0.j,  0.+0.j],\n",
       "       [ 0.+0.j,  0.+0.j, -1.+0.j,  0.+0.j,  0.+0.j,  0.+0.j]])"
      ]
     },
     "metadata": {},
     "execution_count": 6
    }
   ],
   "metadata": {
    "slideshow": {
     "slide_type": "subslide"
    }
   }
  },
  {
   "cell_type": "code",
   "execution_count": 2,
   "source": [
    "FHM.hopping_matrix()"
   ],
   "outputs": [
    {
     "output_type": "execute_result",
     "data": {
      "text/plain": [
       "array([[ 0.+0.j,  1.+0.j, -1.+0.j,  0.+0.j,  0.+0.j,  0.+0.j],\n",
       "       [ 1.+0.j,  0.+0.j,  0.+0.j,  0.+0.j,  0.+0.j,  0.+0.j],\n",
       "       [-1.+0.j,  0.+0.j,  0.+0.j,  2.+0.j, -1.+0.j, -1.+0.j],\n",
       "       [ 0.+0.j,  0.+0.j,  2.+0.j,  0.+0.j,  0.+0.j,  0.+0.j],\n",
       "       [ 0.+0.j,  0.+0.j, -1.+0.j,  0.+0.j,  3.+0.j,  0.+0.j],\n",
       "       [ 0.+0.j,  0.+0.j, -1.+0.j,  0.+0.j,  0.+0.j,  0.+0.j]])"
      ]
     },
     "metadata": {},
<<<<<<< HEAD
<<<<<<< HEAD
<<<<<<< HEAD
     "execution_count": 6
=======
     "execution_count": 7
>>>>>>> 76f5380 (minor change)
    }
   }
  },
  {
   "cell_type": "code",
   "execution_count": 29,
   "source": [
<<<<<<< HEAD
    "class test:\n",
    "    def __init__(self, a:int, b:float) -> None:\n",
    "        self.a = a\n",
    "        self.b = b\n",
    "t = test(1.2, 3)\n"
   ],
   "outputs": [],
>>>>>>> 540e228 (minor change)
   "metadata": {}
=======
    "## ***Lattice from an adjacency matrix***"
=======
     "execution_count": 31
=======
     "execution_count": 18
>>>>>>> b33b296 (minor change)
    }
>>>>>>> bd567cf (minor change)
   ],
   "metadata": {
    "slideshow": {
<<<<<<< HEAD
     "slide_type": "slide"
=======
     "slide_type": "subslide"
>>>>>>> b33b296 (minor change)
    }
   }
>>>>>>> 8066556 (minor change)
  },
  {
   "cell_type": "markdown",
   "source": [
    "## ***Lattice from an adjacency matrix***"
   ],
   "metadata": {
    "slideshow": {
     "slide_type": "slide"
    }
   }
  },
  {
   "cell_type": "code",
<<<<<<< HEAD
<<<<<<< HEAD
<<<<<<< HEAD
   "execution_count": 19,
=======
   "execution_count": 32,
>>>>>>> bd567cf (minor change)
=======
   "execution_count": 19,
>>>>>>> b33b296 (minor change)
=======
   "execution_count": 8,
>>>>>>> 76f5380 (minor change)
   "source": [
    "ad_mat = np.array(\n",
    "    [\n",
    "        [1.0 , -1.0 + 1.0j, 2.0, 0.0],\n",
    "        [0.0, 2.0, -3.0, -1.0],\n",
    "        [0.0, 0.0, 3.0, 0.0],\n",
    "        [0.0, 0.0, 0.0, 4.0]\n",
    "    ]\n",
    ")\n",
    "\n",
    "lattice_from_ad_mat = lattice.Lattice.from_adjacency_matrix(ad_mat)\n",
    "lattice_from_ad_mat.draw(with_labels=True)"
   ],
   "outputs": [
    {
     "output_type": "display_data",
     "data": {
      "text/plain": [
       "<Figure size 432x288 with 1 Axes>"
      ],
<<<<<<< HEAD
<<<<<<< HEAD
<<<<<<< HEAD
      "image/png": "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"
=======
      "image/png": "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"
>>>>>>> bd567cf (minor change)
=======
      "image/png": "iVBORw0KGgoAAAANSUhEUgAAAb4AAAEuCAYAAADx63eqAAAAOXRFWHRTb2Z0d2FyZQBNYXRwbG90bGliIHZlcnNpb24zLjQuMiwgaHR0cHM6Ly9tYXRwbG90bGliLm9yZy8rg+JYAAAACXBIWXMAAAsTAAALEwEAmpwYAAAvGklEQVR4nO3de3xMZ+I/8M8kk6vIRW5CEiQhQYsSlxSVUAmJYBHaunXp9kJRLaW1pVvsV9CybWW71S1dWtffamkjUVtCSEQIRe51aUJIglzlMpOZ3x+aMHKbSWZyZuZ83q9X/2hy5uRDLx/Pc57nORKlUqkEERGRSJgIHYCIiKgtsfiIiEhUWHxERCQqLD4iIhIVFh8REYkKi4+IiESFxUdERKLC4iMiIlFh8RERkaiw+IiISFRYfEREJCosPiIiEhUWHxERiQqLj4iIRIXFR0REosLiIyIiUWHxERGRqLD4iIhIVFh8raBUKpGcnIz3338fEokEa9euRWZmptCxiIioCSy+FqqsrMSsWbMQEREBAJgxYwby8/MxbNgwrFy5EgqFQuCERETUEIlSqVQKHcLQVFRUYPTo0XBzc8M333wDa2vruu/duXMHEydOhLe3N3bs2AGJRCJgUiIiehJHfC3wxRdfwMHBAXv27FEpPQBwdXXFsWPHkJKSgtjYWIESEhFRYzji01B5eTm8vb1x5MgR9OnTp9Hr9u3bh/Xr1yMpKYmjPiIiPcIRn4a2bNmC5557rsnSA4DJkyejuroahw4daqNkRESkDhafhnbt2oVFixY1e52JiQkWLlyI3bt3t0EqIiJSF4tPAxUVFcjIyMCAAQPUun7IkCFITk7WcSoiItIEi08Dv/76K/z8/GBpaanW9X5+fsjLy0NRUZFugxERkdpYfBpITk6Gv7+/2tebmpqiX79+OH/+vA5TERGRJlh8Grhx4wa8vb01+oyPjw+uX7+um0BERKQxFp+GNN2awK0MRET6hcVHRESiwuIjIiJRYfFpwMLCAuXl5Rp9pry8XO1VoEREpHtSoQMYkr59+2LHjh11f19YVoX953KRfrsEJZVy2FpK4dfRFhED3OFoYwEASElJwcqVK4WKTERET+BZnRq4fv06hg4diujEK9hyPBtxmQUAgCr5o1cQWUpNoAQQ6OuMmQNcMXZQLxQVFcHU1FSg1ERE9DgWnwaUSiXchk+FXdCfUV2jRFO/cxIJYCYB2mXGImXfp20XkoiImsRnfBr49swNWA2djip506UHAEolUK0ASryfx87E622Sj4iImscRn5ou5hThha2JqJDVqHy9pqIUd6P/gcrrKTCxsoXDiNlo1ztQ5RorM1PseXUI+rjbt11gIiJqEEd8atpyPBuV8pp6X7935J+QmJrBfcFOOIUvwd0jUaguuKFyTaW8BlHHs9sqKhERNYHFp4bCsirEZRbUm95UVFfiQcZp2D83AybmVrD06A1rn8Eov3JM5TqlEjiWUYC7ZVVtmJqIiBrC4lPD/nO5DX5dfu8mJCamMOvQue5rZi7dIHtixAcAEgD7zzd8HyIiajssPjWk3y5R2bJQSyGrgMTCSuVrJhbWUFRX1Lu2Uq5Ael6pzjISEZF6WHxqKKmUN/h1EzMrKKtUS05Z9QAm5lYNXl9SKdN6NiIi0gyLTw22lg0fcCPt0BlKRQ1k927Wfa06/xrMnLs0ch8zneQjIiL1sfjU4NfRFhbS+r9VJuaWsPYNQNHJb6GorkRlbioeZJ9Bu95B9a61lJrAz619W8QlIqImsPjUMGWAe6Pf6xA8D0p5NXI/m47CgxvgGDwP5g2M+JQApvRv/D5ERNQ2eEi1GpxsLDCihzN+TrtTb0uDqVV7uEz+a5Ofl0iAIF/nuoOriYhIOBzxqWl+oA8spS07aNpSaop5gT5aTkRERC3B4lNTXw97rAj1g5WZZr9lSnkVQlzLeVwZEZGeYPFpYMaQrlgR2hNWZqaQSJq+ViJ5eEbnvCGu2PXRPPz8889tE5KIiJrEQ6pb4NfcIkQdz8axjALIZTLUSB5Ngda+jy/I1xnzAn3Qx90eJ0+exKRJkxAdHY2BAwcKF5yIiFh8rXG3rApj5n2Irv2GwtbRFbaWZvBza48p/d3rLWQ5ePAgXnvtNRw/fhy+vr4CJSYiIhZfK3l4eCAuLg5eXl7NXvv1119j9erVOHXqFDp16tQG6YiI6EncztAKJSUluHfvHrp27arW9XPmzEF+fj5CQkJw4sQJODg46DYgERHVw8UtrZCamgo/Pz+YmKj/27hs2TI8//zzCA8Px4MHD3SYjoiIGsLia4XU1FT07t1bo89IJBJ8/PHH6Nq1K6ZNmwa5vOEDsImISDdYfK2QmpqKXr16afw5ExMTfP3115DL5Xj11VfBx6xERG2HxdcKV65c0XjEV8vc3Bz79+9Hamoq3nvvPS0nIyKixrD4WqGlI75a7dq1w08//YQffvgBn3zyiRaTERFRY7iqs4VKS0tRUFCg9orOxjg6OiI2NhbDhg2Ds7MzZs6cqZ2ARETUIBZfC6WlpcHPzw+mpi07uPpxnp6eiImJQVBQEJycnDB27FgtJCQiooZwqrOFrly50qppzif16tUL33//PWbPno3ExESt3ZeIiFSx+FqoJVsZmhMQEIDt27dj4sSJSEtL0+q9iYjoIRZfC7V2YUtjQkNDsWHDBowZMwY5OTlavz8RkdjxGV8LtWYrQ3NmzpyJgoICBAcHIz4+Ho6Ojjr5OUREYsRDqlugrKwMLi4uKC0t1crilsYsW7YMcXFx+N///od27drp7OcQEYkJpzpbIC0tDb6+vjotPQBYt24devbsiYiICMhkMp3+LCIisWDxtYCunu89SSKRYOvWrTA1NcWcOXOgUCh0/jOJiIwdi68FtL2VoSlSqRR79uzBtWvXsGTJEp7rSUTUSiy+FtDFVoamWFtb49ChQ/j555+xfv36Nvu5RETGiKs6W6Ctpjof5+DggJiYGAwbNgwuLi7485//3KY/n4jIWLD4NFReXo7bt2/Dy8urzX92586dERMTg8DAQDg5OSE8PLzNMxARGTpOdWooPT0d3bt3h1QqzJ8ZfH19cfDgQcydOxfx8fGCZCAiMmQsPg3pcuO6ugYOHIhvv/0WkydPxqVLlwTNQkRkaFh8GhLi+V5DRo8ejX/84x8IDQ3F9evXhY5DRGQwWHwaasutDM154YUX8O677yIkJAQFBQVCxyEiMggsPg219VaG5ixYsAAREREIDQ1FaWmp0HGIiPQez+rUwIMHD+Do6IjS0lLBFrc0RKlU4rXXXsO1a9fw448/wsLCQuhIRER6iyM+DQi9orMxEokE//znP9G+fXvMnj2bR5sRETWBxacBfVnY0hBTU1N89913uH37NhYtWsSjzYiIGsHi04A+bGVoiqWlJX744QecPHkSa9euFToOEZFeYvFpQJ9HfLXs7Oxw+PBhbNu2DV9++aXQcYiI9I5+PazSc/q0laEpbm5uiI2NxXPPPQcnJydMmjRJ6EhERHqDqzrVVFFRgQ4dOqCkpARmZmZCx1FLSkoKQkJCsHfvXgQGBgodh4hIL3CqU00ZGRnw9vY2mNIDgGeeeQZ79uzB1KlTceHCBaHjEBHpBRafmvR9YUtjgoKCEBUVhbCwMPz2229CxyEiEhyf8anJEBa2NGbKlCkoLCxEcHAwTp06hY4dOwodiYhIMBzxqclQR3y1Xn/9dcyePRtjx45FcXGx0HGIiATD4lOTIY/4an3wwQcYOnQoJk6ciMrKSqHjEBEJgqs61VBZWQl7e3uUlJTA3Nxc6DitUlNTgxdffBE1NTXYu3cvTE1NhY5ERNSmOOJTQ+2KTkMvPeDh0WY7duxAcXEx5s+fz6PNiEh0WHxqMIZpzsdZWFjgwIEDSE5OxqpVq4SOQ0TUpriqUw2GvrClIe3bt0d0dDSGDRsGFxcXvPnmm0JHIiJqExzxqcHYRny1XFxcEBsbi3Xr1mHv3r1CxyEiahMc8anBGEd8tbp164bo6GiMHj0aHTp0wPPPPy90JCIineKqzmZUVVXB3t4excXFRrG4pTEnT57E5MmTER0dDX9/f6HjEBHpDKc6m5GZmYlu3boZdekBwPDhw/HVV18hPDwcmZmZQschItIZTnU2w1BeRaQN48ePR0FBAUJCQnDq1Cl06tRJ6EhERFrH4muGsS5saczcuXORn5+PMWPG4MSJE7C3txc6EhGRVnGqsxnGvLClMcuXL8eoUaMQHh6OiooKoeMQEWkVi68ZYhvxAYBEIsHHH3+MLl26YNq0aZDL5UJHIiLSGq7qbEJVVRXs7OxQXFwMCwsLoeO0uerqaowfPx6dO3fGV199BYlEInQkIqJW44ivCVlZWejatasoSw8AzM3NsX//fly+fBnvv/++0HGIiLSCxdeE1NRU0T3fe5KNjQ1++uknfP/999i8ebPQcYiIWo2rOpsgpq0MTXFyckJsbCyGDRsGZ2dnTJ8+XehIREQtxhFfE8S4sKUxnp6eiImJwdtvv43Dhw8LHYeIqMVYfE0Q41aGpvTq1Qvff/89Zs2ahTNnzggdh4ioRbiqsxHV1dWws7PD/fv3YWlpKXQcvRIdHY05c+bg2LFj6Nmzp9BxiIg0whFfI7KysuDp6cnSa0BoaCg2bNiAMWPGICcnR+g4REQa4eKWRvD5XtNmzpyJ/Px8hISE4OTJk3B0dBQ6EhGRWjjiawS3MjTvnXfewbhx4zBu3DiUl5cLHYeISC0svkZwK4N6IiMj4evri4iICMhkMqHjEBE1i8XXCE51qkcikWDr1q0wNTXF3LlzoVAohI5ERNQkrupsgEwmg62tLe7duwcrKyuh4xiEBw8eIDg4GIMHD8bGjRt5ricR6S2O+BqQnZ0Nd3d3lp4GrK2tcejQIcTGxmLDhg1CxyEiahRXdTaAG9dbxsHBAbGxsRg6dCicnZ3x5z//WehIRET1sPgawOd7Lde5c2fExsYiMDAQTk5OCA8PFzoSEZEKTnU2gFsZWsfX1xcHDx7E3LlzER8fL3QcIiIVLL4GcCtD6w0cOBA7d+7E5MmTcenSJaHjEBHV4arOJ8jlcrRv354rOrVk165dePfddxEfH48uXboIHYeIiM/4npSdnY3OnTuz9LTkxRdfREFBAYKDgxEfHw9nZ2ehIxGRyHGq8wlc2KJ9CxcuREREBMLCwlBWViZ0HCISORbfE7iVQTdWr16Nfv36YdKkSaiurhY6DhGJGIvvCRzx6YZEIkFUVBTatWuH2bNn82gzIhIMi+8J3MqgO1KpFLt27cKtW7fw1ltvgeuqiEgIXNX5GLlcDltbWxQWFsLa2lroOEaruLgYI0aMQEREBFasWCF0HCISGa7qfMzVq1fh5ubG0tMxOzs7HD58GMOGDYOLiwv+8pe/CB2JiESExfcYblxvO25uboiNjcVzzz0HR0dHTJo0SehIRCQSLL7HcGFL2/Lx8cGPP/6IMWPGwNHRESNGjBA6EhGJABe3PIYLW9pe//79sXv3bkRERODChQtCxyEiEWDxPYZTncIYOXIkoqKiEBYWhqtXrwodh4iMHKc6/1BTU4PMzEz07NlT6CiiNGXKFBQWFiI4OBinTp2Cq6ur0JGIyEix+P5w9epVuLq6ol27dkJHEa3XX38dd+7cwdixY3H8+HHY2toKHYmIjBCnOv/A53v6YeXKlQgICMDEiRNRWVkpdBwiMkIsvj/w+Z5+kEgk+PTTT+Hk5IQZM2agpqZG6EhEZGRYfH/gVgb9YWpqih07dqCoqAjz58/n0WZEpFUsvj9wqlO/WFhY4MCBAzh79iw+/PBDoeMQkRHhWZ14uKLT1tYWd+7cgY2NjdBx6DH5+fkYOnQoFi9ejHnz5gkdh4iMAFd1Arh+/TqcnZ1ZenrIxcUFR44cwfDhw+Hk5ISpU6cKHYmIDByLD1zYou+6deuG6OhojB49Gh06dMDzzz8vdCQiMmB8xgc+3zMEffr0wb59+/DSSy8hOTlZ6DhEZMBYfOCIz1A899xz2Lp1K8LDw5GVlSV0HCIyUCw+cCuDIZkwYQJWr16NkJAQ3Lp1S+g4RGSARL+qU6FQoH379rh9+zbat28vdBxS0//93/9h165dOHHiBOzt7YWOQ0QGRPQjvuvXr8PR0ZGlZ2CWL1+OkSNHIjw8HBUVFULHISIDIvri48IWwySRSPDJJ5/A09MTL7zwAuRyudCRiMhAiL74uLDFcJmYmGDbtm2oqqrCa6+9xqPNiEgtoi8+jvgMm7m5Ofbv34/Lly9jxYoVQschIgMg+uLjiM/w2djY4KeffsJ///tfbN68Weg4RKTnRH1yi0KhQHp6OovPCDg5OeHIkSMYNmwYnJ2dMX36dKEjEZGeEnXx/f7773BwcOCbvo2Ep6cnDh8+jJEjR8LR0RFjxowROhIR6SFRT3VymtP49O7dGwcOHMDMmTNx5swZoeMQkR4SdfFxYYtxevbZZ7F9+3ZMmDABaWlpQschIj0j6uLjiM94hYWFYf369RgzZgxycnKEjkNEekTUxccRn3GbNWsWFixYgDFjxuDevXtCxyEiPSHaszoVCgXs7OyQk5PDsx6N3NKlS3Hq1CkcPXoU1tbWQschIoGJdsSXk5MDOzs7lp4IREZGonv37oiIiIBMJhM6DhEJTLTFx1cRiYeJiQm++uorSCQSzJ07FwqFQuhIRCQg0RYfF7aIi5mZGfbu3YvffvsN7777rtBxiEhAoi0+LmwRH2traxw6dAgxMTHYsGGD0HGISCCiLT6O+MSpQ4cOiImJwZYtW7B9+3ah4xCRAER5ZJlSqURaWhqLT6Tc3d0RExODwMBAODo6Ijw8XOhIRNSGRDniy8nJgY2NDRwcHISOQgLx8/PDwYMHMWfOHJw6dUroOETUhkRZfHy+RwAwaNAgfPvtt5g0aRIuX74sdBwiaiOiLT5OcxIABAcHY9OmTRg7dixu3LghdBwiagOifMZ35coVDBo0SOgYpCdeeuklFBQUIDg4GPHx8XB2dtbKfQsLC3HmzBl4eXnBz88PEolEK/clotYR7YiPU530uEWLFmHKlCkICwtDWVlZq+71+++/IywsDD4+Phg3bhwGDRqEHj16YM+ePVpKS0StIbriUyqVnOqkBq1ZswZ9+/bFpEmTUF1d3aJ7JCUlISAgAMOGDcOtW7egVCpRUlKC7du3Y/ny5Vi5ciVEejwukd4Q3SHVubm5GDhwIPLy8oSOQnpILpcjIiICVlZW2LlzJ0xM1P+zYWlpKXx8fPDll19iwoQJ9b6fn5+P0aNHY+nSpZgxY4Y2YxORBkQ34uPGdWqKVCrFd999h9zcXLz11lsajc4+++wzjBo1qsHSAwAXFxds3rwZf/vb3yCXy7UVmYg0JLri4/M9ao6VlRUOHjyIuLg4/P3vf1frM8XFxdi0aRNWrVrV5HVBQUHw8PDAf/7zH21EJaIWEGXxccRHzbG3t0dMTAz+/e9/Y+vWrc1ev337dgQHB8PX17fZa1etWoVPPvlEGzGJqAVEV3yc6iR1ubm5ITY2FqtWrcKBAweavPb06dMYM2aMWvcdOnQorl+/juLiYm3EJCINiar4ald0cqqT1NW9e3ccOnQIr732GuLi4hq9Ljk5Gf7+/mrdUyqVol+/fjh//ry2YhKRBkRVfLdu3YKFhQUcHR2FjkIGZMCAAdi1axciIiJw4cKFet+/d+8e8vPz0aNHD7Xv6e/vj+TkZC2mJCJ1iar4ONqjlho1ahS2bNmCsLAwXL16VeV7ly9fxtNPPw1TU1O179evXz/8+uuv2o5JRGoQ1ZFlfL5HrREREYHCwkIEBwfj1KlTcHV1BQDIZDJYWVlpdC8rK6sWb5InotbhiI9IA2+88QZmzJiBsWPHoqSkROg4RNQCoio+jvhIG1atWoXBgwdj4sSJqKysFDoOEWlINMXHMzpJWyQSCT7//HM4OjpixowZqKmpgUKh0Ogeml5PRNojmmd8t2/fhpmZmdZeOUPiZmpqip07dyI0NBTffPMNsrKyVL5fWFaF/edykX67BCWVcthaSuHX0RYRA9zhaGOBzMxMeHt7C5SeSNxEU3yc5iRts7CwwIEDBxAYGIi7d+8iLy8P+XIrbDmejbjMAgBAlfzRyM5SehubjmYi0NcZ2VduYP4L44SKTiRqoik+LmwhXbC1tcXhw4fRrVs3LP/qRyTJPFApr0FDZ1tX/lGCR1LvQNFlHHItu7VxWiICRPSMjyM+0hVXV1eMXbAW8eWuqJA1XHqPUyoBidQC/0y8jZ2J19skIxE9Ipri48IW0pWLOUW4bOaLGsmjDewl5w4hb/tbuLFhIgp/3NTg5ypkCqyNTsevuUVtlJSIAJEUn1KpxJUrVzjVSTqx5Xg2qhWqwzypjSPsnp0Gmz6jm/xspbwGUcezdRmPiJ4giuK7c+cOTExMuKKTtK6wrApxmQX1pjetfZ+FdY8AmFjZNvl5pRI4llGAu2VVOkxJRI8TRfHVLmyRSCRCRyEjs/9cbqvvIQGw/3zr70NE6hFF8XFhC+lK+u0SlS0LLVEpVyA9r1RLiYioOaIoPm5lIF0pqZRr6T4yrdyHiJoniuLjiI90xdZSO1thSwrvoLCwUCv3IqKmGX3x1a7oZPGRLvh1tIWFtP5/RkpFDZTyakBRAygVUMqroVTUNHgPU9TgWko8vL290b17d8yaNQtRUVFISUmBXK6dESURPSJRKpvbbmvY7ty5g169eqGwsJCLW0irEhMTsfHzf+FilymQPfGYr+jktyg+tUvla3ZDX4T98On17mMhNcHpZSNhbyVFWloaEhISkJiYiISEBOTk5MDf3x9DhgxBQEAAhgwZAhcXF13+soiMntEX37Fjx7By5UqcPHlS6ChkBJRKJWJiYhAZGYnr169jyZIluNh+EI5m1N/SoA6JBAjp5YovZvg3+P379+8jKSkJCQkJSEhIwJkzZ+Do6IiAgIC6v55++mmYmZm18ldGJB5Gf1YnN66TNsjlcuzduxfr16+HQqHAsmXLMHXqVJiZmeFiThHif7uHClnDU5lNsZSaYl6gT6Pfd3BwQEhICEJCQgA8fJ1Renp6XRFGRUXhxo0bGDBgQF0RDhkypO7t8ERUn9GP+ObNmwc/Pz8sXLhQ6ChkgB48eIBt27Zh48aN8PT0xLJlyzB27Nh60+Y7E69jbXQaKp6c82yClZkJVoT2xIwhXVuVsaioqG5UmJiYiMTERDg4OKgUYd++fTkqJPqD0RdfYGAgPvjgA4waNUroKGRA7t+/jy1btuDzzz/HkCFDsGzZMgQEBDT5mYfll97o2xlqSSQPR3orQv1aXXoNUSgUyMjIUHlWeO3aNfTv37/uWWFAQAA6duyo9Z9NZAiMvvicnZ3x66+/ws3NTegoZAByc3OxadMmbNu2DRMmTMDSpUs1WhH8a24Roo5n41hGASR49CoiALCUmkAJIMjXGfMCfdDH3V7r+RtTXFyMpKSkuiJMTEyEnZ2dShH27dsX5ubmbZaJSChGXXwFBQXo0aMH7t27xxWd1KS0tDRs2LAB33//PV5++WUsXrwYHh4eLb7f3bIq7D+fi/S8UpRUymBraQY/t/aY0v/hG9iFplAokJmZWVeECQkJuHr1Kvr166cyRdqpUyehoxJpnVEX3/Hjx/HXv/4V8fHxQkchPZWYmIjIyEicPn0ab775JubPn48OHToIHUsQJSUlOHv2bF0RJiYmwsbGRqUIn3nmGY4KyeAZdfFFRUXhwoUL+PLLL4WOQnqkoS0Jc+bMgbW1tdDR9IpSqURWVpbKs8KsrCz069dPZYq0c+fOQkcl0ohRF9/8+fPRo0cPLFq0SOgopAfkcjn27duHyMjIelsSSD2lpaU4e/asyhSptbW1ShE+88wzsLAQfjqXqDFGXXxBQUF4//33MXp00y8DJeNWuyXh448/hoeHR6NbEkhzSqUS2dnZKkWYmZmJPn36qEyRtuZ5KZG2GXXxubq6IiUlhQ/oRaolWxKo9crKypCcnFxXhAkJCbCwsFApwv79+8PS0lLoqCRSRlt8hYWF8PHxwf379/kne5Fp7ZYE0i6lUomrV6+qLJpJT0/H008/XVeEAQEB8PDw4H+r1CaMtvhOnDiB5cuX4/Tp00JHoTaSnp6O9evXa21LAulOeXl53aiwdppUKpWqFOGAAQM4KiSdMNqzOnlGp3g8uSUhOztbtFsSDEW7du0wYsQIjBgxAsDDUeG1a9fqSnD37t1IS0vDU089pbJwxtPTk6NCPVJYWIgzZ87Ay8sLfn5+BvPPxmhHfAsWLICXlxcWL14sdBTSAaVSidjYWKxbt45bEozUgwcPcO7cOZVnhRKJROXNFAMGDICVlZXQUUUnNzcXb7zxBk6ePIni4mK0a9cOHTt2xEcffYSXXnpJ6HjNMuoRX3h4uNAxSMu4JUE8rK2tMXz4cAwfPhzAwz/s3Lhxo64E9+3bV/eS6cenSLt27WowIw9DlJycjIkTJ+KNN97A7t270a5dOyiVSiQmJmL69Om4fPky1qxZAxMT/X3PudGO+Dp27Ijk5GS4u7sLHYW04PEtCe7u7li+fDm3JBAqKirqRoW106QKhUKlCP39/TkToCXl5eXw8fFBVFQU/vSnP9X7fkFBAYKDg7Fo0SK8/PLLbR9QTUZZfHfv3oWXlxeKior4P0YD9/iWhMGDB2PZsmV49tlnhY5FekqpVOL3339XKcLLly+jZ8+eKs8Ku3Xrxv83tEBkZCTOnz+PPXv2NHrNiRMn8PLLLyMjI0NvZ2KMsvhOnjyJd999FwkJCUJHoRbilgTSloqKCpw/f15lk71cLlcpQn9/f7Rr107oqHqtpKQEPj4+iIuLQ8+ePZu8dvTo0Zg6dSr+8pe/tFE6zRhl8f3rX/9CUlIS/v3vfwsdhTT0+JaE2bNn4+233+aWBNIqpVKJnJwclSK8dOkSfH19VRbOeHl5cVT4mM8//xzx8fHYvXt3s9fGx8fjlVdeQXp6ehsk05xRLm7hVgbDwy0J1FYkEgk8PT3h6emJqVOnAgAqKyuRkpKChIQE/PDDD3jvvfdQVVVVb1RoY2MjcHrhJCQkYMyYMWpdGxAQgJs3b+LevXt6+d+xURZfamoqQkNDhY5BzWhoS8K3337LhQjU5iwtLesKrlZubm7diPD999/HxYsX0aNHD5WFMz4+PqIZFSYnJ+O9995T61pTU1P0798f586d08uzko1yqtPNzQ1JSUmcItNT3JJAhqiqqgopKSkqU6QPHjxQGRUOGjTIKEeFxcXF6Ny5M4qKiiCVqjdeeuedd+Dk5KR2WbYloyu+e/fuoWvXriguLhbNn8QMRUVFBbZt24aNGzdySwIZhZs3b6oU4YULF+Dj46PyrLB79+4G/+/46dOnsXjxYpw5c0btz+zYsQPR0dHYtWuXDpO1jNFNdaampqJXr14G/y+aMbl//z6ioqLw2WefYfDgwdi5cye3JJBR6Ny5MyZPnozJkycDAKqrq3HhwgUkJCTg8OHDWLlyJcrKylRGhQMHDoStra3AyTVTXV2t8Qk5VlZWkMlkOkrUOkZbfCS8mzdvYtOmTfj6668xYcIE/PLLL/xnQ0bN3NwcgwYNwqBBg+pegH3r1q26UeGqVauQkpICb29vldc09ejRQ69POjE2LD7SuvT0dGzYsAEHDhzA7NmzcfHiRT5vJdHq1KkTJk2ahEmTJgF4OHq6ePEiEhISEBsbi7/97W8oLi6uGxUOGTIEgwcPNrhRoSExuuK7cuUKQkJChI4hSmfOnEFkZCROnTrFLQlEjTA3N8fAgQMxcOBALFy4EACQl5dXNypcvXo1zp8/j27duqmsIPX19RV0VKhQKHR6fVsyusUtnTt3xunTp9GlSxeho4gC35JApH0ymQwXL15UWThz//59DB48uG6KdPDgwbCzs2uTPL///jsGDx6MW7du1a2fKCyrwv5zuUi/XYKSSjlsLaXw62iLiAHucLSxwJo1a1BSUoL169e3SUZNGFXxFRUVwcPDAyUlJVzcomOPb0moqanB8uXLuSWBSIdu376NM2fO1BXhuXPn0KVLF5UVpH5+fjoZFSqVSri6uiIlJQWFinbYcjwbcZkFAIAq+aORnaXUBEoAgb7OuPbjF3hlUnDdIQH6xKiK7/Tp03jrrbeQlJQkdBSjxS0JRPpBJpPh0qVLKu8rvHv3br1Rob29vVZ+XmhoKHpPfB0/5pqjUl6DpppDIgEUsiosHtEFb40boJWfr01GVXxbt27F6dOnsW3bNqGjGJ0ntyTwLQlE+ic/P19levTcuXPw8PBQWUHaq1evFo0Kp/31cyTLPVEjMVX7M1ZmJlgR2hMzhnTV+OfpklEtbuGKTu17fEvC+PHjuSWBSI+5uLhg/PjxGD9+PICHjyRqR4VxcXGIjIxEQUEBBg0aVFeEQ4YMgYODQ5P3vZhThAvwQo1EdZxUeGgjKq9fhEJWCdN2DrAdMhnt+z5aXFghU2BtdDr6uNujj7u91n+9LWVUI76QkBAsXLgQYWFhQkcxeE9uSeBbEoiMQ0FBQd2oMDExEWfPnoW7u7vKCtJevXrB1PTRyO7VHcn4Oe1OvenN6oIbMHPoBInUDLK7Obj93XtwifgQFh196q6RSICQXq74YoZ/W/0Sm2VUIz6+laH1Ht+SMH/+fGRlZcHR0VHoWESkJc7OzggPD0d4eDiAh6PCy5cvIzExEadOncLGjRtx584dDBw4EAEBARgVNhFxmQUNPtMzd3589bwEEkggv5+nUnxKJXAsowB3y6rgaGOh41+deoxmxFd7iGpJSQlPQNBQ7ZaEyMhIXLt2De+88w7mzJnDF3MSiVRhYWHdCtLc9j2RUNZBZfXm4+7GRqH80v+glFfB3NUbrtPXwcRc9XgzS6kJFo/ugdee826L+M0ymhFfamoqevbsydLTwJNbEpYtW4Zp06ZxSwKRyDk5OSEsLAxhYWF4a08Kqi7cavRax5B56DD6NVTdTEfl75cgMa3//49KuQLpeaW6jKwRoyo+LrpQz5NbEv7+979zSwIRNaikUt7sNRITU1h69Eb5lWMoTYmGrf/4Bu6jPwdWG03x8fle8/iWBCLSlK2lBjWhUEB+P6+R++jPTJLRzAtyxNe4mzdvYsmSJfD29kZWVhZ++eUX/PDDDyw9ImqWX0dbWEjrV0VNeRHKU+OgqK6AUlGDiqvnUJ4WB8uu/epdayk1gZ9b+zZIqx6jGvGx+FQ9uSXhwoUL8PT0FDoWERmQKQPcseloZv1vSCQoTTmMu7FRgFIBqZ0LHEb9BdbdB9e7VAlgSn933YdVk1EUX0lJSd2b1+nRloT4+Hi8+eab3JJARC3mZGOBET2c6+3jM7W2Q8fp65r9vEQCBPk6681WBsBIpjrT0tJ0djiroVAqlYiJiUFQUBCmTZuGoKAgXLt2DStXrmTpEVGrzA/0gaVU/aPKHmcpNcW8QJ/mL2xDRjHiE/PCFm5JICJd6+thjxWhflgbnYYKmfrv2Xt4VqefXh1XBhhJ8YlxYcuTWxLWrl2L0NBQbkkgIp2oPWh6bXS6Wm9nsJSaYkWon94dUA0YSfFduXIF8+bNEzpGm+CWBCISyowhXdHH3R5Rx7NxLKMAEjzcnF6r9n18Qb7OmBfoo3cjvVpGcWRZly5d8Msvv8DbWz+Ow9GF2rckbNu2DeHh4Vi6dKlop3eJSHh3y6qw/3wu0vNKUVIpg62lGfzc2mNKf3e9WsjSEIMvvtLSUri6uqK0tFTlNHFj8eSWhMWLF3NLAhFRKxj8VGftik5jKz1uSSAi0g2DLz5jWtiiVCpx5MgRrFu3DlevXsWSJUuwY8cOviWBiEiLDL74jGErg1wux/79+xEZGQm5XM4tCUREOmTwxZeamopXX31V6BgtUlFRge3bt2PDhg3o3Lkz1qxZwy0JREQ6ZvDFZ4hndHJLAhGRcAzijC+ZTIZPP/0UgwcPhkQigZ2dHRYsWIDLly8jPz8fXl5eQkdUy82bN7F06VL4+PggKysL//vf//iWBCKiNqb3xXf//n2Ehobi4MGDWLNmDe7cuYPExETY2tpixIgR6NSpk96v6ExPT8fcuXPx9NNPQyaTISUlBdu3bzf4Z5NERIZIr6c6a2pqMHr0aAwdOhQff/wxpNKHcV1cXLB27VpUV1fjs88+Q3JyMvz9/QVOW19SUhLWrVuH+Ph4zJ8/n1sSiIj0gF6P+Pbt2wczMzNs3ry5rvQeZ2JigpCQEHzwwQcCpGuYUqlEbGwsgoKCEBERUfeWhFWrVrH0iIj0gN4Wn1wux4cffoiPPvqo0VWOV65cwYwZM5CWlobTp0+3cUJVcrkcu3fvRv/+/bFkyRLMmTMH2dnZWLBgAffhERHpEb09smz37t2IiopCXFxco8Xn5eWFmJgYnDx5Evv27UNMTEwbp3y0JWHjxo3o1KkTli9fzi0JRER6TG+f8R09ehQvvvhiowVSXl6OvLw8eHl5wc3NDQsXLoRMJmuzTd9FRUV1WxIGDhyI//znPxg6dGib/GwiImo5vZ3qbG7BSnp6Onr06AGpVIr27dujS5cuSE1N1XmuW7duYenSpfD29kZGRgaOHj2KgwcPsvSIiAyEXhbfgwcPkJmZiT59+jR6zZMb1/39/XH27FmdZcrIyMArr7yCp556qm5LwjfffMMtCUREBkYvi+/SpUvo2bMnLCwaf6dTamqqSun4+/vj3LlzWs+SlJSEyZMnY/jw4fDw8EBWVhY2b97MVwMRERkovSy+4uLiZpf+Pznic3JyQnFxsVZ+fu2WhJEjRyIiIgIjRozglgQiIiOht4tbmvPkiE8bHn9Lgkwmw7Jly/DCCy/wLQlEREbEIIvvwYMHuHXrFry9vbVyvye3JKxevRqhoaEwMdHLATEREbWCQRZfeno6fHx8GjzNRRO1WxI+/fRTDBo0iFsSiIhEQC+Lz8nJCXl5eSpfKyyrwv5zuUi/XYKMqzmwCHwVX8T9hogB7nC0sUBeXh6cnJzUuv+tW7ewadMmfP311xg3bhyOHj2Kp556She/FCIi0jN6eXJLdXU1HBwckJ+fj+x7Mmw5no24zAIAQJVcUXedpdQESgCBvs64eWQbpo0egpkzZzZ634yMDGzYsAH//e9/MWvWLLz99ttcnUlEJDJ6OeIzNzdH7969sfH7M9idUY1KeQ0aqufKP0rwSOodKF2fR2B7twbvl5SUhMjISJw8eZJvSSAiEjm9Xb3hHDAJOy6Xo0LWcOk9TqkEIDXHv8/fx87E6398TYkjR45wSwIREanQy6nOizlFmPJFPGSKR+d0KuUy3D0ShcrrF6CoLIPUviMcRsyGlbfqsWaWZiZ4pWspvvt8Haqrq7klgYiIVOhl8b26Ixk/p91RGekpqitRcub/webp52Fq54yK35JReHADOs35HFJ710cXKhWwupuFDRN6cEsCERHVo3fP+ArLqhCXWVBvetPE3BL2w6fX/b21zyBI7VxRdTtbtfgkJlB07ImAwJEsPSIiqkfvmmH/uVy1rqspvw/ZvZswd66/KlMCYP959e5DRETionfFl367RGXLQkOUNXIUHtwIm6dHwczRo973K+UKpOeV6ioiEREZML0rvpJKeZPfVyoVKPzxY8BUig6jX2/iPjJtRyMiIiOgd8Vna9n4Y0elUom70Z+iprwIzn96HxLTxq+1teQqTiIiqk/vis+voy0spA3Huhe7BbK7OXCZshImZo2/q89SagI/t/a6ikhERAZM77YzFJZVYWjkL/We88mL83Hzn3MAUzNITEzrvt5hzHzY9A5SudZCaoLTy0bC0abxciQiInHSu+0MTjYWGNHDud4+PqmdC7os/7HZz0skQJCvM0uPiIgapHdTnQAwP9AHllLT5i9sgKXUFPMCfbSciIiIjIVeFl9fD3usCPWDlZlm8azMTLAi1A993O11E4yIiAye3k111poxpCsAYG10eqNvZ6glkTwc6a0I9av7HBERUUP0bnHLk37NLULU8WwcyyiABI9eRQQ8eh9fkK8z5gX6cKRHRETN0vviq3W3rAr7z+ciPa8UJZUy2Fqawc+tPab0d+dCFiIiUpvBFB8REZE26OXiFiIiIl1h8RERkaiw+IiISFRYfEREJCosPiIiEhUWHxERiQqLj4iIRIXFR0REosLiIyIiUWHxERGRqLD4iIhIVFh8REQkKiw+IiISFRYfERGJCouPiIhEhcVHRESiwuIjIiJRYfEREZGosPiIiEhUWHxERCQqLD4iIhKV/w97P/rX5JYlIAAAAABJRU5ErkJggg=="
>>>>>>> b33b296 (minor change)
=======
      "image/svg+xml": "<?xml version=\"1.0\" encoding=\"utf-8\" standalone=\"no\"?>\n<!DOCTYPE svg PUBLIC \"-//W3C//DTD SVG 1.1//EN\"\n  \"http://www.w3.org/Graphics/SVG/1.1/DTD/svg11.dtd\">\n<svg height=\"302.4pt\" version=\"1.1\" viewBox=\"0 0 446.4 302.4\" width=\"446.4pt\" xmlns=\"http://www.w3.org/2000/svg\" xmlns:xlink=\"http://www.w3.org/1999/xlink\">\n <metadata>\n  <rdf:RDF xmlns:cc=\"http://creativecommons.org/ns#\" xmlns:dc=\"http://purl.org/dc/elements/1.1/\" xmlns:rdf=\"http://www.w3.org/1999/02/22-rdf-syntax-ns#\">\n   <cc:Work>\n    <dc:type rdf:resource=\"http://purl.org/dc/dcmitype/StillImage\"/>\n    <dc:date>2021-08-16T16:25:06.161413</dc:date>\n    <dc:format>image/svg+xml</dc:format>\n    <dc:creator>\n     <cc:Agent>\n      <dc:title>Matplotlib v3.4.2, https://matplotlib.org/</dc:title>\n     </cc:Agent>\n    </dc:creator>\n   </cc:Work>\n  </rdf:RDF>\n </metadata>\n <defs>\n  <style type=\"text/css\">*{stroke-linecap:butt;stroke-linejoin:round;}</style>\n </defs>\n <g id=\"figure_1\">\n  <g id=\"patch_1\">\n   <path d=\"M 0 302.4 \nL 446.4 302.4 \nL 446.4 0 \nL 0 0 \nz\n\" style=\"fill:#ffffff;\"/>\n  </g>\n  <g id=\"axes_1\">\n   <g id=\"patch_2\">\n    <path clip-path=\"url(#p2ee7fc5b01)\" d=\"M 281.536128 262.678144 \nQ 247.122546 202.009018 212.708963 141.339891 \n\" style=\"fill:none;stroke:#000000;stroke-linecap:round;\"/>\n   </g>\n   <g id=\"patch_3\">\n    <path clip-path=\"url(#p2ee7fc5b01)\" d=\"M 292.453749 264.651057 \nQ 343.760434 221.7516 395.067118 178.852143 \n\" style=\"fill:none;stroke:#000000;stroke-linecap:round;\"/>\n   </g>\n   <g id=\"patch_4\">\n    <path clip-path=\"url(#p2ee7fc5b01)\" d=\"M 216.921665 135.542074 \nQ 305.074818 153.552218 393.227971 171.562363 \n\" style=\"fill:none;stroke:#000000;stroke-linecap:round;\"/>\n   </g>\n   <g id=\"patch_5\">\n    <path clip-path=\"url(#p2ee7fc5b01)\" d=\"M 201.078536 129.242235 \nQ 126.561607 82.999751 52.044678 36.757267 \n\" style=\"fill:none;stroke:#000000;stroke-linecap:round;\"/>\n   </g>\n   <g id=\"PathCollection_1\">\n    <defs>\n     <path d=\"M 0 8.660254 \nC 2.296726 8.660254 4.499694 7.747755 6.123724 6.123724 \nC 7.747755 4.499694 8.660254 2.296726 8.660254 0 \nC 8.660254 -2.296726 7.747755 -4.499694 6.123724 -6.123724 \nC 4.499694 -7.747755 2.296726 -8.660254 0 -8.660254 \nC -2.296726 -8.660254 -4.499694 -7.747755 -6.123724 -6.123724 \nC -7.747755 -4.499694 -8.660254 -2.296726 -8.660254 0 \nC -8.660254 2.296726 -7.747755 4.499694 -6.123724 6.123724 \nC -4.499694 7.747755 -2.296726 8.660254 0 8.660254 \nz\n\" id=\"ma58c6ca57c\" style=\"stroke:#1f78b4;\"/>\n    </defs>\n    <g clip-path=\"url(#p2ee7fc5b01)\">\n     <use style=\"fill:#1f78b4;stroke:#1f78b4;\" x=\"285.807467\" xlink:href=\"#ma58c6ca57c\" y=\"270.208264\"/>\n     <use style=\"fill:#1f78b4;stroke:#1f78b4;\" x=\"208.436963\" xlink:href=\"#ma58c6ca57c\" y=\"133.808605\"/>\n     <use style=\"fill:#1f78b4;stroke:#1f78b4;\" x=\"401.712397\" xlink:href=\"#ma58c6ca57c\" y=\"173.295775\"/>\n     <use style=\"fill:#1f78b4;stroke:#1f78b4;\" x=\"44.687603\" xlink:href=\"#ma58c6ca57c\" y=\"32.191736\"/>\n    </g>\n   </g>\n   <g id=\"text_1\">\n    <g clip-path=\"url(#p2ee7fc5b01)\">\n     <!-- 0 -->\n     <g transform=\"translate(281.989967 273.519514)scale(0.12 -0.12)\">\n      <defs>\n       <path d=\"M 2034 4250 \nQ 1547 4250 1301 3770 \nQ 1056 3291 1056 2328 \nQ 1056 1369 1301 889 \nQ 1547 409 2034 409 \nQ 2525 409 2770 889 \nQ 3016 1369 3016 2328 \nQ 3016 3291 2770 3770 \nQ 2525 4250 2034 4250 \nz\nM 2034 4750 \nQ 2819 4750 3233 4129 \nQ 3647 3509 3647 2328 \nQ 3647 1150 3233 529 \nQ 2819 -91 2034 -91 \nQ 1250 -91 836 529 \nQ 422 1150 422 2328 \nQ 422 3509 836 4129 \nQ 1250 4750 2034 4750 \nz\n\" id=\"DejaVuSans-30\" transform=\"scale(0.015625)\"/>\n      </defs>\n      <use xlink:href=\"#DejaVuSans-30\"/>\n     </g>\n    </g>\n   </g>\n   <g id=\"text_2\">\n    <g clip-path=\"url(#p2ee7fc5b01)\">\n     <!-- 1 -->\n     <g transform=\"translate(204.619463 137.119855)scale(0.12 -0.12)\">\n      <defs>\n       <path d=\"M 794 531 \nL 1825 531 \nL 1825 4091 \nL 703 3866 \nL 703 4441 \nL 1819 4666 \nL 2450 4666 \nL 2450 531 \nL 3481 531 \nL 3481 0 \nL 794 0 \nL 794 531 \nz\n\" id=\"DejaVuSans-31\" transform=\"scale(0.015625)\"/>\n      </defs>\n      <use xlink:href=\"#DejaVuSans-31\"/>\n     </g>\n    </g>\n   </g>\n   <g id=\"text_3\">\n    <g clip-path=\"url(#p2ee7fc5b01)\">\n     <!-- 2 -->\n     <g transform=\"translate(397.894897 176.607025)scale(0.12 -0.12)\">\n      <defs>\n       <path d=\"M 1228 531 \nL 3431 531 \nL 3431 0 \nL 469 0 \nL 469 531 \nQ 828 903 1448 1529 \nQ 2069 2156 2228 2338 \nQ 2531 2678 2651 2914 \nQ 2772 3150 2772 3378 \nQ 2772 3750 2511 3984 \nQ 2250 4219 1831 4219 \nQ 1534 4219 1204 4116 \nQ 875 4013 500 3803 \nL 500 4441 \nQ 881 4594 1212 4672 \nQ 1544 4750 1819 4750 \nQ 2544 4750 2975 4387 \nQ 3406 4025 3406 3419 \nQ 3406 3131 3298 2873 \nQ 3191 2616 2906 2266 \nQ 2828 2175 2409 1742 \nQ 1991 1309 1228 531 \nz\n\" id=\"DejaVuSans-32\" transform=\"scale(0.015625)\"/>\n      </defs>\n      <use xlink:href=\"#DejaVuSans-32\"/>\n     </g>\n    </g>\n   </g>\n   <g id=\"text_4\">\n    <g clip-path=\"url(#p2ee7fc5b01)\">\n     <!-- 3 -->\n     <g transform=\"translate(40.870103 35.502986)scale(0.12 -0.12)\">\n      <defs>\n       <path d=\"M 2597 2516 \nQ 3050 2419 3304 2112 \nQ 3559 1806 3559 1356 \nQ 3559 666 3084 287 \nQ 2609 -91 1734 -91 \nQ 1441 -91 1130 -33 \nQ 819 25 488 141 \nL 488 750 \nQ 750 597 1062 519 \nQ 1375 441 1716 441 \nQ 2309 441 2620 675 \nQ 2931 909 2931 1356 \nQ 2931 1769 2642 2001 \nQ 2353 2234 1838 2234 \nL 1294 2234 \nL 1294 2753 \nL 1863 2753 \nQ 2328 2753 2575 2939 \nQ 2822 3125 2822 3475 \nQ 2822 3834 2567 4026 \nQ 2313 4219 1838 4219 \nQ 1578 4219 1281 4162 \nQ 984 4106 628 3988 \nL 628 4550 \nQ 988 4650 1302 4700 \nQ 1616 4750 1894 4750 \nQ 2613 4750 3031 4423 \nQ 3450 4097 3450 3541 \nQ 3450 3153 3228 2886 \nQ 3006 2619 2597 2516 \nz\n\" id=\"DejaVuSans-33\" transform=\"scale(0.015625)\"/>\n      </defs>\n      <use xlink:href=\"#DejaVuSans-33\"/>\n     </g>\n    </g>\n   </g>\n  </g>\n </g>\n <defs>\n  <clipPath id=\"p2ee7fc5b01\">\n   <rect height=\"288\" width=\"432\" x=\"7.2\" y=\"7.2\"/>\n  </clipPath>\n </defs>\n</svg>\n",
      "image/png": "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"
>>>>>>> 76f5380 (minor change)
     },
     "metadata": {}
    }
   ],
   "metadata": {
    "slideshow": {
     "slide_type": "subslide"
    }
   }
  },
  {
   "cell_type": "code",
<<<<<<< HEAD
<<<<<<< HEAD
   "execution_count": 20,
=======
   "execution_count": 33,
>>>>>>> bd567cf (minor change)
=======
   "execution_count": 20,
>>>>>>> b33b296 (minor change)
=======
   "execution_count": 9,
>>>>>>> 76f5380 (minor change)
   "source": [
    "lattice_from_ad_mat.to_adjacency_matrix()"
   ],
   "outputs": [
    {
     "output_type": "execute_result",
     "data": {
      "text/plain": [
       "array([[ 1.+0.j, -1.+1.j,  2.+0.j,  0.+0.j],\n",
       "       [-1.-1.j,  2.+0.j, -3.+0.j, -1.+0.j],\n",
       "       [ 2.+0.j, -3.+0.j,  3.+0.j,  0.+0.j],\n",
       "       [ 0.+0.j, -1.+0.j,  0.+0.j,  4.+0.j]])"
      ]
     },
     "metadata": {},
<<<<<<< HEAD
<<<<<<< HEAD
<<<<<<< HEAD
     "execution_count": 20
=======
     "execution_count": 33
>>>>>>> bd567cf (minor change)
=======
     "execution_count": 20
>>>>>>> b33b296 (minor change)
=======
     "execution_count": 9
>>>>>>> 76f5380 (minor change)
    }
   ],
   "metadata": {
    "slideshow": {
     "slide_type": "fragment"
    }
   }
  },
  {
   "cell_type": "markdown",
   "source": [
    "### **Fermi-Hubbard model**"
   ],
   "metadata": {
    "slideshow": {
     "slide_type": "subslide"
    }
   }
  },
  {
   "cell_type": "code",
<<<<<<< HEAD
<<<<<<< HEAD
<<<<<<< HEAD
   "execution_count": 21,
=======
   "execution_count": 34,
>>>>>>> bd567cf (minor change)
=======
   "execution_count": 21,
>>>>>>> b33b296 (minor change)
=======
   "execution_count": 10,
>>>>>>> 76f5380 (minor change)
   "source": [
    "onsite_interaction = 2.0\n",
    "FHM = FermiHubbard(\n",
    "    lattice=lattice_from_ad_mat,\n",
    "    onsite_interaction=onsite_interaction\n",
    ")\n",
    "\n",
    "ham = FHM.second_q_ops(sparse_label=True)\n",
    "print(ham)"
   ],
   "outputs": [
    {
     "output_type": "stream",
     "name": "stdout",
     "text": [
      "  +_0 -_0 * (1+0j)\n",
      "+ +_0 -_2 * (-1+1j)\n",
      "+ -_0 +_2 * (1+1j)\n",
      "+ +_0 -_4 * (2+0j)\n",
      "+ -_0 +_4 * (-2+0j)\n",
      "+ +_2 -_2 * (2+0j)\n",
      "+ +_2 -_4 * (-3+0j)\n",
      "+ -_2 +_4 * (3+0j)\n",
      "+ +_2 -_6 * (-1+0j)\n",
      "+ -_2 +_6 * (1+0j)\n",
      "+ +_4 -_4 * (3+0j)\n",
      "+ +_6 -_6 * (4+0j)\n",
      "+ +_1 -_1 * (1+0j)\n",
      "+ +_1 -_3 * (-1+1j)\n",
      "+ -_1 +_3 * (1+1j)\n",
      "+ +_1 -_5 * (2+0j)\n",
      "+ -_1 +_5 * (-2+0j)\n",
      "+ +_3 -_3 * (2+0j)\n",
      "+ +_3 -_5 * (-3+0j)\n",
      "+ -_3 +_5 * (3+0j)\n",
      "+ +_3 -_7 * (-1+0j)\n",
      "+ -_3 +_7 * (1+0j)\n",
      "+ +_5 -_5 * (3+0j)\n",
      "+ +_7 -_7 * (4+0j)\n",
      "+ +_0 -_0 +_1 -_1 * (2+0j)\n",
      "+ +_2 -_2 +_3 -_3 * (2+0j)\n",
      "+ +_4 -_4 +_5 -_5 * (2+0j)\n",
      "+ +_6 -_6 +_7 -_7 * (2+0j)\n"
     ]
    }
   ],
   "metadata": {
    "slideshow": {
     "slide_type": "fragment"
    }
   }
  },
  {
   "cell_type": "markdown",
   "source": [
    "## ***One-dimensional case(open boundary condition)***"
   ],
   "metadata": {
    "slideshow": {
     "slide_type": "slide"
    }
   }
  },
  {
   "cell_type": "code",
<<<<<<< HEAD
<<<<<<< HEAD
<<<<<<< HEAD
   "execution_count": 22,
=======
   "execution_count": 35,
>>>>>>> bd567cf (minor change)
=======
   "execution_count": 22,
>>>>>>> b33b296 (minor change)
=======
   "execution_count": 11,
>>>>>>> 76f5380 (minor change)
   "source": [
    "lattice_points = 4\n",
    "t = -1.0\n",
    "onsite_potential = 1.0\n",
    "one_dim_lattice = LineLattice(\n",
    "    num_nodes=lattice_points,\n",
    "    edge_parameter=t,\n",
    "    onsite_parameter=onsite_potential,\n",
    "    boundary_condition=\"open\"\n",
    ")"
   ],
   "outputs": [],
   "metadata": {
    "slideshow": {
     "slide_type": "subslide"
    }
   }
  },
  {
   "cell_type": "markdown",
   "source": [
    "### **visualization**"
   ],
   "metadata": {
    "slideshow": {
     "slide_type": "subslide"
    }
   }
  },
  {
   "cell_type": "code",
<<<<<<< HEAD
<<<<<<< HEAD
<<<<<<< HEAD
   "execution_count": 23,
=======
   "execution_count": 36,
>>>>>>> bd567cf (minor change)
=======
   "execution_count": 23,
>>>>>>> b33b296 (minor change)
=======
   "execution_count": 12,
>>>>>>> 76f5380 (minor change)
   "source": [
    "pos = {0:[0, 0], 1:[1, 0], 2:[2, 0], 3:[3, 0]}\n",
    "one_dim_lattice.draw(pos=pos, with_labels=True)"
   ],
   "outputs": [
    {
     "output_type": "display_data",
     "data": {
      "text/plain": [
       "<Figure size 432x288 with 1 Axes>"
      ],
      "image/svg+xml": "<?xml version=\"1.0\" encoding=\"utf-8\" standalone=\"no\"?>\n<!DOCTYPE svg PUBLIC \"-//W3C//DTD SVG 1.1//EN\"\n  \"http://www.w3.org/Graphics/SVG/1.1/DTD/svg11.dtd\">\n<svg height=\"302.4pt\" version=\"1.1\" viewBox=\"0 0 446.4 302.4\" width=\"446.4pt\" xmlns=\"http://www.w3.org/2000/svg\" xmlns:xlink=\"http://www.w3.org/1999/xlink\">\n <metadata>\n  <rdf:RDF xmlns:cc=\"http://creativecommons.org/ns#\" xmlns:dc=\"http://purl.org/dc/elements/1.1/\" xmlns:rdf=\"http://www.w3.org/1999/02/22-rdf-syntax-ns#\">\n   <cc:Work>\n    <dc:type rdf:resource=\"http://purl.org/dc/dcmitype/StillImage\"/>\n    <dc:date>2021-08-16T16:25:06.460490</dc:date>\n    <dc:format>image/svg+xml</dc:format>\n    <dc:creator>\n     <cc:Agent>\n      <dc:title>Matplotlib v3.4.2, https://matplotlib.org/</dc:title>\n     </cc:Agent>\n    </dc:creator>\n   </cc:Work>\n  </rdf:RDF>\n </metadata>\n <defs>\n  <style type=\"text/css\">*{stroke-linecap:butt;stroke-linejoin:round;}</style>\n </defs>\n <g id=\"figure_1\">\n  <g id=\"patch_1\">\n   <path d=\"M 0 302.4 \nL 446.4 302.4 \nL 446.4 0 \nL 0 0 \nz\n\" style=\"fill:#ffffff;\"/>\n  </g>\n  <g id=\"axes_1\">\n   <g id=\"patch_2\">\n    <path clip-path=\"url(#pc0371ca121)\" d=\"M 53.349551 151.2 \nQ 104.193785 151.2 155.038019 151.2 \n\" style=\"fill:none;stroke:#000000;stroke-linecap:round;\"/>\n   </g>\n   <g id=\"patch_3\">\n    <path clip-path=\"url(#pc0371ca121)\" d=\"M 172.357816 151.2 \nQ 223.20205 151.2 274.046284 151.2 \n\" style=\"fill:none;stroke:#000000;stroke-linecap:round;\"/>\n   </g>\n   <g id=\"patch_4\">\n    <path clip-path=\"url(#pc0371ca121)\" d=\"M 291.36608 151.2 \nQ 342.210314 151.2 393.054548 151.2 \n\" style=\"fill:none;stroke:#000000;stroke-linecap:round;\"/>\n   </g>\n   <g id=\"PathCollection_1\">\n    <defs>\n     <path d=\"M 0 8.660254 \nC 2.296726 8.660254 4.499694 7.747755 6.123724 6.123724 \nC 7.747755 4.499694 8.660254 2.296726 8.660254 0 \nC 8.660254 -2.296726 7.747755 -4.499694 6.123724 -6.123724 \nC 4.499694 -7.747755 2.296726 -8.660254 0 -8.660254 \nC -2.296726 -8.660254 -4.499694 -7.747755 -6.123724 -6.123724 \nC -7.747755 -4.499694 -8.660254 -2.296726 -8.660254 0 \nC -8.660254 2.296726 -7.747755 4.499694 -6.123724 6.123724 \nC -4.499694 7.747755 -2.296726 8.660254 0 8.660254 \nz\n\" id=\"mc350b618ca\" style=\"stroke:#1f78b4;\"/>\n    </defs>\n    <g clip-path=\"url(#pc0371ca121)\">\n     <use style=\"fill:#1f78b4;stroke:#1f78b4;\" x=\"44.687603\" xlink:href=\"#mc350b618ca\" y=\"151.2\"/>\n     <use style=\"fill:#1f78b4;stroke:#1f78b4;\" x=\"163.695868\" xlink:href=\"#mc350b618ca\" y=\"151.2\"/>\n     <use style=\"fill:#1f78b4;stroke:#1f78b4;\" x=\"282.704132\" xlink:href=\"#mc350b618ca\" y=\"151.2\"/>\n     <use style=\"fill:#1f78b4;stroke:#1f78b4;\" x=\"401.712397\" xlink:href=\"#mc350b618ca\" y=\"151.2\"/>\n    </g>\n   </g>\n   <g id=\"text_1\">\n    <g clip-path=\"url(#pc0371ca121)\">\n     <!-- 0 -->\n     <g transform=\"translate(40.870103 154.51125)scale(0.12 -0.12)\">\n      <defs>\n       <path d=\"M 2034 4250 \nQ 1547 4250 1301 3770 \nQ 1056 3291 1056 2328 \nQ 1056 1369 1301 889 \nQ 1547 409 2034 409 \nQ 2525 409 2770 889 \nQ 3016 1369 3016 2328 \nQ 3016 3291 2770 3770 \nQ 2525 4250 2034 4250 \nz\nM 2034 4750 \nQ 2819 4750 3233 4129 \nQ 3647 3509 3647 2328 \nQ 3647 1150 3233 529 \nQ 2819 -91 2034 -91 \nQ 1250 -91 836 529 \nQ 422 1150 422 2328 \nQ 422 3509 836 4129 \nQ 1250 4750 2034 4750 \nz\n\" id=\"DejaVuSans-30\" transform=\"scale(0.015625)\"/>\n      </defs>\n      <use xlink:href=\"#DejaVuSans-30\"/>\n     </g>\n    </g>\n   </g>\n   <g id=\"text_2\">\n    <g clip-path=\"url(#pc0371ca121)\">\n     <!-- 1 -->\n     <g transform=\"translate(159.878368 154.51125)scale(0.12 -0.12)\">\n      <defs>\n       <path d=\"M 794 531 \nL 1825 531 \nL 1825 4091 \nL 703 3866 \nL 703 4441 \nL 1819 4666 \nL 2450 4666 \nL 2450 531 \nL 3481 531 \nL 3481 0 \nL 794 0 \nL 794 531 \nz\n\" id=\"DejaVuSans-31\" transform=\"scale(0.015625)\"/>\n      </defs>\n      <use xlink:href=\"#DejaVuSans-31\"/>\n     </g>\n    </g>\n   </g>\n   <g id=\"text_3\">\n    <g clip-path=\"url(#pc0371ca121)\">\n     <!-- 2 -->\n     <g transform=\"translate(278.886632 154.51125)scale(0.12 -0.12)\">\n      <defs>\n       <path d=\"M 1228 531 \nL 3431 531 \nL 3431 0 \nL 469 0 \nL 469 531 \nQ 828 903 1448 1529 \nQ 2069 2156 2228 2338 \nQ 2531 2678 2651 2914 \nQ 2772 3150 2772 3378 \nQ 2772 3750 2511 3984 \nQ 2250 4219 1831 4219 \nQ 1534 4219 1204 4116 \nQ 875 4013 500 3803 \nL 500 4441 \nQ 881 4594 1212 4672 \nQ 1544 4750 1819 4750 \nQ 2544 4750 2975 4387 \nQ 3406 4025 3406 3419 \nQ 3406 3131 3298 2873 \nQ 3191 2616 2906 2266 \nQ 2828 2175 2409 1742 \nQ 1991 1309 1228 531 \nz\n\" id=\"DejaVuSans-32\" transform=\"scale(0.015625)\"/>\n      </defs>\n      <use xlink:href=\"#DejaVuSans-32\"/>\n     </g>\n    </g>\n   </g>\n   <g id=\"text_4\">\n    <g clip-path=\"url(#pc0371ca121)\">\n     <!-- 3 -->\n     <g transform=\"translate(397.894897 154.51125)scale(0.12 -0.12)\">\n      <defs>\n       <path d=\"M 2597 2516 \nQ 3050 2419 3304 2112 \nQ 3559 1806 3559 1356 \nQ 3559 666 3084 287 \nQ 2609 -91 1734 -91 \nQ 1441 -91 1130 -33 \nQ 819 25 488 141 \nL 488 750 \nQ 750 597 1062 519 \nQ 1375 441 1716 441 \nQ 2309 441 2620 675 \nQ 2931 909 2931 1356 \nQ 2931 1769 2642 2001 \nQ 2353 2234 1838 2234 \nL 1294 2234 \nL 1294 2753 \nL 1863 2753 \nQ 2328 2753 2575 2939 \nQ 2822 3125 2822 3475 \nQ 2822 3834 2567 4026 \nQ 2313 4219 1838 4219 \nQ 1578 4219 1281 4162 \nQ 984 4106 628 3988 \nL 628 4550 \nQ 988 4650 1302 4700 \nQ 1616 4750 1894 4750 \nQ 2613 4750 3031 4423 \nQ 3450 4097 3450 3541 \nQ 3450 3153 3228 2886 \nQ 3006 2619 2597 2516 \nz\n\" id=\"DejaVuSans-33\" transform=\"scale(0.015625)\"/>\n      </defs>\n      <use xlink:href=\"#DejaVuSans-33\"/>\n     </g>\n    </g>\n   </g>\n  </g>\n </g>\n <defs>\n  <clipPath id=\"pc0371ca121\">\n   <rect height=\"288\" width=\"432\" x=\"7.2\" y=\"7.2\"/>\n  </clipPath>\n </defs>\n</svg>\n",
      "image/png": "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"
     },
     "metadata": {}
    }
   ],
   "metadata": {
    "slideshow": {
     "slide_type": "fragment"
    }
   }
  },
  {
   "cell_type": "markdown",
   "source": [
    "### **Fermi-Hubbard model**"
   ],
   "metadata": {
    "slideshow": {
     "slide_type": "subslide"
    }
   }
  },
  {
   "cell_type": "code",
<<<<<<< HEAD
<<<<<<< HEAD
<<<<<<< HEAD
   "execution_count": 24,
=======
   "execution_count": 37,
>>>>>>> bd567cf (minor change)
=======
   "execution_count": 24,
>>>>>>> b33b296 (minor change)
=======
   "execution_count": 13,
>>>>>>> 76f5380 (minor change)
   "source": [
    "onsite_interaction = 5.0\n",
    "FHM = FermiHubbard(\n",
    "    one_dim_lattice,\n",
    "    onsite_interaction\n",
    ")\n",
    "ham = FHM.second_q_ops(sparse_label=True)\n",
    "print(ham)"
   ],
   "outputs": [
    {
     "output_type": "stream",
     "name": "stdout",
     "text": [
      "  +_0 -_2 * (-1+0j)\n",
      "+ -_0 +_2 * (1+0j)\n",
      "+ +_2 -_4 * (-1+0j)\n",
      "+ -_2 +_4 * (1+0j)\n",
      "+ +_4 -_6 * (-1+0j)\n",
      "+ -_4 +_6 * (1+0j)\n",
      "+ +_0 -_0 * (1+0j)\n",
      "+ +_2 -_2 * (1+0j)\n",
      "+ +_4 -_4 * (1+0j)\n",
      "+ +_6 -_6 * (1+0j)\n",
      "+ +_1 -_3 * (-1+0j)\n",
      "+ -_1 +_3 * (1+0j)\n",
      "+ +_3 -_5 * (-1+0j)\n",
      "+ -_3 +_5 * (1+0j)\n",
      "+ +_5 -_7 * (-1+0j)\n",
      "+ -_5 +_7 * (1+0j)\n",
      "+ +_1 -_1 * (1+0j)\n",
      "+ +_3 -_3 * (1+0j)\n",
      "+ +_5 -_5 * (1+0j)\n",
      "+ +_7 -_7 * (1+0j)\n",
      "+ +_0 -_0 +_1 -_1 * (5+0j)\n",
      "+ +_2 -_2 +_3 -_3 * (5+0j)\n",
      "+ +_4 -_4 +_5 -_5 * (5+0j)\n",
      "+ +_6 -_6 +_7 -_7 * (5+0j)\n"
     ]
    }
   ],
   "metadata": {
    "slideshow": {
     "slide_type": "fragment"
    }
   }
  },
  {
   "cell_type": "code",
<<<<<<< HEAD
<<<<<<< HEAD
<<<<<<< HEAD
   "execution_count": 25,
=======
   "execution_count": 38,
>>>>>>> bd567cf (minor change)
=======
   "execution_count": 25,
>>>>>>> b33b296 (minor change)
=======
   "execution_count": 14,
>>>>>>> 76f5380 (minor change)
   "source": [
    "FHM.hopping_matrix()"
   ],
   "outputs": [
    {
     "output_type": "execute_result",
     "data": {
      "text/plain": [
       "array([[ 1.+0.j, -1.+0.j,  0.+0.j,  0.+0.j],\n",
       "       [-1.+0.j,  1.+0.j, -1.+0.j,  0.+0.j],\n",
       "       [ 0.+0.j, -1.+0.j,  1.+0.j, -1.+0.j],\n",
       "       [ 0.+0.j,  0.+0.j, -1.+0.j,  1.+0.j]])"
      ]
     },
     "metadata": {},
<<<<<<< HEAD
<<<<<<< HEAD
<<<<<<< HEAD
     "execution_count": 25
=======
     "execution_count": 38
>>>>>>> bd567cf (minor change)
=======
     "execution_count": 25
>>>>>>> b33b296 (minor change)
=======
     "execution_count": 14
>>>>>>> 76f5380 (minor change)
    }
   ],
   "metadata": {
    "slideshow": {
     "slide_type": "skip"
    }
   }
  },
  {
   "cell_type": "markdown",
   "source": [
    "### **Operator expression**"
   ],
   "metadata": {
    "slideshow": {
     "slide_type": "skip"
    }
   }
  },
  {
   "cell_type": "markdown",
   "source": [
    "$$\n",
    "\\begin{align*}\n",
    "H &= \\sum_{i = 0}^{2} \\sum_{\\sigma = \\uparrow, \\downarrow} (t c_{i, \\sigma}^\\dagger c_{i+1, \\sigma} + t c_{i+1, \\sigma}^\\dagger c_{i, \\sigma})+ U \\sum_{i=0}^{3} n_{i, \\uparrow} n_{i, \\downarrow} \\\\\n",
    "&= t c_{0, \\uparrow}^\\dagger c_{1, \\uparrow} - t c_{0, \\uparrow} c_{1, \\uparrow}^{\\dagger} \\\\\n",
    "& \\ + t c_{1, \\uparrow}^\\dagger c_{2, \\uparrow} - t c_{1, \\uparrow} c_{2, \\uparrow}^{\\dagger} \\\\\n",
    "& \\ + t c_{2, \\uparrow}^\\dagger c_{3, \\uparrow} - t c_{2, \\uparrow} c_{3, \\uparrow}^{\\dagger} \\\\\n",
    "& \\ + v n_{0, \\uparrow} + v n_{1, \\uparrow} + v n_{2, \\uparrow} + v n_{3, \\uparrow} \\\\\n",
    "& \\ + t c_{0, \\downarrow}^\\dagger c_{1, \\downarrow} - t c_{0, \\downarrow} c_{1, \\downarrow}^{\\dagger} \\\\\n",
    "& \\ + t c_{1, \\downarrow}^\\dagger c_{2, \\downarrow} - t c_{1, \\downarrow} c_{2, \\downarrow}^{\\dagger} \\\\\n",
    "& \\ + t c_{2, \\downarrow}^\\dagger c_{3, \\downarrow} - t c_{2, \\downarrow} c_{3, \\downarrow}^{\\dagger} \\\\\n",
    "& \\ + v n_{0, \\downarrow} + v n_{1, \\downarrow} + v n_{2, \\downarrow} + v n_{3, \\downarrow} \\\\\n",
    "& \\ + U n_{0, \\uparrow} n_{0, \\downarrow} + U n_{1, \\uparrow} n_{1, \\downarrow} + + U n_{2, \\uparrow} n_{2, \\downarrow} + U n_{3, \\uparrow} n_{3, \\downarrow}\n",
    "\\end{align*}\n",
    "$$"
   ],
   "metadata": {
    "slideshow": {
     "slide_type": "skip"
    }
   }
  },
  {
   "cell_type": "markdown",
   "source": [
    "## ***One-dimensional case (periodic boundary condition)***"
   ],
   "metadata": {
    "slideshow": {
     "slide_type": "slide"
    }
   }
  },
  {
   "cell_type": "code",
<<<<<<< HEAD
<<<<<<< HEAD
<<<<<<< HEAD
   "execution_count": 26,
=======
   "execution_count": 39,
>>>>>>> bd567cf (minor change)
=======
   "execution_count": 26,
>>>>>>> b33b296 (minor change)
=======
   "execution_count": 15,
>>>>>>> 76f5380 (minor change)
   "source": [
    "lattice_points = 4\n",
    "t = -1.0\n",
    "onsite_potential = 1.0\n",
    "one_dim_lattice = LineLattice(\n",
    "    num_nodes=lattice_points,\n",
    "    edge_parameter=t,\n",
    "    onsite_parameter=onsite_potential,\n",
    "    boundary_condition=\"periodic\"\n",
    ")"
   ],
   "outputs": [],
   "metadata": {
    "slideshow": {
     "slide_type": "subslide"
    }
   }
  },
  {
   "cell_type": "markdown",
   "source": [
    "### **visualization**"
   ],
   "metadata": {
    "slideshow": {
     "slide_type": "subslide"
    }
   }
  },
  {
   "cell_type": "code",
<<<<<<< HEAD
<<<<<<< HEAD
<<<<<<< HEAD
   "execution_count": 27,
=======
   "execution_count": 40,
>>>>>>> bd567cf (minor change)
=======
   "execution_count": 27,
>>>>>>> b33b296 (minor change)
=======
   "execution_count": 16,
>>>>>>> 76f5380 (minor change)
   "source": [
    "one_dim_lattice.draw(with_labels=True)"
   ],
   "outputs": [
    {
     "output_type": "display_data",
     "data": {
      "text/plain": [
       "<Figure size 432x288 with 1 Axes>"
      ],
<<<<<<< HEAD
<<<<<<< HEAD
<<<<<<< HEAD
      "image/png": "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"
=======
      "image/png": "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"
>>>>>>> 4d53371 (add files and edit them)
=======
      "image/png": "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"
>>>>>>> c8a0692 (minor change)
=======
      "image/png": "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"
>>>>>>> 8cd6705 (update)
=======
      "image/png": "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"
>>>>>>> bd567cf (minor change)
=======
      "image/png": "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"
>>>>>>> b33b296 (minor change)
=======
      "image/svg+xml": "<?xml version=\"1.0\" encoding=\"utf-8\" standalone=\"no\"?>\n<!DOCTYPE svg PUBLIC \"-//W3C//DTD SVG 1.1//EN\"\n  \"http://www.w3.org/Graphics/SVG/1.1/DTD/svg11.dtd\">\n<svg height=\"302.4pt\" version=\"1.1\" viewBox=\"0 0 446.4 302.4\" width=\"446.4pt\" xmlns=\"http://www.w3.org/2000/svg\" xmlns:xlink=\"http://www.w3.org/1999/xlink\">\n <metadata>\n  <rdf:RDF xmlns:cc=\"http://creativecommons.org/ns#\" xmlns:dc=\"http://purl.org/dc/elements/1.1/\" xmlns:rdf=\"http://www.w3.org/1999/02/22-rdf-syntax-ns#\">\n   <cc:Work>\n    <dc:type rdf:resource=\"http://purl.org/dc/dcmitype/StillImage\"/>\n    <dc:date>2021-08-16T16:25:07.122179</dc:date>\n    <dc:format>image/svg+xml</dc:format>\n    <dc:creator>\n     <cc:Agent>\n      <dc:title>Matplotlib v3.4.2, https://matplotlib.org/</dc:title>\n     </cc:Agent>\n    </dc:creator>\n   </cc:Work>\n  </rdf:RDF>\n </metadata>\n <defs>\n  <style type=\"text/css\">*{stroke-linecap:butt;stroke-linejoin:round;}</style>\n </defs>\n <g id=\"figure_1\">\n  <g id=\"patch_1\">\n   <path d=\"M 0 302.4 \nL 446.4 302.4 \nL 446.4 0 \nL 0 0 \nz\n\" style=\"fill:#ffffff;\"/>\n  </g>\n  <g id=\"axes_1\">\n   <g id=\"patch_2\">\n    <path clip-path=\"url(#p979605b35d)\" d=\"M 273.407763 263.702135 \nQ 334.70271 193.878999 395.997656 124.055862 \n\" style=\"fill:none;stroke:#000000;stroke-linecap:round;\"/>\n   </g>\n   <g id=\"patch_3\">\n    <path clip-path=\"url(#p979605b35d)\" d=\"M 393.623051 114.455407 \nQ 290.010593 74.869404 186.398135 35.283402 \n\" style=\"fill:none;stroke:#000000;stroke-linecap:round;\"/>\n   </g>\n   <g id=\"patch_4\">\n    <path clip-path=\"url(#p979605b35d)\" d=\"M 172.688959 38.781595 \nQ 111.497881 110.570329 50.306803 182.359064 \n\" style=\"fill:none;stroke:#000000;stroke-linecap:round;\"/>\n   </g>\n   <g id=\"patch_5\">\n    <path clip-path=\"url(#p979605b35d)\" d=\"M 52.8238 191.916005 \nQ 156.192826 229.580178 259.561852 267.24435 \n\" style=\"fill:none;stroke:#000000;stroke-linecap:round;\"/>\n   </g>\n   <g id=\"PathCollection_1\">\n    <defs>\n     <path d=\"M 0 8.660254 \nC 2.296726 8.660254 4.499694 7.747755 6.123724 6.123724 \nC 7.747755 4.499694 8.660254 2.296726 8.660254 0 \nC 8.660254 -2.296726 7.747755 -4.499694 6.123724 -6.123724 \nC 4.499694 -7.747755 2.296726 -8.660254 0 -8.660254 \nC -2.296726 -8.660254 -4.499694 -7.747755 -6.123724 -6.123724 \nC -7.747755 -4.499694 -8.660254 -2.296726 -8.660254 0 \nC -8.660254 2.296726 -7.747755 4.499694 -6.123724 6.123724 \nC -4.499694 7.747755 -2.296726 8.660254 0 8.660254 \nz\n\" id=\"mdd58f97e71\" style=\"stroke:#1f78b4;\"/>\n    </defs>\n    <g clip-path=\"url(#p979605b35d)\">\n     <use style=\"fill:#1f78b4;stroke:#1f78b4;\" x=\"267.696292\" xlink:href=\"#mdd58f97e71\" y=\"270.208264\"/>\n     <use style=\"fill:#1f78b4;stroke:#1f78b4;\" x=\"401.712397\" xlink:href=\"#mdd58f97e71\" y=\"117.546009\"/>\n     <use style=\"fill:#1f78b4;stroke:#1f78b4;\" x=\"178.306004\" xlink:href=\"#mdd58f97e71\" y=\"32.191736\"/>\n     <use style=\"fill:#1f78b4;stroke:#1f78b4;\" x=\"44.687603\" xlink:href=\"#mdd58f97e71\" y=\"188.951451\"/>\n    </g>\n   </g>\n   <g id=\"text_1\">\n    <g clip-path=\"url(#p979605b35d)\">\n     <!-- 0 -->\n     <g transform=\"translate(263.878792 273.519514)scale(0.12 -0.12)\">\n      <defs>\n       <path d=\"M 2034 4250 \nQ 1547 4250 1301 3770 \nQ 1056 3291 1056 2328 \nQ 1056 1369 1301 889 \nQ 1547 409 2034 409 \nQ 2525 409 2770 889 \nQ 3016 1369 3016 2328 \nQ 3016 3291 2770 3770 \nQ 2525 4250 2034 4250 \nz\nM 2034 4750 \nQ 2819 4750 3233 4129 \nQ 3647 3509 3647 2328 \nQ 3647 1150 3233 529 \nQ 2819 -91 2034 -91 \nQ 1250 -91 836 529 \nQ 422 1150 422 2328 \nQ 422 3509 836 4129 \nQ 1250 4750 2034 4750 \nz\n\" id=\"DejaVuSans-30\" transform=\"scale(0.015625)\"/>\n      </defs>\n      <use xlink:href=\"#DejaVuSans-30\"/>\n     </g>\n    </g>\n   </g>\n   <g id=\"text_2\">\n    <g clip-path=\"url(#p979605b35d)\">\n     <!-- 1 -->\n     <g transform=\"translate(397.894897 120.857259)scale(0.12 -0.12)\">\n      <defs>\n       <path d=\"M 794 531 \nL 1825 531 \nL 1825 4091 \nL 703 3866 \nL 703 4441 \nL 1819 4666 \nL 2450 4666 \nL 2450 531 \nL 3481 531 \nL 3481 0 \nL 794 0 \nL 794 531 \nz\n\" id=\"DejaVuSans-31\" transform=\"scale(0.015625)\"/>\n      </defs>\n      <use xlink:href=\"#DejaVuSans-31\"/>\n     </g>\n    </g>\n   </g>\n   <g id=\"text_3\">\n    <g clip-path=\"url(#p979605b35d)\">\n     <!-- 2 -->\n     <g transform=\"translate(174.488504 35.502986)scale(0.12 -0.12)\">\n      <defs>\n       <path d=\"M 1228 531 \nL 3431 531 \nL 3431 0 \nL 469 0 \nL 469 531 \nQ 828 903 1448 1529 \nQ 2069 2156 2228 2338 \nQ 2531 2678 2651 2914 \nQ 2772 3150 2772 3378 \nQ 2772 3750 2511 3984 \nQ 2250 4219 1831 4219 \nQ 1534 4219 1204 4116 \nQ 875 4013 500 3803 \nL 500 4441 \nQ 881 4594 1212 4672 \nQ 1544 4750 1819 4750 \nQ 2544 4750 2975 4387 \nQ 3406 4025 3406 3419 \nQ 3406 3131 3298 2873 \nQ 3191 2616 2906 2266 \nQ 2828 2175 2409 1742 \nQ 1991 1309 1228 531 \nz\n\" id=\"DejaVuSans-32\" transform=\"scale(0.015625)\"/>\n      </defs>\n      <use xlink:href=\"#DejaVuSans-32\"/>\n     </g>\n    </g>\n   </g>\n   <g id=\"text_4\">\n    <g clip-path=\"url(#p979605b35d)\">\n     <!-- 3 -->\n     <g transform=\"translate(40.870103 192.262701)scale(0.12 -0.12)\">\n      <defs>\n       <path d=\"M 2597 2516 \nQ 3050 2419 3304 2112 \nQ 3559 1806 3559 1356 \nQ 3559 666 3084 287 \nQ 2609 -91 1734 -91 \nQ 1441 -91 1130 -33 \nQ 819 25 488 141 \nL 488 750 \nQ 750 597 1062 519 \nQ 1375 441 1716 441 \nQ 2309 441 2620 675 \nQ 2931 909 2931 1356 \nQ 2931 1769 2642 2001 \nQ 2353 2234 1838 2234 \nL 1294 2234 \nL 1294 2753 \nL 1863 2753 \nQ 2328 2753 2575 2939 \nQ 2822 3125 2822 3475 \nQ 2822 3834 2567 4026 \nQ 2313 4219 1838 4219 \nQ 1578 4219 1281 4162 \nQ 984 4106 628 3988 \nL 628 4550 \nQ 988 4650 1302 4700 \nQ 1616 4750 1894 4750 \nQ 2613 4750 3031 4423 \nQ 3450 4097 3450 3541 \nQ 3450 3153 3228 2886 \nQ 3006 2619 2597 2516 \nz\n\" id=\"DejaVuSans-33\" transform=\"scale(0.015625)\"/>\n      </defs>\n      <use xlink:href=\"#DejaVuSans-33\"/>\n     </g>\n    </g>\n   </g>\n  </g>\n </g>\n <defs>\n  <clipPath id=\"p979605b35d\">\n   <rect height=\"288\" width=\"432\" x=\"7.2\" y=\"7.2\"/>\n  </clipPath>\n </defs>\n</svg>\n",
      "image/png": "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"
>>>>>>> 76f5380 (minor change)
     },
     "metadata": {}
    }
   ],
   "metadata": {
    "slideshow": {
     "slide_type": "fragment"
    }
   }
  },
  {
   "cell_type": "markdown",
   "source": [
    "### **Fermi-Hubbard model**"
   ],
   "metadata": {
    "slideshow": {
     "slide_type": "subslide"
    }
   }
  },
  {
   "cell_type": "code",
<<<<<<< HEAD
<<<<<<< HEAD
<<<<<<< HEAD
   "execution_count": 28,
=======
   "execution_count": 41,
>>>>>>> bd567cf (minor change)
=======
   "execution_count": 28,
>>>>>>> b33b296 (minor change)
=======
   "execution_count": 17,
>>>>>>> 76f5380 (minor change)
   "source": [
    "FHM = FermiHubbard(\n",
    "    one_dim_lattice,\n",
    "    onsite_interaction\n",
    ")\n",
    "\n",
    "ham = FHM.second_q_ops()\n",
    "print(ham)"
   ],
   "outputs": [
    {
     "output_type": "stream",
     "name": "stdout",
     "text": [
      "  +I-IIIII * (-1+0j)\n",
      "+ -I+IIIII * (1+0j)\n",
      "+ II+I-III * (-1+0j)\n",
      "+ II-I+III * (1+0j)\n",
      "+ IIII+I-I * (-1+0j)\n",
      "+ IIII-I+I * (1+0j)\n",
      "+ +IIIII-I * (-1+0j)\n",
      "+ -IIIII+I * (1+0j)\n",
      "+ NIIIIIII * (1+0j)\n",
      "+ IINIIIII * (1+0j)\n",
      "+ IIIINIII * (1+0j)\n",
      "+ IIIIIINI * (1+0j)\n",
      "+ I+I-IIII * (-1+0j)\n",
      "+ I-I+IIII * (1+0j)\n",
      "+ III+I-II * (-1+0j)\n",
      "+ III-I+II * (1+0j)\n",
      "+ IIIII+I- * (-1+0j)\n",
      "+ IIIII-I+ * (1+0j)\n",
      "+ I+IIIII- * (-1+0j)\n",
      "+ I-IIIII+ * (1+0j)\n",
      "+ INIIIIII * (1+0j)\n",
      "+ IIINIIII * (1+0j)\n",
      "+ IIIIINII * (1+0j)\n",
      "+ IIIIIIIN * (1+0j)\n",
      "+ NNIIIIII * (5+0j)\n",
      "+ IINNIIII * (5+0j)\n",
      "+ IIIINNII * (5+0j)\n",
      "+ IIIIIINN * (5+0j)\n"
     ]
    }
   ],
   "metadata": {
    "slideshow": {
     "slide_type": "fragment"
    }
   }
  },
  {
   "cell_type": "code",
<<<<<<< HEAD
<<<<<<< HEAD
<<<<<<< HEAD
   "execution_count": 29,
=======
   "execution_count": 42,
>>>>>>> bd567cf (minor change)
=======
   "execution_count": 29,
>>>>>>> b33b296 (minor change)
=======
   "execution_count": 18,
>>>>>>> 76f5380 (minor change)
   "source": [
    "FHM.hopping_matrix()"
=======
    "## hopping matrix $t_{x, y}$"
=======
    "## **adjacency matrix(hopping matrix) $t_{x, y}$**"
>>>>>>> 8cd6705 (update)
   ],
   "metadata": {}
  },
  {
   "cell_type": "code",
   "execution_count": 4,
   "source": [
    "general_lattice.to_hopping_matrix()"
>>>>>>> 4d53371 (add files and edit them)
=======
    "general_lattice.to_adjacency_matrix()"
>>>>>>> 8cd6705 (update)
   ],
   "outputs": [
    {
     "output_type": "execute_result",
     "data": {
      "text/plain": [
       "array([[ 1.+0.j, -1.+0.j,  0.+0.j, -1.+0.j],\n",
       "       [-1.+0.j,  1.+0.j, -1.+0.j,  0.+0.j],\n",
       "       [ 0.+0.j, -1.+0.j,  1.+0.j, -1.+0.j],\n",
       "       [-1.+0.j,  0.+0.j, -1.+0.j,  1.+0.j]])"
      ]
     },
     "metadata": {},
     "execution_count": 29
    }
   ],
<<<<<<< HEAD
=======
   "outputs": [
    {
     "output_type": "execute_result",
     "data": {
      "text/plain": [
       "array([[ 1.+0.j, -1.+0.j,  0.+0.j, -1.+0.j],\n",
       "       [-1.+0.j,  1.+0.j, -1.+0.j,  0.+0.j],\n",
       "       [ 0.+0.j, -1.+0.j,  1.+0.j, -1.+0.j],\n",
       "       [-1.+0.j,  0.+0.j, -1.+0.j,  1.+0.j]])"
      ]
     },
     "metadata": {},
     "execution_count": 18
    }
   ],
>>>>>>> bd567cf (minor change)
   "metadata": {
    "slideshow": {
     "slide_type": "skip"
    }
   }
=======
       "array([[ 0.,  1., -1.,  0.,  0.,  0.],\n",
       "       [ 1.,  0.,  0.,  0.,  0.,  0.],\n",
       "       [-1.,  0.,  0.,  2., -1., -1.],\n",
       "       [ 0.,  0.,  2.,  0.,  0.,  0.],\n",
       "       [ 0.,  0., -1.,  0.,  3.,  0.],\n",
       "       [ 0.,  0., -1.,  0.,  0.,  0.]])"
=======
       "array([[ 0.+0.j,  1.+0.j, -1.+0.j,  0.+0.j,  0.+0.j,  0.+0.j],\n",
       "       [ 1.+0.j,  0.+0.j,  0.+0.j,  0.+0.j,  0.+0.j,  0.+0.j],\n",
       "       [-1.+0.j,  0.+0.j,  0.+0.j,  2.+0.j, -1.+0.j, -1.+0.j],\n",
       "       [ 0.+0.j,  0.+0.j,  2.+0.j,  0.+0.j,  0.+0.j,  0.+0.j],\n",
       "       [ 0.+0.j,  0.+0.j, -1.+0.j,  0.+0.j,  3.+0.j,  0.+0.j],\n",
       "       [ 0.+0.j,  0.+0.j, -1.+0.j,  0.+0.j,  0.+0.j,  0.+0.j]])"
>>>>>>> 8cd6705 (update)
      ]
     },
     "metadata": {},
     "execution_count": 4
    }
   ],
   "metadata": {}
>>>>>>> 4d53371 (add files and edit them)
  },
  {
   "cell_type": "code",
   "execution_count": 19,
   "source": [
    "try:\n",
    "    LineLattice.from_adjacency_matrix()\n",
    "except NotImplementedError:\n",
    "    print(\"Error\")"
   ],
   "outputs": [
    {
     "output_type": "stream",
     "name": "stdout",
     "text": [
      "Error\n"
     ]
    }
   ],
   "metadata": {}
  },
  {
   "cell_type": "markdown",
   "source": [
    "## ***Square lattice***"
   ],
   "metadata": {
    "slideshow": {
     "slide_type": "slide"
    }
   }
  },
  {
   "cell_type": "code",
<<<<<<< HEAD
<<<<<<< HEAD
<<<<<<< HEAD
   "execution_count": 30,
=======
   "execution_count": 43,
>>>>>>> bd567cf (minor change)
=======
   "execution_count": 30,
>>>>>>> b33b296 (minor change)
=======
   "execution_count": 20,
>>>>>>> 76f5380 (minor change)
   "source": [
    "rows = 6\n",
    "cols = 4\n",
    "square = SquareLattice(\n",
    "    rows=rows,\n",
    "    cols=cols,\n",
    "    edge_parameter=(1.0, -1.0),\n",
    "    onsite_parameter=1.0,\n",
    "    boundary_condition=\"periodic\"\n",
    ")"
   ],
   "outputs": [],
   "metadata": {
    "slideshow": {
     "slide_type": "subslide"
    }
   }
  },
  {
   "cell_type": "markdown",
   "source": [
    "### **visualization**"
   ],
   "metadata": {
    "slideshow": {
     "slide_type": "subslide"
    }
   }
  },
  {
   "cell_type": "code",
<<<<<<< HEAD
<<<<<<< HEAD
<<<<<<< HEAD
   "execution_count": 31,
=======
   "execution_count": 44,
>>>>>>> bd567cf (minor change)
=======
   "execution_count": 31,
>>>>>>> b33b296 (minor change)
=======
   "execution_count": 21,
>>>>>>> 76f5380 (minor change)
   "source": [
    "def indextocoord(index:int, size:list, distortion=0.0) -> list:\n",
    "    rows = size[0]\n",
    "    cols = size[1]\n",
    "    x = index % rows\n",
    "    y = index // rows \n",
    "    return_x = x + distortion*np.sin(pi*y/(cols-1))\n",
    "    return_y = y + distortion*np.sin(pi*x/(rows-1))\n",
    "    return [return_x, return_y]\n",
    "pos = dict([(index, indextocoord(index, [rows, cols], distortion=0.2)) for index in range(np.prod([rows, cols]))])\n",
    "square.draw(pos=pos, with_labels=True)"
   ],
   "outputs": [
    {
     "output_type": "display_data",
     "data": {
      "text/plain": [
       "<Figure size 432x288 with 1 Axes>"
      ],
      "image/svg+xml": "<?xml version=\"1.0\" encoding=\"utf-8\" standalone=\"no\"?>\n<!DOCTYPE svg PUBLIC \"-//W3C//DTD SVG 1.1//EN\"\n  \"http://www.w3.org/Graphics/SVG/1.1/DTD/svg11.dtd\">\n<svg height=\"302.4pt\" version=\"1.1\" viewBox=\"0 0 446.4 302.4\" width=\"446.4pt\" xmlns=\"http://www.w3.org/2000/svg\" xmlns:xlink=\"http://www.w3.org/1999/xlink\">\n <metadata>\n  <rdf:RDF xmlns:cc=\"http://creativecommons.org/ns#\" xmlns:dc=\"http://purl.org/dc/elements/1.1/\" xmlns:rdf=\"http://www.w3.org/1999/02/22-rdf-syntax-ns#\">\n   <cc:Work>\n    <dc:type rdf:resource=\"http://purl.org/dc/dcmitype/StillImage\"/>\n    <dc:date>2021-08-16T16:25:07.866469</dc:date>\n    <dc:format>image/svg+xml</dc:format>\n    <dc:creator>\n     <cc:Agent>\n      <dc:title>Matplotlib v3.4.2, https://matplotlib.org/</dc:title>\n     </cc:Agent>\n    </dc:creator>\n   </cc:Work>\n  </rdf:RDF>\n </metadata>\n <defs>\n  <style type=\"text/css\">*{stroke-linecap:butt;stroke-linejoin:round;}</style>\n </defs>\n <g id=\"figure_1\">\n  <g id=\"patch_1\">\n   <path d=\"M 0 302.4 \nL 446.4 302.4 \nL 446.4 0 \nL 0 0 \nz\n\" style=\"fill:#ffffff;\"/>\n  </g>\n  <g id=\"axes_1\">\n   <g id=\"patch_2\">\n    <path clip-path=\"url(#pab84c28372)\" d=\"M 53.276472 269.11674 \nQ 79.194396 265.822935 105.11232 262.52913 \n\" style=\"fill:none;stroke:#000000;stroke-linecap:round;\"/>\n   </g>\n   <g id=\"patch_3\">\n    <path clip-path=\"url(#pab84c28372)\" d=\"M 65.230088 194.50835 \nQ 91.148012 191.214545 117.065936 187.92074 \n\" style=\"fill:none;stroke:#000000;stroke-linecap:round;\"/>\n   </g>\n   <g id=\"patch_4\">\n    <path clip-path=\"url(#pab84c28372)\" d=\"M 65.230088 119.89996 \nQ 91.148012 116.606155 117.065936 113.31235 \n\" style=\"fill:none;stroke:#000000;stroke-linecap:round;\"/>\n   </g>\n   <g id=\"patch_5\">\n    <path clip-path=\"url(#pab84c28372)\" d=\"M 53.276472 45.29157 \nQ 79.194396 41.997765 105.11232 38.70396 \n\" style=\"fill:none;stroke:#000000;stroke-linecap:round;\"/>\n   </g>\n   <g id=\"patch_6\">\n    <path clip-path=\"url(#pab84c28372)\" d=\"M 122.33283 260.759614 \nQ 148.206888 258.727376 174.080946 256.695138 \n\" style=\"fill:none;stroke:#000000;stroke-linecap:round;\"/>\n   </g>\n   <g id=\"patch_7\">\n    <path clip-path=\"url(#pab84c28372)\" d=\"M 134.286447 186.151224 \nQ 160.160504 184.118986 186.034562 182.086748 \n\" style=\"fill:none;stroke:#000000;stroke-linecap:round;\"/>\n   </g>\n   <g id=\"patch_8\">\n    <path clip-path=\"url(#pab84c28372)\" d=\"M 134.286447 111.542834 \nQ 160.160504 109.510596 186.034562 107.478358 \n\" style=\"fill:none;stroke:#000000;stroke-linecap:round;\"/>\n   </g>\n   <g id=\"patch_9\">\n    <path clip-path=\"url(#pab84c28372)\" d=\"M 122.33283 36.934444 \nQ 148.206888 34.902206 174.080946 32.869968 \n\" style=\"fill:none;stroke:#000000;stroke-linecap:round;\"/>\n   </g>\n   <g id=\"patch_10\">\n    <path clip-path=\"url(#pab84c28372)\" d=\"M 191.37234 256.016905 \nQ 217.220832 256.016905 243.069324 256.016905 \n\" style=\"fill:none;stroke:#000000;stroke-linecap:round;\"/>\n   </g>\n   <g id=\"patch_11\">\n    <path clip-path=\"url(#pab84c28372)\" d=\"M 203.325956 181.408515 \nQ 229.174448 181.408515 255.02294 181.408515 \n\" style=\"fill:none;stroke:#000000;stroke-linecap:round;\"/>\n   </g>\n   <g id=\"patch_12\">\n    <path clip-path=\"url(#pab84c28372)\" d=\"M 203.325956 106.800125 \nQ 229.174448 106.800125 255.02294 106.800125 \n\" style=\"fill:none;stroke:#000000;stroke-linecap:round;\"/>\n   </g>\n   <g id=\"patch_13\">\n    <path clip-path=\"url(#pab84c28372)\" d=\"M 191.37234 32.191736 \nQ 217.220832 32.191736 243.069324 32.191736 \n\" style=\"fill:none;stroke:#000000;stroke-linecap:round;\"/>\n   </g>\n   <g id=\"patch_14\">\n    <path clip-path=\"url(#pab84c28372)\" d=\"M 260.361301 256.694813 \nQ 286.235359 258.727051 312.109417 260.759289 \n\" style=\"fill:none;stroke:#000000;stroke-linecap:round;\"/>\n   </g>\n   <g id=\"patch_15\">\n    <path clip-path=\"url(#pab84c28372)\" d=\"M 272.314918 182.086423 \nQ 298.188975 184.118661 324.063033 186.150899 \n\" style=\"fill:none;stroke:#000000;stroke-linecap:round;\"/>\n   </g>\n   <g id=\"patch_16\">\n    <path clip-path=\"url(#pab84c28372)\" d=\"M 272.314918 107.478033 \nQ 298.188975 109.510271 324.063033 111.542509 \n\" style=\"fill:none;stroke:#000000;stroke-linecap:round;\"/>\n   </g>\n   <g id=\"patch_17\">\n    <path clip-path=\"url(#pab84c28372)\" d=\"M 260.361301 32.869643 \nQ 286.235359 34.901882 312.109417 36.93412 \n\" style=\"fill:none;stroke:#000000;stroke-linecap:round;\"/>\n   </g>\n   <g id=\"patch_18\">\n    <path clip-path=\"url(#pab84c28372)\" d=\"M 329.333414 262.529047 \nQ 355.251338 265.822852 381.169261 269.116657 \n\" style=\"fill:none;stroke:#000000;stroke-linecap:round;\"/>\n   </g>\n   <g id=\"patch_19\">\n    <path clip-path=\"url(#pab84c28372)\" d=\"M 341.28703 187.920657 \nQ 367.204954 191.214462 393.122878 194.508267 \n\" style=\"fill:none;stroke:#000000;stroke-linecap:round;\"/>\n   </g>\n   <g id=\"patch_20\">\n    <path clip-path=\"url(#pab84c28372)\" d=\"M 341.28703 113.312267 \nQ 367.204954 116.606072 393.122878 119.899877 \n\" style=\"fill:none;stroke:#000000;stroke-linecap:round;\"/>\n   </g>\n   <g id=\"patch_21\">\n    <path clip-path=\"url(#pab84c28372)\" d=\"M 329.333414 38.703877 \nQ 355.251338 41.997682 381.169261 45.291487 \n\" style=\"fill:none;stroke:#000000;stroke-linecap:round;\"/>\n   </g>\n   <g id=\"patch_22\">\n    <path clip-path=\"url(#pab84c28372)\" d=\"M 46.057045 261.660904 \nQ 50.664042 232.906373 55.271039 204.151843 \n\" style=\"fill:none;stroke:#000000;stroke-linecap:round;\"/>\n   </g>\n   <g id=\"patch_23\">\n    <path clip-path=\"url(#pab84c28372)\" d=\"M 56.64122 186.943225 \nQ 56.64122 158.296645 56.64122 129.650066 \n\" style=\"fill:none;stroke:#000000;stroke-linecap:round;\"/>\n   </g>\n   <g id=\"patch_24\">\n    <path clip-path=\"url(#pab84c28372)\" d=\"M 55.271778 112.444124 \nQ 50.664781 83.689594 46.057784 54.935063 \n\" style=\"fill:none;stroke:#000000;stroke-linecap:round;\"/>\n   </g>\n   <g id=\"patch_25\">\n    <path clip-path=\"url(#pab84c28372)\" d=\"M 115.071281 252.890162 \nQ 119.678278 224.135631 124.285275 195.3811 \n\" style=\"fill:none;stroke:#000000;stroke-linecap:round;\"/>\n   </g>\n   <g id=\"patch_26\">\n    <path clip-path=\"url(#pab84c28372)\" d=\"M 125.655455 178.172483 \nQ 125.655455 149.525903 125.655455 120.879323 \n\" style=\"fill:none;stroke:#000000;stroke-linecap:round;\"/>\n   </g>\n   <g id=\"patch_27\">\n    <path clip-path=\"url(#pab84c28372)\" d=\"M 124.286013 103.673382 \nQ 119.679016 74.918851 115.072019 46.16432 \n\" style=\"fill:none;stroke:#000000;stroke-linecap:round;\"/>\n   </g>\n   <g id=\"patch_28\">\n    <path clip-path=\"url(#pab84c28372)\" d=\"M 184.085516 247.469545 \nQ 188.692513 218.715014 193.29951 189.960483 \n\" style=\"fill:none;stroke:#000000;stroke-linecap:round;\"/>\n   </g>\n   <g id=\"patch_29\">\n    <path clip-path=\"url(#pab84c28372)\" d=\"M 194.66969 172.751866 \nQ 194.66969 144.105286 194.66969 115.458707 \n\" style=\"fill:none;stroke:#000000;stroke-linecap:round;\"/>\n   </g>\n   <g id=\"patch_30\">\n    <path clip-path=\"url(#pab84c28372)\" d=\"M 193.300248 98.252765 \nQ 188.693251 69.498234 184.086254 40.743704 \n\" style=\"fill:none;stroke:#000000;stroke-linecap:round;\"/>\n   </g>\n   <g id=\"patch_31\">\n    <path clip-path=\"url(#pab84c28372)\" d=\"M 253.099752 247.469545 \nQ 257.706749 218.715014 262.313746 189.960483 \n\" style=\"fill:none;stroke:#000000;stroke-linecap:round;\"/>\n   </g>\n   <g id=\"patch_32\">\n    <path clip-path=\"url(#pab84c28372)\" d=\"M 263.683926 172.751866 \nQ 263.683926 144.105286 263.683926 115.458707 \n\" style=\"fill:none;stroke:#000000;stroke-linecap:round;\"/>\n   </g>\n   <g id=\"patch_33\">\n    <path clip-path=\"url(#pab84c28372)\" d=\"M 262.314484 98.252765 \nQ 257.707487 69.498234 253.10049 40.743704 \n\" style=\"fill:none;stroke:#000000;stroke-linecap:round;\"/>\n   </g>\n   <g id=\"patch_34\">\n    <path clip-path=\"url(#pab84c28372)\" d=\"M 322.113987 252.890162 \nQ 326.720984 224.135631 331.327981 195.3811 \n\" style=\"fill:none;stroke:#000000;stroke-linecap:round;\"/>\n   </g>\n   <g id=\"patch_35\">\n    <path clip-path=\"url(#pab84c28372)\" d=\"M 332.698161 178.172483 \nQ 332.698161 149.525903 332.698161 120.879323 \n\" style=\"fill:none;stroke:#000000;stroke-linecap:round;\"/>\n   </g>\n   <g id=\"patch_36\">\n    <path clip-path=\"url(#pab84c28372)\" d=\"M 331.328719 103.673382 \nQ 326.721722 74.918851 322.114725 46.16432 \n\" style=\"fill:none;stroke:#000000;stroke-linecap:round;\"/>\n   </g>\n   <g id=\"patch_37\">\n    <path clip-path=\"url(#pab84c28372)\" d=\"M 391.128222 261.660904 \nQ 395.735219 232.906373 400.342216 204.151843 \n\" style=\"fill:none;stroke:#000000;stroke-linecap:round;\"/>\n   </g>\n   <g id=\"patch_38\">\n    <path clip-path=\"url(#pab84c28372)\" d=\"M 401.712397 186.943225 \nQ 401.712397 158.296645 401.712397 129.650066 \n\" style=\"fill:none;stroke:#000000;stroke-linecap:round;\"/>\n   </g>\n   <g id=\"patch_39\">\n    <path clip-path=\"url(#pab84c28372)\" d=\"M 400.342955 112.444124 \nQ 395.735958 83.689594 391.128961 54.935063 \n\" style=\"fill:none;stroke:#000000;stroke-linecap:round;\"/>\n   </g>\n   <g id=\"patch_40\">\n    <path clip-path=\"url(#pab84c28372)\" d=\"M 381.099882 270.208264 \nQ 217.224917 270.208264 53.349953 270.208264 \n\" style=\"fill:none;stroke:#000000;stroke-linecap:round;\"/>\n   </g>\n   <g id=\"patch_41\">\n    <path clip-path=\"url(#pab84c28372)\" d=\"M 393.053499 195.599875 \nQ 229.178534 195.599875 65.303569 195.599875 \n\" style=\"fill:none;stroke:#000000;stroke-linecap:round;\"/>\n   </g>\n   <g id=\"patch_42\">\n    <path clip-path=\"url(#pab84c28372)\" d=\"M 393.053499 120.991485 \nQ 229.178534 120.991485 65.303569 120.991485 \n\" style=\"fill:none;stroke:#000000;stroke-linecap:round;\"/>\n   </g>\n   <g id=\"patch_43\">\n    <path clip-path=\"url(#pab84c28372)\" d=\"M 381.099882 46.383095 \nQ 217.224917 46.383095 53.349953 46.383095 \n\" style=\"fill:none;stroke:#000000;stroke-linecap:round;\"/>\n   </g>\n   <g id=\"patch_44\">\n    <path clip-path=\"url(#pab84c28372)\" d=\"M 44.687603 55.040883 \nQ 44.687603 158.295683 44.687603 261.550483 \n\" style=\"fill:none;stroke:#000000;stroke-linecap:round;\"/>\n   </g>\n   <g id=\"patch_45\">\n    <path clip-path=\"url(#pab84c28372)\" d=\"M 113.701839 46.270141 \nQ 113.701839 149.52494 113.701839 252.77974 \n\" style=\"fill:none;stroke:#000000;stroke-linecap:round;\"/>\n   </g>\n   <g id=\"patch_46\">\n    <path clip-path=\"url(#pab84c28372)\" d=\"M 182.716074 40.849524 \nQ 182.716074 144.104324 182.716074 247.359124 \n\" style=\"fill:none;stroke:#000000;stroke-linecap:round;\"/>\n   </g>\n   <g id=\"patch_47\">\n    <path clip-path=\"url(#pab84c28372)\" d=\"M 251.73031 40.849524 \nQ 251.73031 144.104324 251.73031 247.359124 \n\" style=\"fill:none;stroke:#000000;stroke-linecap:round;\"/>\n   </g>\n   <g id=\"patch_48\">\n    <path clip-path=\"url(#pab84c28372)\" d=\"M 320.744545 46.270141 \nQ 320.744545 149.52494 320.744545 252.77974 \n\" style=\"fill:none;stroke:#000000;stroke-linecap:round;\"/>\n   </g>\n   <g id=\"patch_49\">\n    <path clip-path=\"url(#pab84c28372)\" d=\"M 389.75878 55.040883 \nQ 389.75878 158.295683 389.75878 261.550483 \n\" style=\"fill:none;stroke:#000000;stroke-linecap:round;\"/>\n   </g>\n   <g id=\"PathCollection_1\">\n    <defs>\n     <path d=\"M 0 8.660254 \nC 2.296726 8.660254 4.499694 7.747755 6.123724 6.123724 \nC 7.747755 4.499694 8.660254 2.296726 8.660254 0 \nC 8.660254 -2.296726 7.747755 -4.499694 6.123724 -6.123724 \nC 4.499694 -7.747755 2.296726 -8.660254 0 -8.660254 \nC -2.296726 -8.660254 -4.499694 -7.747755 -6.123724 -6.123724 \nC -7.747755 -4.499694 -8.660254 -2.296726 -8.660254 0 \nC -8.660254 2.296726 -7.747755 4.499694 -6.123724 6.123724 \nC -4.499694 7.747755 -2.296726 8.660254 0 8.660254 \nz\n\" id=\"mb1daf8027d\" style=\"stroke:#1f78b4;\"/>\n    </defs>\n    <g clip-path=\"url(#pab84c28372)\">\n     <use style=\"fill:#1f78b4;stroke:#1f78b4;\" x=\"44.687603\" xlink:href=\"#mb1daf8027d\" y=\"270.208264\"/>\n     <use style=\"fill:#1f78b4;stroke:#1f78b4;\" x=\"113.701839\" xlink:href=\"#mb1daf8027d\" y=\"261.437522\"/>\n     <use style=\"fill:#1f78b4;stroke:#1f78b4;\" x=\"182.716074\" xlink:href=\"#mb1daf8027d\" y=\"256.016905\"/>\n     <use style=\"fill:#1f78b4;stroke:#1f78b4;\" x=\"251.73031\" xlink:href=\"#mb1daf8027d\" y=\"256.016905\"/>\n     <use style=\"fill:#1f78b4;stroke:#1f78b4;\" x=\"320.744545\" xlink:href=\"#mb1daf8027d\" y=\"261.437522\"/>\n     <use style=\"fill:#1f78b4;stroke:#1f78b4;\" x=\"389.75878\" xlink:href=\"#mb1daf8027d\" y=\"270.208264\"/>\n     <use style=\"fill:#1f78b4;stroke:#1f78b4;\" x=\"56.64122\" xlink:href=\"#mb1daf8027d\" y=\"195.599875\"/>\n     <use style=\"fill:#1f78b4;stroke:#1f78b4;\" x=\"125.655455\" xlink:href=\"#mb1daf8027d\" y=\"186.829132\"/>\n     <use style=\"fill:#1f78b4;stroke:#1f78b4;\" x=\"194.66969\" xlink:href=\"#mb1daf8027d\" y=\"181.408515\"/>\n     <use style=\"fill:#1f78b4;stroke:#1f78b4;\" x=\"263.683926\" xlink:href=\"#mb1daf8027d\" y=\"181.408515\"/>\n     <use style=\"fill:#1f78b4;stroke:#1f78b4;\" x=\"332.698161\" xlink:href=\"#mb1daf8027d\" y=\"186.829132\"/>\n     <use style=\"fill:#1f78b4;stroke:#1f78b4;\" x=\"401.712397\" xlink:href=\"#mb1daf8027d\" y=\"195.599875\"/>\n     <use style=\"fill:#1f78b4;stroke:#1f78b4;\" x=\"56.64122\" xlink:href=\"#mb1daf8027d\" y=\"120.991485\"/>\n     <use style=\"fill:#1f78b4;stroke:#1f78b4;\" x=\"125.655455\" xlink:href=\"#mb1daf8027d\" y=\"112.220742\"/>\n     <use style=\"fill:#1f78b4;stroke:#1f78b4;\" x=\"194.66969\" xlink:href=\"#mb1daf8027d\" y=\"106.800125\"/>\n     <use style=\"fill:#1f78b4;stroke:#1f78b4;\" x=\"263.683926\" xlink:href=\"#mb1daf8027d\" y=\"106.800125\"/>\n     <use style=\"fill:#1f78b4;stroke:#1f78b4;\" x=\"332.698161\" xlink:href=\"#mb1daf8027d\" y=\"112.220742\"/>\n     <use style=\"fill:#1f78b4;stroke:#1f78b4;\" x=\"401.712397\" xlink:href=\"#mb1daf8027d\" y=\"120.991485\"/>\n     <use style=\"fill:#1f78b4;stroke:#1f78b4;\" x=\"44.687603\" xlink:href=\"#mb1daf8027d\" y=\"46.383095\"/>\n     <use style=\"fill:#1f78b4;stroke:#1f78b4;\" x=\"113.701839\" xlink:href=\"#mb1daf8027d\" y=\"37.612352\"/>\n     <use style=\"fill:#1f78b4;stroke:#1f78b4;\" x=\"182.716074\" xlink:href=\"#mb1daf8027d\" y=\"32.191736\"/>\n     <use style=\"fill:#1f78b4;stroke:#1f78b4;\" x=\"251.73031\" xlink:href=\"#mb1daf8027d\" y=\"32.191736\"/>\n     <use style=\"fill:#1f78b4;stroke:#1f78b4;\" x=\"320.744545\" xlink:href=\"#mb1daf8027d\" y=\"37.612352\"/>\n     <use style=\"fill:#1f78b4;stroke:#1f78b4;\" x=\"389.75878\" xlink:href=\"#mb1daf8027d\" y=\"46.383095\"/>\n    </g>\n   </g>\n   <g id=\"text_1\">\n    <g clip-path=\"url(#pab84c28372)\">\n     <!-- 0 -->\n     <g transform=\"translate(40.870103 273.519514)scale(0.12 -0.12)\">\n      <defs>\n       <path d=\"M 2034 4250 \nQ 1547 4250 1301 3770 \nQ 1056 3291 1056 2328 \nQ 1056 1369 1301 889 \nQ 1547 409 2034 409 \nQ 2525 409 2770 889 \nQ 3016 1369 3016 2328 \nQ 3016 3291 2770 3770 \nQ 2525 4250 2034 4250 \nz\nM 2034 4750 \nQ 2819 4750 3233 4129 \nQ 3647 3509 3647 2328 \nQ 3647 1150 3233 529 \nQ 2819 -91 2034 -91 \nQ 1250 -91 836 529 \nQ 422 1150 422 2328 \nQ 422 3509 836 4129 \nQ 1250 4750 2034 4750 \nz\n\" id=\"DejaVuSans-30\" transform=\"scale(0.015625)\"/>\n      </defs>\n      <use xlink:href=\"#DejaVuSans-30\"/>\n     </g>\n    </g>\n   </g>\n   <g id=\"text_2\">\n    <g clip-path=\"url(#pab84c28372)\">\n     <!-- 1 -->\n     <g transform=\"translate(109.884339 264.748772)scale(0.12 -0.12)\">\n      <defs>\n       <path d=\"M 794 531 \nL 1825 531 \nL 1825 4091 \nL 703 3866 \nL 703 4441 \nL 1819 4666 \nL 2450 4666 \nL 2450 531 \nL 3481 531 \nL 3481 0 \nL 794 0 \nL 794 531 \nz\n\" id=\"DejaVuSans-31\" transform=\"scale(0.015625)\"/>\n      </defs>\n      <use xlink:href=\"#DejaVuSans-31\"/>\n     </g>\n    </g>\n   </g>\n   <g id=\"text_3\">\n    <g clip-path=\"url(#pab84c28372)\">\n     <!-- 2 -->\n     <g transform=\"translate(178.898574 259.328155)scale(0.12 -0.12)\">\n      <defs>\n       <path d=\"M 1228 531 \nL 3431 531 \nL 3431 0 \nL 469 0 \nL 469 531 \nQ 828 903 1448 1529 \nQ 2069 2156 2228 2338 \nQ 2531 2678 2651 2914 \nQ 2772 3150 2772 3378 \nQ 2772 3750 2511 3984 \nQ 2250 4219 1831 4219 \nQ 1534 4219 1204 4116 \nQ 875 4013 500 3803 \nL 500 4441 \nQ 881 4594 1212 4672 \nQ 1544 4750 1819 4750 \nQ 2544 4750 2975 4387 \nQ 3406 4025 3406 3419 \nQ 3406 3131 3298 2873 \nQ 3191 2616 2906 2266 \nQ 2828 2175 2409 1742 \nQ 1991 1309 1228 531 \nz\n\" id=\"DejaVuSans-32\" transform=\"scale(0.015625)\"/>\n      </defs>\n      <use xlink:href=\"#DejaVuSans-32\"/>\n     </g>\n    </g>\n   </g>\n   <g id=\"text_4\">\n    <g clip-path=\"url(#pab84c28372)\">\n     <!-- 3 -->\n     <g transform=\"translate(247.91281 259.328155)scale(0.12 -0.12)\">\n      <defs>\n       <path d=\"M 2597 2516 \nQ 3050 2419 3304 2112 \nQ 3559 1806 3559 1356 \nQ 3559 666 3084 287 \nQ 2609 -91 1734 -91 \nQ 1441 -91 1130 -33 \nQ 819 25 488 141 \nL 488 750 \nQ 750 597 1062 519 \nQ 1375 441 1716 441 \nQ 2309 441 2620 675 \nQ 2931 909 2931 1356 \nQ 2931 1769 2642 2001 \nQ 2353 2234 1838 2234 \nL 1294 2234 \nL 1294 2753 \nL 1863 2753 \nQ 2328 2753 2575 2939 \nQ 2822 3125 2822 3475 \nQ 2822 3834 2567 4026 \nQ 2313 4219 1838 4219 \nQ 1578 4219 1281 4162 \nQ 984 4106 628 3988 \nL 628 4550 \nQ 988 4650 1302 4700 \nQ 1616 4750 1894 4750 \nQ 2613 4750 3031 4423 \nQ 3450 4097 3450 3541 \nQ 3450 3153 3228 2886 \nQ 3006 2619 2597 2516 \nz\n\" id=\"DejaVuSans-33\" transform=\"scale(0.015625)\"/>\n      </defs>\n      <use xlink:href=\"#DejaVuSans-33\"/>\n     </g>\n    </g>\n   </g>\n   <g id=\"text_5\">\n    <g clip-path=\"url(#pab84c28372)\">\n     <!-- 4 -->\n     <g transform=\"translate(316.927045 264.748772)scale(0.12 -0.12)\">\n      <defs>\n       <path d=\"M 2419 4116 \nL 825 1625 \nL 2419 1625 \nL 2419 4116 \nz\nM 2253 4666 \nL 3047 4666 \nL 3047 1625 \nL 3713 1625 \nL 3713 1100 \nL 3047 1100 \nL 3047 0 \nL 2419 0 \nL 2419 1100 \nL 313 1100 \nL 313 1709 \nL 2253 4666 \nz\n\" id=\"DejaVuSans-34\" transform=\"scale(0.015625)\"/>\n      </defs>\n      <use xlink:href=\"#DejaVuSans-34\"/>\n     </g>\n    </g>\n   </g>\n   <g id=\"text_6\">\n    <g clip-path=\"url(#pab84c28372)\">\n     <!-- 5 -->\n     <g transform=\"translate(385.94128 273.519514)scale(0.12 -0.12)\">\n      <defs>\n       <path d=\"M 691 4666 \nL 3169 4666 \nL 3169 4134 \nL 1269 4134 \nL 1269 2991 \nQ 1406 3038 1543 3061 \nQ 1681 3084 1819 3084 \nQ 2600 3084 3056 2656 \nQ 3513 2228 3513 1497 \nQ 3513 744 3044 326 \nQ 2575 -91 1722 -91 \nQ 1428 -91 1123 -41 \nQ 819 9 494 109 \nL 494 744 \nQ 775 591 1075 516 \nQ 1375 441 1709 441 \nQ 2250 441 2565 725 \nQ 2881 1009 2881 1497 \nQ 2881 1984 2565 2268 \nQ 2250 2553 1709 2553 \nQ 1456 2553 1204 2497 \nQ 953 2441 691 2322 \nL 691 4666 \nz\n\" id=\"DejaVuSans-35\" transform=\"scale(0.015625)\"/>\n      </defs>\n      <use xlink:href=\"#DejaVuSans-35\"/>\n     </g>\n    </g>\n   </g>\n   <g id=\"text_7\">\n    <g clip-path=\"url(#pab84c28372)\">\n     <!-- 6 -->\n     <g transform=\"translate(52.82372 198.911125)scale(0.12 -0.12)\">\n      <defs>\n       <path d=\"M 2113 2584 \nQ 1688 2584 1439 2293 \nQ 1191 2003 1191 1497 \nQ 1191 994 1439 701 \nQ 1688 409 2113 409 \nQ 2538 409 2786 701 \nQ 3034 994 3034 1497 \nQ 3034 2003 2786 2293 \nQ 2538 2584 2113 2584 \nz\nM 3366 4563 \nL 3366 3988 \nQ 3128 4100 2886 4159 \nQ 2644 4219 2406 4219 \nQ 1781 4219 1451 3797 \nQ 1122 3375 1075 2522 \nQ 1259 2794 1537 2939 \nQ 1816 3084 2150 3084 \nQ 2853 3084 3261 2657 \nQ 3669 2231 3669 1497 \nQ 3669 778 3244 343 \nQ 2819 -91 2113 -91 \nQ 1303 -91 875 529 \nQ 447 1150 447 2328 \nQ 447 3434 972 4092 \nQ 1497 4750 2381 4750 \nQ 2619 4750 2861 4703 \nQ 3103 4656 3366 4563 \nz\n\" id=\"DejaVuSans-36\" transform=\"scale(0.015625)\"/>\n      </defs>\n      <use xlink:href=\"#DejaVuSans-36\"/>\n     </g>\n    </g>\n   </g>\n   <g id=\"text_8\">\n    <g clip-path=\"url(#pab84c28372)\">\n     <!-- 7 -->\n     <g transform=\"translate(121.837955 190.140382)scale(0.12 -0.12)\">\n      <defs>\n       <path d=\"M 525 4666 \nL 3525 4666 \nL 3525 4397 \nL 1831 0 \nL 1172 0 \nL 2766 4134 \nL 525 4134 \nL 525 4666 \nz\n\" id=\"DejaVuSans-37\" transform=\"scale(0.015625)\"/>\n      </defs>\n      <use xlink:href=\"#DejaVuSans-37\"/>\n     </g>\n    </g>\n   </g>\n   <g id=\"text_9\">\n    <g clip-path=\"url(#pab84c28372)\">\n     <!-- 8 -->\n     <g transform=\"translate(190.85219 184.719765)scale(0.12 -0.12)\">\n      <defs>\n       <path d=\"M 2034 2216 \nQ 1584 2216 1326 1975 \nQ 1069 1734 1069 1313 \nQ 1069 891 1326 650 \nQ 1584 409 2034 409 \nQ 2484 409 2743 651 \nQ 3003 894 3003 1313 \nQ 3003 1734 2745 1975 \nQ 2488 2216 2034 2216 \nz\nM 1403 2484 \nQ 997 2584 770 2862 \nQ 544 3141 544 3541 \nQ 544 4100 942 4425 \nQ 1341 4750 2034 4750 \nQ 2731 4750 3128 4425 \nQ 3525 4100 3525 3541 \nQ 3525 3141 3298 2862 \nQ 3072 2584 2669 2484 \nQ 3125 2378 3379 2068 \nQ 3634 1759 3634 1313 \nQ 3634 634 3220 271 \nQ 2806 -91 2034 -91 \nQ 1263 -91 848 271 \nQ 434 634 434 1313 \nQ 434 1759 690 2068 \nQ 947 2378 1403 2484 \nz\nM 1172 3481 \nQ 1172 3119 1398 2916 \nQ 1625 2713 2034 2713 \nQ 2441 2713 2670 2916 \nQ 2900 3119 2900 3481 \nQ 2900 3844 2670 4047 \nQ 2441 4250 2034 4250 \nQ 1625 4250 1398 4047 \nQ 1172 3844 1172 3481 \nz\n\" id=\"DejaVuSans-38\" transform=\"scale(0.015625)\"/>\n      </defs>\n      <use xlink:href=\"#DejaVuSans-38\"/>\n     </g>\n    </g>\n   </g>\n   <g id=\"text_10\">\n    <g clip-path=\"url(#pab84c28372)\">\n     <!-- 9 -->\n     <g transform=\"translate(259.866426 184.719765)scale(0.12 -0.12)\">\n      <defs>\n       <path d=\"M 703 97 \nL 703 672 \nQ 941 559 1184 500 \nQ 1428 441 1663 441 \nQ 2288 441 2617 861 \nQ 2947 1281 2994 2138 \nQ 2813 1869 2534 1725 \nQ 2256 1581 1919 1581 \nQ 1219 1581 811 2004 \nQ 403 2428 403 3163 \nQ 403 3881 828 4315 \nQ 1253 4750 1959 4750 \nQ 2769 4750 3195 4129 \nQ 3622 3509 3622 2328 \nQ 3622 1225 3098 567 \nQ 2575 -91 1691 -91 \nQ 1453 -91 1209 -44 \nQ 966 3 703 97 \nz\nM 1959 2075 \nQ 2384 2075 2632 2365 \nQ 2881 2656 2881 3163 \nQ 2881 3666 2632 3958 \nQ 2384 4250 1959 4250 \nQ 1534 4250 1286 3958 \nQ 1038 3666 1038 3163 \nQ 1038 2656 1286 2365 \nQ 1534 2075 1959 2075 \nz\n\" id=\"DejaVuSans-39\" transform=\"scale(0.015625)\"/>\n      </defs>\n      <use xlink:href=\"#DejaVuSans-39\"/>\n     </g>\n    </g>\n   </g>\n   <g id=\"text_11\">\n    <g clip-path=\"url(#pab84c28372)\">\n     <!-- 10 -->\n     <g transform=\"translate(325.063161 190.140382)scale(0.12 -0.12)\">\n      <use xlink:href=\"#DejaVuSans-31\"/>\n      <use x=\"63.623047\" xlink:href=\"#DejaVuSans-30\"/>\n     </g>\n    </g>\n   </g>\n   <g id=\"text_12\">\n    <g clip-path=\"url(#pab84c28372)\">\n     <!-- 11 -->\n     <g transform=\"translate(394.077397 198.911125)scale(0.12 -0.12)\">\n      <use xlink:href=\"#DejaVuSans-31\"/>\n      <use x=\"63.623047\" xlink:href=\"#DejaVuSans-31\"/>\n     </g>\n    </g>\n   </g>\n   <g id=\"text_13\">\n    <g clip-path=\"url(#pab84c28372)\">\n     <!-- 12 -->\n     <g transform=\"translate(49.00622 124.302735)scale(0.12 -0.12)\">\n      <use xlink:href=\"#DejaVuSans-31\"/>\n      <use x=\"63.623047\" xlink:href=\"#DejaVuSans-32\"/>\n     </g>\n    </g>\n   </g>\n   <g id=\"text_14\">\n    <g clip-path=\"url(#pab84c28372)\">\n     <!-- 13 -->\n     <g transform=\"translate(118.020455 115.531992)scale(0.12 -0.12)\">\n      <use xlink:href=\"#DejaVuSans-31\"/>\n      <use x=\"63.623047\" xlink:href=\"#DejaVuSans-33\"/>\n     </g>\n    </g>\n   </g>\n   <g id=\"text_15\">\n    <g clip-path=\"url(#pab84c28372)\">\n     <!-- 14 -->\n     <g transform=\"translate(187.03469 110.111375)scale(0.12 -0.12)\">\n      <use xlink:href=\"#DejaVuSans-31\"/>\n      <use x=\"63.623047\" xlink:href=\"#DejaVuSans-34\"/>\n     </g>\n    </g>\n   </g>\n   <g id=\"text_16\">\n    <g clip-path=\"url(#pab84c28372)\">\n     <!-- 15 -->\n     <g transform=\"translate(256.048926 110.111375)scale(0.12 -0.12)\">\n      <use xlink:href=\"#DejaVuSans-31\"/>\n      <use x=\"63.623047\" xlink:href=\"#DejaVuSans-35\"/>\n     </g>\n    </g>\n   </g>\n   <g id=\"text_17\">\n    <g clip-path=\"url(#pab84c28372)\">\n     <!-- 16 -->\n     <g transform=\"translate(325.063161 115.531992)scale(0.12 -0.12)\">\n      <use xlink:href=\"#DejaVuSans-31\"/>\n      <use x=\"63.623047\" xlink:href=\"#DejaVuSans-36\"/>\n     </g>\n    </g>\n   </g>\n   <g id=\"text_18\">\n    <g clip-path=\"url(#pab84c28372)\">\n     <!-- 17 -->\n     <g transform=\"translate(394.077397 124.302735)scale(0.12 -0.12)\">\n      <use xlink:href=\"#DejaVuSans-31\"/>\n      <use x=\"63.623047\" xlink:href=\"#DejaVuSans-37\"/>\n     </g>\n    </g>\n   </g>\n   <g id=\"text_19\">\n    <g clip-path=\"url(#pab84c28372)\">\n     <!-- 18 -->\n     <g transform=\"translate(37.052603 49.694345)scale(0.12 -0.12)\">\n      <use xlink:href=\"#DejaVuSans-31\"/>\n      <use x=\"63.623047\" xlink:href=\"#DejaVuSans-38\"/>\n     </g>\n    </g>\n   </g>\n   <g id=\"text_20\">\n    <g clip-path=\"url(#pab84c28372)\">\n     <!-- 19 -->\n     <g transform=\"translate(106.066839 40.923602)scale(0.12 -0.12)\">\n      <use xlink:href=\"#DejaVuSans-31\"/>\n      <use x=\"63.623047\" xlink:href=\"#DejaVuSans-39\"/>\n     </g>\n    </g>\n   </g>\n   <g id=\"text_21\">\n    <g clip-path=\"url(#pab84c28372)\">\n     <!-- 20 -->\n     <g transform=\"translate(175.081074 35.502986)scale(0.12 -0.12)\">\n      <use xlink:href=\"#DejaVuSans-32\"/>\n      <use x=\"63.623047\" xlink:href=\"#DejaVuSans-30\"/>\n     </g>\n    </g>\n   </g>\n   <g id=\"text_22\">\n    <g clip-path=\"url(#pab84c28372)\">\n     <!-- 21 -->\n     <g transform=\"translate(244.09531 35.502986)scale(0.12 -0.12)\">\n      <use xlink:href=\"#DejaVuSans-32\"/>\n      <use x=\"63.623047\" xlink:href=\"#DejaVuSans-31\"/>\n     </g>\n    </g>\n   </g>\n   <g id=\"text_23\">\n    <g clip-path=\"url(#pab84c28372)\">\n     <!-- 22 -->\n     <g transform=\"translate(313.109545 40.923602)scale(0.12 -0.12)\">\n      <use xlink:href=\"#DejaVuSans-32\"/>\n      <use x=\"63.623047\" xlink:href=\"#DejaVuSans-32\"/>\n     </g>\n    </g>\n   </g>\n   <g id=\"text_24\">\n    <g clip-path=\"url(#pab84c28372)\">\n     <!-- 23 -->\n     <g transform=\"translate(382.12378 49.694345)scale(0.12 -0.12)\">\n      <use xlink:href=\"#DejaVuSans-32\"/>\n      <use x=\"63.623047\" xlink:href=\"#DejaVuSans-33\"/>\n     </g>\n    </g>\n   </g>\n  </g>\n </g>\n <defs>\n  <clipPath id=\"pab84c28372\">\n   <rect height=\"288\" width=\"432\" x=\"7.2\" y=\"7.2\"/>\n  </clipPath>\n </defs>\n</svg>\n",
      "image/png": "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"
     },
     "metadata": {}
    }
   ],
   "metadata": {
    "slideshow": {
     "slide_type": "fragment"
    }
   }
  },
  {
   "cell_type": "markdown",
   "source": [
    "### **Fermi-Hubbard model**"
   ],
   "metadata": {
    "slideshow": {
     "slide_type": "subslide"
    }
   }
  },
  {
   "cell_type": "code",
<<<<<<< HEAD
<<<<<<< HEAD
<<<<<<< HEAD
   "execution_count": 32,
=======
   "execution_count": 45,
>>>>>>> bd567cf (minor change)
=======
   "execution_count": 32,
>>>>>>> b33b296 (minor change)
=======
   "execution_count": 22,
>>>>>>> 76f5380 (minor change)
   "source": [
    "onsite_interaction = 2.0\n",
    "FHM = FermiHubbard(\n",
    "    lattice=square,\n",
    "    onsite_interaction=onsite_interaction\n",
    ")\n",
    "\n",
    "ham = FHM.second_q_ops()\n",
    "print(ham)"
   ],
   "outputs": [
    {
     "output_type": "stream",
     "name": "stdout",
     "text": [
<<<<<<< HEAD
      "  +_0 -_2 * (1+0j)\n",
      "+ -_0 +_2 * (-1+0j)\n",
      "+ +_0 -_10 * (-1+0j)\n",
      "+ -_0 +_10 * (1+0j)\n",
<<<<<<< HEAD
<<<<<<< HEAD
      "+ +_0 -_0 * (1+0j)\n",
=======
      "+ +_0 -_0 * 0j\n",
>>>>>>> bd567cf (minor change)
=======
      "+ +_0 -_0 * (1+0j)\n",
>>>>>>> b33b296 (minor change)
      "+ +_10 -_12 * (1+0j)\n",
      "+ -_10 +_12 * (-1+0j)\n",
      "+ +_10 -_20 * (-1+0j)\n",
      "+ -_10 +_20 * (1+0j)\n",
<<<<<<< HEAD
<<<<<<< HEAD
      "+ +_10 -_10 * (1+0j)\n",
=======
      "+ +_10 -_10 * 0j\n",
>>>>>>> bd567cf (minor change)
=======
      "+ +_10 -_10 * (1+0j)\n",
>>>>>>> b33b296 (minor change)
      "+ +_2 -_4 * (1+0j)\n",
      "+ -_2 +_4 * (-1+0j)\n",
      "+ +_2 -_12 * (-1+0j)\n",
      "+ -_2 +_12 * (1+0j)\n",
<<<<<<< HEAD
<<<<<<< HEAD
      "+ +_2 -_2 * (1+0j)\n",
=======
      "+ +_2 -_2 * 0j\n",
>>>>>>> bd567cf (minor change)
=======
      "+ +_2 -_2 * (1+0j)\n",
>>>>>>> b33b296 (minor change)
      "+ +_12 -_14 * (1+0j)\n",
      "+ -_12 +_14 * (-1+0j)\n",
      "+ +_12 -_22 * (-1+0j)\n",
      "+ -_12 +_22 * (1+0j)\n",
<<<<<<< HEAD
<<<<<<< HEAD
      "+ +_12 -_12 * (1+0j)\n",
=======
      "+ +_12 -_12 * 0j\n",
>>>>>>> bd567cf (minor change)
=======
      "+ +_12 -_12 * (1+0j)\n",
>>>>>>> b33b296 (minor change)
      "+ +_4 -_6 * (1+0j)\n",
      "+ -_4 +_6 * (-1+0j)\n",
      "+ +_4 -_14 * (-1+0j)\n",
      "+ -_4 +_14 * (1+0j)\n",
<<<<<<< HEAD
<<<<<<< HEAD
      "+ +_4 -_4 * (1+0j)\n",
=======
      "+ +_4 -_4 * 0j\n",
>>>>>>> bd567cf (minor change)
=======
      "+ +_4 -_4 * (1+0j)\n",
>>>>>>> b33b296 (minor change)
      "+ +_14 -_16 * (1+0j)\n",
      "+ -_14 +_16 * (-1+0j)\n",
      "+ +_14 -_24 * (-1+0j)\n",
      "+ -_14 +_24 * (1+0j)\n",
<<<<<<< HEAD
<<<<<<< HEAD
      "+ +_14 -_14 * (1+0j)\n",
=======
      "+ +_14 -_14 * 0j\n",
>>>>>>> bd567cf (minor change)
=======
      "+ +_14 -_14 * (1+0j)\n",
>>>>>>> b33b296 (minor change)
      "+ +_6 -_8 * (1+0j)\n",
      "+ -_6 +_8 * (-1+0j)\n",
      "+ +_6 -_16 * (-1+0j)\n",
      "+ -_6 +_16 * (1+0j)\n",
<<<<<<< HEAD
<<<<<<< HEAD
      "+ +_6 -_6 * (1+0j)\n",
=======
      "+ +_6 -_6 * 0j\n",
>>>>>>> bd567cf (minor change)
=======
      "+ +_6 -_6 * (1+0j)\n",
>>>>>>> b33b296 (minor change)
      "+ +_16 -_18 * (1+0j)\n",
      "+ -_16 +_18 * (-1+0j)\n",
      "+ +_16 -_26 * (-1+0j)\n",
      "+ -_16 +_26 * (1+0j)\n",
<<<<<<< HEAD
<<<<<<< HEAD
      "+ +_16 -_16 * (1+0j)\n",
      "+ +_20 -_22 * (1+0j)\n",
      "+ -_20 +_22 * (-1+0j)\n",
      "+ +_20 -_20 * (1+0j)\n",
      "+ +_22 -_24 * (1+0j)\n",
      "+ -_22 +_24 * (-1+0j)\n",
      "+ +_22 -_22 * (1+0j)\n",
      "+ +_24 -_26 * (1+0j)\n",
      "+ -_24 +_26 * (-1+0j)\n",
      "+ +_24 -_24 * (1+0j)\n",
      "+ +_26 -_28 * (1+0j)\n",
      "+ -_26 +_28 * (-1+0j)\n",
      "+ +_26 -_26 * (1+0j)\n",
      "+ +_8 -_18 * (-1+0j)\n",
      "+ -_8 +_18 * (1+0j)\n",
      "+ +_8 -_8 * (1+0j)\n",
      "+ +_18 -_28 * (-1+0j)\n",
      "+ -_18 +_28 * (1+0j)\n",
      "+ +_18 -_18 * (1+0j)\n",
      "+ +_28 -_28 * (1+0j)\n",
=======
      "+ +_16 -_16 * 0j\n",
=======
      "+ +_16 -_16 * (1+0j)\n",
>>>>>>> b33b296 (minor change)
      "+ +_20 -_22 * (1+0j)\n",
      "+ -_20 +_22 * (-1+0j)\n",
      "+ +_20 -_20 * (1+0j)\n",
      "+ +_22 -_24 * (1+0j)\n",
      "+ -_22 +_24 * (-1+0j)\n",
      "+ +_22 -_22 * (1+0j)\n",
      "+ +_24 -_26 * (1+0j)\n",
      "+ -_24 +_26 * (-1+0j)\n",
      "+ +_24 -_24 * (1+0j)\n",
      "+ +_26 -_28 * (1+0j)\n",
      "+ -_26 +_28 * (-1+0j)\n",
      "+ +_26 -_26 * (1+0j)\n",
      "+ +_8 -_18 * (-1+0j)\n",
      "+ -_8 +_18 * (1+0j)\n",
      "+ +_8 -_8 * (1+0j)\n",
      "+ +_18 -_28 * (-1+0j)\n",
      "+ -_18 +_28 * (1+0j)\n",
<<<<<<< HEAD
      "+ +_18 -_18 * 0j\n",
      "+ +_28 -_28 * 0j\n",
>>>>>>> bd567cf (minor change)
=======
      "+ +_18 -_18 * (1+0j)\n",
      "+ +_28 -_28 * (1+0j)\n",
>>>>>>> b33b296 (minor change)
      "+ +_1 -_3 * (1+0j)\n",
      "+ -_1 +_3 * (-1+0j)\n",
      "+ +_1 -_11 * (-1+0j)\n",
      "+ -_1 +_11 * (1+0j)\n",
<<<<<<< HEAD
<<<<<<< HEAD
      "+ +_1 -_1 * (1+0j)\n",
=======
      "+ +_1 -_1 * 0j\n",
>>>>>>> bd567cf (minor change)
=======
      "+ +_1 -_1 * (1+0j)\n",
>>>>>>> b33b296 (minor change)
      "+ +_11 -_13 * (1+0j)\n",
      "+ -_11 +_13 * (-1+0j)\n",
      "+ +_11 -_21 * (-1+0j)\n",
      "+ -_11 +_21 * (1+0j)\n",
<<<<<<< HEAD
<<<<<<< HEAD
      "+ +_11 -_11 * (1+0j)\n",
=======
      "+ +_11 -_11 * 0j\n",
>>>>>>> bd567cf (minor change)
=======
      "+ +_11 -_11 * (1+0j)\n",
>>>>>>> b33b296 (minor change)
      "+ +_3 -_5 * (1+0j)\n",
      "+ -_3 +_5 * (-1+0j)\n",
      "+ +_3 -_13 * (-1+0j)\n",
      "+ -_3 +_13 * (1+0j)\n",
<<<<<<< HEAD
<<<<<<< HEAD
      "+ +_3 -_3 * (1+0j)\n",
=======
      "+ +_3 -_3 * 0j\n",
>>>>>>> bd567cf (minor change)
=======
      "+ +_3 -_3 * (1+0j)\n",
>>>>>>> b33b296 (minor change)
      "+ +_13 -_15 * (1+0j)\n",
      "+ -_13 +_15 * (-1+0j)\n",
      "+ +_13 -_23 * (-1+0j)\n",
      "+ -_13 +_23 * (1+0j)\n",
<<<<<<< HEAD
<<<<<<< HEAD
      "+ +_13 -_13 * (1+0j)\n",
=======
      "+ +_13 -_13 * 0j\n",
>>>>>>> bd567cf (minor change)
=======
      "+ +_13 -_13 * (1+0j)\n",
>>>>>>> b33b296 (minor change)
      "+ +_5 -_7 * (1+0j)\n",
      "+ -_5 +_7 * (-1+0j)\n",
      "+ +_5 -_15 * (-1+0j)\n",
      "+ -_5 +_15 * (1+0j)\n",
<<<<<<< HEAD
<<<<<<< HEAD
      "+ +_5 -_5 * (1+0j)\n",
=======
      "+ +_5 -_5 * 0j\n",
>>>>>>> bd567cf (minor change)
=======
      "+ +_5 -_5 * (1+0j)\n",
>>>>>>> b33b296 (minor change)
      "+ +_15 -_17 * (1+0j)\n",
      "+ -_15 +_17 * (-1+0j)\n",
      "+ +_15 -_25 * (-1+0j)\n",
      "+ -_15 +_25 * (1+0j)\n",
<<<<<<< HEAD
<<<<<<< HEAD
      "+ +_15 -_15 * (1+0j)\n",
=======
      "+ +_15 -_15 * 0j\n",
>>>>>>> bd567cf (minor change)
=======
      "+ +_15 -_15 * (1+0j)\n",
>>>>>>> b33b296 (minor change)
      "+ +_7 -_9 * (1+0j)\n",
      "+ -_7 +_9 * (-1+0j)\n",
      "+ +_7 -_17 * (-1+0j)\n",
      "+ -_7 +_17 * (1+0j)\n",
<<<<<<< HEAD
<<<<<<< HEAD
      "+ +_7 -_7 * (1+0j)\n",
=======
      "+ +_7 -_7 * 0j\n",
>>>>>>> bd567cf (minor change)
=======
      "+ +_7 -_7 * (1+0j)\n",
>>>>>>> b33b296 (minor change)
      "+ +_17 -_19 * (1+0j)\n",
      "+ -_17 +_19 * (-1+0j)\n",
      "+ +_17 -_27 * (-1+0j)\n",
      "+ -_17 +_27 * (1+0j)\n",
<<<<<<< HEAD
<<<<<<< HEAD
      "+ +_17 -_17 * (1+0j)\n",
      "+ +_21 -_23 * (1+0j)\n",
      "+ -_21 +_23 * (-1+0j)\n",
      "+ +_21 -_21 * (1+0j)\n",
      "+ +_23 -_25 * (1+0j)\n",
      "+ -_23 +_25 * (-1+0j)\n",
      "+ +_23 -_23 * (1+0j)\n",
      "+ +_25 -_27 * (1+0j)\n",
      "+ -_25 +_27 * (-1+0j)\n",
      "+ +_25 -_25 * (1+0j)\n",
      "+ +_27 -_29 * (1+0j)\n",
      "+ -_27 +_29 * (-1+0j)\n",
      "+ +_27 -_27 * (1+0j)\n",
      "+ +_9 -_19 * (-1+0j)\n",
      "+ -_9 +_19 * (1+0j)\n",
      "+ +_9 -_9 * (1+0j)\n",
      "+ +_19 -_29 * (-1+0j)\n",
      "+ -_19 +_29 * (1+0j)\n",
      "+ +_19 -_19 * (1+0j)\n",
      "+ +_29 -_29 * (1+0j)\n",
=======
      "+ +_17 -_17 * 0j\n",
=======
      "+ +_17 -_17 * (1+0j)\n",
>>>>>>> b33b296 (minor change)
      "+ +_21 -_23 * (1+0j)\n",
      "+ -_21 +_23 * (-1+0j)\n",
      "+ +_21 -_21 * (1+0j)\n",
      "+ +_23 -_25 * (1+0j)\n",
      "+ -_23 +_25 * (-1+0j)\n",
      "+ +_23 -_23 * (1+0j)\n",
      "+ +_25 -_27 * (1+0j)\n",
      "+ -_25 +_27 * (-1+0j)\n",
      "+ +_25 -_25 * (1+0j)\n",
      "+ +_27 -_29 * (1+0j)\n",
      "+ -_27 +_29 * (-1+0j)\n",
      "+ +_27 -_27 * (1+0j)\n",
      "+ +_9 -_19 * (-1+0j)\n",
      "+ -_9 +_19 * (1+0j)\n",
      "+ +_9 -_9 * (1+0j)\n",
      "+ +_19 -_29 * (-1+0j)\n",
      "+ -_19 +_29 * (1+0j)\n",
<<<<<<< HEAD
      "+ +_19 -_19 * 0j\n",
      "+ +_29 -_29 * 0j\n",
>>>>>>> bd567cf (minor change)
=======
      "+ +_19 -_19 * (1+0j)\n",
      "+ +_29 -_29 * (1+0j)\n",
>>>>>>> b33b296 (minor change)
      "+ +_0 -_0 +_1 -_1 * (2+0j)\n",
      "+ +_2 -_2 +_3 -_3 * (2+0j)\n",
      "+ +_4 -_4 +_5 -_5 * (2+0j)\n",
      "+ +_6 -_6 +_7 -_7 * (2+0j)\n",
      "+ +_8 -_8 +_9 -_9 * (2+0j)\n",
      "+ +_10 -_10 +_11 -_11 * (2+0j)\n",
      "+ +_12 -_12 +_13 -_13 * (2+0j)\n",
      "+ +_14 -_14 +_15 -_15 * (2+0j)\n",
      "+ +_16 -_16 +_17 -_17 * (2+0j)\n",
      "+ +_18 -_18 +_19 -_19 * (2+0j)\n",
      "+ +_20 -_20 +_21 -_21 * (2+0j)\n",
      "+ +_22 -_22 +_23 -_23 * (2+0j)\n",
      "+ +_24 -_24 +_25 -_25 * (2+0j)\n",
      "+ +_26 -_26 +_27 -_27 * (2+0j)\n",
      "+ +_28 -_28 +_29 -_29 * (2+0j)\n"
=======
      "  +I-IIIIIIIIIIIIIIIIIIIIIIIIIIIIIIIIIIIIIIIIIIIII * (1+0j)\n",
      "+ -I+IIIIIIIIIIIIIIIIIIIIIIIIIIIIIIIIIIIIIIIIIIIII * (-1+0j)\n",
      "+ IIIIIIIIIIII+I-IIIIIIIIIIIIIIIIIIIIIIIIIIIIIIIII * (1+0j)\n",
      "+ IIIIIIIIIIII-I+IIIIIIIIIIIIIIIIIIIIIIIIIIIIIIIII * (-1+0j)\n",
      "+ IIIIIIIIIIIIIIIIIIIIIIII+I-IIIIIIIIIIIIIIIIIIIII * (1+0j)\n",
      "+ IIIIIIIIIIIIIIIIIIIIIIII-I+IIIIIIIIIIIIIIIIIIIII * (-1+0j)\n",
      "+ IIIIIIIIIIIIIIIIIIIIIIIIIIIIIIIIIIII+I-IIIIIIIII * (1+0j)\n",
      "+ IIIIIIIIIIIIIIIIIIIIIIIIIIIIIIIIIIII-I+IIIIIIIII * (-1+0j)\n",
      "+ II+I-IIIIIIIIIIIIIIIIIIIIIIIIIIIIIIIIIIIIIIIIIII * (1+0j)\n",
      "+ II-I+IIIIIIIIIIIIIIIIIIIIIIIIIIIIIIIIIIIIIIIIIII * (-1+0j)\n",
      "+ IIIIIIIIIIIIII+I-IIIIIIIIIIIIIIIIIIIIIIIIIIIIIII * (1+0j)\n",
      "+ IIIIIIIIIIIIII-I+IIIIIIIIIIIIIIIIIIIIIIIIIIIIIII * (-1+0j)\n",
      "+ IIIIIIIIIIIIIIIIIIIIIIIIII+I-IIIIIIIIIIIIIIIIIII * (1+0j)\n",
      "+ IIIIIIIIIIIIIIIIIIIIIIIIII-I+IIIIIIIIIIIIIIIIIII * (-1+0j)\n",
      "+ IIIIIIIIIIIIIIIIIIIIIIIIIIIIIIIIIIIIII+I-IIIIIII * (1+0j)\n",
      "+ IIIIIIIIIIIIIIIIIIIIIIIIIIIIIIIIIIIIII-I+IIIIIII * (-1+0j)\n",
      "+ IIII+I-IIIIIIIIIIIIIIIIIIIIIIIIIIIIIIIIIIIIIIIII * (1+0j)\n",
      "+ IIII-I+IIIIIIIIIIIIIIIIIIIIIIIIIIIIIIIIIIIIIIIII * (-1+0j)\n",
      "+ IIIIIIIIIIIIIIII+I-IIIIIIIIIIIIIIIIIIIIIIIIIIIII * (1+0j)\n",
      "+ IIIIIIIIIIIIIIII-I+IIIIIIIIIIIIIIIIIIIIIIIIIIIII * (-1+0j)\n",
      "+ IIIIIIIIIIIIIIIIIIIIIIIIIIII+I-IIIIIIIIIIIIIIIII * (1+0j)\n",
      "+ IIIIIIIIIIIIIIIIIIIIIIIIIIII-I+IIIIIIIIIIIIIIIII * (-1+0j)\n",
      "+ IIIIIIIIIIIIIIIIIIIIIIIIIIIIIIIIIIIIIIII+I-IIIII * (1+0j)\n",
      "+ IIIIIIIIIIIIIIIIIIIIIIIIIIIIIIIIIIIIIIII-I+IIIII * (-1+0j)\n",
      "+ IIIIII+I-IIIIIIIIIIIIIIIIIIIIIIIIIIIIIIIIIIIIIII * (1+0j)\n",
      "+ IIIIII-I+IIIIIIIIIIIIIIIIIIIIIIIIIIIIIIIIIIIIIII * (-1+0j)\n",
      "+ IIIIIIIIIIIIIIIIII+I-IIIIIIIIIIIIIIIIIIIIIIIIIII * (1+0j)\n",
      "+ IIIIIIIIIIIIIIIIII-I+IIIIIIIIIIIIIIIIIIIIIIIIIII * (-1+0j)\n",
      "+ IIIIIIIIIIIIIIIIIIIIIIIIIIIIII+I-IIIIIIIIIIIIIII * (1+0j)\n",
      "+ IIIIIIIIIIIIIIIIIIIIIIIIIIIIII-I+IIIIIIIIIIIIIII * (-1+0j)\n",
      "+ IIIIIIIIIIIIIIIIIIIIIIIIIIIIIIIIIIIIIIIIII+I-III * (1+0j)\n",
      "+ IIIIIIIIIIIIIIIIIIIIIIIIIIIIIIIIIIIIIIIIII-I+III * (-1+0j)\n",
      "+ IIIIIIII+I-IIIIIIIIIIIIIIIIIIIIIIIIIIIIIIIIIIIII * (1+0j)\n",
      "+ IIIIIIII-I+IIIIIIIIIIIIIIIIIIIIIIIIIIIIIIIIIIIII * (-1+0j)\n",
      "+ IIIIIIIIIIIIIIIIIIII+I-IIIIIIIIIIIIIIIIIIIIIIIII * (1+0j)\n",
      "+ IIIIIIIIIIIIIIIIIIII-I+IIIIIIIIIIIIIIIIIIIIIIIII * (-1+0j)\n",
      "+ IIIIIIIIIIIIIIIIIIIIIIIIIIIIIIII+I-IIIIIIIIIIIII * (1+0j)\n",
      "+ IIIIIIIIIIIIIIIIIIIIIIIIIIIIIIII-I+IIIIIIIIIIIII * (-1+0j)\n",
      "+ IIIIIIIIIIIIIIIIIIIIIIIIIIIIIIIIIIIIIIIIIIII+I-I * (1+0j)\n",
      "+ IIIIIIIIIIIIIIIIIIIIIIIIIIIIIIIIIIIIIIIIIIII-I+I * (-1+0j)\n",
      "+ +IIIIIIIIIII-IIIIIIIIIIIIIIIIIIIIIIIIIIIIIIIIIII * (-1+0j)\n",
      "+ -IIIIIIIIIII+IIIIIIIIIIIIIIIIIIIIIIIIIIIIIIIIIII * (1+0j)\n",
      "+ IIIIIIIIIIII+IIIIIIIIIII-IIIIIIIIIIIIIIIIIIIIIII * (-1+0j)\n",
      "+ IIIIIIIIIIII-IIIIIIIIIII+IIIIIIIIIIIIIIIIIIIIIII * (1+0j)\n",
      "+ IIIIIIIIIIIIIIIIIIIIIIII+IIIIIIIIIII-IIIIIIIIIII * (-1+0j)\n",
      "+ IIIIIIIIIIIIIIIIIIIIIIII-IIIIIIIIIII+IIIIIIIIIII * (1+0j)\n",
      "+ II+IIIIIIIIIII-IIIIIIIIIIIIIIIIIIIIIIIIIIIIIIIII * (-1+0j)\n",
      "+ II-IIIIIIIIIII+IIIIIIIIIIIIIIIIIIIIIIIIIIIIIIIII * (1+0j)\n",
      "+ IIIIIIIIIIIIII+IIIIIIIIIII-IIIIIIIIIIIIIIIIIIIII * (-1+0j)\n",
      "+ IIIIIIIIIIIIII-IIIIIIIIIII+IIIIIIIIIIIIIIIIIIIII * (1+0j)\n",
      "+ IIIIIIIIIIIIIIIIIIIIIIIIII+IIIIIIIIIII-IIIIIIIII * (-1+0j)\n",
      "+ IIIIIIIIIIIIIIIIIIIIIIIIII-IIIIIIIIIII+IIIIIIIII * (1+0j)\n",
      "+ IIII+IIIIIIIIIII-IIIIIIIIIIIIIIIIIIIIIIIIIIIIIII * (-1+0j)\n",
      "+ IIII-IIIIIIIIIII+IIIIIIIIIIIIIIIIIIIIIIIIIIIIIII * (1+0j)\n",
      "+ IIIIIIIIIIIIIIII+IIIIIIIIIII-IIIIIIIIIIIIIIIIIII * (-1+0j)\n",
      "+ IIIIIIIIIIIIIIII-IIIIIIIIIII+IIIIIIIIIIIIIIIIIII * (1+0j)\n",
      "+ IIIIIIIIIIIIIIIIIIIIIIIIIIII+IIIIIIIIIII-IIIIIII * (-1+0j)\n",
      "+ IIIIIIIIIIIIIIIIIIIIIIIIIIII-IIIIIIIIIII+IIIIIII * (1+0j)\n",
      "+ IIIIII+IIIIIIIIIII-IIIIIIIIIIIIIIIIIIIIIIIIIIIII * (-1+0j)\n",
      "+ IIIIII-IIIIIIIIIII+IIIIIIIIIIIIIIIIIIIIIIIIIIIII * (1+0j)\n",
      "+ IIIIIIIIIIIIIIIIII+IIIIIIIIIII-IIIIIIIIIIIIIIIII * (-1+0j)\n",
      "+ IIIIIIIIIIIIIIIIII-IIIIIIIIIII+IIIIIIIIIIIIIIIII * (1+0j)\n",
      "+ IIIIIIIIIIIIIIIIIIIIIIIIIIIIII+IIIIIIIIIII-IIIII * (-1+0j)\n",
      "+ IIIIIIIIIIIIIIIIIIIIIIIIIIIIII-IIIIIIIIIII+IIIII * (1+0j)\n",
      "+ IIIIIIII+IIIIIIIIIII-IIIIIIIIIIIIIIIIIIIIIIIIIII * (-1+0j)\n",
      "+ IIIIIIII-IIIIIIIIIII+IIIIIIIIIIIIIIIIIIIIIIIIIII * (1+0j)\n",
      "+ IIIIIIIIIIIIIIIIIIII+IIIIIIIIIII-IIIIIIIIIIIIIII * (-1+0j)\n",
      "+ IIIIIIIIIIIIIIIIIIII-IIIIIIIIIII+IIIIIIIIIIIIIII * (1+0j)\n",
      "+ IIIIIIIIIIIIIIIIIIIIIIIIIIIIIIII+IIIIIIIIIII-III * (-1+0j)\n",
      "+ IIIIIIIIIIIIIIIIIIIIIIIIIIIIIIII-IIIIIIIIIII+III * (1+0j)\n",
      "+ IIIIIIIIII+IIIIIIIIIII-IIIIIIIIIIIIIIIIIIIIIIIII * (-1+0j)\n",
      "+ IIIIIIIIII-IIIIIIIIIII+IIIIIIIIIIIIIIIIIIIIIIIII * (1+0j)\n",
      "+ IIIIIIIIIIIIIIIIIIIIII+IIIIIIIIIII-IIIIIIIIIIIII * (-1+0j)\n",
      "+ IIIIIIIIIIIIIIIIIIIIII-IIIIIIIIIII+IIIIIIIIIIIII * (1+0j)\n",
      "+ IIIIIIIIIIIIIIIIIIIIIIIIIIIIIIIIII+IIIIIIIIIII-I * (-1+0j)\n",
      "+ IIIIIIIIIIIIIIIIIIIIIIIIIIIIIIIIII-IIIIIIIIIII+I * (1+0j)\n",
      "+ NIIIIIIIIIIIIIIIIIIIIIIIIIIIIIIIIIIIIIIIIIIIIIII * (1+0j)\n",
      "+ IIIIIIIIIIIINIIIIIIIIIIIIIIIIIIIIIIIIIIIIIIIIIII * (1+0j)\n",
      "+ IIIIIIIIIIIIIIIIIIIIIIIINIIIIIIIIIIIIIIIIIIIIIII * (1+0j)\n",
      "+ IIIIIIIIIIIIIIIIIIIIIIIIIIIIIIIIIIIINIIIIIIIIIII * (1+0j)\n",
      "+ IINIIIIIIIIIIIIIIIIIIIIIIIIIIIIIIIIIIIIIIIIIIIII * (1+0j)\n",
      "+ IIIIIIIIIIIIIINIIIIIIIIIIIIIIIIIIIIIIIIIIIIIIIII * (1+0j)\n",
      "+ IIIIIIIIIIIIIIIIIIIIIIIIIINIIIIIIIIIIIIIIIIIIIII * (1+0j)\n",
      "+ IIIIIIIIIIIIIIIIIIIIIIIIIIIIIIIIIIIIIINIIIIIIIII * (1+0j)\n",
      "+ IIIINIIIIIIIIIIIIIIIIIIIIIIIIIIIIIIIIIIIIIIIIIII * (1+0j)\n",
      "+ IIIIIIIIIIIIIIIINIIIIIIIIIIIIIIIIIIIIIIIIIIIIIII * (1+0j)\n",
      "+ IIIIIIIIIIIIIIIIIIIIIIIIIIIINIIIIIIIIIIIIIIIIIII * (1+0j)\n",
      "+ IIIIIIIIIIIIIIIIIIIIIIIIIIIIIIIIIIIIIIIINIIIIIII * (1+0j)\n",
      "+ IIIIIINIIIIIIIIIIIIIIIIIIIIIIIIIIIIIIIIIIIIIIIII * (1+0j)\n",
      "+ IIIIIIIIIIIIIIIIIINIIIIIIIIIIIIIIIIIIIIIIIIIIIII * (1+0j)\n",
      "+ IIIIIIIIIIIIIIIIIIIIIIIIIIIIIINIIIIIIIIIIIIIIIII * (1+0j)\n",
      "+ IIIIIIIIIIIIIIIIIIIIIIIIIIIIIIIIIIIIIIIIIINIIIII * (1+0j)\n",
      "+ IIIIIIIINIIIIIIIIIIIIIIIIIIIIIIIIIIIIIIIIIIIIIII * (1+0j)\n",
      "+ IIIIIIIIIIIIIIIIIIIINIIIIIIIIIIIIIIIIIIIIIIIIIII * (1+0j)\n",
      "+ IIIIIIIIIIIIIIIIIIIIIIIIIIIIIIIINIIIIIIIIIIIIIII * (1+0j)\n",
      "+ IIIIIIIIIIIIIIIIIIIIIIIIIIIIIIIIIIIIIIIIIIIINIII * (1+0j)\n",
      "+ IIIIIIIIIINIIIIIIIIIIIIIIIIIIIIIIIIIIIIIIIIIIIII * (1+0j)\n",
      "+ IIIIIIIIIIIIIIIIIIIIIINIIIIIIIIIIIIIIIIIIIIIIIII * (1+0j)\n",
      "+ IIIIIIIIIIIIIIIIIIIIIIIIIIIIIIIIIINIIIIIIIIIIIII * (1+0j)\n",
      "+ IIIIIIIIIIIIIIIIIIIIIIIIIIIIIIIIIIIIIIIIIIIIIINI * (1+0j)\n",
      "+ +IIIIIIIII-IIIIIIIIIIIIIIIIIIIIIIIIIIIIIIIIIIIII * (1+0j)\n",
      "+ -IIIIIIIII+IIIIIIIIIIIIIIIIIIIIIIIIIIIIIIIIIIIII * (-1+0j)\n",
      "+ IIIIIIIIIIII+IIIIIIIII-IIIIIIIIIIIIIIIIIIIIIIIII * (1+0j)\n",
      "+ IIIIIIIIIIII-IIIIIIIII+IIIIIIIIIIIIIIIIIIIIIIIII * (-1+0j)\n",
      "+ IIIIIIIIIIIIIIIIIIIIIIII+IIIIIIIII-IIIIIIIIIIIII * (1+0j)\n",
      "+ IIIIIIIIIIIIIIIIIIIIIIII-IIIIIIIII+IIIIIIIIIIIII * (-1+0j)\n",
      "+ IIIIIIIIIIIIIIIIIIIIIIIIIIIIIIIIIIII+IIIIIIIII-I * (1+0j)\n",
      "+ IIIIIIIIIIIIIIIIIIIIIIIIIIIIIIIIIIII-IIIIIIIII+I * (-1+0j)\n",
      "+ +IIIIIIIIIIIIIIIIIIIIIIIIIIIIIIIIIII-IIIIIIIIIII * (-1+0j)\n",
      "+ -IIIIIIIIIIIIIIIIIIIIIIIIIIIIIIIIIII+IIIIIIIIIII * (1+0j)\n",
      "+ II+IIIIIIIIIIIIIIIIIIIIIIIIIIIIIIIIIII-IIIIIIIII * (-1+0j)\n",
      "+ II-IIIIIIIIIIIIIIIIIIIIIIIIIIIIIIIIIII+IIIIIIIII * (1+0j)\n",
      "+ IIII+IIIIIIIIIIIIIIIIIIIIIIIIIIIIIIIIIII-IIIIIII * (-1+0j)\n",
      "+ IIII-IIIIIIIIIIIIIIIIIIIIIIIIIIIIIIIIIII+IIIIIII * (1+0j)\n",
      "+ IIIIII+IIIIIIIIIIIIIIIIIIIIIIIIIIIIIIIIIII-IIIII * (-1+0j)\n",
      "+ IIIIII-IIIIIIIIIIIIIIIIIIIIIIIIIIIIIIIIIII+IIIII * (1+0j)\n",
      "+ IIIIIIII+IIIIIIIIIIIIIIIIIIIIIIIIIIIIIIIIIII-III * (-1+0j)\n",
      "+ IIIIIIII-IIIIIIIIIIIIIIIIIIIIIIIIIIIIIIIIIII+III * (1+0j)\n",
      "+ IIIIIIIIII+IIIIIIIIIIIIIIIIIIIIIIIIIIIIIIIIIII-I * (-1+0j)\n",
      "+ IIIIIIIIII-IIIIIIIIIIIIIIIIIIIIIIIIIIIIIIIIIII+I * (1+0j)\n",
      "+ I+I-IIIIIIIIIIIIIIIIIIIIIIIIIIIIIIIIIIIIIIIIIIII * (1+0j)\n",
      "+ I-I+IIIIIIIIIIIIIIIIIIIIIIIIIIIIIIIIIIIIIIIIIIII * (-1+0j)\n",
      "+ IIIIIIIIIIIII+I-IIIIIIIIIIIIIIIIIIIIIIIIIIIIIIII * (1+0j)\n",
      "+ IIIIIIIIIIIII-I+IIIIIIIIIIIIIIIIIIIIIIIIIIIIIIII * (-1+0j)\n",
      "+ IIIIIIIIIIIIIIIIIIIIIIIII+I-IIIIIIIIIIIIIIIIIIII * (1+0j)\n",
      "+ IIIIIIIIIIIIIIIIIIIIIIIII-I+IIIIIIIIIIIIIIIIIIII * (-1+0j)\n",
      "+ IIIIIIIIIIIIIIIIIIIIIIIIIIIIIIIIIIIII+I-IIIIIIII * (1+0j)\n",
      "+ IIIIIIIIIIIIIIIIIIIIIIIIIIIIIIIIIIIII-I+IIIIIIII * (-1+0j)\n",
      "+ III+I-IIIIIIIIIIIIIIIIIIIIIIIIIIIIIIIIIIIIIIIIII * (1+0j)\n",
      "+ III-I+IIIIIIIIIIIIIIIIIIIIIIIIIIIIIIIIIIIIIIIIII * (-1+0j)\n",
      "+ IIIIIIIIIIIIIII+I-IIIIIIIIIIIIIIIIIIIIIIIIIIIIII * (1+0j)\n",
      "+ IIIIIIIIIIIIIII-I+IIIIIIIIIIIIIIIIIIIIIIIIIIIIII * (-1+0j)\n",
      "+ IIIIIIIIIIIIIIIIIIIIIIIIIII+I-IIIIIIIIIIIIIIIIII * (1+0j)\n",
      "+ IIIIIIIIIIIIIIIIIIIIIIIIIII-I+IIIIIIIIIIIIIIIIII * (-1+0j)\n",
      "+ IIIIIIIIIIIIIIIIIIIIIIIIIIIIIIIIIIIIIII+I-IIIIII * (1+0j)\n",
      "+ IIIIIIIIIIIIIIIIIIIIIIIIIIIIIIIIIIIIIII-I+IIIIII * (-1+0j)\n",
      "+ IIIII+I-IIIIIIIIIIIIIIIIIIIIIIIIIIIIIIIIIIIIIIII * (1+0j)\n",
      "+ IIIII-I+IIIIIIIIIIIIIIIIIIIIIIIIIIIIIIIIIIIIIIII * (-1+0j)\n",
      "+ IIIIIIIIIIIIIIIII+I-IIIIIIIIIIIIIIIIIIIIIIIIIIII * (1+0j)\n",
      "+ IIIIIIIIIIIIIIIII-I+IIIIIIIIIIIIIIIIIIIIIIIIIIII * (-1+0j)\n",
      "+ IIIIIIIIIIIIIIIIIIIIIIIIIIIII+I-IIIIIIIIIIIIIIII * (1+0j)\n",
      "+ IIIIIIIIIIIIIIIIIIIIIIIIIIIII-I+IIIIIIIIIIIIIIII * (-1+0j)\n",
      "+ IIIIIIIIIIIIIIIIIIIIIIIIIIIIIIIIIIIIIIIII+I-IIII * (1+0j)\n",
      "+ IIIIIIIIIIIIIIIIIIIIIIIIIIIIIIIIIIIIIIIII-I+IIII * (-1+0j)\n",
      "+ IIIIIII+I-IIIIIIIIIIIIIIIIIIIIIIIIIIIIIIIIIIIIII * (1+0j)\n",
      "+ IIIIIII-I+IIIIIIIIIIIIIIIIIIIIIIIIIIIIIIIIIIIIII * (-1+0j)\n",
      "+ IIIIIIIIIIIIIIIIIII+I-IIIIIIIIIIIIIIIIIIIIIIIIII * (1+0j)\n",
      "+ IIIIIIIIIIIIIIIIIII-I+IIIIIIIIIIIIIIIIIIIIIIIIII * (-1+0j)\n",
      "+ IIIIIIIIIIIIIIIIIIIIIIIIIIIIIII+I-IIIIIIIIIIIIII * (1+0j)\n",
      "+ IIIIIIIIIIIIIIIIIIIIIIIIIIIIIII-I+IIIIIIIIIIIIII * (-1+0j)\n",
      "+ IIIIIIIIIIIIIIIIIIIIIIIIIIIIIIIIIIIIIIIIIII+I-II * (1+0j)\n",
      "+ IIIIIIIIIIIIIIIIIIIIIIIIIIIIIIIIIIIIIIIIIII-I+II * (-1+0j)\n",
      "+ IIIIIIIII+I-IIIIIIIIIIIIIIIIIIIIIIIIIIIIIIIIIIII * (1+0j)\n",
      "+ IIIIIIIII-I+IIIIIIIIIIIIIIIIIIIIIIIIIIIIIIIIIIII * (-1+0j)\n",
      "+ IIIIIIIIIIIIIIIIIIIII+I-IIIIIIIIIIIIIIIIIIIIIIII * (1+0j)\n",
      "+ IIIIIIIIIIIIIIIIIIIII-I+IIIIIIIIIIIIIIIIIIIIIIII * (-1+0j)\n",
      "+ IIIIIIIIIIIIIIIIIIIIIIIIIIIIIIIII+I-IIIIIIIIIIII * (1+0j)\n",
      "+ IIIIIIIIIIIIIIIIIIIIIIIIIIIIIIIII-I+IIIIIIIIIIII * (-1+0j)\n",
      "+ IIIIIIIIIIIIIIIIIIIIIIIIIIIIIIIIIIIIIIIIIIIII+I- * (1+0j)\n",
      "+ IIIIIIIIIIIIIIIIIIIIIIIIIIIIIIIIIIIIIIIIIIIII-I+ * (-1+0j)\n",
      "+ I+IIIIIIIIIII-IIIIIIIIIIIIIIIIIIIIIIIIIIIIIIIIII * (-1+0j)\n",
      "+ I-IIIIIIIIIII+IIIIIIIIIIIIIIIIIIIIIIIIIIIIIIIIII * (1+0j)\n",
      "+ IIIIIIIIIIIII+IIIIIIIIIII-IIIIIIIIIIIIIIIIIIIIII * (-1+0j)\n",
      "+ IIIIIIIIIIIII-IIIIIIIIIII+IIIIIIIIIIIIIIIIIIIIII * (1+0j)\n",
      "+ IIIIIIIIIIIIIIIIIIIIIIIII+IIIIIIIIIII-IIIIIIIIII * (-1+0j)\n",
      "+ IIIIIIIIIIIIIIIIIIIIIIIII-IIIIIIIIIII+IIIIIIIIII * (1+0j)\n",
      "+ III+IIIIIIIIIII-IIIIIIIIIIIIIIIIIIIIIIIIIIIIIIII * (-1+0j)\n",
      "+ III-IIIIIIIIIII+IIIIIIIIIIIIIIIIIIIIIIIIIIIIIIII * (1+0j)\n",
      "+ IIIIIIIIIIIIIII+IIIIIIIIIII-IIIIIIIIIIIIIIIIIIII * (-1+0j)\n",
      "+ IIIIIIIIIIIIIII-IIIIIIIIIII+IIIIIIIIIIIIIIIIIIII * (1+0j)\n",
      "+ IIIIIIIIIIIIIIIIIIIIIIIIIII+IIIIIIIIIII-IIIIIIII * (-1+0j)\n",
      "+ IIIIIIIIIIIIIIIIIIIIIIIIIII-IIIIIIIIIII+IIIIIIII * (1+0j)\n",
      "+ IIIII+IIIIIIIIIII-IIIIIIIIIIIIIIIIIIIIIIIIIIIIII * (-1+0j)\n",
      "+ IIIII-IIIIIIIIIII+IIIIIIIIIIIIIIIIIIIIIIIIIIIIII * (1+0j)\n",
      "+ IIIIIIIIIIIIIIIII+IIIIIIIIIII-IIIIIIIIIIIIIIIIII * (-1+0j)\n",
      "+ IIIIIIIIIIIIIIIII-IIIIIIIIIII+IIIIIIIIIIIIIIIIII * (1+0j)\n",
      "+ IIIIIIIIIIIIIIIIIIIIIIIIIIIII+IIIIIIIIIII-IIIIII * (-1+0j)\n",
      "+ IIIIIIIIIIIIIIIIIIIIIIIIIIIII-IIIIIIIIIII+IIIIII * (1+0j)\n",
      "+ IIIIIII+IIIIIIIIIII-IIIIIIIIIIIIIIIIIIIIIIIIIIII * (-1+0j)\n",
      "+ IIIIIII-IIIIIIIIIII+IIIIIIIIIIIIIIIIIIIIIIIIIIII * (1+0j)\n",
      "+ IIIIIIIIIIIIIIIIIII+IIIIIIIIIII-IIIIIIIIIIIIIIII * (-1+0j)\n",
      "+ IIIIIIIIIIIIIIIIIII-IIIIIIIIIII+IIIIIIIIIIIIIIII * (1+0j)\n",
      "+ IIIIIIIIIIIIIIIIIIIIIIIIIIIIIII+IIIIIIIIIII-IIII * (-1+0j)\n",
      "+ IIIIIIIIIIIIIIIIIIIIIIIIIIIIIII-IIIIIIIIIII+IIII * (1+0j)\n",
      "+ IIIIIIIII+IIIIIIIIIII-IIIIIIIIIIIIIIIIIIIIIIIIII * (-1+0j)\n",
      "+ IIIIIIIII-IIIIIIIIIII+IIIIIIIIIIIIIIIIIIIIIIIIII * (1+0j)\n",
      "+ IIIIIIIIIIIIIIIIIIIII+IIIIIIIIIII-IIIIIIIIIIIIII * (-1+0j)\n",
      "+ IIIIIIIIIIIIIIIIIIIII-IIIIIIIIIII+IIIIIIIIIIIIII * (1+0j)\n",
      "+ IIIIIIIIIIIIIIIIIIIIIIIIIIIIIIIII+IIIIIIIIIII-II * (-1+0j)\n",
      "+ IIIIIIIIIIIIIIIIIIIIIIIIIIIIIIIII-IIIIIIIIIII+II * (1+0j)\n",
      "+ IIIIIIIIIII+IIIIIIIIIII-IIIIIIIIIIIIIIIIIIIIIIII * (-1+0j)\n",
      "+ IIIIIIIIIII-IIIIIIIIIII+IIIIIIIIIIIIIIIIIIIIIIII * (1+0j)\n",
      "+ IIIIIIIIIIIIIIIIIIIIIII+IIIIIIIIIII-IIIIIIIIIIII * (-1+0j)\n",
      "+ IIIIIIIIIIIIIIIIIIIIIII-IIIIIIIIIII+IIIIIIIIIIII * (1+0j)\n",
      "+ IIIIIIIIIIIIIIIIIIIIIIIIIIIIIIIIIII+IIIIIIIIIII- * (-1+0j)\n",
      "+ IIIIIIIIIIIIIIIIIIIIIIIIIIIIIIIIIII-IIIIIIIIIII+ * (1+0j)\n",
      "+ INIIIIIIIIIIIIIIIIIIIIIIIIIIIIIIIIIIIIIIIIIIIIII * (1+0j)\n",
      "+ IIIIIIIIIIIIINIIIIIIIIIIIIIIIIIIIIIIIIIIIIIIIIII * (1+0j)\n",
      "+ IIIIIIIIIIIIIIIIIIIIIIIIINIIIIIIIIIIIIIIIIIIIIII * (1+0j)\n",
      "+ IIIIIIIIIIIIIIIIIIIIIIIIIIIIIIIIIIIIINIIIIIIIIII * (1+0j)\n",
      "+ IIINIIIIIIIIIIIIIIIIIIIIIIIIIIIIIIIIIIIIIIIIIIII * (1+0j)\n",
      "+ IIIIIIIIIIIIIIINIIIIIIIIIIIIIIIIIIIIIIIIIIIIIIII * (1+0j)\n",
      "+ IIIIIIIIIIIIIIIIIIIIIIIIIIINIIIIIIIIIIIIIIIIIIII * (1+0j)\n",
      "+ IIIIIIIIIIIIIIIIIIIIIIIIIIIIIIIIIIIIIIINIIIIIIII * (1+0j)\n",
      "+ IIIIINIIIIIIIIIIIIIIIIIIIIIIIIIIIIIIIIIIIIIIIIII * (1+0j)\n",
      "+ IIIIIIIIIIIIIIIIINIIIIIIIIIIIIIIIIIIIIIIIIIIIIII * (1+0j)\n",
      "+ IIIIIIIIIIIIIIIIIIIIIIIIIIIIINIIIIIIIIIIIIIIIIII * (1+0j)\n",
      "+ IIIIIIIIIIIIIIIIIIIIIIIIIIIIIIIIIIIIIIIIINIIIIII * (1+0j)\n",
      "+ IIIIIIINIIIIIIIIIIIIIIIIIIIIIIIIIIIIIIIIIIIIIIII * (1+0j)\n",
      "+ IIIIIIIIIIIIIIIIIIINIIIIIIIIIIIIIIIIIIIIIIIIIIII * (1+0j)\n",
      "+ IIIIIIIIIIIIIIIIIIIIIIIIIIIIIIINIIIIIIIIIIIIIIII * (1+0j)\n",
      "+ IIIIIIIIIIIIIIIIIIIIIIIIIIIIIIIIIIIIIIIIIIINIIII * (1+0j)\n",
      "+ IIIIIIIIINIIIIIIIIIIIIIIIIIIIIIIIIIIIIIIIIIIIIII * (1+0j)\n",
      "+ IIIIIIIIIIIIIIIIIIIIINIIIIIIIIIIIIIIIIIIIIIIIIII * (1+0j)\n",
      "+ IIIIIIIIIIIIIIIIIIIIIIIIIIIIIIIIINIIIIIIIIIIIIII * (1+0j)\n",
      "+ IIIIIIIIIIIIIIIIIIIIIIIIIIIIIIIIIIIIIIIIIIIIINII * (1+0j)\n",
      "+ IIIIIIIIIIINIIIIIIIIIIIIIIIIIIIIIIIIIIIIIIIIIIII * (1+0j)\n",
      "+ IIIIIIIIIIIIIIIIIIIIIIINIIIIIIIIIIIIIIIIIIIIIIII * (1+0j)\n",
      "+ IIIIIIIIIIIIIIIIIIIIIIIIIIIIIIIIIIINIIIIIIIIIIII * (1+0j)\n",
      "+ IIIIIIIIIIIIIIIIIIIIIIIIIIIIIIIIIIIIIIIIIIIIIIIN * (1+0j)\n",
      "+ I+IIIIIIIII-IIIIIIIIIIIIIIIIIIIIIIIIIIIIIIIIIIII * (1+0j)\n",
      "+ I-IIIIIIIII+IIIIIIIIIIIIIIIIIIIIIIIIIIIIIIIIIIII * (-1+0j)\n",
      "+ IIIIIIIIIIIII+IIIIIIIII-IIIIIIIIIIIIIIIIIIIIIIII * (1+0j)\n",
      "+ IIIIIIIIIIIII-IIIIIIIII+IIIIIIIIIIIIIIIIIIIIIIII * (-1+0j)\n",
      "+ IIIIIIIIIIIIIIIIIIIIIIIII+IIIIIIIII-IIIIIIIIIIII * (1+0j)\n",
      "+ IIIIIIIIIIIIIIIIIIIIIIIII-IIIIIIIII+IIIIIIIIIIII * (-1+0j)\n",
      "+ IIIIIIIIIIIIIIIIIIIIIIIIIIIIIIIIIIIII+IIIIIIIII- * (1+0j)\n",
      "+ IIIIIIIIIIIIIIIIIIIIIIIIIIIIIIIIIIIII-IIIIIIIII+ * (-1+0j)\n",
      "+ I+IIIIIIIIIIIIIIIIIIIIIIIIIIIIIIIIIII-IIIIIIIIII * (-1+0j)\n",
      "+ I-IIIIIIIIIIIIIIIIIIIIIIIIIIIIIIIIIII+IIIIIIIIII * (1+0j)\n",
      "+ III+IIIIIIIIIIIIIIIIIIIIIIIIIIIIIIIIIII-IIIIIIII * (-1+0j)\n",
      "+ III-IIIIIIIIIIIIIIIIIIIIIIIIIIIIIIIIIII+IIIIIIII * (1+0j)\n",
      "+ IIIII+IIIIIIIIIIIIIIIIIIIIIIIIIIIIIIIIIII-IIIIII * (-1+0j)\n",
      "+ IIIII-IIIIIIIIIIIIIIIIIIIIIIIIIIIIIIIIIII+IIIIII * (1+0j)\n",
      "+ IIIIIII+IIIIIIIIIIIIIIIIIIIIIIIIIIIIIIIIIII-IIII * (-1+0j)\n",
      "+ IIIIIII-IIIIIIIIIIIIIIIIIIIIIIIIIIIIIIIIIII+IIII * (1+0j)\n",
      "+ IIIIIIIII+IIIIIIIIIIIIIIIIIIIIIIIIIIIIIIIIIII-II * (-1+0j)\n",
      "+ IIIIIIIII-IIIIIIIIIIIIIIIIIIIIIIIIIIIIIIIIIII+II * (1+0j)\n",
      "+ IIIIIIIIIII+IIIIIIIIIIIIIIIIIIIIIIIIIIIIIIIIIII- * (-1+0j)\n",
      "+ IIIIIIIIIII-IIIIIIIIIIIIIIIIIIIIIIIIIIIIIIIIIII+ * (1+0j)\n",
      "+ NNIIIIIIIIIIIIIIIIIIIIIIIIIIIIIIIIIIIIIIIIIIIIII * (2+0j)\n",
      "+ IINNIIIIIIIIIIIIIIIIIIIIIIIIIIIIIIIIIIIIIIIIIIII * (2+0j)\n",
      "+ IIIINNIIIIIIIIIIIIIIIIIIIIIIIIIIIIIIIIIIIIIIIIII * (2+0j)\n",
      "+ IIIIIINNIIIIIIIIIIIIIIIIIIIIIIIIIIIIIIIIIIIIIIII * (2+0j)\n",
      "+ IIIIIIIINNIIIIIIIIIIIIIIIIIIIIIIIIIIIIIIIIIIIIII * (2+0j)\n",
      "+ IIIIIIIIIINNIIIIIIIIIIIIIIIIIIIIIIIIIIIIIIIIIIII * (2+0j)\n",
      "+ IIIIIIIIIIIINNIIIIIIIIIIIIIIIIIIIIIIIIIIIIIIIIII * (2+0j)\n",
      "+ IIIIIIIIIIIIIINNIIIIIIIIIIIIIIIIIIIIIIIIIIIIIIII * (2+0j)\n",
      "+ IIIIIIIIIIIIIIIINNIIIIIIIIIIIIIIIIIIIIIIIIIIIIII * (2+0j)\n",
      "+ IIIIIIIIIIIIIIIIIINNIIIIIIIIIIIIIIIIIIIIIIIIIIII * (2+0j)\n",
      "+ IIIIIIIIIIIIIIIIIIIINNIIIIIIIIIIIIIIIIIIIIIIIIII * (2+0j)\n",
      "+ IIIIIIIIIIIIIIIIIIIIIINNIIIIIIIIIIIIIIIIIIIIIIII * (2+0j)\n",
      "+ IIIIIIIIIIIIIIIIIIIIIIIINNIIIIIIIIIIIIIIIIIIIIII * (2+0j)\n",
      "+ IIIIIIIIIIIIIIIIIIIIIIIIIINNIIIIIIIIIIIIIIIIIIII * (2+0j)\n",
      "+ IIIIIIIIIIIIIIIIIIIIIIIIIIIINNIIIIIIIIIIIIIIIIII * (2+0j)\n",
      "+ IIIIIIIIIIIIIIIIIIIIIIIIIIIIIINNIIIIIIIIIIIIIIII * (2+0j)\n",
      "+ IIIIIIIIIIIIIIIIIIIIIIIIIIIIIIIINNIIIIIIIIIIIIII * (2+0j)\n",
      "+ IIIIIIIIIIIIIIIIIIIIIIIIIIIIIIIIIINNIIIIIIIIIIII * (2+0j)\n",
      "+ IIIIIIIIIIIIIIIIIIIIIIIIIIIIIIIIIIIINNIIIIIIIIII * (2+0j)\n",
      "+ IIIIIIIIIIIIIIIIIIIIIIIIIIIIIIIIIIIIIINNIIIIIIII * (2+0j)\n",
      "+ IIIIIIIIIIIIIIIIIIIIIIIIIIIIIIIIIIIIIIIINNIIIIII * (2+0j)\n",
      "+ IIIIIIIIIIIIIIIIIIIIIIIIIIIIIIIIIIIIIIIIIINNIIII * (2+0j)\n",
      "+ IIIIIIIIIIIIIIIIIIIIIIIIIIIIIIIIIIIIIIIIIIIINNII * (2+0j)\n",
      "+ IIIIIIIIIIIIIIIIIIIIIIIIIIIIIIIIIIIIIIIIIIIIIINN * (2+0j)\n"
>>>>>>> 76f5380 (minor change)
     ]
    }
   ],
   "metadata": {
    "slideshow": {
     "slide_type": "fragment"
    }
   }
  },
  {
   "cell_type": "code",
<<<<<<< HEAD
<<<<<<< HEAD
<<<<<<< HEAD
   "execution_count": 33,
=======
   "execution_count": 23,
>>>>>>> 76f5380 (minor change)
   "source": [
    "FHM.hopping_matrix()"
   ],
=======
    "## **Fermi-Hubbard model**"
   ],
   "metadata": {}
  },
  {
   "cell_type": "code",
   "execution_count": 3,
   "source": [
    "onsite_interaction = 2.0\n",
    "FHM = FermiHubbard(\n",
    "    lattice=general_lattice,\n",
    "    onsite_interaction=onsite_interaction\n",
    ")\n",
    "\n",
    "ham = FHM.hamiltonian()\n",
    "ham.set_label_display_mode(\"sparse\")\n",
    "print(ham)\n",
    "# main の環境で使えるようにしとく"
   ],
>>>>>>> 4d53371 (add files and edit them)
=======
   "execution_count": 46,
=======
   "execution_count": 33,
>>>>>>> b33b296 (minor change)
   "source": [
    "FHM.hopping_matrix()"
   ],
>>>>>>> bd567cf (minor change)
   "outputs": [
    {
     "output_type": "execute_result",
     "data": {
      "text/plain": [
<<<<<<< HEAD
<<<<<<< HEAD
<<<<<<< HEAD
       "array([[ 1.+0.j,  1.+0.j,  0.+0.j,  0.+0.j,  0.+0.j, -1.+0.j,  0.+0.j,\n",
       "         0.+0.j,  0.+0.j,  0.+0.j,  0.+0.j,  0.+0.j,  0.+0.j,  0.+0.j,\n",
       "         0.+0.j],\n",
       "       [ 1.+0.j,  1.+0.j,  1.+0.j,  0.+0.j,  0.+0.j,  0.+0.j, -1.+0.j,\n",
       "         0.+0.j,  0.+0.j,  0.+0.j,  0.+0.j,  0.+0.j,  0.+0.j,  0.+0.j,\n",
       "         0.+0.j],\n",
       "       [ 0.+0.j,  1.+0.j,  1.+0.j,  1.+0.j,  0.+0.j,  0.+0.j,  0.+0.j,\n",
       "        -1.+0.j,  0.+0.j,  0.+0.j,  0.+0.j,  0.+0.j,  0.+0.j,  0.+0.j,\n",
       "         0.+0.j],\n",
       "       [ 0.+0.j,  0.+0.j,  1.+0.j,  1.+0.j,  1.+0.j,  0.+0.j,  0.+0.j,\n",
       "         0.+0.j, -1.+0.j,  0.+0.j,  0.+0.j,  0.+0.j,  0.+0.j,  0.+0.j,\n",
       "         0.+0.j],\n",
       "       [ 0.+0.j,  0.+0.j,  0.+0.j,  1.+0.j,  1.+0.j,  0.+0.j,  0.+0.j,\n",
       "         0.+0.j,  0.+0.j, -1.+0.j,  0.+0.j,  0.+0.j,  0.+0.j,  0.+0.j,\n",
       "         0.+0.j],\n",
       "       [-1.+0.j,  0.+0.j,  0.+0.j,  0.+0.j,  0.+0.j,  1.+0.j,  1.+0.j,\n",
       "         0.+0.j,  0.+0.j,  0.+0.j, -1.+0.j,  0.+0.j,  0.+0.j,  0.+0.j,\n",
       "         0.+0.j],\n",
       "       [ 0.+0.j, -1.+0.j,  0.+0.j,  0.+0.j,  0.+0.j,  1.+0.j,  1.+0.j,\n",
       "         1.+0.j,  0.+0.j,  0.+0.j,  0.+0.j, -1.+0.j,  0.+0.j,  0.+0.j,\n",
       "         0.+0.j],\n",
       "       [ 0.+0.j,  0.+0.j, -1.+0.j,  0.+0.j,  0.+0.j,  0.+0.j,  1.+0.j,\n",
       "         1.+0.j,  1.+0.j,  0.+0.j,  0.+0.j,  0.+0.j, -1.+0.j,  0.+0.j,\n",
       "         0.+0.j],\n",
       "       [ 0.+0.j,  0.+0.j,  0.+0.j, -1.+0.j,  0.+0.j,  0.+0.j,  0.+0.j,\n",
       "         1.+0.j,  1.+0.j,  1.+0.j,  0.+0.j,  0.+0.j,  0.+0.j, -1.+0.j,\n",
       "         0.+0.j],\n",
       "       [ 0.+0.j,  0.+0.j,  0.+0.j,  0.+0.j, -1.+0.j,  0.+0.j,  0.+0.j,\n",
       "         0.+0.j,  1.+0.j,  1.+0.j,  0.+0.j,  0.+0.j,  0.+0.j,  0.+0.j,\n",
       "        -1.+0.j],\n",
       "       [ 0.+0.j,  0.+0.j,  0.+0.j,  0.+0.j,  0.+0.j, -1.+0.j,  0.+0.j,\n",
       "         0.+0.j,  0.+0.j,  0.+0.j,  1.+0.j,  1.+0.j,  0.+0.j,  0.+0.j,\n",
       "         0.+0.j],\n",
       "       [ 0.+0.j,  0.+0.j,  0.+0.j,  0.+0.j,  0.+0.j,  0.+0.j, -1.+0.j,\n",
       "         0.+0.j,  0.+0.j,  0.+0.j,  1.+0.j,  1.+0.j,  1.+0.j,  0.+0.j,\n",
       "         0.+0.j],\n",
       "       [ 0.+0.j,  0.+0.j,  0.+0.j,  0.+0.j,  0.+0.j,  0.+0.j,  0.+0.j,\n",
       "        -1.+0.j,  0.+0.j,  0.+0.j,  0.+0.j,  1.+0.j,  1.+0.j,  1.+0.j,\n",
       "         0.+0.j],\n",
       "       [ 0.+0.j,  0.+0.j,  0.+0.j,  0.+0.j,  0.+0.j,  0.+0.j,  0.+0.j,\n",
       "         0.+0.j, -1.+0.j,  0.+0.j,  0.+0.j,  0.+0.j,  1.+0.j,  1.+0.j,\n",
       "         1.+0.j],\n",
       "       [ 0.+0.j,  0.+0.j,  0.+0.j,  0.+0.j,  0.+0.j,  0.+0.j,  0.+0.j,\n",
       "         0.+0.j,  0.+0.j, -1.+0.j,  0.+0.j,  0.+0.j,  0.+0.j,  1.+0.j,\n",
       "         1.+0.j]])"
      ]
     },
     "metadata": {},
     "execution_count": 33
=======
       "array([[ 0.+0.j,  1.+0.j,  0.+0.j,  0.+0.j,  0.+0.j, -1.+0.j,  0.+0.j,\n",
=======
       "array([[ 1.+0.j,  1.+0.j,  0.+0.j,  0.+0.j,  0.+0.j, -1.+0.j,  0.+0.j,\n",
>>>>>>> b33b296 (minor change)
=======
       "array([[ 1.+0.j,  1.+0.j,  0.+0.j,  0.+0.j,  0.+0.j,  1.+0.j, -1.+0.j,\n",
>>>>>>> 76f5380 (minor change)
       "         0.+0.j,  0.+0.j,  0.+0.j,  0.+0.j,  0.+0.j,  0.+0.j,  0.+0.j,\n",
       "         0.+0.j,  0.+0.j,  0.+0.j,  0.+0.j, -1.+0.j,  0.+0.j,  0.+0.j,\n",
       "         0.+0.j,  0.+0.j,  0.+0.j],\n",
       "       [ 1.+0.j,  1.+0.j,  1.+0.j,  0.+0.j,  0.+0.j,  0.+0.j,  0.+0.j,\n",
       "        -1.+0.j,  0.+0.j,  0.+0.j,  0.+0.j,  0.+0.j,  0.+0.j,  0.+0.j,\n",
       "         0.+0.j,  0.+0.j,  0.+0.j,  0.+0.j,  0.+0.j, -1.+0.j,  0.+0.j,\n",
       "         0.+0.j,  0.+0.j,  0.+0.j],\n",
       "       [ 0.+0.j,  1.+0.j,  1.+0.j,  1.+0.j,  0.+0.j,  0.+0.j,  0.+0.j,\n",
       "         0.+0.j, -1.+0.j,  0.+0.j,  0.+0.j,  0.+0.j,  0.+0.j,  0.+0.j,\n",
       "         0.+0.j,  0.+0.j,  0.+0.j,  0.+0.j,  0.+0.j,  0.+0.j, -1.+0.j,\n",
       "         0.+0.j,  0.+0.j,  0.+0.j],\n",
       "       [ 0.+0.j,  0.+0.j,  1.+0.j,  1.+0.j,  1.+0.j,  0.+0.j,  0.+0.j,\n",
       "         0.+0.j,  0.+0.j, -1.+0.j,  0.+0.j,  0.+0.j,  0.+0.j,  0.+0.j,\n",
       "         0.+0.j,  0.+0.j,  0.+0.j,  0.+0.j,  0.+0.j,  0.+0.j,  0.+0.j,\n",
       "        -1.+0.j,  0.+0.j,  0.+0.j],\n",
       "       [ 0.+0.j,  0.+0.j,  0.+0.j,  1.+0.j,  1.+0.j,  1.+0.j,  0.+0.j,\n",
       "         0.+0.j,  0.+0.j,  0.+0.j, -1.+0.j,  0.+0.j,  0.+0.j,  0.+0.j,\n",
       "         0.+0.j,  0.+0.j,  0.+0.j,  0.+0.j,  0.+0.j,  0.+0.j,  0.+0.j,\n",
       "         0.+0.j, -1.+0.j,  0.+0.j],\n",
       "       [ 1.+0.j,  0.+0.j,  0.+0.j,  0.+0.j,  1.+0.j,  1.+0.j,  0.+0.j,\n",
       "         0.+0.j,  0.+0.j,  0.+0.j,  0.+0.j, -1.+0.j,  0.+0.j,  0.+0.j,\n",
       "         0.+0.j,  0.+0.j,  0.+0.j,  0.+0.j,  0.+0.j,  0.+0.j,  0.+0.j,\n",
       "         0.+0.j,  0.+0.j, -1.+0.j],\n",
       "       [-1.+0.j,  0.+0.j,  0.+0.j,  0.+0.j,  0.+0.j,  0.+0.j,  1.+0.j,\n",
       "         1.+0.j,  0.+0.j,  0.+0.j,  0.+0.j,  1.+0.j, -1.+0.j,  0.+0.j,\n",
       "         0.+0.j,  0.+0.j,  0.+0.j,  0.+0.j,  0.+0.j,  0.+0.j,  0.+0.j,\n",
       "         0.+0.j,  0.+0.j,  0.+0.j],\n",
       "       [ 0.+0.j, -1.+0.j,  0.+0.j,  0.+0.j,  0.+0.j,  0.+0.j,  1.+0.j,\n",
       "         1.+0.j,  1.+0.j,  0.+0.j,  0.+0.j,  0.+0.j,  0.+0.j, -1.+0.j,\n",
       "         0.+0.j,  0.+0.j,  0.+0.j,  0.+0.j,  0.+0.j,  0.+0.j,  0.+0.j,\n",
       "         0.+0.j,  0.+0.j,  0.+0.j],\n",
       "       [ 0.+0.j,  0.+0.j, -1.+0.j,  0.+0.j,  0.+0.j,  0.+0.j,  0.+0.j,\n",
       "         1.+0.j,  1.+0.j,  1.+0.j,  0.+0.j,  0.+0.j,  0.+0.j,  0.+0.j,\n",
       "        -1.+0.j,  0.+0.j,  0.+0.j,  0.+0.j,  0.+0.j,  0.+0.j,  0.+0.j,\n",
       "         0.+0.j,  0.+0.j,  0.+0.j],\n",
       "       [ 0.+0.j,  0.+0.j,  0.+0.j, -1.+0.j,  0.+0.j,  0.+0.j,  0.+0.j,\n",
       "         0.+0.j,  1.+0.j,  1.+0.j,  1.+0.j,  0.+0.j,  0.+0.j,  0.+0.j,\n",
       "         0.+0.j, -1.+0.j,  0.+0.j,  0.+0.j,  0.+0.j,  0.+0.j,  0.+0.j,\n",
       "         0.+0.j,  0.+0.j,  0.+0.j],\n",
       "       [ 0.+0.j,  0.+0.j,  0.+0.j,  0.+0.j, -1.+0.j,  0.+0.j,  0.+0.j,\n",
       "         0.+0.j,  0.+0.j,  1.+0.j,  1.+0.j,  1.+0.j,  0.+0.j,  0.+0.j,\n",
       "         0.+0.j,  0.+0.j, -1.+0.j,  0.+0.j,  0.+0.j,  0.+0.j,  0.+0.j,\n",
       "         0.+0.j,  0.+0.j,  0.+0.j],\n",
       "       [ 0.+0.j,  0.+0.j,  0.+0.j,  0.+0.j,  0.+0.j, -1.+0.j,  1.+0.j,\n",
       "         0.+0.j,  0.+0.j,  0.+0.j,  1.+0.j,  1.+0.j,  0.+0.j,  0.+0.j,\n",
       "         0.+0.j,  0.+0.j,  0.+0.j, -1.+0.j,  0.+0.j,  0.+0.j,  0.+0.j,\n",
       "         0.+0.j,  0.+0.j,  0.+0.j],\n",
       "       [ 0.+0.j,  0.+0.j,  0.+0.j,  0.+0.j,  0.+0.j,  0.+0.j, -1.+0.j,\n",
       "         0.+0.j,  0.+0.j,  0.+0.j,  0.+0.j,  0.+0.j,  1.+0.j,  1.+0.j,\n",
       "         0.+0.j,  0.+0.j,  0.+0.j,  1.+0.j, -1.+0.j,  0.+0.j,  0.+0.j,\n",
       "         0.+0.j,  0.+0.j,  0.+0.j],\n",
       "       [ 0.+0.j,  0.+0.j,  0.+0.j,  0.+0.j,  0.+0.j,  0.+0.j,  0.+0.j,\n",
       "        -1.+0.j,  0.+0.j,  0.+0.j,  0.+0.j,  0.+0.j,  1.+0.j,  1.+0.j,\n",
       "         1.+0.j,  0.+0.j,  0.+0.j,  0.+0.j,  0.+0.j, -1.+0.j,  0.+0.j,\n",
       "         0.+0.j,  0.+0.j,  0.+0.j],\n",
       "       [ 0.+0.j,  0.+0.j,  0.+0.j,  0.+0.j,  0.+0.j,  0.+0.j,  0.+0.j,\n",
       "         0.+0.j, -1.+0.j,  0.+0.j,  0.+0.j,  0.+0.j,  0.+0.j,  1.+0.j,\n",
       "         1.+0.j,  1.+0.j,  0.+0.j,  0.+0.j,  0.+0.j,  0.+0.j, -1.+0.j,\n",
       "         0.+0.j,  0.+0.j,  0.+0.j],\n",
       "       [ 0.+0.j,  0.+0.j,  0.+0.j,  0.+0.j,  0.+0.j,  0.+0.j,  0.+0.j,\n",
       "         0.+0.j,  0.+0.j, -1.+0.j,  0.+0.j,  0.+0.j,  0.+0.j,  0.+0.j,\n",
       "         1.+0.j,  1.+0.j,  1.+0.j,  0.+0.j,  0.+0.j,  0.+0.j,  0.+0.j,\n",
       "        -1.+0.j,  0.+0.j,  0.+0.j],\n",
       "       [ 0.+0.j,  0.+0.j,  0.+0.j,  0.+0.j,  0.+0.j,  0.+0.j,  0.+0.j,\n",
       "         0.+0.j,  0.+0.j,  0.+0.j, -1.+0.j,  0.+0.j,  0.+0.j,  0.+0.j,\n",
       "         0.+0.j,  1.+0.j,  1.+0.j,  1.+0.j,  0.+0.j,  0.+0.j,  0.+0.j,\n",
       "         0.+0.j, -1.+0.j,  0.+0.j],\n",
       "       [ 0.+0.j,  0.+0.j,  0.+0.j,  0.+0.j,  0.+0.j,  0.+0.j,  0.+0.j,\n",
       "         0.+0.j,  0.+0.j,  0.+0.j,  0.+0.j, -1.+0.j,  1.+0.j,  0.+0.j,\n",
       "         0.+0.j,  0.+0.j,  1.+0.j,  1.+0.j,  0.+0.j,  0.+0.j,  0.+0.j,\n",
       "         0.+0.j,  0.+0.j, -1.+0.j],\n",
       "       [-1.+0.j,  0.+0.j,  0.+0.j,  0.+0.j,  0.+0.j,  0.+0.j,  0.+0.j,\n",
       "         0.+0.j,  0.+0.j,  0.+0.j,  0.+0.j,  0.+0.j, -1.+0.j,  0.+0.j,\n",
       "         0.+0.j,  0.+0.j,  0.+0.j,  0.+0.j,  1.+0.j,  1.+0.j,  0.+0.j,\n",
       "         0.+0.j,  0.+0.j,  1.+0.j],\n",
       "       [ 0.+0.j, -1.+0.j,  0.+0.j,  0.+0.j,  0.+0.j,  0.+0.j,  0.+0.j,\n",
       "         0.+0.j,  0.+0.j,  0.+0.j,  0.+0.j,  0.+0.j,  0.+0.j, -1.+0.j,\n",
       "         0.+0.j,  0.+0.j,  0.+0.j,  0.+0.j,  1.+0.j,  1.+0.j,  1.+0.j,\n",
       "         0.+0.j,  0.+0.j,  0.+0.j],\n",
       "       [ 0.+0.j,  0.+0.j, -1.+0.j,  0.+0.j,  0.+0.j,  0.+0.j,  0.+0.j,\n",
       "         0.+0.j,  0.+0.j,  0.+0.j,  0.+0.j,  0.+0.j,  0.+0.j,  0.+0.j,\n",
       "        -1.+0.j,  0.+0.j,  0.+0.j,  0.+0.j,  0.+0.j,  1.+0.j,  1.+0.j,\n",
       "         1.+0.j,  0.+0.j,  0.+0.j],\n",
       "       [ 0.+0.j,  0.+0.j,  0.+0.j, -1.+0.j,  0.+0.j,  0.+0.j,  0.+0.j,\n",
       "         0.+0.j,  0.+0.j,  0.+0.j,  0.+0.j,  0.+0.j,  0.+0.j,  0.+0.j,\n",
       "         0.+0.j, -1.+0.j,  0.+0.j,  0.+0.j,  0.+0.j,  0.+0.j,  1.+0.j,\n",
       "         1.+0.j,  1.+0.j,  0.+0.j],\n",
       "       [ 0.+0.j,  0.+0.j,  0.+0.j,  0.+0.j, -1.+0.j,  0.+0.j,  0.+0.j,\n",
       "         0.+0.j,  0.+0.j,  0.+0.j,  0.+0.j,  0.+0.j,  0.+0.j,  0.+0.j,\n",
       "         0.+0.j,  0.+0.j, -1.+0.j,  0.+0.j,  0.+0.j,  0.+0.j,  0.+0.j,\n",
       "         1.+0.j,  1.+0.j,  1.+0.j],\n",
       "       [ 0.+0.j,  0.+0.j,  0.+0.j,  0.+0.j,  0.+0.j, -1.+0.j,  0.+0.j,\n",
       "         0.+0.j,  0.+0.j,  0.+0.j,  0.+0.j,  0.+0.j,  0.+0.j,  0.+0.j,\n",
       "         0.+0.j,  0.+0.j,  0.+0.j, -1.+0.j,  1.+0.j,  0.+0.j,  0.+0.j,\n",
       "         0.+0.j,  1.+0.j,  1.+0.j]])"
      ]
     },
     "metadata": {},
<<<<<<< HEAD
<<<<<<< HEAD
     "execution_count": 46
>>>>>>> bd567cf (minor change)
=======
     "execution_count": 33
>>>>>>> b33b296 (minor change)
=======
     "execution_count": 23
>>>>>>> 76f5380 (minor change)
    }
   ],
   "metadata": {
    "slideshow": {
     "slide_type": "skip"
    }
   }
  },
  {
   "cell_type": "code",
   "execution_count": 6,
   "source": [
    "FHM.hopping_matrix()"
   ],
   "outputs": [
    {
     "output_type": "execute_result",
     "data": {
      "text/plain": [
       "array([[ 0.+0.j,  1.+0.j, -1.+0.j,  0.+0.j,  0.+0.j,  0.+0.j],\n",
       "       [ 1.+0.j,  0.+0.j,  0.+0.j,  0.+0.j,  0.+0.j,  0.+0.j],\n",
       "       [-1.+0.j,  0.+0.j,  0.+0.j,  2.+0.j, -1.+0.j, -1.+0.j],\n",
       "       [ 0.+0.j,  0.+0.j,  2.+0.j,  0.+0.j,  0.+0.j,  0.+0.j],\n",
       "       [ 0.+0.j,  0.+0.j, -1.+0.j,  0.+0.j,  3.+0.j,  0.+0.j],\n",
       "       [ 0.+0.j,  0.+0.j, -1.+0.j,  0.+0.j,  0.+0.j,  0.+0.j]])"
      ]
     },
     "metadata": {},
     "execution_count": 6
    }
   ],
   "metadata": {}
  },
  {
   "cell_type": "markdown",
   "source": [
<<<<<<< HEAD


    "## ***The FHM from parameters(hopping matrix and on-site interaction)***"
   ],
   "metadata": {
    "slideshow": {
     "slide_type": "slide"
    }
   }
  },
  {
   "cell_type": "code",
<<<<<<< HEAD
<<<<<<< HEAD
   "execution_count": 34,
=======
   "execution_count": 47,
>>>>>>> bd567cf (minor change)
=======
   "execution_count": 34,
>>>>>>> b33b296 (minor change)
   "source": [
    "hopping_matrix = np.array([\n",
    "    [1. , -1. + 1.j, -5.+5.j], \n",
    "    [-1.-1.j, 2., 1.], \n",
    "    [-5.-5.j, 1., 2.]\n",
    "])\n",
    "\n",
    "onsite_interaction = 2.0\n",
    "\n",
    "FHM = FermiHubbard.from_parameters(\n",
    "    hopping_matrix=hopping_matrix,\n",
    "    onsite_interaction=onsite_interaction\n",
    ")\n",
    "\n",
    "ham = FHM.hamiltonian()\n",
    "print(ham)"
   ],
   "outputs": [
    {
     "output_type": "stream",
     "name": "stdout",
     "text": [
      "  +_0 -_0 * (1+0j)\n",
      "+ +_0 -_2 * (-1+1j)\n",
      "+ -_0 +_2 * (1+1j)\n",
      "+ +_0 -_4 * (-5+5j)\n",
      "+ -_0 +_4 * (5+5j)\n",
      "+ +_2 -_2 * (2+0j)\n",
      "+ +_2 -_4 * (1+0j)\n",
      "+ -_2 +_4 * (-1+0j)\n",
      "+ +_4 -_4 * (2+0j)\n",
      "+ +_1 -_1 * (1+0j)\n",
      "+ +_1 -_3 * (-1+1j)\n",
      "+ -_1 +_3 * (1+1j)\n",
      "+ +_1 -_5 * (-5+5j)\n",
      "+ -_1 +_5 * (5+5j)\n",
      "+ +_3 -_3 * (2+0j)\n",
      "+ +_3 -_5 * (1+0j)\n",
      "+ -_3 +_5 * (-1+0j)\n",
      "+ +_5 -_5 * (2+0j)\n",
      "+ +_0 -_0 +_1 -_1 * (2+0j)\n",
      "+ +_2 -_2 +_3 -_3 * (2+0j)\n",
      "+ +_4 -_4 +_5 -_5 * (2+0j)\n"
     ]
    }
   ],
   "metadata": {
    "slideshow": {
     "slide_type": "subslide"
    }
   }
  },
  {
   "cell_type": "code",
   "execution_count": 18,
=======
    "# **One-dimensional case**"
=======
    "# **One-dimensional case(open boundary condition)**"
>>>>>>> 8cd6705 (update)
   ],
   "metadata": {}
  },
  {
   "cell_type": "code",



   "execution_count": 6,
>>>>>>> 4d53371 (add files and edit them)
=======
   "execution_count": 14,
>>>>>>> 8cd6705 (update)
=======
   "execution_count": 6,
>>>>>>> 65507fc (update)
=======
   "execution_count": 7,
>>>>>>> 540e228 (minor change)
   "source": [
    "lattice_points = 4\n",
    "t = -1.0\n",
    "onsite_potential = 1.0\n",


    "one_dim_lattice = lattice.LineLattice(\n",
    "    num_nodes=lattice_points,\n",
    "    edge_parameter=t,\n",
    "    onsite_parameter=onsite_potential,\n",
    "    boundary_condition=\"periodic\"\n",
=======
    "one_dim_lattice = lattice.Line(\n",
=======
    "one_dim_lattice = lattice.LineLattice(\n",
>>>>>>> c8a0692 (minor change)
    "    num_nodes=lattice_points,\n",
    "    edge_parameter=t,\n",
    "    onsite_parameter=onsite_potential,\n",
    "    boundary_condition=\"open\"\n",
>>>>>>> 4d53371 (add files and edit them)
    ")"
   ],
   "outputs": [],
   "metadata": {}
  },
  {
   "cell_type": "markdown",
   "source": [
    "## **visualization**"
=======
    "## visualization"
=======
    "## **visualization**"
   ],
   "metadata": {}
  },
  {
   "cell_type": "code",

   "execution_count": 12,
   "execution_count": 7,
>>>>>>> 4d53371 (add files and edit them)
=======
   "execution_count": 15,
>>>>>>> 8cd6705 (update)
=======
   "execution_count": 7,
>>>>>>> 65507fc (update)
=======
   "execution_count": 8,
>>>>>>> 540e228 (minor change)
   "source": [
    "pos = {0:[0, 0], 1:[1, 0], 2:[2, 0], 3:[3, 0]}\n",
    "one_dim_lattice.draw(pos=pos, with_labels=True)"
   ],
   "outputs": [
    {
     "output_type": "display_data",
     "data": {
      "text/plain": [
       "<Figure size 432x288 with 1 Axes>"
      ],




      "image/png": "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"
=======
      "image/png": "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"
>>>>>>> 8cd6705 (update)
=======
      "image/png": "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"
>>>>>>> 65507fc (update)
=======
      "image/png": "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"
>>>>>>> 540e228 (minor change)
=======
       "array([[ 0.+0.j, -1.+0.j, -1.+0.j,  0.+0.j,  0.+0.j,  0.+0.j],\n",
       "       [-1.+0.j,  0.+0.j,  0.+0.j,  0.+0.j,  0.+0.j,  0.+0.j],\n",
       "       [-1.+0.j,  0.+0.j,  0.+0.j,  2.+0.j, -1.+0.j, -1.+0.j],\n",
       "       [ 0.+0.j,  0.+0.j,  2.+0.j,  0.+0.j,  0.+0.j,  0.+0.j],\n",
       "       [ 0.+0.j,  0.+0.j, -1.+0.j,  0.+0.j,  3.+0.j,  0.+0.j],\n",
       "       [ 0.+0.j,  0.+0.j, -1.+0.j,  0.+0.j,  0.+0.j,  0.+0.j]])"
      ]
>>>>>>> 0d53e0c (minor change)
     },
     "metadata": {}
    }
   ],
   "metadata": {}
  },
  {
   "cell_type": "markdown",
   "source": [


    "## **Fermi-Hubbard model**"
=======
    "## hopping matrix"
>>>>>>> 4d53371 (add files and edit them)
=======
    "## **Fermi-Hubbard model**"
>>>>>>> 8cd6705 (update)
   ],
   "metadata": {}
  },
  {
   "cell_type": "code",


   "execution_count": 13,
   "source": [
    "FHM = FermiHubbard(\n",
    "    one_dim_lattice,\n",
    "    onsite_interaction\n",
    ")\n",
    "\n",
    "FHM.hamiltonian()"
   ],
   "outputs": [
    {
     "output_type": "execute_result",
     "data": {
      "text/plain": [

       "FermionicOp([('+_0 -_2', (-1+0j)), ('-_0 +_2', (1+0j)), ('+_2 -_4', (-1+0j)), ('-_2 +_4', (1+0j)), ('+_4 -_6', (-1+0j)), ('-_4 +_6', (1+0j)), ('+_0 -_6', (-1+0j)), ('-_0 +_6', (1+0j)), ('+_0 -_0', (1+0j)), ('+_2 -_2', (1+0j)), ('+_4 -_4', (1+0j)), ('+_6 -_6', (1+0j)), ('+_1 -_3', (-1+0j)), ('-_1 +_3', (1+0j)), ('+_3 -_5', (-1+0j)), ('-_3 +_5', (1+0j)), ('+_5 -_7', (-1+0j)), ('-_5 +_7', (1+0j)), ('+_1 -_7', (-1+0j)), ('-_1 +_7', (1+0j)), ('+_1 -_1', (1+0j)), ('+_3 -_3', (1+0j)), ('+_5 -_5', (1+0j)), ('+_7 -_7', (1+0j)), ('+_0 -_0 +_1 -_1', (5+0j)), ('+_2 -_2 +_3 -_3', (5+0j)), ('+_4 -_4 +_5 -_5', (5+0j)), ('+_6 -_6 +_7 -_7', (5+0j))], register_length=8)"
      ]
     },
     "metadata": {},
     "execution_count": 13
=======
    "ham = FHM.hamiltonian()\n",
    "ham.set_label_display_mode(\"sparse\")\n",
    "print(ham)"
=======
   "cell_type": "code",
   "execution_count": 1,
   "source": [
    "import lattice\n",

    "import hamiltonian\n",

    "import retworkx"
>>>>>>> a2a00fb (add files and edit them)
=======
    "## ***Triangular lattice***"
>>>>>>> 76f5380 (minor change)
   ],
   "outputs": [
    {
     "output_type": "stream",

     "name": "stdout",
     "text": [
      "  +_0 -_2 * (-1+0j)\n",
      "+ -_0 +_2 * (1+0j)\n",
      "+ +_0 -_4 * (-1+0j)\n",
      "+ -_0 +_4 * (1+0j)\n",
      "+ +_4 -_6 * (2+0j)\n",
      "+ -_4 +_6 * (-2+0j)\n",
      "+ +_4 -_8 * (-1+0j)\n",
      "+ -_4 +_8 * (1+0j)\n",
      "+ +_8 -_8 * (3+0j)\n",
      "+ +_4 -_10 * (-1+0j)\n",
      "+ -_4 +_10 * (1+0j)\n",
      "+ +_1 -_3 * (-1+0j)\n",
      "+ -_1 +_3 * (1+0j)\n",
      "+ +_1 -_5 * (-1+0j)\n",
      "+ -_1 +_5 * (1+0j)\n",
      "+ +_5 -_7 * (2+0j)\n",
      "+ -_5 +_7 * (-2+0j)\n",
      "+ +_5 -_9 * (-1+0j)\n",
      "+ -_5 +_9 * (1+0j)\n",
      "+ +_9 -_9 * (3+0j)\n",
      "+ +_5 -_11 * (-1+0j)\n",
      "+ -_5 +_11 * (1+0j)\n",
      "+ +_0 -_0 +_1 -_1 * (2+0j)\n",
      "+ +_2 -_2 +_3 -_3 * (2+0j)\n",
      "+ +_4 -_4 +_5 -_5 * (2+0j)\n",
      "+ +_6 -_6 +_7 -_7 * (2+0j)\n",
      "+ +_8 -_8 +_9 -_9 * (2+0j)\n",
      "+ +_10 -_10 +_11 -_11 * (2+0j)\n"
     ]
>>>>>>> 0d53e0c (minor change)
=======
     "name": "stderr",
     "text": [
      "/Users/kensuketamura/.pyenv/versions/3.9.6/lib/python3.9/site-packages/pandas/compat/__init__.py:124: UserWarning: Could not import the lzma module. Your installed Python is incomplete. Attempting to use lzma compression will result in a RuntimeError.\n",
      "  warnings.warn(msg)\n"
     ]
>>>>>>> a2a00fb (add files and edit them)
    }
=======
=======
    "from hamiltonian import FermiHubbard\n",
>>>>>>> 580bca3 (update)
    "import retworkx\n",
    "import numpy as np"
>>>>>>> 192d8a1 (minor change)
   ],
   "outputs": [],
   "metadata": {}
  },
  {
   "cell_type": "code",
   "execution_count": 29,
   "source": [
    "class test:\n",
    "    def __init__(self, a:int, b:float) -> None:\n",
    "        self.a = a\n",
    "        self.b = b\n",
    "t = test(1.2, 3)\n"
   ],
   "outputs": [],
   "metadata": {}
  },
  {
   "cell_type": "code",
<<<<<<< HEAD
<<<<<<< HEAD

   "execution_count": 14,
   "source": [
    "FHM.hopping_matrix()"
   "source": [
    "onsite_interaction = 5.0\n",
    "FHM = FermiHubbard(\n",
    "    one_dim_lattice,\n",
    "    onsite_interaction\n",
    ")\n",
    "FHM.hamiltonian()"
>>>>>>> 8cd6705 (update)
   ],
   "outputs": [
    {
     "output_type": "execute_result",
     "data": {
      "text/plain": [

       "array([[ 1.+0.j, -1.+0.j,  0.+0.j, -1.+0.j],\n",
       "       [-1.+0.j,  1.+0.j, -1.+0.j,  0.+0.j],\n",
       "       [ 0.+0.j, -1.+0.j,  1.+0.j, -1.+0.j],\n",
       "       [-1.+0.j,  0.+0.j, -1.+0.j,  1.+0.j]])"
      ]
     },
     "metadata": {},
     "execution_count": 14
=======
       "array([[ 1., -1.,  0.,  0.],\n",
       "       [-1.,  1., -1.,  0.],\n",
       "       [ 0., -1.,  1., -1.],\n",
       "       [ 0.,  0., -1.,  1.]])"
      ]
     },
     "metadata": {},
     "execution_count": 8
>>>>>>> 4d53371 (add files and edit them)
=======
       "FermionicOp([('+I-IIIII', (-1+0j)), ('-I+IIIII', (1+0j)), ('II+I-III', (-1+0j)), ('II-I+III', (1+0j)), ('IIII+I-I', (-1+0j)), ('IIII-I+I', (1+0j)), ('NIIIIIII', (1+0j)), ('IINIIIII', (1+0j)), ('IIIINIII', (1+0j)), ('IIIIIINI', (1+0j)), ('I+I-IIII', (-1+0j)), ('I-I+IIII', (1+0j)), ('III+I-II', (-1+0j)), ('III-I+II', (1+0j)), ('IIIII+I-', (-1+0j)), ('IIIII-I+', (1+0j)), ('INIIIIII', (1+0j)), ('IIINIIII', (1+0j)), ('IIIIINII', (1+0j)), ('IIIIIIIN', (1+0j)), ('NNIIIIII', (5+0j)), ('IINNIIII', (5+0j)), ('IIIINNII', (5+0j)), ('IIIIIINN', (5+0j))])"
      ]
     },
     "metadata": {},


     "execution_count": 16
>>>>>>> 8cd6705 (update)
=======
     "execution_count": 8
>>>>>>> 65507fc (update)
=======
     "execution_count": 9
>>>>>>> 540e228 (minor change)
    }
=======
   "cell_type": "markdown",
   "source": [
    "# **General Lattice**"
>>>>>>> a2a00fb (add files and edit them)
=======
   "execution_count": 2,
   "source": [
    "graph = retworkx.PyGraph(multigraph=False)\n",
    "graph.add_nodes_from(range(6))\n",
    "weighted_edge_list = [(0, 1, 1.0), (0, 2, -1.0), (2, 3, 2.0), (4, 2, -1.0), (4, 4, 3.0), (2, 5, -1.0)]\n",
    "graph.add_edges_from(weighted_edge_list)\n",
    "graph.add_edge(0, 1, -1.0)\n",
    "list(graph.weighted_edge_list())\n",
    "general_lattice = lattice.Lattice(graph)"
>>>>>>> dba00ce (minor change)
   ],
   "outputs": [],
   "metadata": {}
  },
  {

   "cell_type": "markdown",
   "source": [

    "# **Square lattice**"
   ],
   "metadata": {}
  },
  {
   "cell_type": "code",
   "execution_count": 15,
=======
   "execution_count": 24,
>>>>>>> 76f5380 (minor change)
   "source": [
    "rows = 6\n",
    "cols = 4\n",
    "edge_parameter = (1.0, 2.0, 3.0)\n",
    "onsite_parameter = 1.0\n",
    "triangular = TriangularLattice(\n",
    "    rows=rows,\n",
    "    cols=cols,\n",
    "    edge_parameter=edge_parameter,\n",
    "    onsite_parameter=onsite_parameter,\n",
    "    boundary_condition=\"periodic\"\n",
    ")"
   ],
   "metadata": {}
  },
  {
   "cell_type": "code",
   "execution_count": 25,
   "source": [
    "pos = dict([(index, indextocoord(index, [rows, cols], distortion=0.2)) for index in range(np.prod([rows, cols]))])\n",
    "triangular.draw(self_loop=False, with_labels=True, pos=pos)"
   ],
   "outputs": [
    {
     "output_type": "display_data",
     "data": {
      "text/plain": [
       "<Figure size 432x288 with 1 Axes>"
      ],
<<<<<<< HEAD


      "image/png": "iVBORw0KGgoAAAANSUhEUgAAAb4AAAEuCAYAAADx63eqAAAAOXRFWHRTb2Z0d2FyZQBNYXRwbG90bGliIHZlcnNpb24zLjQuMiwgaHR0cHM6Ly9tYXRwbG90bGliLm9yZy8rg+JYAAAACXBIWXMAAAsTAAALEwEAmpwYAAAxEElEQVR4nO3deVxU9f4/8Nds7CA7KCCmKOSK4lAuJWqWmUsLXS01q9tidn837eatm1paaXa95k3T1qstLnWvlYX6LbNcylJQkTRFRUVBEJFVlhmYmc/vDy8owmxeZ+bMnNfz8eDxiHM+Zx7vXp3Oa2aYRSGEECAiIpIJpasHICIiciYWHxERyQqLj4iIZIXFR0REssLiIyIiWWHxERGRrLD4iIhIVlh8REQkKyw+IiKSFRYfERHJCouPiIhkhcVHRESywuIjIiJZYfEREZGssPiIiEhWWHxERCQrLD4iIpIVFh8REcmK2xTfyZMn8cYbb8DHxwdPPfUUfvzxRxiNRleP5VEqKiqwcuVK9OzZE0OGDMG6detQU1Pj6rE8SkNDAzZu3Ig//OEPiIqKwtKlS1FUVOTqsTyKEAJZWVmYNWsWFAoF5s6di4MHD7p6LI+Tn5+PRYsWwd/fH4899hi2bt3qNtdkyRefEAKvv/46UlNTkZ+fjwceeAARERGYMWMGhg4ditLSUleP6BG2bNmCpKQkbNq0CbfddhtuvvlmfPLJJ+jevTv27t3r6vE8wsmTJ5GSkoLXX38diYmJuPvuu7F//3706tULq1atcvV4HqGurg4PPPAAJkyYAACYOHEiamtrceedd+Kpp55CY2Ojiyd0f0IILF68GP3790deXh4mTJiADh064K9//StuvfVWnDt3ztUjWickzGQyicmTJwutVisKCwtb7DMajWLWrFmiU6dO4sSJEy6a0DN88MEHIjo6WuzcubPVvi+//FKEh4eLjIwMF0zmOfbu3SuioqLEsmXLhMlkarHvyJEjomvXruLFF1900XSeoaKiQvTt21dMnjxZ1NfXt9hXVVUlRo8eLdLS0oROp3PRhJ7hscceE3379hWnT59usd1oNIq5c+eKuLg4cezYMRdNZxtJF9+mTZtE9+7dRV1dndk18+bNE3/4wx+cOJVnKSkpEaGhoeLo0aNm1+zYsUPExcW1upiQbUwmkxgwYIBYuXKl2TVlZWUiKipKHDhwwImTeZYXX3xRTJ48udUdiyYGg0GMHDlSLF261MmTeY6tW7eKrl27itraWrNrXn/9dXH33Xc7cSr7Sbb4jEajSE5OFl988YXFdTU1NSI6Olrs37/fSZN5lhkzZoinn37a6rqxY8eKJUuWOH4gD5SRkSF69uwpjEajxXVLliwRY8aMcdJUnuXcuXMiNDS01aOQq2VnZ4vo6GhRU1PjpMk8h8lkEqmpqWLdunUW19XV1YmYmBixZ88eJ01mP8kW37///W+RkpJi9t7blZYuXSpGjRrlhKk8S0FBgQgNDRVFRUVW1+bk5IioqChRXV3thMk8h9FoFL179xYbNmywura+vl7ExcWJX3/91QmTeZZnnnlG/PnPf7Zp7fjx48X8+fMdPJHn2bBhg+jdu7fVO3BCCPHuu++K2267zQlTXRvJFt/YsWPFmjVrbFqr0+lEQECAKC8vd/BUnuWf//yn+OMf/2jz+ttvv93qI3BqKScnR3Tp0sWmO3BCCLFw4ULxpz/9ycFTeRaTySTCw8NFfn6+TeszMzNF9+7dHTyV50lPTxerVq2yaW1DQ4MIDg4WJSUljh3qGknyVZ1CCGRmZmLgwIE2rff29ka/fv346kM7ZWVl2ZwxAAwcOBBZWVkOnMjzZGVlYcCAAVAoFDatHzBgADO2U35+Pry8vBAfH2/T+uTkZOTn5+PixYsOnsyz2HO90Gg06N+/v2TPZUkW39mzZ2E0Gm0+kQEgNTUVmZmZDpzK82RmZiI1NdXm9Vqtlhnbyd6M+/Xrh4MHD6KhocGBU3kWezPWaDTo06cP9u3b58CpPMv58+dRWVmJhIQEm4+R8jVZksWXlZUFrVZr871k4NJFWar3LqSooqICxcXFuPHGG20+RqvVYt++fTCZTA6czLM0ncu2CggIQOfOnfmGazvYmzHA64W9srKy0L9/fyiVtleGlO8oS7L4Tp8+bdc9CwBISEhAfn6+YwbyQAUFBejUqRNUKpXNx0REREAIgaqqKgdO5ll4LjseM3a8M2fOXFPGp0+fdtBE/xtJFh8Aux7tAbDrnghdYm/GAHO+FjyXHY8ZO54nZSzdyYiIiByAxUdERLIiyeLz9vZGbW2tXcfU1NTAx8fHQRN5nmvJ2Gg0Qq/Xw8vLy0FTeR6ey47HjB3vWjP29vZ20ET/G7WrB2hLcnIyPvzwwxbbLtTosX5fIXLPVaNaZ0CQjxpJ0UG4PyUWYQHe2L9/P5KTk10zsBvq0qULSkpKUFFRgZCQEADWMz58+DBiY2Ph7+/v4undR3JyMvbv34+OHTsCsJ6xEILnsp2aMn744YcBWM8YAPbv34/Ro0e7cGr30qdPH7z55psttrnzNVmyxXfkyBHodDocLdVh+fY87Dh26euH9IbLL6X3UZ/Dkq3HkJYYgXMH8jBusO3v5ZE7tVrd/Kb/yCStTRnHVh+26/1SdPm9TDekpNmU8d1d/eDl5YWYmBhXjex2UlNTsX79euQUVNqU8bQhCcjMzMQrr7ziqpHdTq9evXDq1CnU1NTgRIXBppzL9h/HcIleLyRZfL6+vkhKSsKir37F2iN66AxGCNF6ne6/gW85XAIRNhQD20U5eVL3lpqaio93ncC+n4w2ZawwtUNa9+FOntK9abVazF39A776YLdNGf94WOCGEZOdPKV769evH46LaIz/4FfoDSarGe84Wora9v3QtWtXJ0/qvry8vNCrVy8s+mo3/n3cYNs1ud1g9AsLc/KktpHk3/gAIDbtAXz020XUN7Yd8JWEAKD2wqqcKqzene+M8TyCotut+LkuyuaMTQo1dtVFMmM7FHh3wvmYwTZn3CgUONd+EDO2w4ZDFxA4ZAp0jW2X3pWEuHRx9h88GWszzzhnQA/R/tbxWP17nV3X5E8O1UryXJbkI76cgkrsPnwSVTnvo6E0H/43DkH46BnN++vzD6B8y7swVpfCq0M3hN81A+p2kdA1mjB/cy56xwajd2yw6/4F3EBOQSUyCjWoPrAZtQd/aJWzMDbiwjeLoC/Og7H6PKIeWACf+N7QG8GMbZRTUIm3dhbg4m9b2sxYfzYXlT+tRsO5PEChhE/HXggZ8SQQEMqMbZRTUIn5m3NRfeC7NjNuuHAGZRvfhKGiGADgFZ2AkBFPwiu8IzO2Q05BJXb9dgxVOSvavCY3qfx5Hap+XoPICa/Bt1OyZK/JknzEt3x7HuAfinYDxyOg94gW+4x1VSj9agGCb52EuOnr4B3dFaVfv9G8X2cwYsX2PGeP7HaWb8+D3mCCOiCszZwBwDu2B8LH/AUq/5AW25mxbZZvz4POYDSbsUlXg4DkkYh5aiVipq2EwssXZZv+CYAZ28paxuqAUETc/TfETv8Msc+shW/Xm3Dh678DYMb2sHRNbtJYUYy6oz9DFRDaYrsUc5Zc8V2o0WPHsVL4dRsIv24DoPQNarG/7tiv8ArvCP+kwVCovdBu8INoPH8KjWUFAC49xN52tBRlNXpXjO8WmjIWAvBLbDtnhUqDIO04+MT1AK76BAZmbJ0tGft26Q//pMFQevtBqfFBYMpo6M8eAcCMbWFLxkqfAKiDo5o/dUShUDY/+mPGtrF2TW5SvuUdhKQ9DChbPpEoxZwlV3zr9xVa3N9YehqayBuaf1d6+UAdHI2G0svP1ysArN9v+XbkzFrGtmDGll1LxvqC36EJ79j8OzO2zJ6MzywZjzOL7kH59+8haMD9zduZsXW25Fyb+zMUKg18u7T9YeFSy1lyf+PLPVfd4uWxVzM16qDya9dim9LbH6Khvvl3ncGEN95bjSVPrHPYnO4sctxM6JXR/9NtMGPLlIMehT6yh83rG86fQtWudYi4b3bzNmZsWWP/B2GMS7FpbccZn8PUoEPtoR+gCops3s6MrUt65HXoDeY/tMKkr0Pljo8RNf41s2t0BhNyi6Xz/YeSK75qncHifqXGByZ9XYttpoY6KLx8W2zTDrwV8+aMv+7zeYL5P5fjzImK//l2mLF5r+woxS/51Tatbawowvl/v4yQ256AT1zPFvuYsXkv/3gOewps/zQRpZcPAvreicK3JsL78Xeg8g8GwIytWfhLJVBZZnZ/5c9r4d9jGNTBlt9OVq1rvM6TXTvJFV+Qj+WRNBHxqD34Q/PvpgYdDBXn4BXRscW6DuEhSEpKcsiM7i4sJxvA/158zNi8yJx6ANaLz1B1HiXrZqPdoAkI6Dms1X5mbF77nHrAjuIDAAgBYdDDeLGsufiYsWXBOdkW9+tO58B4sQwXszcBAEx11biwYSGCbk5Hu5vTm9cF+WgcOqc9JFd8SdFB8Fafg66hETAZL/0IE4ShAVCq4NdtACq2rURt7i74JWhRtWsdNJGdoAmLa74NH7USSe0DXfhvIW1NGesNJoimjK/KWaFUQRgaAVx6w44wGS7tU2mgUCiYsRW2ZGysrUDJuhcRmDIagX1HtboNZmyZLRnrTv8GlW8QNJGdIBr1qNz5KZQ+AdCEX7peMGPrrF2Tox6YDxiNzeuLP56BkOGPwbfz5aehpZazQghrb0V0rgs1egx640eUbPsUVbtaPu/ebtADCL5l4hXv4zsPr/b/fR/fFQ+zvdVK/PL8sObP5aOWmjLWG0yo/GmN2ZwLVzwKY/X5Fvtipv4L6uAoZmyFLRlDoUDVz2uh0LT8sOSOf1kPgOexNbZkrImIR+XO1TBevACF2gveHboheMgUeP33BXLM2DpbrslXKlzxKMJG/Rm+nZKbt0ktZ8kVHwA88elefH+kxOqnA7RFoQDu6B6Fdyf1v/6DeRBm7HjM2PGYsXN4Ws6SezsDADydlgAfteqajvVRqzAtLeE6T+R5mLHjMWPHY8bO4Wk5S7L4+sQFY9aoJPhq7BvPV6PErFFJkvpoHKlixo7HjB2PGTuHp+UsuRe3NJl0cycAlz4X0twngTdRKC7dq5g1Kqn5OLKOGTseM3Y8ZuwcnpSzJP/Gd6XfCiuxYnseth0thQKXv/YCuPRKIQFgaGIEpqUlSO5ehbtgxo7HjB2PGTuHJ+Qs+eJrUlajx/r9hfjHh+vQp/8AxEWFIal9INL7xUrmlULurinj1Ru3QeUbiL7dE5nxddaU8dasI8g9eRq33TqIGV9nTRkfKqjA+m82YcK945ixAzTlvGTl5+jRV4uO0RFuk7PbFF+T5ORkfPTRR5L9SntP8OyzzyI2NhbPPvusq0fxWBkZGXj//feRkZHh6lE8Vm1tLSIjI1Fba+eb3MkuqampePvtt5Eq0W9bb4skX9xCRETkKCw+IiKSFRYfERHJCouPiIhkhcVHRESywuIjIiJZYfEREZGssPiIiEhWWHxERCQrLD4iIpIVFh8REckKi4+IiGSFxUdERLLC4iMiIllh8RERkayw+IiISFZYfEREJCssPiIikhUWHxERyQqLj4iIZIXFR0REssLiIyIiWWHxERGRrLD4iIhIVlh8REQkKyw+IiKSFRYfERHJCouPiIhkhcVHRESywuIjIiJZYfEREZGssPiIiEhWWHxERCQrLD4iIpIVFh8REckKi4+IiGSFxUdERLLC4iMiIllh8RERkayw+IiISFZYfEREJCssPiIikhUWHxERyQqLj4iIZIXFR0REssLiIyIiWWHxERGRrLD4iIhIVlh8REQkKyw+IiKSFRYfERHJCouPiIhkhcVHRESywuIjIiJZYfEREZGssPiIiEhWWHxERCQrLD4iIpIVFh8REckKi4+IiGSFxUdERLLC4iMiIllh8RERkayw+IiISFZYfEREJCssPiIikhUWHxERyQqLj4iIZIXFR0REssLiIyIiWWHxERGRrLD4iIhIVlh8REQkKyw+IiKSFRYfERHJCouPiIhkhcVHRESywuIjIiJZYfEREZG8CDdgMpnEpk2bxEMPPSQAiF69eolly5aJ8vJyV4/mUXJycsRf/vIXAUAolUoxe/Zscfz4cVeP5VGKiorEG2+8IaKiogQA8eSTT4qdO3e6eiyPUldXJz766CMxevRoAUDcf//9Yt26daKhocHVo3kMk8kkvv32W/Hwww8LACIxMVG89dZboqyszNWj2UTyj/jq6+sxefJkzJw5E/3790d8fDymTJmCn3/+GSkpKTh48KCrR3R7QggsXboUt99+O3x9fTFmzBhMmTIFdXV1GDBgAD7//HNXj+gRdu7ciX79+uH48eP44x//iJSUFHTu3BmTJ0/Gc889B6PR6OoR3V5hYSFuueUWrFmzBvfccw+8vLxw5513YtmyZRg5ciTKyspcPaLb0+v1ePTRRzF9+nQkJyejS5cuePTRR7Fnzx7069cPBw4ccPWI1rm6eS1pbGwUAwcOFOPHjxe1tbVCCCH69OkjsrOzhRBCrF69WoSHh4usrCwXTun+/va3v4mePXuKkydPCiGEmDFjhli8eLEQQojs7GwRHx8vli9f7soR3d6mTZtEZGSk+O6774QQQnzzzTdi9OjRQgghLly4IIYNGybS09NdOaLbKygoEB06dBALFy4UJpNJ1NTUCD8/PyGEEAaDQcycOVN06dJFVFRUuHZQN2Y0GkVaWpq47777xMWLF4UQQmi1WrFnzx4hhBCfffaZCA8PF7/88osrx7RK0sW3atUqccsttwiTydS87criE0KIDz/8UAwZMqTFGrLd8ePHRVhYmCgtLW3edmXxCSHE0aNHRXh4OJ9avkaNjY2iW7duzaUnRMviE0IIvV4vEhISxNatW10xokd47LHHxPPPP9/8+5XF1+SRRx4Rs2fPdvZoHmPt2rXi5ptvFkajsXnblcUnhBCffPKJGDhwoKSvyZJ9qlOv12Pu3LlYsGABFAqF2XVTpkxBcXExtm7d6sTpPMfcuXPxzDPPIDw83Oyabt264e6778aiRYucOJnn+OSTTxATE4MRI0aYXePl5YVXXnkFs2bNghDCidN5huPHj2PDhg14/vnnLa57+eWXsWLFCpw/f95Jk3mOxsZGvPTSS1iwYAGUSvPV8eCDD6KqqgqbN2924nT2kWzx/etf/0KPHj0wePBgi+vUajVeffVVzJ4920mTeY7Dhw9j69atmD59utW1L730Et577z1eMOzU0NCAefPmYf78+RbvwAHA+PHjUVdXh02bNjlpOs8xd+5czJgxAyEhIRbXxcfHY9KkSVi4cKGTJvMcH3/8MTp16oShQ4daXKdSqfDaa69h9uzZkr0TJ9ni+/rrr/Hkk0/atDY9PR15eXkoLi528FSeJSMjAxMmTEBgYKDVtXFxcRg6dCgfWdvpwIEDCA4OxoABA6yuVSqVePLJJ/H11187YTLPYTQakZGRgSeeeMKm9VOnTmXG18Cea/K4ceNQXFyMgoICB091bSRZfEIIZGVlITU11ab1SqUSWq0WWVlZDp7Ms2RmZuKmm26yeX1qaioyMzMdOJHnYcaOd/ToUURGRlp8uv5KiYmJuHDhAi5cuODgyTyHEMKuc1mhUEj6XJZk8Z04cQKBgYGIjo62+ZjU1FQWn50yMzNtvnMBgHcuroE9d+AAoHfv3sjLy0Ntba0Dp/Is9masVCrRv39/7N2714FTeZaCggIoFArExsbafAyLz06ZmZnQarV2HaPVaiUbshQVFxejrq4OnTt3tvmYlJQUHDhwAI2NjQ6czLPYey57e3ujR48eyM7OduBUnoXXC8drytja36mvJOWMJVl858+fR0xMjF3HxMbGoqSkxEETeZ7S0lJ06NDBrhM5KCgIGo0GNTU1DpzMs/Bcdjxm7HilpaXXlLFUXwwnyeIDYNcF+VrW07Vlxpztx3PZ8Zix43lSxpItPiIiIkdg8RERkayoXT1AWwIDA1FeXt5i24UaPdbvK0Rdn/sx/6cyxBzNRlJ0EO5PiUVYgDfKy8ttej8aXRIQEGA2472aHsiuCsCZz1tmrNfrodPp4Ovr66Kp3U/TuRwWFgbgcsY/HFfidPydmH5VxgB4Ltvp6utFU8aHCivQbszzzPg6sHS9qO5xD974tQpxp9znmqwQEnxr/YEDB/Dggw/i8OHDyCmoxPLtedhxrBQAoDeYmtf5qJUQANISIxBw+heYLpzCkiVLXDS1exFCICwsDIcPH0ZJo49NGQ+J0OONv05DTk6Oi6Z2P/fddx/S09PRffCdNmU89dbOSOt1A06ePNlclmTZ8uXLceDAAfzppUU2ZTxtSALmPP0QHnroIaSnp7toavdy+PBhjBkzBidOnLD5mhxclImL+YewYsUKF01tniQf8fXo0QNnzpzBB9uP4s0fT0FnMKKtetb9N/Ath0ugMMZjdOf2Tp7UfSkUCmi1WryZkYWMAo1NGf8AE7rccr+TJ3VvWq0Wn+8rwtEju23KeHvueYSmjmPp2UGr1eLtb3Pw8we2ZbzjWCkuVvlimZ1vgZCzxMRElJaW4t0fDuOtHWdsvCbH4M6uoU6e1DaS/BufRqNBlzsexqLv81Df2HbAVxICMCnV+O68P1bvznfKjJ6gXcpofHFS2JyxQShxMqgPM7ZDbfu+yFF2tjljvVFA0e8+ZmyH3xtCUZd4h80Z6xpNUGvHY2eR5J7skiyVSoWudz6CN388Zdc1eWtZkCTPZUk+4sspqERNt9thNLXcfm7NC9AXHYVCqQIAqALDEPPEe8379QaB+Ztz0Ts2GL1jg504sfvJKajEAUVnGNs4gWsP70DlrnUwVpdC5R+CsLumwyeuJwCgUSiZsY1yCirxnzwThMqreduZxS2fWhOGBgT2HYXQ26c2bzMp1czYRjkFlfj7ljwoND4tthsqS1C2ZQUazuYCag38Ewch5LYnmq8dCo03FvxfLvrEMWNb5BRUoqrzcBiuuiY3XihA2ZZ30FCSB5VvO4QMfQR+iQOb9+uN0rwmS7L4lm/PgwmqNveF3j4VgX3uMHuszmDEiu15eHdSf0eN5xGWb89DYxulV38qGxXbP0LEuOfh1aEbjDXlrdYwY9ss354H/VX33jr+ZX3zP5sa6lG4bDL8klp/Awkzts3y7XnQGVp/c33ZlhVQ+QUj9v99CpOuFiWfz8bF/ZsQ1H9s8xpmbLvl2/NgvOqaLExGnP/iVQT2vRNRE16F7swhlH7xCtpHxEMTevnN7lLMWXJPdV6o0WPHsVJc65MQQgDbjpairEZ/XefyJM0ZtxFy1c9r0G7QA/COSYJCoYQ6MBzqwJYf/suMrbOUcZO6o79A5dcO3nE9Wu1jxtZZythQVQL/GwdDofaCKiAEvjekoPHCmRZrmLFtzF2TG8sKYKwpR6D2biiUKvh26gPvmO6oPfRji3VSzFlyxbd+X6HF/ZXbP0bBWw/i3KczoTv9W5trFADW77d8O3JmLmNhMkJfnAdTXRXOvvs4CpdPQfmWd2BqbH3CMmPLrJ3HAFBz8Af49xxm9hMumLFlljIO6j8OtYd3wtSog+HiBdSf3AvfG/q1WseMrbPlXL5MoKH0dKutUstZck915p6rbvHy2CuFDH0EmrA4KFQa1B7ZifNfvIr2jyyFJqTlqzl1BhOOFFfDZGr7duTOXMbG2krAZEDd0V2ImvQGFEoVSr94DVW/fI6QIQ+1WMuMLTtSbP48BgBD1XnoCw4hbNSfza5hxpZZytgnridqDnyLgjf/AAgT/HsOh2+31t+JyIytM3e90ITGQuXXDtV7vkCQ9m7ozvwG3ZlD8Inv1WqtzmBCbvFFZ4xrE8kVX7XOYHafd4fE5n8O6DUctYd3oP7EXmj6j2m1du1/vsLSB1IcMqO76zf9fcC79Vs/FJpLb+4NTBkDdcCllyEHau9us/gAZmxJ/OTXgQ49ze6vOfQjvGO7QxNs+au3mLF5kekvwadL67ckCGFCyb9fQmDySERP/gdMjfUo2/QWKrevQsjQR1utX7d+AzO2YPgr6wF4t9quUKkRcd9slH//Hqp3fwGv9gnwv3EwoNK0eTvVOul8q4vknuoM8rGjixUKwMxfAyfefy9MJhN/2vgZfFPb/5OrfAKguurveZY+aJYZm/8ZN+p2i6du7aEfEdBzmOXzmxlb/Jlw37g2MzPVX4SxuhSB/UZDodZA5RuEgN63of5E29+/92D6PS7/d5HyT4+uN5g9P70ib0D0xIWIm74OUeNfhaHyHLzbd2tzbZBP24XoCpIrvqToIHirW49l0tWg/uQ+CEMDhMmImt+3QV9wCL6dW1/EfdRKJLWX5kflSIG5jAEgoNdtuLhvI4y1lTDqalCdtQF+Ca3vVTNjyyxlrCs8AmNNWZuv5rwSM7bMXMYqv3ZQt4vCxezNECYjTLoa1Bz8AZrI1hdwZmydpXO54fwpCEMDTI06VO35EoaaCgT0uq3VOqnlLLmnOtNTYrFk67FW24XJiMqdq9FYXggolNCExSLi3tktXjbbvBZAej/bvylYbsxlDADtBk2Asb4aZ99/Egq1Bv5Jt6DdwPGt1jFjyyxlXHvoB/h1Gwilt5/F22DGllnKOOLeWSjf+j6qd68HlCr4xPdG6PDHWq1jxtZZPpe3oSbnOwiTEd5xPRA14VUo1K0f2UktZ8kVX3iAN4Z0i8D3R0pavExZ5dcO7R+2/jmcCgUwNDGi+cNoqTVzGQOXnrcPu2Mawu6YZvZ4ZmydpYzDRv7J6vHM2DpLGXtFdUb0xIUWj2fGtrGUc8iwRxEyrPXfTa8kxZwl91QnADydlgAfddtvYLfGR63CtLSE6zyR52HGjseMHY8ZO4en5SzJ4usTF4xZo5Lgq7FvPF+NErNGJUnqo3Gkihk7HjN2PGbsHJ6Ws+Se6mwy6eZOAID5m3PNfhJ4E4Xi0r2KWaOSmo8j65ix4zFjx2PGzuFJOUvy+/iu9FthJVZsz8O2o6VQ4PLXXgCXv/tpaGIEpqUlSO5ehbtgxo7HjB2PGTuHJ+Qs+eJrUlajx/r9hVj84Tr00Q5AbGQYktoHIr1frKT+aOrOmjJes3EbVL6BSO6eyIyvs6aMt+49gtyTp3HbLYOY8XXWlPGhwgp88c1mjL9nLDN2gKacl6z8HD36atExOsJtcnab4muSnJyMjz76CMnJya4exWM9++yziI2NxbPPPuvqUTxWRkYG3n//fWRkZLh6FI9VW1uLyMhI1NbWunoUj5aamoq3334bqamprh7FZpJ8cQsREZGjsPiIiEhWWHxERCQrLD4iIpIVFh8REckKi4+IiGSFxUdERLLC4iMiIllh8RERkayw+IiISFZYfEREJCssPiIikhUWHxERyQqLj4iIZIXFR0REssLiIyIiWWHxERGRrLD4iIhIVlh8REQkKyw+IiKSFRYfERHJCouPiIhkhcVHRESywuIjIiJZYfEREZGssPiIiEhWWHxERCQrLD4iIpIVFh8REckKi4+IiGSFxUdERLLC4iMiIllh8RERkayw+IiISFZYfEREJCssPiIikhUWHxERyQqLj4iIZIXFR0REssLiIyIiWWHxERGRrLD4iIhIVlh8REQkKyw+IiKSFRYfERHJCouPiIhkhcVHRESywuIjIiJZYfEREZGssPiIiEhWWHxERCQrLD4iIpIVFh8REckKi4+IiGSFxUdERLLC4iMiIllh8RERkayw+IiISFZYfEREJCssPiIikhUWHxERyQqLj4iIZIXFR0REssLiIyIiWWHxERGRrLD4iIhIVlh8REQkKyw+IiKSFRYfERHJCouPiIhkhcVHRESywuIjIiJZYfEREZGssPiIiEhWWHxERCQrLD4iIpIVFh8REckKi4+IiGSFxUdERLLC4iMiInkRbkCn04lFixaJlJQUAUD4+/uLqVOnitzcXFeP5lH+85//iJEjRwoAAoC45557xJYtW1w9lkfJysoSDz30UHPGgwcPFu+++64wGAyuHs1jFBUViZkzZ4qEhAQBQHTv3l3MmTNHlJeXu3o0j6HX68XixYuFVqsVAISXl5d44oknxO+//+7q0Wwi+Ud8xcXFSEtLw44dO/D3v/8d3bt3x+rVq9GhQwfccsst2Lhxo6tHdHsNDQ2YOnUqXn75ZUyZMgWPP/445syZg9GjR+Oxxx7D3LlzYTKZXD2m21u5ciVGjRqFvn374v3338eIESPwwgsvYM2aNRg3bhyqq6tdPaLby8rKQmpqKhoaGvDJJ5/A19cXq1atwtmzZ3HTTTfhyJEjrh7R7Z0/fx7Dhw/H1q1bsWDBAiQnJ2PNmjWIj49HWloavvrqK1ePaJ2rm9eSmpoaccMNN4hXXnlFmEwmIYQQffr0EdnZ2UIIIX799VfRoUMHsXHjRhdO6f4mTJggxowZI6qqqoQQQsyYMUMsXrxYCCHEuXPnxIABA8TMmTNdOaLbe++990TXrl2bn6X45ptvxOjRo4UQQjQ0NIinnnpKaLVaYTQaXTmmW/vtt99EeHi42LBhgxDi0vXDz8+vef+qVatERESEOHPmjKtGdHv19fWia9euYs6cOc3nqlarFXv27BFCXHpGIzY2Vnz55ZeuHNMqSRffwoULRXp6eottVxafEEJkZGSIHj168Kmia7Rnzx4RExMj6urqmrddWXxCXCq/0NBQkZ+f74oR3V5NTY2Ijo5ucd5eWXxCCGEymURqaqpYu3atCyb0DGPGjBFLlixp/v3q4hNCiBdeeEE8/vjjTp7McyxZskSMHTu2xbYri08IIb777jvRrVs30djY6OzxbCbZpzqrqqqwePFivPLKKxbX3XXXXQgKCsJnn33mpMk8y+zZszFnzhz4+vqaXRMVFYWnnnrK6n8LatvSpUsxZMgQJCcnm12jUCiwYMECvPTSS2hsbHTecB5i9+7dOHDgAKZOnWpx3cyZM/Hll1/i+PHjTprMc1y8eBELFy7Eq6++anHdiBEj0L59e3z66adOmsx+ki2+ZcuWYdSoUbjxxhstrmu6YLz88ssQQjhpOs+wa9cunDhxAo8++qjVtc899xy++eYbnDx50gmTeY7a2lq8+eabmDdvntW1w4cPR8eOHbF27VonTOZZ5s2bhzlz5sDHx8fiutDQUMyYMQOvvfaakybzHO+88w6GDRuG3r17W1ynUCgwf/58zJs3T7KvDZBs8W3ZsgWTJk2yaW1aWhrq6+uRn5/v2KE8zPfff4/x48dDo9FYXRscHIyRI0di27ZtTpjMc+zduxcJCQlITEy0af3EiRPx/fffO3gqz9LQ0ICdO3figQcesGn9xIkTsWXLFt5RtpM91+RBgwZBoVBI9pG1JIvPYDAgOzsb/fv3t/mY1NRUZGZmOnAqz5OZmYnU1FSb12u1WmZsJ3sz5nlsv4MHD6Jz584ICAiwaX18fDyMRiPOnj3r4Mk8h8lkwt69e6HVam0+RsrnsiSL78iRI+jQoQOCg4NtPkar1SIrK8txQ3kYIQQyMzPtPpGZsX2ysrLsyvjGG29EcXExKioqHDiVZ7E3Y4VCweuFnY4fP46QkBBERETYfIyU7yhLsvjsvWcBsPjsdfr0aXh5eSEmJsbmY5KTk5Gbmwu9Xu/AyTyLveeySqVC3759sW/fPgdO5Vl4vXC8vXv32vUMHCDtjCVZfFVVVQgPD7frmIiICFRVVTloIs9TXV1td8Y+Pj7w9vZGXV2dg6byPDyXHY8ZO961XC8iIiIk+6EMkiw+IiIiR2HxERGRrLD4iIhIVtSuHqAt4eHh+OWXX1psu1Cjx/p9hdD1HY/Xd1Wg/dFsJEUH4f6UWIQFeKOoqMju56DlLCwsDEVFRRBCQKFQALic8X7vXsi5GIAzn7fMuKamBnq9Hv7+/i6e3n2Eh4ejqKgIYWFhAC5nvO2ECmduGIXpV2UMgOeynZoybtKU8e9nKxB694vM+Dpoul5cqSnnml7pWLTnImJOuc81WSEk+C7Oo0ePYuTIkTh16hRyCiqxfHsedhwrBQDoDZc/CcBHrYQAkJYYAc2xbQgyVGDBggUumtr9dOjQAbt27UK1OsSmjG8OqsZ7C17E7t27XTSx+5k0aRKGDRuGlBH32pTx44PiMaRnJ5SUlNj8vjS5W7lyJX788UfMfP1tmzKeNiQBzz16P6ZPn4677rrLRVO7l1OnTmHQoEEoKiqy+Zrse+onqCoLsXjxYhdNbZ4kH/F17doVFRUVeGfrISzdWQidwYi26ln338C3HC4BjF1x3w0KJ0/q3lJTU7F0cza+LfGzKeMfhAk3DrjXyVO6N61Wi/U5JViUv9umjLfnliAmbQJLzw5arRbz/70TEz6wLeMdx0pRXhdk91sg5KxTp05oaGjAsm9zsOKXYhuvyTdgXOeOTp7UNpL8G59SqUTXOx/Bm9tOo76x7YCvJAQglBpsPKvB6t35TpnREwQkj8Q3BWqbMzZAiVzf7szYDlURvXHYO8nmjPVGwNBrLDO2Q/bFABh6jrU5Y12jCX4DJ2LLSb4tx1YKhQIJIx/B0p8K7Lom/985X0mey5J8xJdTUImKTsNguOrzTY31F1G2+S3o8rOh9A1CyJAp8O+R1rxfZxCYvzkXvWOD0Ts22Kkzu5ucgkpkGTrCqLh8Blfvy0DtwR/QUJoP/xuHIHz0jFbHNQoFM7ZRTkEl1ubqAJVX8zZhaETZlhXQ5R+ASVcDdXA0QoZMgW+Xy28ONinUzNhGOQWVeP3bo1BovFvtu5DxD+jyc2Bq1EHlH4Kgm+9DYJ87Lu1UezNjO+QUVOJCx1thMLX9rFpj+VkU/etP8E8ahPAxzzVv10v0mizJR3zLt+fB2MZo5VvegUKlQez/W43wMc+hbMsKNJSebrFGZzBixfY8Z43qtpZvz0ODqeXdNnVAGNoNHI+A3iMsHsuMbbN8e16Lv38AgDAZoQ4MR/SDCxE343ME3zoZpV+/AUNlSYt1zNg2y7fnQWcwtrkv6Ob7EfPUSnR89j+ITJ+Dyp2fQn/ucqbM2HbLt+fBaOFb7Mq3vAvv9l3b3CfFnCVXfBdq9NhxrBRXP5I2NehQd/QXBN86CUovX/jE9YBfwk2o/b3ltwUIAWw7WoqyGn6sljnNGV8Vsl/iQPh1GwClb5DF45mxdeYyVnr5IPiWiVAHR0GhUMIvIRXqdlEtLsgAM7aFuYybeEXEQ6Fu+uYRBRRQwFBR3LyfGdvG3DW5Se3hHVD6+MMnvk+b+6WYs+SKb/2+wja3G8rPQqFUQRN6+bMlNZE3oPGqR3wAoACwfn/bt0PmM7YHM7bM1oyNtRVoLD8Lr4jWLwJgxpbZknHZdytw5h/3oeiDqVAFhLZ4ShlgxrawlLNJX4fKn9YgZNhjFm9DajlL7m98ueeqWz09BACmxnoovFt+S7jS2w+mhvpWa3UGE3YfOYOBIfzjdVtyTte2mbE9mLFle/OqrGYsjAZc+OYfCOg1HJqwuFb7mbFle46WWc047I5pCB3xJPRnc6E7cxAKVcvvnmTG1h0q1JvNuXLnpwjoczvUQZbfr6czmJBbfNER410TyRVftc7Q5nalxhdC37LkhL4OSi/fNtfv3L0Xe9/+5LrP5wkC75oJKML+59thxuYZBz0OhHQxu18IEy5sXAyo1AgdMdXsOmZsXr32YSAqyeo6hVIFn7geqP19Gy5mb0ZQ/7Et9v+0Zx/2vv2xg6Z0fzEPvgqg9ZdVN5SchO50Dto/8pZNt1Ota7zOk107yRVfkE/bI6lDYyBMRjSWn21+urPh/CloIuLbXD925AgsWTXTYXO6s+mfZ2PDgSLrC61gxuZZylgIgbLNS2GsrUTk/XOhUJn/35AZm2f3eWwytfgbX5Mxd9yGJSufa+MAAi7lnNtGzrozB2GoKkHhikcAAKJBBwgTii8802YZBvm0Lk9XkVzxJUUHwVt9rtVDa6WXD/wSB6DypzUIu/PPaDh/EnV5exA9aVGr2/BRK5HUPtBZI7sdcxkLkxFo+hEmCEMDoFRBoVS1ug1mbJm5jAGg/LvlaCwrQNSE16Bs42X4TZixZZYyNtZWQnc6B74JqVCovaDLP4DaIzsQPvavLdYxY+vM5RyQfAf8b7y1+ffqzC9hqCpB6B1Pt7oNqeUsuRe3pKfEmt0Xevs0CEMDCpdNxIVvFiHs9mnwauMRnwCQ3s/87ciduYyrdn2GM/+4F9W716P292048497UbXrszbXMmPLzGVsqDqPmgPfoqHkJAqXTcaZxek4szgdNVe9OhlgxtZYulZAocDF7P9D4fKHUfDPCajYthIhwx+HX9ebWixjxtaZy1mp8YEqIKT5R6HxgULtBZVfu1ZrpZaz5B7xhQd4Y0i3CHx/pKTVy5RVvoGIvG+2xeMVCmBoYkTzh9FSa+YyDr5lIoJvmWj1eGZsnbmM1e0iEf/CRqvHM2PrLF4r/NoheuJCi8czY9tYyvlK5q4dUsxZco/4AODptAT4qFs/vWYLH7UK09ISrvNEnocZOx4zdjxm7ByelrMki69PXDBmjUqCr8a+8Xw1SswalSSpj8aRKmbseMzY8Zixc3hazpJ7qrPJpJs7AQDmb841+0ngTRSKS/cqZo1Kaj6OrGPGjseMHY8ZO4cn5SzJ7+O70m+FlVixPQ/bjpZCgctfewFc/u6noYkRmJaWILl7Fe6CGTseM3Y8ZuwcnpCz5IuvSVmNHuv3FyK3+CKqdY0I8tEgqX0g0vvFSuqPpu6MGTseM3Y8Zuwc7pyz2xQfERHR9SDJF7cQERE5CouPiIhkhcVHRESywuIjIiJZYfEREZGssPiIiEhWWHxERCQrLD4iIpIVFh8REckKi4+IiGSFxUdERLLC4iMiIllh8RERkayw+IiISFZYfEREJCssPiIikhUWHxERyQqLj4iIZIXFR0REssLiIyIiWWHxERGRrPx/dM/GxCV3j9cAAAAASUVORK5CYII="
=======
      "image/png": "iVBORw0KGgoAAAANSUhEUgAAAb4AAAEuCAYAAADx63eqAAAAOXRFWHRTb2Z0d2FyZQBNYXRwbG90bGliIHZlcnNpb24zLjQuMiwgaHR0cHM6Ly9tYXRwbG90bGliLm9yZy8rg+JYAAAACXBIWXMAAAsTAAALEwEAmpwYAAAbuUlEQVR4nO3de3BU95nm8adv6m4hCRkQoCCMN5GNwGNIgePA2AZhPODSTCaVDUzImGTGTgoTcGa9SXbtLTxVVK3ZHVdc8WUXYjYV25NAxlRk767HIbYBI+FMjA0YQ0wQjOxBRoBAEghdULf6cvYPVrLlbl055/RP3d9Plaqs7nMOr1w0j97f5RyPZVmWAADIEd5MFwAAgJsIPgBATiH4AAA5heADAOQUgg8AkFMIPgBATiH4AAA5heADAOQUgg8AkFMIPgBATiH4AAA5heADAOQUgg8AkFMIPgBATiH4AAA5heADAOQUgg8AkFMIPgBATiH4AAA5heADAOQUgg8AkFMIPgBATvFnugAAA2vpjKr6UKPqmtrVHomrKORXxdQirZxfpokFwUyXB4xJHsuyrEwXAaC/I6fbtLmmXrUnmyVJ0Xiy772Q3ytLUuXMEq1bXK6504szUyQwRhF8gGG27T+lTTvrFIknNNin0+ORQn6fNlRVaPWCG1yrDxjrGOoEDHI19I6rO5Yc8ljLkrpjCW3aeVySCD9gmOj4AEMcOd2mVT/br+5You+19kP/rK4/7FFP8ymNm7VYk/7iP6Y9NxzwaceaBZpTVuxStcDYxapOwBCba+oViSf6veYvmKjxf/oNFcz5s0HPjcQT2lJT72R5QNYg+AADtHRGVXuyOWVOL3/mnyr/poXyhosGPd+ypL0nmtXaGXWwSiA7EHyAAaoPNV7zNTySqt+79usA2Y7gAwxQ19Teb8vCaETiSdWd67CpIiB7EXyAAdojcZuuE7PlOkA2I/gAAxSF7NlZVBQK2HIdIJsRfIABKqYWKehP/ThayYSseI+UTEhWUla8R1YykeYKV+/oUlFa6HSpwJjHPj7AAC2dUd3++Jsp83xtb23X5X/5p36vjb/9myq+896UawT9Xv3+4bu4hycwBIIPMMSaXx7UruPnB71N2UA8Hmn57Cl6dvWt9hcGZBmGOgFDrK8sV8jvG9W5Ib9P6yrLba4IyE4EH2CIudOLtaGqQuHAyD6W4YBXG6oquF0ZMEzcpBowSO+Npnk6A+Ac5vgAAx1tbNOWmnrtPdEsyVI0/snHtPd5fEtmlmhdZTmdHjBCBB9gsNbOqH762mE99/JrWrL8z1UUCqiitFAr5vEEdmC0CD7AcEeOHNG3vvUtHT16NNOlAFmBxS2A4bq7uxUOhzNdBpA1CD7AcJFIRKFQKNNlAFmD4AMMF4lE6PgAGxF8gOG6u7vp+AAbEXyA4ej4AHsRfIDh6PgAexF8gOFY3ALYi+ADDMdQJ2Avgg8wHEOdgL0IPsBwdHyAvQg+wHB0fIC9CD7AcCxuAexF8AGG416dgL0IPsBwdHyAvQg+wHAsbgHsRfABhmNxC2Avgg8wHB0fYC+CDzAcHR9gL4IPMByLWwB7EXyA4djOANiL4AMMR8cH2IvgAwzH4hbAXgQfYDgWtwD2IvgAw9HxAfbyWJZlZboIAOklEgkFAgElEgl5PJ5MlwNkBTo+wGDRaFTBYJDQA2xE8AEGY5gTsB/BBxiMhS2A/Qg+wGB0fID9CD7AYHR8gP0IPsBg3LUFsB/BBxiM+3QC9iP4AIPR8QH2I/gAg7G4BbAfwQcYjMUtgP0IPsBgdHyA/Qg+wGB0fID9CD7AYCxuAexH8AEGY6gTsB/BBxiMoU7AfgQfYDA6PsB+BB9gMDo+wH4EH2AwFrcA9iP4AINxr07AfgQfYDA6PsB+BB9gMBa3APYj+ACDsbgFsB/BBxiMjg+wH8EHGIyOD7AfwQcYjMUtgP0IPsBgbGcA7EfwAQaj4wPsR/ABBmNxC2A/gg8wGItbAPt5LMuyMl0EgE+0dEZVfahRdU3t+tdTjbrxhjJVTC3SyvllmlgQzHR5wJhH8AGGOHK6TZtr6lV7slmSFI0n+94L+b2yJFXOLNG6xeWaO704M0UCWYDgAwywbf8pbdpZp0g8ocE+kR6PFPL7tKGqQqsX3OBafUA28We6ACDXXQ294+qOJYc81rKk7lhCm3YelyTCDxgFOj4gg46cbtOqn+1XdyzR7/VEd4dadz6tyKnD8oaLdN3iv9G4myv7HRMO+LRjzQLNKSt2r2AgC7CqE8igzTX1isQTKa9ffOOn8vgCKvv+Nk36yo/U+sYW9TQ39DsmEk9oS029W6UCWYPgAzKkpTOq2pPNKXN6yZ6Irpz4vYoXrZY3L6zQ9JuVX/5ldR3b2+84y5L2nmhWa2fUxaqBsY/gAzKk+lBj2tfjF8/I4/UpMGFa32uByf9Osc90fJLkkVT9XvrrAEiP4AMypK6pvd+WhV7JWLc8wf53a/EG85Xs6U45NhJPqu5ch2M1AtmI4AMypD0ST/u6NxCWFe0fclb0irx56W9d1h6J2V4bkM0IPiBDikLpdxP5J0yTlUwodvFM32s9F/5NgZIZA1wn4Eh9QLYi+IAMqZhapKA/9SPozQspf+ZCtb21XcmeiCKNf9SV+nc07uYlKceG/F5VlBa6US6QNQg+IENWzC8b8L0Jy9bJiveo8X/cq5ZXfqyJy9YpL03HZ0laMW/g6wBIxZ1bgAyZVBDU4ptKtOv4+ZQtDb5woSZ//dFBz/d4pCUzS7hxNTBCdHxABq2vLFfI7xvVuSG/T+sqy22uCMh+BB+QQXOnF2tDVYXCgZF9FMMBrzZUVXC7MmAUGOoEMqz3RtM8nQFwBzepBgxxtLFNW2rqtfdEszy6ujm9V+/z+JbMLNG6ynI6PeAaEHyAYVo7o6p+r1FPPrdDs794q2aUTlZFaaFWzOMJ7IAdCD7AULNmzdJLL72k2bNnZ7oUIKuwuAUwVHt7u4qKijJdBpB1CD7AUB0dHSos5K4sgN0Y6gQMlEwmFQgE1NPTI59vdPv8AKRHxwcYqKurS+FwmNADHEDwAQZifg9wDsEHGIjgA5xD8AEGYmEL4ByCDzAQHR/gHIIPMBAdH+Acgg8wEB0f4ByCDzBQe3s7HR/gEIIPMFBHRwcdH+AQgg8wEEOdgHMIPsBALG4BnEPwAQai4wOcQ/ABBmJxC+Acgg8wEItbAOcQfICBGOoEnEPwAQZicQvgHIIPMBAdH+Acgg8wEItbAOd4LMuyMl0EgE8kEgnl5eUpFovJ6+V3U8BufKoAw3R0dKigoIDQAxzCJwswDAtbAGcRfIBhWNgCOIvgAwzDwhbAWQQfYBju2gI4i+ADDMNQJ+Asgg8wDItbAGcRfIBh6PgAZxF8gGHo+ABnEXyAYej4AGcRfIBhCD7AWQQfYBiGOgFnEXyAYej4AGcRfIBh6PgAZxF8gGHo+ABnEXyAYQg+wFkEH2AYhjoBZxF8gGHo+ABnEXyAQWKxmGKxmMLhcKZLAbIWwQcYpHeY0+PxZLoUIGsRfIBBGOYEnEfwAQZhYQvgPIIPMAgdH+A8gg8wCB0f4DyCDzAIHR/gPIIPMEh7ezsdH+Awgg8wSEdHBx0f4DCCDzAIQ52A8wg+wCAsbgGcR/ABBqHjA5znz3QBo5FMJnXy5El99NFHamhoUENDgz7++GNdvnxZFy5c0MGDB7V8+XLl5eVpypQpuv766zVjxgzNmDFDs2fPVklJSaZ/BCAtFrcAzhszwXfmzBn99re/1e7du/Xmm2+qoKBAN910U1+gVVVVqbi4WH6/X2fPnlVpaal6enrU1NSkhoYGvf7662poaNAHH3ygGTNmaOnSpVq6dKnuvvtuBYPBTP94gCQWtwBuMDr4LMvS22+/raeeekp79uzRPffco2XLlunxxx/XjBkzRnXNeDyuAwcOaM+ePXr88cf13e9+V2vXrtXatWs1ZcoUm38CYGQY6gScZ+wcX11dnRYtWqRvf/vbuvPOO3Xq1Clt375d999//6hDT5L8fr8WLlyoRx99VPv27dOePXt09uxZVVRU6OGHH1YkErHxpwBGhsUtgPOMC75kMqmf/OQnuuOOO7Rq1SqdOHFC3//+9x37x2D27NnaunWr6urqVF9fr/nz5+vgwYOO/FnAUOj4AOcZNdSZTCb1ne98RydOnNC7776rz3/+86792VOmTFF1dbV27Nihqqoqbdu2TcuWLXPtzwckFrcAbvBYlmVlugjp6nze9773PR07dkyvvfaaxo0bl7Fafve73+lrX/uafv3rX6uysjJjdSD3BINBXb58WaFQKNOlAFnLmKHO7du36+2339ZvfvObjIaeJN1xxx168cUXtWrVKrW1tWW0FuSOaDQqy7JYZQw4zIiOr729XbNmzVJ1dbUWLlyY6XL6PPDAAwqFQnr66aczXQpyQEtLi2bOnKnW1tZMlwJkNSM6vueff16LFi0yKvQkadOmTXrhhRd06dKlTJeCHMDCFsAdRgTfzp07tXLlykyXkWLSpEm64447tGvXrkyXghzAwhbAHUYE3759+3TXXXdluoy07r77btXW1ma6DGSxls6onq39UE/8rlk9C7+jh3Yc1rO1H6q1M5rp0oCsZMR2hmg0auwQT1FREZva4Ygjp9u0uaZetSebJUnReFKaUK7/8/5ZhfxNenL3SVXOLNG6xeWaO704s8UCWcSI4JOkRCIhr9eIBrSfeDwuj8eT6TKQZbbtP6VNO+sUiSeUbnlZJJ6UJL3xx/Pad7JFG6oqtHrBDe4WCWQpI5Jmzpw5OnDgQKbLSOvdd9/V3LlzM10GssjV0Duu7lj60Ps0y5K6Ywlt2nlc2/afcqU+INsZsZ3hkUcekc/n06ZNmzJdSj+JRELXX3+9ampqdOONN2a6HGSBI6fbtOpn+9UdS/S9ZsVjan1jiyKn3lcy0il/8VRdt/hvFP7Crf3ODQd82rFmgeaUFbtcNZBdjAi+48ePa9GiRTp27JgmT548qmu0dEZVfahRdU3tao/EVRTyq2JqkVbOL9PEgtFtCN66dau2b9+u2tpahjthizW/PKhdx8/36/SSPRG1v/OSCm65W77xJer+8KBaXvmxPnf//5S/+JMnhng80vLZU/Ts6lvTXBnAcBkRfJL0gx/8QBcvXtQLL7wwovPSLhD4/0J+ryxpVAsELly4oFtuuUVvvPEGQ52wRUtnVLc//ma/v6MDOfvzBzX+9m9qXMXt/V4P+r36/cN3jfqXOQAGLW7ZuHGjFi5cqMcee0yPPvrosM5xaoHApUuXdM8992jt2rWEHmxTfahxWMclui4pdvGM8kquT3nPI6n6vUY9sOgLNlcHjIwTo2xuMSb4ioqKtHv3bi1evFiWZWnDhg2DrvL8ZIFA6m/PsYtndPbnD2pcxe2a9JUf9VsgIGnQ8GtqatJXv/pVLV68WBs3brzWHwvoU9fUPmS3ZyXiannlCRXcslSBidNT3o/Ek6o71+FUicCQBh9lGxvbcIwZ6ux15swZfeMb35DP59Pzzz+f9tFE6RYIfNr5F/9eVjwq//jJmvSVH/V7b6AFApZl6cUXX9RDDz2ktWvXauPGjczrjWGWZSkWi6mnp2fUX9Fo1Nbzy/76MX0UHfgG7JaVVMsrP1YyekWTv/738vjS/15a1NmgOZd+r3Hjxik/P7/vayTfh8Nh/n5jxIYaZevl8Ughv8/YbTjGdHy9pk2bptraWj311FO67bbbdN999+nBBx/s99T1zTX1isTTh17XH2vlDY1TYGKF4m3nUt6PxBPaUlPft0DAsizt2rVLTzzxhBobG/Xqq6/qS1/6kjM/XBZIJpPDDhS7g2OkX36/X3l5ecrLy1MwGOz779F89Z6fn5+v4uLiUZ3/zIF2ffTB+bT/Xy3LUuvOZ5ToatPklRsHDD1JuvH6aVp+23JduXJFV65cUVdXl7q6utTc3Kyurq6+13vfS/d9NBpVOBweVWgO99hQKES4ZpHBRtk+aySjbJlgXPBJks/n0w9/+EOtWLFCzzzzjObNm6elS5dq1apVmnvb7ao92Zz2t41k9Ira3tquKd/8b+o88nraa1uWtPdEs94+/IEOvPWmtm7dKp/Pp4ceekj33ntvxh4Jk0wmjQyPz54fj8evOTzSfRUUFIz63HRfgUDAuBsi/Mm5D7WrrjntcOfF1zcr1npaU1Y9Jm9g4L+DIb9Xy778J/rWNc7xJZNJdXd39wvGoUKzo6ND58+fT/t+unN7enoUDodHFZrDDdxgMEi4uuDI6TZt2lmXEnot//yEIqeOKBmLyDfuOhUt+LoK5y7ve787ltSmnXWaU1Zs1DYc44Y60+no6NAvfvELvfrqqzp05Trlf/mvJF8g5biLu7bKVzhR4xesUNtb2xVvO5cy1ClJVrxHiff/r24d16Zly5Zp7ty5g3Yx1xIewz03kUgM+Y+7XV3LtZzv9/v5h2aUBlrVGb98QWd+er/kC8jj9fW9PuGe9Sq4eUm/Y8fSqs5EIqHu7u4hQ3W4XWq673t6ehztWvPz8wlXpd+GI0k9zQ0KXPc5efwBxVpPq+lX/0WTV25UcGp53zEmbsMxsuP7rMLCQq1fv17r16/X3/3TIb1ytCnlmJ7zHynScESl9w397DyPP095JTfoow9e1nPPPTeq8BiqQxlp+Ph8vpz/cGW7SQVBLb6pJOUfEP/4yZrxyKtDnu/xSEtmloyJ0JOujtwUFBSooKDAsT8jHo/3hetgIdnV1dXX4V6+fFnnzp0bdgDH4/FRd6nDDdy8vDxjP/8tndEBR9nySmZ86juPPPIofulcv+DrHWVr7Ywa83d3TATfp3X2pB9fjnz8B8Uvn1fjlvskSVZPRLKSOtfyH9KG4ZLlf66f/2qjk6UCKdZXluutf20ZcGHWYEJ+n9ZVlg99YA7x+/0qLCx09HFOveE6kq710qVLOnPmzLC61q6uLiUSCVu71HTnBgKBUYXrUNtwWl/foq4/7JEVjypvyhdS7jgkmbcNZ8wFX1EofckFX1yucbMW9X3f/u7Lil8+rwnL1w9wndShUsBpc6cXa0NVxbAXCfQKB7zaUFVh1DxJrnAjXGOx2LCGhT/9/cWLF3X69OlhDwsnk8lRheZ+T4Wi8YGjYuLydZrwZw8oeqZOkY//IE+aaSjTtuGMueCrmFqkoL8pZZ7EGwhJgVDf955ASB5/nnz541OuEfJ7VVHKAz+RGb0r3LJhWTjsEQgEFAgEHH08WywWG/Fcamtrqy4Gr0gavC6P16fQ9JvVdWyvOg7vVNGtf5lyTHsk5tBPNnJjLvhWzC/Tk7tPDnlc8Z33DvieJWnFvDIbqwJGZvWCGzSnrFhbauq190SzPPrkTkPSJ7fbWzKzROsqy+n0cM0CgYDGjx+v8eNTm4HBPLTjsBrePzu8g5NJxS+lbiOTzBplG3PBN9ACgeEaawsEkL3mlBXr2dW3qrUzqur3GvXj//UrzVtwu6aVTFBFaaFWzDP/1k/IfgONsiW62hRpOKJw+W3y+PMUOfW+uo7XatJf/ueUa5g2yjYmtjN81lB3bhkMj3aBqWbNmqWXX35Zs2bNynQpQJ+BtuEkrlxW8//+7+q58G+SlZR//GQVzv+KCr94T8o1TNuGM+Y6PokFAshO8XhcPp9v6AMBFw00yubLH6+p9/7DkOebOMpm1q0tRmD1ghu0oWqWwgGfhlqh6/Fc7fQ2VM1igQCMlUgkCD4YaX1luUL+0f3dNHEbzpgNPulq+O1Ys0DLZ09R0O9VyN//xwn5vQr6vVo+e4p2rFlA6MFoiURCfv+YHIRBlusdZQsHRhYZpo6yjck5vnR6FwjUnetQeySmolCABQIYU6ZNm6Z33nlHZWWsOIaZsuXpDFkTfMBYN3XqVB0+fFilpaWZLgUY0NHGtjG/DYfgAwxRUlKiY8eOafLkyZkuBRjSWB5lI/gAQ0yYMEH19fWaMGFCpksBstqYXtwCZBO2MwDuIPgAQ7CdAXAHwQcYguAD3EHwAYZgHx/gDoIPMARzfIA7CD7AAMnk1b1QXi8fScBpfMoAAzC/B7iH4AMMwPwe4B6CDzAA83uAewg+wAAMdQLuIfgAAzDUCbiH4AMMwFAn4B6CDzAAQ52Aewg+wAAEH+Aegg8wAHN8gHsIPsAAzPEB7iH4AAMw1Am4h+ADDEDwAe4h+AADMMcHuIfgAwzAHB/gHoIPMABDnYB7CD7AAAQf4B6CDzAAwQe4h+ADDBCPx1ncAriE4AMMQMcHuIfgAwzAdgbAPQQfYAC2MwDuIfgAAzDUCbiH4AMMQPAB7iH4AAMwxwe4h+ADDMAcH+Aegg8wAEOdgHsIPsAABB/gHoIPMABzfIB7CD7AAMzxAe4h+AADMNQJuIfgAwxA8AHuIfgAA/B0BsA9BB9gADo+wD0EH2AAgg9wD8EHGIDtDIB7CD7AAGxnANxD8AEGYKgTcA/BBxiA4APcQ/ABBmCOD3APwQcYgDk+wD0EH2AAhjoB9xB8gAEIPsA9BB9gAOb4APcQfIABmOMD3EPwAQZgqBNwD8EHGIDgA9xD8AEG4LFEgHsIPsAAdHyAezyWZVmZLgLIVS2dUVUfatTuA3+UNzROnyu5ThVTi7RyfpkmFgQzXR6QlQg+IAOOnG7T5pp61Z5sliRF48m+90J+ryxJlTNLtG5xueZOL85MkUCWIvgAl23bf0qbdtYpEk9osE+fxyOF/D5tqKrQ6gU3uFYfkO2YTQdcdDX0jqs7lhzyWMuSumMJbdp5XJIIP8AmdHyAS46cbtOqn+1XdyzR7/Wm7Y8oevaEPN6ri1t8hRM1bc3WfseEAz7tWLNAc8qK3SoXyFp0fIBLNtfUKxJPpH1vwrK1Kpy7fMBzI/GEttTU69nVtzpVHpAz2M4AuKClM6rak82DzukNxrKkvSea1doZtbcwIAcRfIALqg81Dvp+W80/6vTTf62mX/4nRRqOpj3GI6n6vcGvA2BoDHUCLqhrau+3ZeHTrltynwITp8vjC6jr+D5deOm/qvS+ZxS4rrTfcZF4UnXnOtwoF8hqdHyAC9oj8QHfC35uprzBfHn8ARXcslTBabPU/eHBAa4Tc6pEIGcQfIALikIjGFzxeCSlnwwsCgXsKQjIYQQf4IKKqUUK+lM/bslIp7o/OiQr3iMrmVDnsb2Knv5A4c/PTzk25PeqorTQjXKBrMYcH+CCFfPL9OTukymvW8mE2vZtU+xio+TxKjCxTCX//lEFJkxLPVbSinllLlQLZDeCD3DBpIKgFt9Uol3Hz/fb0uDLH6/Sv31yyPM9HmnJzBJuXA3YgKFOwCXrK8sV8o/u0UMhv0/rKsttrgjITQQf4JK504u1oapC4cDIPnbhgFcbqiq4XRlgE4Y6ARf13miapzMAmcNNqoEMONrYpi019dp7olkeXd2c3qv3eXxLZpZoXWU5nR5gM4IPyKDWzqiq32tU3bkOtUdiKgoFVFFaqBXzeAI74BSCDwCQU1jcAgDIKQQfACCnEHwAgJxC8AEAcgrBBwDIKQQfACCnEHwAgJxC8AEAcgrBBwDIKQQfACCnEHwAgJxC8AEAcgrBBwDIKQQfACCnEHwAgJxC8AEAcgrBBwDIKQQfACCnEHwAgJxC8AEAcgrBBwDIKf8PwL04bHL6WJkAAAAASUVORK5CYII="
>>>>>>> 7c27813 (update)
=======
      "image/png": "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"
>>>>>>> dba00ce (minor change)
=======
      "image/svg+xml": "<?xml version=\"1.0\" encoding=\"utf-8\" standalone=\"no\"?>\n<!DOCTYPE svg PUBLIC \"-//W3C//DTD SVG 1.1//EN\"\n  \"http://www.w3.org/Graphics/SVG/1.1/DTD/svg11.dtd\">\n<svg height=\"302.4pt\" version=\"1.1\" viewBox=\"0 0 446.4 302.4\" width=\"446.4pt\" xmlns=\"http://www.w3.org/2000/svg\" xmlns:xlink=\"http://www.w3.org/1999/xlink\">\n <metadata>\n  <rdf:RDF xmlns:cc=\"http://creativecommons.org/ns#\" xmlns:dc=\"http://purl.org/dc/elements/1.1/\" xmlns:rdf=\"http://www.w3.org/1999/02/22-rdf-syntax-ns#\">\n   <cc:Work>\n    <dc:type rdf:resource=\"http://purl.org/dc/dcmitype/StillImage\"/>\n    <dc:date>2021-08-16T16:25:09.076473</dc:date>\n    <dc:format>image/svg+xml</dc:format>\n    <dc:creator>\n     <cc:Agent>\n      <dc:title>Matplotlib v3.4.2, https://matplotlib.org/</dc:title>\n     </cc:Agent>\n    </dc:creator>\n   </cc:Work>\n  </rdf:RDF>\n </metadata>\n <defs>\n  <style type=\"text/css\">*{stroke-linecap:butt;stroke-linejoin:round;}</style>\n </defs>\n <g id=\"figure_1\">\n  <g id=\"patch_1\">\n   <path d=\"M 0 302.4 \nL 446.4 302.4 \nL 446.4 0 \nL 0 0 \nz\n\" style=\"fill:#ffffff;\"/>\n  </g>\n  <g id=\"axes_1\">\n   <g id=\"patch_2\">\n    <path clip-path=\"url(#p50247ca0ec)\" d=\"M 53.276472 269.11674 \nQ 79.194396 265.822935 105.11232 262.52913 \n\" style=\"fill:none;stroke:#000000;stroke-linecap:round;\"/>\n   </g>\n   <g id=\"patch_3\">\n    <path clip-path=\"url(#p50247ca0ec)\" d=\"M 65.230088 194.50835 \nQ 91.148012 191.214545 117.065936 187.92074 \n\" style=\"fill:none;stroke:#000000;stroke-linecap:round;\"/>\n   </g>\n   <g id=\"patch_4\">\n    <path clip-path=\"url(#p50247ca0ec)\" d=\"M 65.230088 119.89996 \nQ 91.148012 116.606155 117.065936 113.31235 \n\" style=\"fill:none;stroke:#000000;stroke-linecap:round;\"/>\n   </g>\n   <g id=\"patch_5\">\n    <path clip-path=\"url(#p50247ca0ec)\" d=\"M 53.276472 45.29157 \nQ 79.194396 41.997765 105.11232 38.70396 \n\" style=\"fill:none;stroke:#000000;stroke-linecap:round;\"/>\n   </g>\n   <g id=\"patch_6\">\n    <path clip-path=\"url(#p50247ca0ec)\" d=\"M 122.33283 260.759614 \nQ 148.206888 258.727376 174.080946 256.695138 \n\" style=\"fill:none;stroke:#000000;stroke-linecap:round;\"/>\n   </g>\n   <g id=\"patch_7\">\n    <path clip-path=\"url(#p50247ca0ec)\" d=\"M 134.286447 186.151224 \nQ 160.160504 184.118986 186.034562 182.086748 \n\" style=\"fill:none;stroke:#000000;stroke-linecap:round;\"/>\n   </g>\n   <g id=\"patch_8\">\n    <path clip-path=\"url(#p50247ca0ec)\" d=\"M 134.286447 111.542834 \nQ 160.160504 109.510596 186.034562 107.478358 \n\" style=\"fill:none;stroke:#000000;stroke-linecap:round;\"/>\n   </g>\n   <g id=\"patch_9\">\n    <path clip-path=\"url(#p50247ca0ec)\" d=\"M 122.33283 36.934444 \nQ 148.206888 34.902206 174.080946 32.869968 \n\" style=\"fill:none;stroke:#000000;stroke-linecap:round;\"/>\n   </g>\n   <g id=\"patch_10\">\n    <path clip-path=\"url(#p50247ca0ec)\" d=\"M 191.37234 256.016905 \nQ 217.220832 256.016905 243.069324 256.016905 \n\" style=\"fill:none;stroke:#000000;stroke-linecap:round;\"/>\n   </g>\n   <g id=\"patch_11\">\n    <path clip-path=\"url(#p50247ca0ec)\" d=\"M 203.325956 181.408515 \nQ 229.174448 181.408515 255.02294 181.408515 \n\" style=\"fill:none;stroke:#000000;stroke-linecap:round;\"/>\n   </g>\n   <g id=\"patch_12\">\n    <path clip-path=\"url(#p50247ca0ec)\" d=\"M 203.325956 106.800125 \nQ 229.174448 106.800125 255.02294 106.800125 \n\" style=\"fill:none;stroke:#000000;stroke-linecap:round;\"/>\n   </g>\n   <g id=\"patch_13\">\n    <path clip-path=\"url(#p50247ca0ec)\" d=\"M 191.37234 32.191736 \nQ 217.220832 32.191736 243.069324 32.191736 \n\" style=\"fill:none;stroke:#000000;stroke-linecap:round;\"/>\n   </g>\n   <g id=\"patch_14\">\n    <path clip-path=\"url(#p50247ca0ec)\" d=\"M 260.361301 256.694813 \nQ 286.235359 258.727051 312.109417 260.759289 \n\" style=\"fill:none;stroke:#000000;stroke-linecap:round;\"/>\n   </g>\n   <g id=\"patch_15\">\n    <path clip-path=\"url(#p50247ca0ec)\" d=\"M 272.314918 182.086423 \nQ 298.188975 184.118661 324.063033 186.150899 \n\" style=\"fill:none;stroke:#000000;stroke-linecap:round;\"/>\n   </g>\n   <g id=\"patch_16\">\n    <path clip-path=\"url(#p50247ca0ec)\" d=\"M 272.314918 107.478033 \nQ 298.188975 109.510271 324.063033 111.542509 \n\" style=\"fill:none;stroke:#000000;stroke-linecap:round;\"/>\n   </g>\n   <g id=\"patch_17\">\n    <path clip-path=\"url(#p50247ca0ec)\" d=\"M 260.361301 32.869643 \nQ 286.235359 34.901882 312.109417 36.93412 \n\" style=\"fill:none;stroke:#000000;stroke-linecap:round;\"/>\n   </g>\n   <g id=\"patch_18\">\n    <path clip-path=\"url(#p50247ca0ec)\" d=\"M 329.333414 262.529047 \nQ 355.251338 265.822852 381.169261 269.116657 \n\" style=\"fill:none;stroke:#000000;stroke-linecap:round;\"/>\n   </g>\n   <g id=\"patch_19\">\n    <path clip-path=\"url(#p50247ca0ec)\" d=\"M 341.28703 187.920657 \nQ 367.204954 191.214462 393.122878 194.508267 \n\" style=\"fill:none;stroke:#000000;stroke-linecap:round;\"/>\n   </g>\n   <g id=\"patch_20\">\n    <path clip-path=\"url(#p50247ca0ec)\" d=\"M 341.28703 113.312267 \nQ 367.204954 116.606072 393.122878 119.899877 \n\" style=\"fill:none;stroke:#000000;stroke-linecap:round;\"/>\n   </g>\n   <g id=\"patch_21\">\n    <path clip-path=\"url(#p50247ca0ec)\" d=\"M 329.333414 38.703877 \nQ 355.251338 41.997682 381.169261 45.291487 \n\" style=\"fill:none;stroke:#000000;stroke-linecap:round;\"/>\n   </g>\n   <g id=\"patch_22\">\n    <path clip-path=\"url(#p50247ca0ec)\" d=\"M 46.057045 261.660904 \nQ 50.664042 232.906373 55.271039 204.151843 \n\" style=\"fill:none;stroke:#000000;stroke-linecap:round;\"/>\n   </g>\n   <g id=\"patch_23\">\n    <path clip-path=\"url(#p50247ca0ec)\" d=\"M 56.64122 186.943225 \nQ 56.64122 158.296645 56.64122 129.650066 \n\" style=\"fill:none;stroke:#000000;stroke-linecap:round;\"/>\n   </g>\n   <g id=\"patch_24\">\n    <path clip-path=\"url(#p50247ca0ec)\" d=\"M 55.271778 112.444124 \nQ 50.664781 83.689594 46.057784 54.935063 \n\" style=\"fill:none;stroke:#000000;stroke-linecap:round;\"/>\n   </g>\n   <g id=\"patch_25\">\n    <path clip-path=\"url(#p50247ca0ec)\" d=\"M 115.071281 252.890162 \nQ 119.678278 224.135631 124.285275 195.3811 \n\" style=\"fill:none;stroke:#000000;stroke-linecap:round;\"/>\n   </g>\n   <g id=\"patch_26\">\n    <path clip-path=\"url(#p50247ca0ec)\" d=\"M 125.655455 178.172483 \nQ 125.655455 149.525903 125.655455 120.879323 \n\" style=\"fill:none;stroke:#000000;stroke-linecap:round;\"/>\n   </g>\n   <g id=\"patch_27\">\n    <path clip-path=\"url(#p50247ca0ec)\" d=\"M 124.286013 103.673382 \nQ 119.679016 74.918851 115.072019 46.16432 \n\" style=\"fill:none;stroke:#000000;stroke-linecap:round;\"/>\n   </g>\n   <g id=\"patch_28\">\n    <path clip-path=\"url(#p50247ca0ec)\" d=\"M 184.085516 247.469545 \nQ 188.692513 218.715014 193.29951 189.960483 \n\" style=\"fill:none;stroke:#000000;stroke-linecap:round;\"/>\n   </g>\n   <g id=\"patch_29\">\n    <path clip-path=\"url(#p50247ca0ec)\" d=\"M 194.66969 172.751866 \nQ 194.66969 144.105286 194.66969 115.458707 \n\" style=\"fill:none;stroke:#000000;stroke-linecap:round;\"/>\n   </g>\n   <g id=\"patch_30\">\n    <path clip-path=\"url(#p50247ca0ec)\" d=\"M 193.300248 98.252765 \nQ 188.693251 69.498234 184.086254 40.743704 \n\" style=\"fill:none;stroke:#000000;stroke-linecap:round;\"/>\n   </g>\n   <g id=\"patch_31\">\n    <path clip-path=\"url(#p50247ca0ec)\" d=\"M 253.099752 247.469545 \nQ 257.706749 218.715014 262.313746 189.960483 \n\" style=\"fill:none;stroke:#000000;stroke-linecap:round;\"/>\n   </g>\n   <g id=\"patch_32\">\n    <path clip-path=\"url(#p50247ca0ec)\" d=\"M 263.683926 172.751866 \nQ 263.683926 144.105286 263.683926 115.458707 \n\" style=\"fill:none;stroke:#000000;stroke-linecap:round;\"/>\n   </g>\n   <g id=\"patch_33\">\n    <path clip-path=\"url(#p50247ca0ec)\" d=\"M 262.314484 98.252765 \nQ 257.707487 69.498234 253.10049 40.743704 \n\" style=\"fill:none;stroke:#000000;stroke-linecap:round;\"/>\n   </g>\n   <g id=\"patch_34\">\n    <path clip-path=\"url(#p50247ca0ec)\" d=\"M 322.113987 252.890162 \nQ 326.720984 224.135631 331.327981 195.3811 \n\" style=\"fill:none;stroke:#000000;stroke-linecap:round;\"/>\n   </g>\n   <g id=\"patch_35\">\n    <path clip-path=\"url(#p50247ca0ec)\" d=\"M 332.698161 178.172483 \nQ 332.698161 149.525903 332.698161 120.879323 \n\" style=\"fill:none;stroke:#000000;stroke-linecap:round;\"/>\n   </g>\n   <g id=\"patch_36\">\n    <path clip-path=\"url(#p50247ca0ec)\" d=\"M 331.328719 103.673382 \nQ 326.721722 74.918851 322.114725 46.16432 \n\" style=\"fill:none;stroke:#000000;stroke-linecap:round;\"/>\n   </g>\n   <g id=\"patch_37\">\n    <path clip-path=\"url(#p50247ca0ec)\" d=\"M 391.128222 261.660904 \nQ 395.735219 232.906373 400.342216 204.151843 \n\" style=\"fill:none;stroke:#000000;stroke-linecap:round;\"/>\n   </g>\n   <g id=\"patch_38\">\n    <path clip-path=\"url(#p50247ca0ec)\" d=\"M 401.712397 186.943225 \nQ 401.712397 158.296645 401.712397 129.650066 \n\" style=\"fill:none;stroke:#000000;stroke-linecap:round;\"/>\n   </g>\n   <g id=\"patch_39\">\n    <path clip-path=\"url(#p50247ca0ec)\" d=\"M 400.342955 112.444124 \nQ 395.735958 83.689594 391.128961 54.935063 \n\" style=\"fill:none;stroke:#000000;stroke-linecap:round;\"/>\n   </g>\n   <g id=\"patch_40\">\n    <path clip-path=\"url(#p50247ca0ec)\" d=\"M 50.719175 263.997069 \nQ 85.169785 228.520495 119.620395 193.043921 \n\" style=\"fill:none;stroke:#000000;stroke-linecap:round;\"/>\n   </g>\n   <g id=\"patch_41\">\n    <path clip-path=\"url(#p50247ca0ec)\" d=\"M 62.161432 188.930664 \nQ 91.148213 153.910459 120.134994 118.890254 \n\" style=\"fill:none;stroke:#000000;stroke-linecap:round;\"/>\n   </g>\n   <g id=\"patch_42\">\n    <path clip-path=\"url(#p50247ca0ec)\" d=\"M 61.532677 113.843902 \nQ 85.171032 79.302644 108.809388 44.761387 \n\" style=\"fill:none;stroke:#000000;stroke-linecap:round;\"/>\n   </g>\n   <g id=\"patch_43\">\n    <path clip-path=\"url(#p50247ca0ec)\" d=\"M 119.861899 255.34889 \nQ 154.187233 221.421567 188.512567 187.494245 \n\" style=\"fill:none;stroke:#000000;stroke-linecap:round;\"/>\n   </g>\n   <g id=\"patch_44\">\n    <path clip-path=\"url(#p50247ca0ec)\" d=\"M 131.310461 180.27158 \nQ 160.162229 146.815027 189.013997 113.358475 \n\" style=\"fill:none;stroke:#000000;stroke-linecap:round;\"/>\n   </g>\n   <g id=\"patch_45\">\n    <path clip-path=\"url(#p50247ca0ec)\" d=\"M 130.682738 105.169847 \nQ 154.184917 72.207428 177.687095 39.245009 \n\" style=\"fill:none;stroke:#000000;stroke-linecap:round;\"/>\n   </g>\n   <g id=\"patch_46\">\n    <path clip-path=\"url(#p50247ca0ec)\" d=\"M 189.083694 250.149418 \nQ 223.199959 218.712748 257.316224 187.276078 \n\" style=\"fill:none;stroke:#000000;stroke-linecap:round;\"/>\n   </g>\n   <g id=\"patch_47\">\n    <path clip-path=\"url(#p50247ca0ec)\" d=\"M 200.55216 175.049225 \nQ 229.177044 144.104065 257.801929 113.158905 \n\" style=\"fill:none;stroke:#000000;stroke-linecap:round;\"/>\n   </g>\n   <g id=\"patch_48\">\n    <path clip-path=\"url(#p50247ca0ec)\" d=\"M 199.930314 99.921709 \nQ 223.199053 69.497169 246.467792 39.072628 \n\" style=\"fill:none;stroke:#000000;stroke-linecap:round;\"/>\n   </g>\n   <g id=\"patch_49\">\n    <path clip-path=\"url(#p50247ca0ec)\" d=\"M 258.315372 250.389909 \nQ 292.214157 221.423086 326.112942 192.456263 \n\" style=\"fill:none;stroke:#000000;stroke-linecap:round;\"/>\n   </g>\n   <g id=\"patch_50\">\n    <path clip-path=\"url(#p50247ca0ec)\" d=\"M 269.798072 175.278996 \nQ 298.1893 146.816377 326.580529 118.353758 \n\" style=\"fill:none;stroke:#000000;stroke-linecap:round;\"/>\n   </g>\n   <g id=\"patch_51\">\n    <path clip-path=\"url(#p50247ca0ec)\" d=\"M 269.195305 100.117408 \nQ 292.215325 72.204918 315.235346 44.292428 \n\" style=\"fill:none;stroke:#000000;stroke-linecap:round;\"/>\n   </g>\n   <g id=\"patch_52\">\n    <path clip-path=\"url(#p50247ca0ec)\" d=\"M 327.463038 255.974492 \nQ 361.228505 228.518671 394.993972 201.062849 \n\" style=\"fill:none;stroke:#000000;stroke-linecap:round;\"/>\n   </g>\n   <g id=\"patch_53\">\n    <path clip-path=\"url(#p50247ca0ec)\" d=\"M 338.96395 180.851746 \nQ 367.204389 153.911157 395.444829 126.970569 \n\" style=\"fill:none;stroke:#000000;stroke-linecap:round;\"/>\n   </g>\n   <g id=\"patch_54\">\n    <path clip-path=\"url(#p50247ca0ec)\" d=\"M 338.369744 105.67676 \nQ 361.227264 79.303311 384.084784 52.929862 \n\" style=\"fill:none;stroke:#000000;stroke-linecap:round;\"/>\n   </g>\n   <g id=\"patch_55\">\n    <path clip-path=\"url(#p50247ca0ec)\" d=\"M 381.099882 270.208264 \nQ 217.224917 270.208264 53.349953 270.208264 \n\" style=\"fill:none;stroke:#000000;stroke-linecap:round;\"/>\n   </g>\n   <g id=\"patch_56\">\n    <path clip-path=\"url(#p50247ca0ec)\" d=\"M 393.053499 195.599875 \nQ 229.178534 195.599875 65.303569 195.599875 \n\" style=\"fill:none;stroke:#000000;stroke-linecap:round;\"/>\n   </g>\n   <g id=\"patch_57\">\n    <path clip-path=\"url(#p50247ca0ec)\" d=\"M 393.053499 120.991485 \nQ 229.178534 120.991485 65.303569 120.991485 \n\" style=\"fill:none;stroke:#000000;stroke-linecap:round;\"/>\n   </g>\n   <g id=\"patch_58\">\n    <path clip-path=\"url(#p50247ca0ec)\" d=\"M 381.099882 46.383095 \nQ 217.224917 46.383095 53.349953 46.383095 \n\" style=\"fill:none;stroke:#000000;stroke-linecap:round;\"/>\n   </g>\n   <g id=\"patch_59\">\n    <path clip-path=\"url(#p50247ca0ec)\" d=\"M 44.687603 55.040883 \nQ 44.687603 158.295683 44.687603 261.550483 \n\" style=\"fill:none;stroke:#000000;stroke-linecap:round;\"/>\n   </g>\n   <g id=\"patch_60\">\n    <path clip-path=\"url(#p50247ca0ec)\" d=\"M 113.701839 46.270141 \nQ 113.701839 149.52494 113.701839 252.77974 \n\" style=\"fill:none;stroke:#000000;stroke-linecap:round;\"/>\n   </g>\n   <g id=\"patch_61\">\n    <path clip-path=\"url(#p50247ca0ec)\" d=\"M 182.716074 40.849524 \nQ 182.716074 144.104324 182.716074 247.359124 \n\" style=\"fill:none;stroke:#000000;stroke-linecap:round;\"/>\n   </g>\n   <g id=\"patch_62\">\n    <path clip-path=\"url(#p50247ca0ec)\" d=\"M 251.73031 40.849524 \nQ 251.73031 144.104324 251.73031 247.359124 \n\" style=\"fill:none;stroke:#000000;stroke-linecap:round;\"/>\n   </g>\n   <g id=\"patch_63\">\n    <path clip-path=\"url(#p50247ca0ec)\" d=\"M 320.744545 46.270141 \nQ 320.744545 149.52494 320.744545 252.77974 \n\" style=\"fill:none;stroke:#000000;stroke-linecap:round;\"/>\n   </g>\n   <g id=\"patch_64\">\n    <path clip-path=\"url(#p50247ca0ec)\" d=\"M 389.75878 55.040883 \nQ 389.75878 158.295683 389.75878 261.550483 \n\" style=\"fill:none;stroke:#000000;stroke-linecap:round;\"/>\n   </g>\n   <g id=\"patch_65\">\n    <path clip-path=\"url(#p50247ca0ec)\" d=\"M 381.308342 268.315618 \nQ 223.199327 232.903919 65.090313 197.492219 \n\" style=\"fill:none;stroke:#000000;stroke-linecap:round;\"/>\n   </g>\n   <g id=\"patch_66\">\n    <path clip-path=\"url(#p50247ca0ec)\" d=\"M 393.248317 193.769842 \nQ 229.178295 158.296001 65.108273 122.82216 \n\" style=\"fill:none;stroke:#000000;stroke-linecap:round;\"/>\n   </g>\n   <g id=\"patch_67\">\n    <path clip-path=\"url(#p50247ca0ec)\" d=\"M 393.232949 119.219513 \nQ 223.197695 83.686808 53.162442 48.154103 \n\" style=\"fill:none;stroke:#000000;stroke-linecap:round;\"/>\n   </g>\n   <g id=\"patch_68\">\n    <path clip-path=\"url(#p50247ca0ec)\" d=\"M 47.333977 54.629429 \nQ 79.194824 153.910631 111.055671 253.191832 \n\" style=\"fill:none;stroke:#000000;stroke-linecap:round;\"/>\n   </g>\n   <g id=\"patch_69\">\n    <path clip-path=\"url(#p50247ca0ec)\" d=\"M 116.310302 45.867175 \nQ 148.208601 146.813504 180.1069 247.759832 \n\" style=\"fill:none;stroke:#000000;stroke-linecap:round;\"/>\n   </g>\n   <g id=\"patch_70\">\n    <path clip-path=\"url(#p50247ca0ec)\" d=\"M 185.267672 40.46701 \nQ 217.222696 144.102713 249.177721 247.738416 \n\" style=\"fill:none;stroke:#000000;stroke-linecap:round;\"/>\n   </g>\n   <g id=\"patch_71\">\n    <path clip-path=\"url(#p50247ca0ec)\" d=\"M 254.227147 40.485525 \nQ 286.237934 146.816313 318.248722 253.147102 \n\" style=\"fill:none;stroke:#000000;stroke-linecap:round;\"/>\n   </g>\n   <g id=\"patch_72\">\n    <path clip-path=\"url(#p50247ca0ec)\" d=\"M 323.207684 45.913772 \nQ 355.251952 153.911283 387.296219 261.908793 \n\" style=\"fill:none;stroke:#000000;stroke-linecap:round;\"/>\n   </g>\n   <g id=\"patch_73\">\n    <path clip-path=\"url(#p50247ca0ec)\" d=\"M 382.495205 51.094502 \nQ 217.224063 158.295115 51.95292 265.495727 \n\" style=\"fill:none;stroke:#000000;stroke-linecap:round;\"/>\n   </g>\n   <g id=\"PathCollection_1\">\n    <defs>\n     <path d=\"M 0 8.660254 \nC 2.296726 8.660254 4.499694 7.747755 6.123724 6.123724 \nC 7.747755 4.499694 8.660254 2.296726 8.660254 0 \nC 8.660254 -2.296726 7.747755 -4.499694 6.123724 -6.123724 \nC 4.499694 -7.747755 2.296726 -8.660254 0 -8.660254 \nC -2.296726 -8.660254 -4.499694 -7.747755 -6.123724 -6.123724 \nC -7.747755 -4.499694 -8.660254 -2.296726 -8.660254 0 \nC -8.660254 2.296726 -7.747755 4.499694 -6.123724 6.123724 \nC -4.499694 7.747755 -2.296726 8.660254 0 8.660254 \nz\n\" id=\"m04f854b962\" style=\"stroke:#1f78b4;\"/>\n    </defs>\n    <g clip-path=\"url(#p50247ca0ec)\">\n     <use style=\"fill:#1f78b4;stroke:#1f78b4;\" x=\"44.687603\" xlink:href=\"#m04f854b962\" y=\"270.208264\"/>\n     <use style=\"fill:#1f78b4;stroke:#1f78b4;\" x=\"113.701839\" xlink:href=\"#m04f854b962\" y=\"261.437522\"/>\n     <use style=\"fill:#1f78b4;stroke:#1f78b4;\" x=\"182.716074\" xlink:href=\"#m04f854b962\" y=\"256.016905\"/>\n     <use style=\"fill:#1f78b4;stroke:#1f78b4;\" x=\"251.73031\" xlink:href=\"#m04f854b962\" y=\"256.016905\"/>\n     <use style=\"fill:#1f78b4;stroke:#1f78b4;\" x=\"320.744545\" xlink:href=\"#m04f854b962\" y=\"261.437522\"/>\n     <use style=\"fill:#1f78b4;stroke:#1f78b4;\" x=\"389.75878\" xlink:href=\"#m04f854b962\" y=\"270.208264\"/>\n     <use style=\"fill:#1f78b4;stroke:#1f78b4;\" x=\"56.64122\" xlink:href=\"#m04f854b962\" y=\"195.599875\"/>\n     <use style=\"fill:#1f78b4;stroke:#1f78b4;\" x=\"125.655455\" xlink:href=\"#m04f854b962\" y=\"186.829132\"/>\n     <use style=\"fill:#1f78b4;stroke:#1f78b4;\" x=\"194.66969\" xlink:href=\"#m04f854b962\" y=\"181.408515\"/>\n     <use style=\"fill:#1f78b4;stroke:#1f78b4;\" x=\"263.683926\" xlink:href=\"#m04f854b962\" y=\"181.408515\"/>\n     <use style=\"fill:#1f78b4;stroke:#1f78b4;\" x=\"332.698161\" xlink:href=\"#m04f854b962\" y=\"186.829132\"/>\n     <use style=\"fill:#1f78b4;stroke:#1f78b4;\" x=\"401.712397\" xlink:href=\"#m04f854b962\" y=\"195.599875\"/>\n     <use style=\"fill:#1f78b4;stroke:#1f78b4;\" x=\"56.64122\" xlink:href=\"#m04f854b962\" y=\"120.991485\"/>\n     <use style=\"fill:#1f78b4;stroke:#1f78b4;\" x=\"125.655455\" xlink:href=\"#m04f854b962\" y=\"112.220742\"/>\n     <use style=\"fill:#1f78b4;stroke:#1f78b4;\" x=\"194.66969\" xlink:href=\"#m04f854b962\" y=\"106.800125\"/>\n     <use style=\"fill:#1f78b4;stroke:#1f78b4;\" x=\"263.683926\" xlink:href=\"#m04f854b962\" y=\"106.800125\"/>\n     <use style=\"fill:#1f78b4;stroke:#1f78b4;\" x=\"332.698161\" xlink:href=\"#m04f854b962\" y=\"112.220742\"/>\n     <use style=\"fill:#1f78b4;stroke:#1f78b4;\" x=\"401.712397\" xlink:href=\"#m04f854b962\" y=\"120.991485\"/>\n     <use style=\"fill:#1f78b4;stroke:#1f78b4;\" x=\"44.687603\" xlink:href=\"#m04f854b962\" y=\"46.383095\"/>\n     <use style=\"fill:#1f78b4;stroke:#1f78b4;\" x=\"113.701839\" xlink:href=\"#m04f854b962\" y=\"37.612352\"/>\n     <use style=\"fill:#1f78b4;stroke:#1f78b4;\" x=\"182.716074\" xlink:href=\"#m04f854b962\" y=\"32.191736\"/>\n     <use style=\"fill:#1f78b4;stroke:#1f78b4;\" x=\"251.73031\" xlink:href=\"#m04f854b962\" y=\"32.191736\"/>\n     <use style=\"fill:#1f78b4;stroke:#1f78b4;\" x=\"320.744545\" xlink:href=\"#m04f854b962\" y=\"37.612352\"/>\n     <use style=\"fill:#1f78b4;stroke:#1f78b4;\" x=\"389.75878\" xlink:href=\"#m04f854b962\" y=\"46.383095\"/>\n    </g>\n   </g>\n   <g id=\"text_1\">\n    <g clip-path=\"url(#p50247ca0ec)\">\n     <!-- 0 -->\n     <g transform=\"translate(40.870103 273.519514)scale(0.12 -0.12)\">\n      <defs>\n       <path d=\"M 2034 4250 \nQ 1547 4250 1301 3770 \nQ 1056 3291 1056 2328 \nQ 1056 1369 1301 889 \nQ 1547 409 2034 409 \nQ 2525 409 2770 889 \nQ 3016 1369 3016 2328 \nQ 3016 3291 2770 3770 \nQ 2525 4250 2034 4250 \nz\nM 2034 4750 \nQ 2819 4750 3233 4129 \nQ 3647 3509 3647 2328 \nQ 3647 1150 3233 529 \nQ 2819 -91 2034 -91 \nQ 1250 -91 836 529 \nQ 422 1150 422 2328 \nQ 422 3509 836 4129 \nQ 1250 4750 2034 4750 \nz\n\" id=\"DejaVuSans-30\" transform=\"scale(0.015625)\"/>\n      </defs>\n      <use xlink:href=\"#DejaVuSans-30\"/>\n     </g>\n    </g>\n   </g>\n   <g id=\"text_2\">\n    <g clip-path=\"url(#p50247ca0ec)\">\n     <!-- 1 -->\n     <g transform=\"translate(109.884339 264.748772)scale(0.12 -0.12)\">\n      <defs>\n       <path d=\"M 794 531 \nL 1825 531 \nL 1825 4091 \nL 703 3866 \nL 703 4441 \nL 1819 4666 \nL 2450 4666 \nL 2450 531 \nL 3481 531 \nL 3481 0 \nL 794 0 \nL 794 531 \nz\n\" id=\"DejaVuSans-31\" transform=\"scale(0.015625)\"/>\n      </defs>\n      <use xlink:href=\"#DejaVuSans-31\"/>\n     </g>\n    </g>\n   </g>\n   <g id=\"text_3\">\n    <g clip-path=\"url(#p50247ca0ec)\">\n     <!-- 2 -->\n     <g transform=\"translate(178.898574 259.328155)scale(0.12 -0.12)\">\n      <defs>\n       <path d=\"M 1228 531 \nL 3431 531 \nL 3431 0 \nL 469 0 \nL 469 531 \nQ 828 903 1448 1529 \nQ 2069 2156 2228 2338 \nQ 2531 2678 2651 2914 \nQ 2772 3150 2772 3378 \nQ 2772 3750 2511 3984 \nQ 2250 4219 1831 4219 \nQ 1534 4219 1204 4116 \nQ 875 4013 500 3803 \nL 500 4441 \nQ 881 4594 1212 4672 \nQ 1544 4750 1819 4750 \nQ 2544 4750 2975 4387 \nQ 3406 4025 3406 3419 \nQ 3406 3131 3298 2873 \nQ 3191 2616 2906 2266 \nQ 2828 2175 2409 1742 \nQ 1991 1309 1228 531 \nz\n\" id=\"DejaVuSans-32\" transform=\"scale(0.015625)\"/>\n      </defs>\n      <use xlink:href=\"#DejaVuSans-32\"/>\n     </g>\n    </g>\n   </g>\n   <g id=\"text_4\">\n    <g clip-path=\"url(#p50247ca0ec)\">\n     <!-- 3 -->\n     <g transform=\"translate(247.91281 259.328155)scale(0.12 -0.12)\">\n      <defs>\n       <path d=\"M 2597 2516 \nQ 3050 2419 3304 2112 \nQ 3559 1806 3559 1356 \nQ 3559 666 3084 287 \nQ 2609 -91 1734 -91 \nQ 1441 -91 1130 -33 \nQ 819 25 488 141 \nL 488 750 \nQ 750 597 1062 519 \nQ 1375 441 1716 441 \nQ 2309 441 2620 675 \nQ 2931 909 2931 1356 \nQ 2931 1769 2642 2001 \nQ 2353 2234 1838 2234 \nL 1294 2234 \nL 1294 2753 \nL 1863 2753 \nQ 2328 2753 2575 2939 \nQ 2822 3125 2822 3475 \nQ 2822 3834 2567 4026 \nQ 2313 4219 1838 4219 \nQ 1578 4219 1281 4162 \nQ 984 4106 628 3988 \nL 628 4550 \nQ 988 4650 1302 4700 \nQ 1616 4750 1894 4750 \nQ 2613 4750 3031 4423 \nQ 3450 4097 3450 3541 \nQ 3450 3153 3228 2886 \nQ 3006 2619 2597 2516 \nz\n\" id=\"DejaVuSans-33\" transform=\"scale(0.015625)\"/>\n      </defs>\n      <use xlink:href=\"#DejaVuSans-33\"/>\n     </g>\n    </g>\n   </g>\n   <g id=\"text_5\">\n    <g clip-path=\"url(#p50247ca0ec)\">\n     <!-- 4 -->\n     <g transform=\"translate(316.927045 264.748772)scale(0.12 -0.12)\">\n      <defs>\n       <path d=\"M 2419 4116 \nL 825 1625 \nL 2419 1625 \nL 2419 4116 \nz\nM 2253 4666 \nL 3047 4666 \nL 3047 1625 \nL 3713 1625 \nL 3713 1100 \nL 3047 1100 \nL 3047 0 \nL 2419 0 \nL 2419 1100 \nL 313 1100 \nL 313 1709 \nL 2253 4666 \nz\n\" id=\"DejaVuSans-34\" transform=\"scale(0.015625)\"/>\n      </defs>\n      <use xlink:href=\"#DejaVuSans-34\"/>\n     </g>\n    </g>\n   </g>\n   <g id=\"text_6\">\n    <g clip-path=\"url(#p50247ca0ec)\">\n     <!-- 5 -->\n     <g transform=\"translate(385.94128 273.519514)scale(0.12 -0.12)\">\n      <defs>\n       <path d=\"M 691 4666 \nL 3169 4666 \nL 3169 4134 \nL 1269 4134 \nL 1269 2991 \nQ 1406 3038 1543 3061 \nQ 1681 3084 1819 3084 \nQ 2600 3084 3056 2656 \nQ 3513 2228 3513 1497 \nQ 3513 744 3044 326 \nQ 2575 -91 1722 -91 \nQ 1428 -91 1123 -41 \nQ 819 9 494 109 \nL 494 744 \nQ 775 591 1075 516 \nQ 1375 441 1709 441 \nQ 2250 441 2565 725 \nQ 2881 1009 2881 1497 \nQ 2881 1984 2565 2268 \nQ 2250 2553 1709 2553 \nQ 1456 2553 1204 2497 \nQ 953 2441 691 2322 \nL 691 4666 \nz\n\" id=\"DejaVuSans-35\" transform=\"scale(0.015625)\"/>\n      </defs>\n      <use xlink:href=\"#DejaVuSans-35\"/>\n     </g>\n    </g>\n   </g>\n   <g id=\"text_7\">\n    <g clip-path=\"url(#p50247ca0ec)\">\n     <!-- 6 -->\n     <g transform=\"translate(52.82372 198.911125)scale(0.12 -0.12)\">\n      <defs>\n       <path d=\"M 2113 2584 \nQ 1688 2584 1439 2293 \nQ 1191 2003 1191 1497 \nQ 1191 994 1439 701 \nQ 1688 409 2113 409 \nQ 2538 409 2786 701 \nQ 3034 994 3034 1497 \nQ 3034 2003 2786 2293 \nQ 2538 2584 2113 2584 \nz\nM 3366 4563 \nL 3366 3988 \nQ 3128 4100 2886 4159 \nQ 2644 4219 2406 4219 \nQ 1781 4219 1451 3797 \nQ 1122 3375 1075 2522 \nQ 1259 2794 1537 2939 \nQ 1816 3084 2150 3084 \nQ 2853 3084 3261 2657 \nQ 3669 2231 3669 1497 \nQ 3669 778 3244 343 \nQ 2819 -91 2113 -91 \nQ 1303 -91 875 529 \nQ 447 1150 447 2328 \nQ 447 3434 972 4092 \nQ 1497 4750 2381 4750 \nQ 2619 4750 2861 4703 \nQ 3103 4656 3366 4563 \nz\n\" id=\"DejaVuSans-36\" transform=\"scale(0.015625)\"/>\n      </defs>\n      <use xlink:href=\"#DejaVuSans-36\"/>\n     </g>\n    </g>\n   </g>\n   <g id=\"text_8\">\n    <g clip-path=\"url(#p50247ca0ec)\">\n     <!-- 7 -->\n     <g transform=\"translate(121.837955 190.140382)scale(0.12 -0.12)\">\n      <defs>\n       <path d=\"M 525 4666 \nL 3525 4666 \nL 3525 4397 \nL 1831 0 \nL 1172 0 \nL 2766 4134 \nL 525 4134 \nL 525 4666 \nz\n\" id=\"DejaVuSans-37\" transform=\"scale(0.015625)\"/>\n      </defs>\n      <use xlink:href=\"#DejaVuSans-37\"/>\n     </g>\n    </g>\n   </g>\n   <g id=\"text_9\">\n    <g clip-path=\"url(#p50247ca0ec)\">\n     <!-- 8 -->\n     <g transform=\"translate(190.85219 184.719765)scale(0.12 -0.12)\">\n      <defs>\n       <path d=\"M 2034 2216 \nQ 1584 2216 1326 1975 \nQ 1069 1734 1069 1313 \nQ 1069 891 1326 650 \nQ 1584 409 2034 409 \nQ 2484 409 2743 651 \nQ 3003 894 3003 1313 \nQ 3003 1734 2745 1975 \nQ 2488 2216 2034 2216 \nz\nM 1403 2484 \nQ 997 2584 770 2862 \nQ 544 3141 544 3541 \nQ 544 4100 942 4425 \nQ 1341 4750 2034 4750 \nQ 2731 4750 3128 4425 \nQ 3525 4100 3525 3541 \nQ 3525 3141 3298 2862 \nQ 3072 2584 2669 2484 \nQ 3125 2378 3379 2068 \nQ 3634 1759 3634 1313 \nQ 3634 634 3220 271 \nQ 2806 -91 2034 -91 \nQ 1263 -91 848 271 \nQ 434 634 434 1313 \nQ 434 1759 690 2068 \nQ 947 2378 1403 2484 \nz\nM 1172 3481 \nQ 1172 3119 1398 2916 \nQ 1625 2713 2034 2713 \nQ 2441 2713 2670 2916 \nQ 2900 3119 2900 3481 \nQ 2900 3844 2670 4047 \nQ 2441 4250 2034 4250 \nQ 1625 4250 1398 4047 \nQ 1172 3844 1172 3481 \nz\n\" id=\"DejaVuSans-38\" transform=\"scale(0.015625)\"/>\n      </defs>\n      <use xlink:href=\"#DejaVuSans-38\"/>\n     </g>\n    </g>\n   </g>\n   <g id=\"text_10\">\n    <g clip-path=\"url(#p50247ca0ec)\">\n     <!-- 9 -->\n     <g transform=\"translate(259.866426 184.719765)scale(0.12 -0.12)\">\n      <defs>\n       <path d=\"M 703 97 \nL 703 672 \nQ 941 559 1184 500 \nQ 1428 441 1663 441 \nQ 2288 441 2617 861 \nQ 2947 1281 2994 2138 \nQ 2813 1869 2534 1725 \nQ 2256 1581 1919 1581 \nQ 1219 1581 811 2004 \nQ 403 2428 403 3163 \nQ 403 3881 828 4315 \nQ 1253 4750 1959 4750 \nQ 2769 4750 3195 4129 \nQ 3622 3509 3622 2328 \nQ 3622 1225 3098 567 \nQ 2575 -91 1691 -91 \nQ 1453 -91 1209 -44 \nQ 966 3 703 97 \nz\nM 1959 2075 \nQ 2384 2075 2632 2365 \nQ 2881 2656 2881 3163 \nQ 2881 3666 2632 3958 \nQ 2384 4250 1959 4250 \nQ 1534 4250 1286 3958 \nQ 1038 3666 1038 3163 \nQ 1038 2656 1286 2365 \nQ 1534 2075 1959 2075 \nz\n\" id=\"DejaVuSans-39\" transform=\"scale(0.015625)\"/>\n      </defs>\n      <use xlink:href=\"#DejaVuSans-39\"/>\n     </g>\n    </g>\n   </g>\n   <g id=\"text_11\">\n    <g clip-path=\"url(#p50247ca0ec)\">\n     <!-- 10 -->\n     <g transform=\"translate(325.063161 190.140382)scale(0.12 -0.12)\">\n      <use xlink:href=\"#DejaVuSans-31\"/>\n      <use x=\"63.623047\" xlink:href=\"#DejaVuSans-30\"/>\n     </g>\n    </g>\n   </g>\n   <g id=\"text_12\">\n    <g clip-path=\"url(#p50247ca0ec)\">\n     <!-- 11 -->\n     <g transform=\"translate(394.077397 198.911125)scale(0.12 -0.12)\">\n      <use xlink:href=\"#DejaVuSans-31\"/>\n      <use x=\"63.623047\" xlink:href=\"#DejaVuSans-31\"/>\n     </g>\n    </g>\n   </g>\n   <g id=\"text_13\">\n    <g clip-path=\"url(#p50247ca0ec)\">\n     <!-- 12 -->\n     <g transform=\"translate(49.00622 124.302735)scale(0.12 -0.12)\">\n      <use xlink:href=\"#DejaVuSans-31\"/>\n      <use x=\"63.623047\" xlink:href=\"#DejaVuSans-32\"/>\n     </g>\n    </g>\n   </g>\n   <g id=\"text_14\">\n    <g clip-path=\"url(#p50247ca0ec)\">\n     <!-- 13 -->\n     <g transform=\"translate(118.020455 115.531992)scale(0.12 -0.12)\">\n      <use xlink:href=\"#DejaVuSans-31\"/>\n      <use x=\"63.623047\" xlink:href=\"#DejaVuSans-33\"/>\n     </g>\n    </g>\n   </g>\n   <g id=\"text_15\">\n    <g clip-path=\"url(#p50247ca0ec)\">\n     <!-- 14 -->\n     <g transform=\"translate(187.03469 110.111375)scale(0.12 -0.12)\">\n      <use xlink:href=\"#DejaVuSans-31\"/>\n      <use x=\"63.623047\" xlink:href=\"#DejaVuSans-34\"/>\n     </g>\n    </g>\n   </g>\n   <g id=\"text_16\">\n    <g clip-path=\"url(#p50247ca0ec)\">\n     <!-- 15 -->\n     <g transform=\"translate(256.048926 110.111375)scale(0.12 -0.12)\">\n      <use xlink:href=\"#DejaVuSans-31\"/>\n      <use x=\"63.623047\" xlink:href=\"#DejaVuSans-35\"/>\n     </g>\n    </g>\n   </g>\n   <g id=\"text_17\">\n    <g clip-path=\"url(#p50247ca0ec)\">\n     <!-- 16 -->\n     <g transform=\"translate(325.063161 115.531992)scale(0.12 -0.12)\">\n      <use xlink:href=\"#DejaVuSans-31\"/>\n      <use x=\"63.623047\" xlink:href=\"#DejaVuSans-36\"/>\n     </g>\n    </g>\n   </g>\n   <g id=\"text_18\">\n    <g clip-path=\"url(#p50247ca0ec)\">\n     <!-- 17 -->\n     <g transform=\"translate(394.077397 124.302735)scale(0.12 -0.12)\">\n      <use xlink:href=\"#DejaVuSans-31\"/>\n      <use x=\"63.623047\" xlink:href=\"#DejaVuSans-37\"/>\n     </g>\n    </g>\n   </g>\n   <g id=\"text_19\">\n    <g clip-path=\"url(#p50247ca0ec)\">\n     <!-- 18 -->\n     <g transform=\"translate(37.052603 49.694345)scale(0.12 -0.12)\">\n      <use xlink:href=\"#DejaVuSans-31\"/>\n      <use x=\"63.623047\" xlink:href=\"#DejaVuSans-38\"/>\n     </g>\n    </g>\n   </g>\n   <g id=\"text_20\">\n    <g clip-path=\"url(#p50247ca0ec)\">\n     <!-- 19 -->\n     <g transform=\"translate(106.066839 40.923602)scale(0.12 -0.12)\">\n      <use xlink:href=\"#DejaVuSans-31\"/>\n      <use x=\"63.623047\" xlink:href=\"#DejaVuSans-39\"/>\n     </g>\n    </g>\n   </g>\n   <g id=\"text_21\">\n    <g clip-path=\"url(#p50247ca0ec)\">\n     <!-- 20 -->\n     <g transform=\"translate(175.081074 35.502986)scale(0.12 -0.12)\">\n      <use xlink:href=\"#DejaVuSans-32\"/>\n      <use x=\"63.623047\" xlink:href=\"#DejaVuSans-30\"/>\n     </g>\n    </g>\n   </g>\n   <g id=\"text_22\">\n    <g clip-path=\"url(#p50247ca0ec)\">\n     <!-- 21 -->\n     <g transform=\"translate(244.09531 35.502986)scale(0.12 -0.12)\">\n      <use xlink:href=\"#DejaVuSans-32\"/>\n      <use x=\"63.623047\" xlink:href=\"#DejaVuSans-31\"/>\n     </g>\n    </g>\n   </g>\n   <g id=\"text_23\">\n    <g clip-path=\"url(#p50247ca0ec)\">\n     <!-- 22 -->\n     <g transform=\"translate(313.109545 40.923602)scale(0.12 -0.12)\">\n      <use xlink:href=\"#DejaVuSans-32\"/>\n      <use x=\"63.623047\" xlink:href=\"#DejaVuSans-32\"/>\n     </g>\n    </g>\n   </g>\n   <g id=\"text_24\">\n    <g clip-path=\"url(#p50247ca0ec)\">\n     <!-- 23 -->\n     <g transform=\"translate(382.12378 49.694345)scale(0.12 -0.12)\">\n      <use xlink:href=\"#DejaVuSans-32\"/>\n      <use x=\"63.623047\" xlink:href=\"#DejaVuSans-33\"/>\n     </g>\n    </g>\n   </g>\n  </g>\n </g>\n <defs>\n  <clipPath id=\"p50247ca0ec\">\n   <rect height=\"288\" width=\"432\" x=\"7.2\" y=\"7.2\"/>\n  </clipPath>\n </defs>\n</svg>\n",
      "image/png": "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"
>>>>>>> 76f5380 (minor change)
     },
     "metadata": {}
    }
   ],
   "metadata": {}
  },
  {
<<<<<<< HEAD
   "cell_type": "code",
   "execution_count": 17,
   "source": [
    "onsite_interaction = 2.0\n",
    "FHM = FermiHubbard(\n",
    "    lattice=square,\n",
    "    onsite_interaction=onsite_interaction\n",
    ")\n",
    "FHM.hamiltonian()"
   ],
   "outputs": [
    {
     "output_type": "execute_result",
     "data": {
      "text/plain": [
       "FermionicOp([('+_0 -_2', (1+0j)), ('-_0 +_2', (-1+0j)), ('+_0 -_10', (-1+0j)), ('-_0 +_10', (1+0j)), ('+_0 -_0', 0j), ('+_10 -_12', (1+0j)), ('-_10 +_12', (-1+0j)), ('+_10 -_20', (-1+0j)), ('-_10 +_20', (1+0j)), ('+_10 -_10', 0j), ('+_2 -_4', (1+0j)), ('-_2 +_4', (-1+0j)), ('+_2 -_12', (-1+0j)), ('-_2 +_12', (1+0j)), ('+_2 -_2', 0j), ('+_12 -_14', (1+0j)), ('-_12 +_14', (-1+0j)), ('+_12 -_22', (-1+0j)), ('-_12 +_22', (1+0j)), ('+_12 -_12', 0j), ('+_4 -_6', (1+0j)), ('-_4 +_6', (-1+0j)), ('+_4 -_14', (-1+0j)), ('-_4 +_14', (1+0j)), ('+_4 -_4', 0j), ('+_14 -_16', (1+0j)), ('-_14 +_16', (-1+0j)), ('+_14 -_24', (-1+0j)), ('-_14 +_24', (1+0j)), ('+_14 -_14', 0j), ('+_6 -_8', (1+0j)), ('-_6 +_8', (-1+0j)), ('+_6 -_16', (-1+0j)), ('-_6 +_16', (1+0j)), ('+_6 -_6', 0j), ('+_16 -_18', (1+0j)), ('-_16 +_18', (-1+0j)), ('+_16 -_26', (-1+0j)), ('-_16 +_26', (1+0j)), ('+_16 -_16', 0j), ('+_20 -_22', (1+0j)), ('-_20 +_22', (-1+0j)), ('+_20 -_20', 0j), ('+_22 -_24', (1+0j)), ('-_22 +_24', (-1+0j)), ('+_22 -_22', 0j), ('+_24 -_26', (1+0j)), ('-_24 +_26', (-1+0j)), ('+_24 -_24', 0j), ('+_26 -_28', (1+0j)), ('-_26 +_28', (-1+0j)), ('+_26 -_26', 0j), ('+_8 -_18', (-1+0j)), ('-_8 +_18', (1+0j)), ('+_8 -_8', 0j), ('+_18 -_28', (-1+0j)), ('-_18 +_28', (1+0j)), ('+_18 -_18', 0j), ('+_28 -_28', 0j), ('+_1 -_3', (1+0j)), ('-_1 +_3', (-1+0j)), ('+_1 -_11', (-1+0j)), ('-_1 +_11', (1+0j)), ('+_1 -_1', 0j), ('+_11 -_13', (1+0j)), ('-_11 +_13', (-1+0j)), ('+_11 -_21', (-1+0j)), ('-_11 +_21', (1+0j)), ('+_11 -_11', 0j), ('+_3 -_5', (1+0j)), ('-_3 +_5', (-1+0j)), ('+_3 -_13', (-1+0j)), ('-_3 +_13', (1+0j)), ('+_3 -_3', 0j), ('+_13 -_15', (1+0j)), ('-_13 +_15', (-1+0j)), ('+_13 -_23', (-1+0j)), ('-_13 +_23', (1+0j)), ('+_13 -_13', 0j), ('+_5 -_7', (1+0j)), ('-_5 +_7', (-1+0j)), ('+_5 -_15', (-1+0j)), ('-_5 +_15', (1+0j)), ('+_5 -_5', 0j), ('+_15 -_17', (1+0j)), ('-_15 +_17', (-1+0j)), ('+_15 -_25', (-1+0j)), ('-_15 +_25', (1+0j)), ('+_15 -_15', 0j), ('+_7 -_9', (1+0j)), ('-_7 +_9', (-1+0j)), ('+_7 -_17', (-1+0j)), ('-_7 +_17', (1+0j)), ('+_7 -_7', 0j), ('+_17 -_19', (1+0j)), ('-_17 +_19', (-1+0j)), ('+_17 -_27', (-1+0j)), ('-_17 +_27', (1+0j)), ('+_17 -_17', 0j), ('+_21 -_23', (1+0j)), ('-_21 +_23', (-1+0j)), ('+_21 -_21', 0j), ('+_23 -_25', (1+0j)), ('-_23 +_25', (-1+0j)), ('+_23 -_23', 0j), ('+_25 -_27', (1+0j)), ('-_25 +_27', (-1+0j)), ('+_25 -_25', 0j), ('+_27 -_29', (1+0j)), ('-_27 +_29', (-1+0j)), ('+_27 -_27', 0j), ('+_9 -_19', (-1+0j)), ('-_9 +_19', (1+0j)), ('+_9 -_9', 0j), ('+_19 -_29', (-1+0j)), ('-_19 +_29', (1+0j)), ('+_19 -_19', 0j), ('+_29 -_29', 0j), ('+_0 -_0 +_1 -_1', (2+0j)), ('+_2 -_2 +_3 -_3', (2+0j)), ('+_4 -_4 +_5 -_5', (2+0j)), ('+_6 -_6 +_7 -_7', (2+0j)), ('+_8 -_8 +_9 -_9', (2+0j)), ('+_10 -_10 +_11 -_11', (2+0j)), ('+_12 -_12 +_13 -_13', (2+0j)), ('+_14 -_14 +_15 -_15', (2+0j)), ('+_16 -_16 +_17 -_17', (2+0j)), ('+_18 -_18 +_19 -_19', (2+0j)), ('+_20 -_20 +_21 -_21', (2+0j)), ('+_22 -_22 +_23 -_23', (2+0j)), ('+_24 -_24 +_25 -_25', (2+0j)), ('+_26 -_26 +_27 -_27', (2+0j)), ('+_28 -_28 +_29 -_29', (2+0j))], register_length=30)"
      ]
     },
     "metadata": {},
     "execution_count": 17
    }
=======
   "cell_type": "markdown",
   "source": [

    "## hopping matrix $t_{x, y}$"
>>>>>>> a2a00fb (add files and edit them)
=======
    "## **adjacency matrix(hopping matrix) $t_{x, y}$**"
>>>>>>> 580bca3 (update)
   ],
   "metadata": {}
  },
  {
   "cell_type": "code",


   "execution_count": 18,
   "source": [
    "FHM.hopping_matrix()"
=======
   "execution_count": 9,
   "source": [
    "U = 5.0\n",
    "model = hamiltonian.FermiHubbard(\n",
    "    one_dim_lattice,\n",
    "    U\n",
    ")\n",
    "model.generator()"
>>>>>>> c8a0692 (minor change)
=======
   "cell_type": "code",
   "execution_count": 10,
   "source": [
    "FHM.hopping_matrix()"
>>>>>>> 8cd6705 (update)
=======
   "execution_count": 4,
   "source": [

    "general_lattice.to_hopping_matrix()"
>>>>>>> a2a00fb (add files and edit them)
=======
    "general_lattice.to_adjacency_matrix()"
>>>>>>> 580bca3 (update)
   ],
   "outputs": [
    {
     "output_type": "execute_result",
     "data": {
      "text/plain": [



       "array([[ 0.+0.j,  1.+0.j,  0.+0.j,  0.+0.j,  0.+0.j, -1.+0.j,  0.+0.j,\n",
       "         0.+0.j,  0.+0.j,  0.+0.j,  0.+0.j,  0.+0.j,  0.+0.j,  0.+0.j,\n",
       "         0.+0.j],\n",
       "       [ 1.+0.j,  0.+0.j,  1.+0.j,  0.+0.j,  0.+0.j,  0.+0.j, -1.+0.j,\n",
       "         0.+0.j,  0.+0.j,  0.+0.j,  0.+0.j,  0.+0.j,  0.+0.j,  0.+0.j,\n",
       "         0.+0.j],\n",
       "       [ 0.+0.j,  1.+0.j,  0.+0.j,  1.+0.j,  0.+0.j,  0.+0.j,  0.+0.j,\n",
       "        -1.+0.j,  0.+0.j,  0.+0.j,  0.+0.j,  0.+0.j,  0.+0.j,  0.+0.j,\n",
       "         0.+0.j],\n",
       "       [ 0.+0.j,  0.+0.j,  1.+0.j,  0.+0.j,  1.+0.j,  0.+0.j,  0.+0.j,\n",
       "         0.+0.j, -1.+0.j,  0.+0.j,  0.+0.j,  0.+0.j,  0.+0.j,  0.+0.j,\n",
       "         0.+0.j],\n",
       "       [ 0.+0.j,  0.+0.j,  0.+0.j,  1.+0.j,  0.+0.j,  0.+0.j,  0.+0.j,\n",
       "         0.+0.j,  0.+0.j, -1.+0.j,  0.+0.j,  0.+0.j,  0.+0.j,  0.+0.j,\n",
       "         0.+0.j],\n",
       "       [-1.+0.j,  0.+0.j,  0.+0.j,  0.+0.j,  0.+0.j,  0.+0.j,  1.+0.j,\n",
       "         0.+0.j,  0.+0.j,  0.+0.j, -1.+0.j,  0.+0.j,  0.+0.j,  0.+0.j,\n",
       "         0.+0.j],\n",
       "       [ 0.+0.j, -1.+0.j,  0.+0.j,  0.+0.j,  0.+0.j,  1.+0.j,  0.+0.j,\n",
       "         1.+0.j,  0.+0.j,  0.+0.j,  0.+0.j, -1.+0.j,  0.+0.j,  0.+0.j,\n",
       "         0.+0.j],\n",
       "       [ 0.+0.j,  0.+0.j, -1.+0.j,  0.+0.j,  0.+0.j,  0.+0.j,  1.+0.j,\n",
       "         0.+0.j,  1.+0.j,  0.+0.j,  0.+0.j,  0.+0.j, -1.+0.j,  0.+0.j,\n",
       "         0.+0.j],\n",
       "       [ 0.+0.j,  0.+0.j,  0.+0.j, -1.+0.j,  0.+0.j,  0.+0.j,  0.+0.j,\n",
       "         1.+0.j,  0.+0.j,  1.+0.j,  0.+0.j,  0.+0.j,  0.+0.j, -1.+0.j,\n",
       "         0.+0.j],\n",
       "       [ 0.+0.j,  0.+0.j,  0.+0.j,  0.+0.j, -1.+0.j,  0.+0.j,  0.+0.j,\n",
       "         0.+0.j,  1.+0.j,  0.+0.j,  0.+0.j,  0.+0.j,  0.+0.j,  0.+0.j,\n",
       "        -1.+0.j],\n",
       "       [ 0.+0.j,  0.+0.j,  0.+0.j,  0.+0.j,  0.+0.j, -1.+0.j,  0.+0.j,\n",
       "         0.+0.j,  0.+0.j,  0.+0.j,  0.+0.j,  1.+0.j,  0.+0.j,  0.+0.j,\n",
       "         0.+0.j],\n",
       "       [ 0.+0.j,  0.+0.j,  0.+0.j,  0.+0.j,  0.+0.j,  0.+0.j, -1.+0.j,\n",
       "         0.+0.j,  0.+0.j,  0.+0.j,  1.+0.j,  0.+0.j,  1.+0.j,  0.+0.j,\n",
       "         0.+0.j],\n",
       "       [ 0.+0.j,  0.+0.j,  0.+0.j,  0.+0.j,  0.+0.j,  0.+0.j,  0.+0.j,\n",
       "        -1.+0.j,  0.+0.j,  0.+0.j,  0.+0.j,  1.+0.j,  0.+0.j,  1.+0.j,\n",
       "         0.+0.j],\n",
       "       [ 0.+0.j,  0.+0.j,  0.+0.j,  0.+0.j,  0.+0.j,  0.+0.j,  0.+0.j,\n",
       "         0.+0.j, -1.+0.j,  0.+0.j,  0.+0.j,  0.+0.j,  1.+0.j,  0.+0.j,\n",
       "         1.+0.j],\n",
       "       [ 0.+0.j,  0.+0.j,  0.+0.j,  0.+0.j,  0.+0.j,  0.+0.j,  0.+0.j,\n",
       "         0.+0.j,  0.+0.j, -1.+0.j,  0.+0.j,  0.+0.j,  0.+0.j,  1.+0.j,\n",
       "         0.+0.j]])"
      ]
     },
     "metadata": {},
     "execution_count": 18
=======
     "execution_count": 9
>>>>>>> c8a0692 (minor change)
=======
       "array([[ 1.+0.j, -1.+0.j,  0.+0.j,  0.+0.j],\n",
       "       [-1.+0.j,  1.+0.j, -1.+0.j,  0.+0.j],\n",
       "       [ 0.+0.j, -1.+0.j,  1.+0.j, -1.+0.j],\n",
       "       [ 0.+0.j,  0.+0.j, -1.+0.j,  1.+0.j]])"
      ]
     },
     "metadata": {},


     "execution_count": 17
>>>>>>> 8cd6705 (update)
=======
     "execution_count": 9
>>>>>>> 65507fc (update)
=======
     "execution_count": 10
>>>>>>> 540e228 (minor change)
=======
       "array([[ 0.,  1., -1.,  0.,  0.,  0.],\n",
       "       [ 1.,  0.,  0.,  0.,  0.,  0.],\n",
       "       [-1.,  0.,  0.,  2., -1., -1.],\n",
       "       [ 0.,  0.,  2.,  0.,  0.,  0.],\n",
       "       [ 0.,  0., -1.,  0.,  3.,  0.],\n",
       "       [ 0.,  0., -1.,  0.,  0.,  0.]])"
=======
       "array([[ 0.+0.j,  1.+0.j, -1.+0.j,  0.+0.j,  0.+0.j,  0.+0.j],\n",
       "       [ 1.+0.j,  0.+0.j,  0.+0.j,  0.+0.j,  0.+0.j,  0.+0.j],\n",
       "       [-1.+0.j,  0.+0.j,  0.+0.j,  2.+0.j, -1.+0.j, -1.+0.j],\n",
       "       [ 0.+0.j,  0.+0.j,  2.+0.j,  0.+0.j,  0.+0.j,  0.+0.j],\n",
       "       [ 0.+0.j,  0.+0.j, -1.+0.j,  0.+0.j,  3.+0.j,  0.+0.j],\n",
       "       [ 0.+0.j,  0.+0.j, -1.+0.j,  0.+0.j,  0.+0.j,  0.+0.j]])"
>>>>>>> 580bca3 (update)
      ]
     },
     "metadata": {},
     "execution_count": 4
>>>>>>> a2a00fb (add files and edit them)
    }
   ],
   "metadata": {}
  },
  {
   "cell_type": "markdown",
   "source": [


    "# **The FHM from parameters(hopping matrix and on-site interaction)**"
=======
   "cell_type": "markdown",
   "source": [
    "## ***The FHM from parameters(hopping matrix and on-site interaction)***"
>>>>>>> 76f5380 (minor change)
   ],
   "metadata": {
    "slideshow": {
     "slide_type": "slide"
    }
   }
  },
  {
   "cell_type": "code",
   "execution_count": 26,
   "source": [
    "hopping_matrix = np.array([\n",
    "    [1. , -1. + 1.j, -5.+5.j], \n",
    "    [-1.-1.j, 2., 1.], \n",
    "    [-5.-5.j, 1., 2.]\n",
    "])\n",
    "\n",
    "onsite_interaction = 2.0\n",
    "\n",
    "FHM = FermiHubbard.from_parameters(\n",
    "    hopping_matrix=hopping_matrix,\n",
    "    onsite_interaction=onsite_interaction\n",
    ")\n",
    "\n",
    "ham = FHM.second_q_ops()\n",
    "print(ham)\n",
    "print(FHM.hopping_matrix())"
   ],
   "outputs": [
    {
     "output_type": "stream",
     "name": "stdout",
     "text": [
      "  NIIIII * (1+0j)\n",
      "+ +I-III * (-1+1j)\n",
      "+ -I+III * (1+1j)\n",
      "+ +III-I * (-5+5j)\n",
      "+ -III+I * (5+5j)\n",
      "+ IINIII * (2+0j)\n",
      "+ II+I-I * (1+0j)\n",
      "+ II-I+I * (-1+0j)\n",
      "+ IIIINI * (2+0j)\n",
      "+ INIIII * (1+0j)\n",
      "+ I+I-II * (-1+1j)\n",
      "+ I-I+II * (1+1j)\n",
      "+ I+III- * (-5+5j)\n",
      "+ I-III+ * (5+5j)\n",
      "+ IIINII * (2+0j)\n",
      "+ III+I- * (1+0j)\n",
      "+ III-I+ * (-1+0j)\n",
      "+ IIIIIN * (2+0j)\n",
      "+ NNIIII * (2+0j)\n",
      "+ IINNII * (2+0j)\n",
      "+ IIIINN * (2+0j)\n",
      "[[ 1.+0.j -1.+1.j -5.+5.j]\n",
      " [-1.-1.j  2.+0.j  1.+0.j]\n",
      " [-5.-5.j  1.+0.j  2.+0.j]]\n"
     ]
    }
=======
    "## **Operator expression**"
>>>>>>> 8cd6705 (update)
=======
    "## **Fermi-Hubbard model**"
>>>>>>> a2a00fb (add files and edit them)
   ],
<<<<<<< HEAD
   "metadata": {}
  },
  {

   "cell_type": "code",
   "execution_count": 20,
   "source": [

    "FHM.hopping_matrix()"
=======
    "onsite_interaction = 2.0\n",
    "FHM = FermiHubbard(\n",
    "    lattice=general_lattice,\n",
    "    onsite_interaction=onsite_interaction\n",
    ")\n",
    "\n",
<<<<<<< HEAD
    "FHM.hamiltonian()"
>>>>>>> 580bca3 (update)
   ],
   "outputs": [
    {
     "output_type": "execute_result",
     "data": {
      "text/plain": [
       "array([[ 1.+0.j, -1.+1.j, -5.+5.j],\n",
       "       [-1.-1.j,  2.+0.j,  1.+0.j],\n",
       "       [-5.-5.j,  1.+0.j,  2.+0.j]])"
      ]
     },
     "metadata": {},
     "execution_count": 20
    }
    "ham = FHM.hamiltonian()\n",
    "ham.set_label_display_mode(\"sparse\")\n",
    "print(ham)"
   ],
   "outputs": [
    {
     "output_type": "stream",
     "name": "stdout",
     "text": [
      "  +_0 -_2 * (-1+0j)\n",
      "+ -_0 +_2 * (1+0j)\n",
      "+ +_0 -_4 * (-1+0j)\n",
      "+ -_0 +_4 * (1+0j)\n",
      "+ +_4 -_6 * (2+0j)\n",
      "+ -_4 +_6 * (-2+0j)\n",
      "+ +_4 -_8 * (-1+0j)\n",
      "+ -_4 +_8 * (1+0j)\n",
      "+ +_8 -_8 * (3+0j)\n",
      "+ +_4 -_10 * (-1+0j)\n",
      "+ -_4 +_10 * (1+0j)\n",
      "+ +_1 -_3 * (-1+0j)\n",
      "+ -_1 +_3 * (1+0j)\n",
      "+ +_1 -_5 * (-1+0j)\n",
      "+ -_1 +_5 * (1+0j)\n",
      "+ +_5 -_7 * (2+0j)\n",
      "+ -_5 +_7 * (-2+0j)\n",
      "+ +_5 -_9 * (-1+0j)\n",
      "+ -_5 +_9 * (1+0j)\n",
      "+ +_9 -_9 * (3+0j)\n",
      "+ +_5 -_11 * (-1+0j)\n",
      "+ -_5 +_11 * (1+0j)\n",
      "+ +_0 -_0 +_1 -_1 * (2+0j)\n",
      "+ +_2 -_2 +_3 -_3 * (2+0j)\n",
      "+ +_4 -_4 +_5 -_5 * (2+0j)\n",
      "+ +_6 -_6 +_7 -_7 * (2+0j)\n",
      "+ +_8 -_8 +_9 -_9 * (2+0j)\n",
      "+ +_10 -_10 +_11 -_11 * (2+0j)\n"
     ]
>>>>>>> eeb6d30 (minor change)
    }
>>>>>>> a2a00fb (add files and edit them)
   ],
   "metadata": {}
  },
  {
   "cell_type": "code",
   "execution_count": 6,
   "source": [
    "FHM.hopping_matrix()"
   ],
   "outputs": [
    {
     "output_type": "execute_result",
     "data": {
      "text/plain": [
       "array([[ 0.+0.j, -1.+0.j, -1.+0.j,  0.+0.j,  0.+0.j,  0.+0.j],\n",
       "       [-1.+0.j,  0.+0.j,  0.+0.j,  0.+0.j,  0.+0.j,  0.+0.j],\n",
       "       [-1.+0.j,  0.+0.j,  0.+0.j,  2.+0.j, -1.+0.j, -1.+0.j],\n",
       "       [ 0.+0.j,  0.+0.j,  2.+0.j,  0.+0.j,  0.+0.j,  0.+0.j],\n",
       "       [ 0.+0.j,  0.+0.j, -1.+0.j,  0.+0.j,  3.+0.j,  0.+0.j],\n",
       "       [ 0.+0.j,  0.+0.j, -1.+0.j,  0.+0.j,  0.+0.j,  0.+0.j]])"
      ]
     },
     "metadata": {},
     "execution_count": 6
    }
   ],
   "metadata": {}
  },
  {
   "cell_type": "markdown",
   "source": [

    "# **One-dimensional case (periodic boundary condition)**"
=======
    "# **One-dimensional case(open boundary condition)**"
>>>>>>> 580bca3 (update)
   ],
   "metadata": {}
=======
   "metadata": {
    "slideshow": {
     "slide_type": "subslide"
    }
   }
>>>>>>> 76f5380 (minor change)
  },
  {
   "cell_type": "code",
<<<<<<< HEAD


   "execution_count": 11,
=======
   "execution_count": 6,
>>>>>>> 7c27813 (update)
=======
   "execution_count": 7,
>>>>>>> eeb6d30 (minor change)
   "source": [
    "lattice_points = 4\n",
    "t = -1.0\n",
    "onsite_potential = 1.0\n",
    "one_dim_lattice = lattice.LineLattice(\n",
    "    num_nodes=lattice_points,\n",
    "    edge_parameter=t,\n",
    "    onsite_parameter=onsite_potential,\n",
    "    boundary_condition=\"periodic\"\n",
    ")"
   ],
=======
   "execution_count": null,
   "source": [],
>>>>>>> a770f16 (minor change)
   "outputs": [],
   "metadata": {}
  },
  {
   "cell_type": "markdown",
   "source": [
    "## **visualization**"
   ],
   "metadata": {}
  },
  {
   "cell_type": "code",


   "execution_count": 12,
=======
   "execution_count": 7,
>>>>>>> 7c27813 (update)
=======
   "execution_count": 8,
>>>>>>> eeb6d30 (minor change)
   "source": [
    "pos = {0:[0, 0], 1:[1, 0], 2:[2, 0], 3:[3, 0]}\n",
    "one_dim_lattice.draw(pos=pos, with_labels=True)"
   ],
   "outputs": [
    {
     "output_type": "display_data",
     "data": {
      "text/plain": [
       "<Figure size 432x288 with 1 Axes>"
      ],


      "image/png": "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"
=======
      "image/png": "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"
>>>>>>> 7c27813 (update)
=======
      "image/png": "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"
>>>>>>> eeb6d30 (minor change)
     },
     "metadata": {}
    }
   ],
   "metadata": {}
  },
  {
   "cell_type": "markdown",
   "source": [
    "## **Fermi-Hubbard model**"
   ],
   "metadata": {}
  },
  {
   "cell_type": "code",


   "execution_count": 13,
=======
   "execution_count": null,
>>>>>>> 8066556 (minor change)
   "source": [
    "FHM = FermiHubbard(\n",
    "    one_dim_lattice,\n",
    "    onsite_interaction\n",
    ")\n",
    "\n",
    "FHM.hamiltonian()"
   ],
   "outputs": [
    {
     "output_type": "execute_result",
     "data": {
      "text/plain": [
       "FermionicOp([('+_0 -_2', (-1+0j)), ('-_0 +_2', (1+0j)), ('+_2 -_4', (-1+0j)), ('-_2 +_4', (1+0j)), ('+_4 -_6', (-1+0j)), ('-_4 +_6', (1+0j)), ('+_0 -_6', (-1+0j)), ('-_0 +_6', (1+0j)), ('+_0 -_0', (1+0j)), ('+_2 -_2', (1+0j)), ('+_4 -_4', (1+0j)), ('+_6 -_6', (1+0j)), ('+_1 -_3', (-1+0j)), ('-_1 +_3', (1+0j)), ('+_3 -_5', (-1+0j)), ('-_3 +_5', (1+0j)), ('+_5 -_7', (-1+0j)), ('-_5 +_7', (1+0j)), ('+_1 -_7', (-1+0j)), ('-_1 +_7', (1+0j)), ('+_1 -_1', (1+0j)), ('+_3 -_3', (1+0j)), ('+_5 -_5', (1+0j)), ('+_7 -_7', (1+0j)), ('+_0 -_0 +_1 -_1', (5+0j)), ('+_2 -_2 +_3 -_3', (5+0j)), ('+_4 -_4 +_5 -_5', (5+0j)), ('+_6 -_6 +_7 -_7', (5+0j))], register_length=8)"
      ]
     },
     "metadata": {},
     "execution_count": 13
    }
   }
  },
  {
   "cell_type": "code",
   "execution_count": 14,
   "source": [
    "FHM.hopping_matrix()"
=======
   "execution_count": 9,
>>>>>>> eeb6d30 (minor change)
   "source": [
    "onsite_interaction = 5.0\n",
    "FHM = FermiHubbard(\n",
    "    one_dim_lattice,\n",
    "    onsite_interaction\n",
    ")\n",
    "FHM.hamiltonian()"
>>>>>>> 580bca3 (update)
   ],
<<<<<<< HEAD
   "outputs": [
    {
     "output_type": "execute_result",
     "data": {
      "text/plain": [

       "array([[ 1.+0.j, -1.+0.j,  0.+0.j, -1.+0.j],\n",
       "       [-1.+0.j,  1.+0.j, -1.+0.j,  0.+0.j],\n",
       "       [ 0.+0.j, -1.+0.j,  1.+0.j, -1.+0.j],\n",
       "       [-1.+0.j,  0.+0.j, -1.+0.j,  1.+0.j]])"
      ]
     },
     "metadata": {},
     "execution_count": 14
      ]
     },
     "metadata": {},
<<<<<<< HEAD

     "execution_count": 16
>>>>>>> 580bca3 (update)
=======
   "outputs": [],
   "metadata": {
    "slideshow": {
     "slide_type": "fragment"
>>>>>>> 8066556 (minor change)
    }
   }
  },
  {
   "cell_type": "markdown",
   "source": [
    "### **Fermi-Hubbard model**"
   ],
   "metadata": {
    "slideshow": {
     "slide_type": "subslide"
    }
   }
  },
  {
   "cell_type": "code",
   "execution_count": null,
   "source": [
    "onsite_interaction = 2.0\n",
    "FHM = FermiHubbard(\n",
    "    lattice=lattice_from_ad_mat,\n",
    "    onsite_interaction=onsite_interaction\n",
    ")\n",
    "\n",
    "FHM.hamiltonian()"
   ],
   "outputs": [],
   "metadata": {
    "slideshow": {
     "slide_type": "fragment"
    }
   }
  },
  {

   "cell_type": "markdown",
   "source": [
<<<<<<< HEAD
    "# **Square lattice**"
=======
    "## ***One-dimensional case(open boundary condition)***"
>>>>>>> 8066556 (minor change)
   ],
   "metadata": {
    "slideshow": {
     "slide_type": "slide"
    }
   }
  },
  {
   "cell_type": "code",
<<<<<<< HEAD
   "execution_count": 15,
=======
   "execution_count": null,
>>>>>>> 8066556 (minor change)
   "source": [
    "rows = 5\n",
    "cols = 3\n",
    "square = lattice.SquareLattice(\n",
    "    rows=rows,\n",
    "    cols=cols,\n",
    "    edge_parameter=(1.0, -1.0),\n",
    "    boundary_condition=\"open\"\n",
    ")"
   ],
   "outputs": [],
   "metadata": {
    "slideshow": {
     "slide_type": "subslide"
    }
   }
  },
  {
<<<<<<< HEAD
   "cell_type": "code",
   "execution_count": 16,
=======
   "cell_type": "markdown",
   "source": [
    "### **visualization**"
   ],
   "metadata": {
    "slideshow": {
     "slide_type": "subslide"
    }
   }
  },
  {
   "cell_type": "code",
   "execution_count": null,
>>>>>>> 8066556 (minor change)
   "source": [
    "def indextocoord(index:int, size:list) -> list:\n",
    "    x = index % rows\n",
    "    y = index // rows\n",
    "    return [x, y]\n",
    "pos = dict([(index, indextocoord(index, [rows, cols])) for index in range(np.prod([rows, cols]))])\n",
    "square.draw(pos=pos, with_labels=True)"
   ],
<<<<<<< HEAD
   "outputs": [
    {
     "output_type": "display_data",
     "data": {
      "text/plain": [
       "<Figure size 432x288 with 1 Axes>"
      ],
      "image/png": "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"
     },
     "metadata": {}
=======
     "execution_count": 8
>>>>>>> 7c27813 (update)
=======
     "execution_count": 9
>>>>>>> eeb6d30 (minor change)
=======
   "outputs": [],
   "metadata": {
    "slideshow": {
     "slide_type": "fragment"
>>>>>>> 8066556 (minor change)
    }
   }
  },
  {
<<<<<<< HEAD
   "cell_type": "code",
   "execution_count": 10,
=======
   "cell_type": "markdown",
   "source": [
    "### **Fermi-Hubbard model**"
   ],
   "metadata": {
    "slideshow": {
     "slide_type": "subslide"
    }
   }
  },
  {
   "cell_type": "code",
   "execution_count": null,
>>>>>>> 8066556 (minor change)
   "source": [
    "onsite_interaction = 2.0\n",
    "FHM = FermiHubbard(\n",
    "    lattice=square,\n",
    "    onsite_interaction=onsite_interaction\n",
    ")\n",
    "FHM.hamiltonian()"
=======
   "cell_type": "code",
   "execution_count": 17,
   "source": [
    "FHM.hopping_matrix()"
>>>>>>> 580bca3 (update)
   ],
<<<<<<< HEAD
   "outputs": [
    {
     "output_type": "execute_result",
     "data": {
      "text/plain": [

       "FermionicOp([('+_0 -_2', (1+0j)), ('-_0 +_2', (-1+0j)), ('+_0 -_10', (-1+0j)), ('-_0 +_10', (1+0j)), ('+_0 -_0', 0j), ('+_10 -_12', (1+0j)), ('-_10 +_12', (-1+0j)), ('+_10 -_20', (-1+0j)), ('-_10 +_20', (1+0j)), ('+_10 -_10', 0j), ('+_2 -_4', (1+0j)), ('-_2 +_4', (-1+0j)), ('+_2 -_12', (-1+0j)), ('-_2 +_12', (1+0j)), ('+_2 -_2', 0j), ('+_12 -_14', (1+0j)), ('-_12 +_14', (-1+0j)), ('+_12 -_22', (-1+0j)), ('-_12 +_22', (1+0j)), ('+_12 -_12', 0j), ('+_4 -_6', (1+0j)), ('-_4 +_6', (-1+0j)), ('+_4 -_14', (-1+0j)), ('-_4 +_14', (1+0j)), ('+_4 -_4', 0j), ('+_14 -_16', (1+0j)), ('-_14 +_16', (-1+0j)), ('+_14 -_24', (-1+0j)), ('-_14 +_24', (1+0j)), ('+_14 -_14', 0j), ('+_6 -_8', (1+0j)), ('-_6 +_8', (-1+0j)), ('+_6 -_16', (-1+0j)), ('-_6 +_16', (1+0j)), ('+_6 -_6', 0j), ('+_16 -_18', (1+0j)), ('-_16 +_18', (-1+0j)), ('+_16 -_26', (-1+0j)), ('-_16 +_26', (1+0j)), ('+_16 -_16', 0j), ('+_20 -_22', (1+0j)), ('-_20 +_22', (-1+0j)), ('+_20 -_20', 0j), ('+_22 -_24', (1+0j)), ('-_22 +_24', (-1+0j)), ('+_22 -_22', 0j), ('+_24 -_26', (1+0j)), ('-_24 +_26', (-1+0j)), ('+_24 -_24', 0j), ('+_26 -_28', (1+0j)), ('-_26 +_28', (-1+0j)), ('+_26 -_26', 0j), ('+_8 -_18', (-1+0j)), ('-_8 +_18', (1+0j)), ('+_8 -_8', 0j), ('+_18 -_28', (-1+0j)), ('-_18 +_28', (1+0j)), ('+_18 -_18', 0j), ('+_28 -_28', 0j), ('+_1 -_3', (1+0j)), ('-_1 +_3', (-1+0j)), ('+_1 -_11', (-1+0j)), ('-_1 +_11', (1+0j)), ('+_1 -_1', 0j), ('+_11 -_13', (1+0j)), ('-_11 +_13', (-1+0j)), ('+_11 -_21', (-1+0j)), ('-_11 +_21', (1+0j)), ('+_11 -_11', 0j), ('+_3 -_5', (1+0j)), ('-_3 +_5', (-1+0j)), ('+_3 -_13', (-1+0j)), ('-_3 +_13', (1+0j)), ('+_3 -_3', 0j), ('+_13 -_15', (1+0j)), ('-_13 +_15', (-1+0j)), ('+_13 -_23', (-1+0j)), ('-_13 +_23', (1+0j)), ('+_13 -_13', 0j), ('+_5 -_7', (1+0j)), ('-_5 +_7', (-1+0j)), ('+_5 -_15', (-1+0j)), ('-_5 +_15', (1+0j)), ('+_5 -_5', 0j), ('+_15 -_17', (1+0j)), ('-_15 +_17', (-1+0j)), ('+_15 -_25', (-1+0j)), ('-_15 +_25', (1+0j)), ('+_15 -_15', 0j), ('+_7 -_9', (1+0j)), ('-_7 +_9', (-1+0j)), ('+_7 -_17', (-1+0j)), ('-_7 +_17', (1+0j)), ('+_7 -_7', 0j), ('+_17 -_19', (1+0j)), ('-_17 +_19', (-1+0j)), ('+_17 -_27', (-1+0j)), ('-_17 +_27', (1+0j)), ('+_17 -_17', 0j), ('+_21 -_23', (1+0j)), ('-_21 +_23', (-1+0j)), ('+_21 -_21', 0j), ('+_23 -_25', (1+0j)), ('-_23 +_25', (-1+0j)), ('+_23 -_23', 0j), ('+_25 -_27', (1+0j)), ('-_25 +_27', (-1+0j)), ('+_25 -_25', 0j), ('+_27 -_29', (1+0j)), ('-_27 +_29', (-1+0j)), ('+_27 -_27', 0j), ('+_9 -_19', (-1+0j)), ('-_9 +_19', (1+0j)), ('+_9 -_9', 0j), ('+_19 -_29', (-1+0j)), ('-_19 +_29', (1+0j)), ('+_19 -_19', 0j), ('+_29 -_29', 0j), ('+_0 -_0 +_1 -_1', (2+0j)), ('+_2 -_2 +_3 -_3', (2+0j)), ('+_4 -_4 +_5 -_5', (2+0j)), ('+_6 -_6 +_7 -_7', (2+0j)), ('+_8 -_8 +_9 -_9', (2+0j)), ('+_10 -_10 +_11 -_11', (2+0j)), ('+_12 -_12 +_13 -_13', (2+0j)), ('+_14 -_14 +_15 -_15', (2+0j)), ('+_16 -_16 +_17 -_17', (2+0j)), ('+_18 -_18 +_19 -_19', (2+0j)), ('+_20 -_20 +_21 -_21', (2+0j)), ('+_22 -_22 +_23 -_23', (2+0j)), ('+_24 -_24 +_25 -_25', (2+0j)), ('+_26 -_26 +_27 -_27', (2+0j)), ('+_28 -_28 +_29 -_29', (2+0j))], register_length=30)"
=======
       "array([[ 1.+0.j, -1.+0.j,  0.+0.j,  0.+0.j],\n",
       "       [-1.+0.j,  1.+0.j, -1.+0.j,  0.+0.j],\n",
       "       [ 0.+0.j, -1.+0.j,  1.+0.j, -1.+0.j],\n",
       "       [ 0.+0.j,  0.+0.j, -1.+0.j,  1.+0.j]])"
>>>>>>> 580bca3 (update)
      ]
     },
     "metadata": {},
     "execution_count": 10
=======
   "outputs": [],
   "metadata": {
    "slideshow": {
     "slide_type": "fragment"
>>>>>>> 8066556 (minor change)
    }
   }
  },
  {
   "cell_type": "code",
<<<<<<< HEAD
   "execution_count": 18,
=======
   "execution_count": null,
>>>>>>> 8066556 (minor change)
   "source": [

    "FHM.hopping_matrix()"
   ],
<<<<<<< HEAD
   "outputs": [
    {
     "output_type": "execute_result",
     "data": {
      "text/plain": [
       "array([[ 0.+0.j,  1.+0.j,  0.+0.j,  0.+0.j,  0.+0.j, -1.+0.j,  0.+0.j,\n",
       "         0.+0.j,  0.+0.j,  0.+0.j,  0.+0.j,  0.+0.j,  0.+0.j,  0.+0.j,\n",
       "         0.+0.j],\n",
       "       [ 1.+0.j,  0.+0.j,  1.+0.j,  0.+0.j,  0.+0.j,  0.+0.j, -1.+0.j,\n",
       "         0.+0.j,  0.+0.j,  0.+0.j,  0.+0.j,  0.+0.j,  0.+0.j,  0.+0.j,\n",
       "         0.+0.j],\n",
       "       [ 0.+0.j,  1.+0.j,  0.+0.j,  1.+0.j,  0.+0.j,  0.+0.j,  0.+0.j,\n",
       "        -1.+0.j,  0.+0.j,  0.+0.j,  0.+0.j,  0.+0.j,  0.+0.j,  0.+0.j,\n",
       "         0.+0.j],\n",
       "       [ 0.+0.j,  0.+0.j,  1.+0.j,  0.+0.j,  1.+0.j,  0.+0.j,  0.+0.j,\n",
       "         0.+0.j, -1.+0.j,  0.+0.j,  0.+0.j,  0.+0.j,  0.+0.j,  0.+0.j,\n",
       "         0.+0.j],\n",
       "       [ 0.+0.j,  0.+0.j,  0.+0.j,  1.+0.j,  0.+0.j,  0.+0.j,  0.+0.j,\n",
       "         0.+0.j,  0.+0.j, -1.+0.j,  0.+0.j,  0.+0.j,  0.+0.j,  0.+0.j,\n",
       "         0.+0.j],\n",
       "       [-1.+0.j,  0.+0.j,  0.+0.j,  0.+0.j,  0.+0.j,  0.+0.j,  1.+0.j,\n",
       "         0.+0.j,  0.+0.j,  0.+0.j, -1.+0.j,  0.+0.j,  0.+0.j,  0.+0.j,\n",
       "         0.+0.j],\n",
       "       [ 0.+0.j, -1.+0.j,  0.+0.j,  0.+0.j,  0.+0.j,  1.+0.j,  0.+0.j,\n",
       "         1.+0.j,  0.+0.j,  0.+0.j,  0.+0.j, -1.+0.j,  0.+0.j,  0.+0.j,\n",
       "         0.+0.j],\n",
       "       [ 0.+0.j,  0.+0.j, -1.+0.j,  0.+0.j,  0.+0.j,  0.+0.j,  1.+0.j,\n",
       "         0.+0.j,  1.+0.j,  0.+0.j,  0.+0.j,  0.+0.j, -1.+0.j,  0.+0.j,\n",
       "         0.+0.j],\n",
       "       [ 0.+0.j,  0.+0.j,  0.+0.j, -1.+0.j,  0.+0.j,  0.+0.j,  0.+0.j,\n",
       "         1.+0.j,  0.+0.j,  1.+0.j,  0.+0.j,  0.+0.j,  0.+0.j, -1.+0.j,\n",
       "         0.+0.j],\n",
       "       [ 0.+0.j,  0.+0.j,  0.+0.j,  0.+0.j, -1.+0.j,  0.+0.j,  0.+0.j,\n",
       "         0.+0.j,  1.+0.j,  0.+0.j,  0.+0.j,  0.+0.j,  0.+0.j,  0.+0.j,\n",
       "        -1.+0.j],\n",
       "       [ 0.+0.j,  0.+0.j,  0.+0.j,  0.+0.j,  0.+0.j, -1.+0.j,  0.+0.j,\n",
       "         0.+0.j,  0.+0.j,  0.+0.j,  0.+0.j,  1.+0.j,  0.+0.j,  0.+0.j,\n",
       "         0.+0.j],\n",
       "       [ 0.+0.j,  0.+0.j,  0.+0.j,  0.+0.j,  0.+0.j,  0.+0.j, -1.+0.j,\n",
       "         0.+0.j,  0.+0.j,  0.+0.j,  1.+0.j,  0.+0.j,  1.+0.j,  0.+0.j,\n",
       "         0.+0.j],\n",
       "       [ 0.+0.j,  0.+0.j,  0.+0.j,  0.+0.j,  0.+0.j,  0.+0.j,  0.+0.j,\n",
       "        -1.+0.j,  0.+0.j,  0.+0.j,  0.+0.j,  1.+0.j,  0.+0.j,  1.+0.j,\n",
       "         0.+0.j],\n",
       "       [ 0.+0.j,  0.+0.j,  0.+0.j,  0.+0.j,  0.+0.j,  0.+0.j,  0.+0.j,\n",
       "         0.+0.j, -1.+0.j,  0.+0.j,  0.+0.j,  0.+0.j,  1.+0.j,  0.+0.j,\n",
       "         1.+0.j],\n",
       "       [ 0.+0.j,  0.+0.j,  0.+0.j,  0.+0.j,  0.+0.j,  0.+0.j,  0.+0.j,\n",
       "         0.+0.j,  0.+0.j, -1.+0.j,  0.+0.j,  0.+0.j,  0.+0.j,  1.+0.j,\n",
       "         0.+0.j]])"
      ]
     },
     "metadata": {},
     "execution_count": 18
    }
=======
    "## **Operator expression**"
>>>>>>> 580bca3 (update)
   ],
   "metadata": {}
=======
   "outputs": [],
   "metadata": {
    "slideshow": {
     "slide_type": "fragment"
    }
   }
>>>>>>> 8066556 (minor change)
  },
  {
   "cell_type": "markdown",
   "source": [
<<<<<<< HEAD
    "# **The FHM from parameters(hopping matrix and on-site interaction)**"
=======
    "### **Operator expression**"
>>>>>>> 8066556 (minor change)
   ],
   "metadata": {
    "slideshow": {
     "slide_type": "subslide"
    }
   }
  },
  {
   "cell_type": "code",
   "execution_count": 19,
   "source": [
    "hopping_matrix = np.array([\n",
    "    [1. , -1. + 1.j, -5.+5.j], \n",
    "    [-1.-1.j, 2., 1.], \n",
    "    [-5.-5.j, 1., 2.]\n",
    "])\n",
    "\n",
    "onsite_interaction = 2.0\n",
    "\n",
    "FHM = FermiHubbard.from_parameters(\n",
    "    hopping_matrix=hopping_matrix,\n",
    "    onsite_interaction=onsite_interaction\n",
    ")\n",
    "\n",
    "ham = FHM.hamiltonian()\n",
    "print(ham)"
   ],
   "outputs": [
    {
     "output_type": "stream",
     "name": "stdout",
     "text": [
      "  +_0 -_0 * (1+0j)\n",
      "+ +_0 -_2 * (-1+1j)\n",
      "+ -_0 +_2 * (1+1j)\n",
      "+ +_0 -_4 * (-5+5j)\n",
      "+ -_0 +_4 * (5+5j)\n",
      "+ +_2 -_2 * (2+0j)\n",
      "+ +_2 -_4 * (1+0j)\n",
      "+ -_2 +_4 * (-1+0j)\n",
      "+ +_4 -_4 * (2+0j)\n",
      "+ +_1 -_1 * (1+0j)\n",
      "+ +_1 -_3 * (-1+1j)\n",
      "+ -_1 +_3 * (1+1j)\n",
      "+ +_1 -_5 * (-5+5j)\n",
      "+ -_1 +_5 * (5+5j)\n",
      "+ +_3 -_3 * (2+0j)\n",
      "+ +_3 -_5 * (1+0j)\n",
      "+ -_3 +_5 * (-1+0j)\n",
      "+ +_5 -_5 * (2+0j)\n",
      "+ +_0 -_0 +_1 -_1 * (2+0j)\n",
      "+ +_2 -_2 +_3 -_3 * (2+0j)\n",
      "+ +_4 -_4 +_5 -_5 * (2+0j)\n"
     ]
    }
   ],
   "metadata": {}
  },
  {
   "cell_type": "code",
   "execution_count": 20,
   "source": [
    "FHM.hopping_matrix()"
   ],
   "outputs": [
    {
     "output_type": "execute_result",
     "data": {
      "text/plain": [
       "array([[ 1.+0.j, -1.+1.j, -5.+5.j],\n",
       "       [-1.-1.j,  2.+0.j,  1.+0.j],\n",
       "       [-5.-5.j,  1.+0.j,  2.+0.j]])"
      ]
     },
     "metadata": {},
     "execution_count": 20
    }
   ],
   "metadata": {
    "slideshow": {
     "slide_type": "fragment"
    }
   }
  },
  {
   "cell_type": "markdown",
   "source": [
    "## ***One-dimensional case (periodic boundary condition)***"
   ],
   "metadata": {
    "slideshow": {
     "slide_type": "slide"
    }
   }
  },
  {
   "cell_type": "code",
   "execution_count": null,
   "source": [
    "lattice_points = 4\n",
    "t = -1.0\n",
    "onsite_potential = 1.0\n",
    "one_dim_lattice = lattice.LineLattice(\n",
    "    num_nodes=lattice_points,\n",
    "    edge_parameter=t,\n",
    "    onsite_parameter=onsite_potential,\n",
    "    boundary_condition=\"periodic\"\n",
    ")"
   ],
   "outputs": [],
   "metadata": {
    "slideshow": {
     "slide_type": "subslide"
    }
   }
  },
  {
   "cell_type": "markdown",
   "source": [
    "### **visualization**"
   ],
   "metadata": {
    "slideshow": {
     "slide_type": "subslide"
    }
   }
  },
  {
   "cell_type": "code",
   "execution_count": null,
   "source": [
    "one_dim_lattice.draw(with_labels=True)"
   ],
   "outputs": [],
   "metadata": {
    "slideshow": {
     "slide_type": "fragment"
    }
   }
  },
  {
   "cell_type": "markdown",
   "source": [
    "### **Fermi-Hubbard model**"
   ],
   "metadata": {
    "slideshow": {
     "slide_type": "subslide"
    }
   }
  },
  {
   "cell_type": "code",
   "execution_count": null,
   "source": [
    "FHM = FermiHubbard(\n",
    "    one_dim_lattice,\n",
    "    onsite_interaction\n",
    ")\n",
    "\n",
    "FHM.hamiltonian()"
   ],
   "outputs": [],
   "metadata": {
    "slideshow": {
     "slide_type": "fragment"
    }
   }
  },
  {
   "cell_type": "code",
   "execution_count": null,
   "source": [
    "FHM.hopping_matrix()"
   ],
   "outputs": [],
   "metadata": {
    "slideshow": {
     "slide_type": "fragment"
    }
   }
  },
  {
   "cell_type": "markdown",
   "source": [
    "## ***Square lattice***"
   ],
   "metadata": {
    "slideshow": {
     "slide_type": "slide"
    }
   }
  },
  {
   "cell_type": "code",
   "execution_count": null,
   "source": [
    "rows = 5\n",
    "cols = 3\n",
    "square = lattice.SquareLattice(\n",
    "    rows=rows,\n",
    "    cols=cols,\n",
    "    edge_parameter=(1.0, -1.0),\n",
    "    boundary_condition=\"open\"\n",
    ")"
   ],
   "outputs": [],
   "metadata": {
    "slideshow": {
     "slide_type": "subslide"
    }
   }
  },
  {
   "cell_type": "markdown",
   "source": [
    "### **visualization**"
   ],
   "metadata": {
    "slideshow": {
     "slide_type": "subslide"
    }
   }
  },
  {
   "cell_type": "code",
   "execution_count": null,
   "source": [
    "def indextocoord(index:int, size:list) -> list:\n",
    "    x = index % rows\n",
    "    y = index // rows\n",
    "    return [x, y]\n",
    "pos = dict([(index, indextocoord(index, [rows, cols])) for index in range(np.prod([rows, cols]))])\n",
    "square.draw(pos=pos, with_labels=True)"
   ],
   "outputs": [],
   "metadata": {
    "slideshow": {
     "slide_type": "fragment"
    }
   }
  },
  {
   "cell_type": "markdown",
   "source": [
    "### **Fermi-Hubbard model**"
   ],
   "metadata": {
    "slideshow": {
     "slide_type": "subslide"
    }
   }
  },
  {
   "cell_type": "code",
   "execution_count": null,
   "source": [
    "onsite_interaction = 2.0\n",
    "FHM = FermiHubbard(\n",
    "    lattice=square,\n",
    "    onsite_interaction=onsite_interaction\n",
    ")\n",
    "FHM.hamiltonian()"
   ],
   "outputs": [],
   "metadata": {
    "slideshow": {
     "slide_type": "fragment"
    }
   }
  },
  {
   "cell_type": "code",
   "execution_count": null,
   "source": [
    "FHM.hopping_matrix()"
   ],
   "outputs": [],
   "metadata": {
    "slideshow": {
     "slide_type": "subslide"
    }
   }
  },
  {
   "cell_type": "markdown",
   "source": [
    "## ***The FHM from parameters(hopping matrix and on-site interaction)***"
   ],
   "metadata": {
    "slideshow": {
     "slide_type": "slide"
    }
   }
  },
  {
   "cell_type": "code",
   "execution_count": null,
   "source": [
    "hopping_matrix = np.array([\n",
    "    [1. , -1. + 1.j, -5.+5.j], \n",
    "    [-1.-1.j, 2., 1.], \n",
    "    [-5.-5.j, 1., 2.]\n",
    "])\n",
    "\n",
    "onsite_interaction = 2.0\n",
    "\n",
    "FHM = FermiHubbard.from_parameters(\n",
    "    hopping_matrix=hopping_matrix,\n",
    "    onsite_interaction=onsite_interaction\n",
    ")\n",
    "\n",
    "FHM.hamiltonian()"
   ],
   "outputs": [],
   "metadata": {
    "slideshow": {
     "slide_type": "subslide"
    }
   }
  },
  {
   "cell_type": "code",
   "execution_count": null,
   "source": [],
   "outputs": [],
   "metadata": {}
  }
 ],
 "metadata": {
<<<<<<< HEAD


  "celltoolbar": "スライドショー",
  "interpreter": {
   "hash": "f098cfac84d7616a27900d8489bf4403ac10b050e20733a638db380d2a07a2de"
  },
  "kernelspec": {
   "display_name": "Python 3 (ipykernel)",
   "language": "python",
   "name": "python3"
=======
  "interpreter": {
   "hash": "f098cfac84d7616a27900d8489bf4403ac10b050e20733a638db380d2a07a2de"
  },
  "kernelspec": {
   "name": "python3",


   "display_name": "Python 3.9.6 64-bit ('3.9.6': pyenv)"
>>>>>>> 4d53371 (add files and edit them)
=======
   "display_name": "Python 3.9.6 64-bit ('.venv')"
>>>>>>> 540e228 (minor change)
=======
   "display_name": "Python 3.9.6 64-bit"
>>>>>>> 0d53e0c (minor change)
=======
=======
  "celltoolbar": "スライドショー",
>>>>>>> 8066556 (minor change)
  "interpreter": {
   "hash": "f098cfac84d7616a27900d8489bf4403ac10b050e20733a638db380d2a07a2de"
  },
  "kernelspec": {
<<<<<<< HEAD
<<<<<<< HEAD
   "name": "python3",
<<<<<<< HEAD
<<<<<<< HEAD
   "display_name": "Python 3.9.6 64-bit ('3.9.6': pyenv)"
>>>>>>> a2a00fb (add files and edit them)
=======
   "display_name": "Python 3.9.6 64-bit ('.venv')"
>>>>>>> eeb6d30 (minor change)
=======
   "display_name": "Python 3.9.6 64-bit"
>>>>>>> dba00ce (minor change)
=======
   "display_name": "Python 3 (ipykernel)",
   "language": "python",
   "name": "python3"
>>>>>>> b33b296 (minor change)
=======
   "name": "python3",
   "display_name": "Python 3.9.6 64-bit ('.venv': venv)"
>>>>>>> 76f5380 (minor change)
  },
  "language_info": {
   "codemirror_mode": {
    "name": "ipython",
    "version": 3
   },
   "file_extension": ".py",
   "mimetype": "text/x-python",
   "name": "python",
   "nbconvert_exporter": "python",
   "pygments_lexer": "ipython3",
   "version": "3.9.6"
  }
 },
 "nbformat": 4,
 "nbformat_minor": 2
}