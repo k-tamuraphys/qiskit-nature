{
 "cells": [
  {
   "cell_type": "code",
   "execution_count": 1,
   "source": [
    "import lattice\n",
    "from hamiltonian import FermiHubbard\n",
    "import retworkx\n",
    "import numpy as np"
   ],
   "outputs": [
    {
     "output_type": "stream",
     "name": "stderr",
     "text": [
      "/Users/kensuketamura/.pyenv/versions/3.9.6/lib/python3.9/site-packages/pandas/compat/__init__.py:124: UserWarning: Could not import the lzma module. Your installed Python is incomplete. Attempting to use lzma compression will result in a RuntimeError.\n",
      "  warnings.warn(msg)\n"
     ]
    }
   ],
   "metadata": {}
  },
  {
   "cell_type": "markdown",
   "source": [
    "# **General Lattice**"
   ],
   "metadata": {}
  },
  {
   "cell_type": "code",
   "execution_count": 2,
   "source": [
    "graph = retworkx.PyGraph()\n",
    "graph.add_nodes_from(range(6))\n",
    "weighted_edge_list = [(0, 1, 1.0), (0, 2, -1.0), (2, 3, 2.0), (4, 2, -1.0), (4, 4, 3.0), (2, 5, -1.0)]\n",
    "graph.add_edges_from(weighted_edge_list)\n",
    "general_lattice = lattice.Lattice(graph)"
   ],
   "outputs": [],
   "metadata": {}
  },
  {
   "cell_type": "markdown",
   "source": [
    "## visualization"
   ],
   "metadata": {}
  },
  {
   "cell_type": "code",
   "execution_count": 3,
   "source": [
    "general_lattice.draw(with_labels=True)"
   ],
   "outputs": [
    {
     "output_type": "display_data",
     "data": {
      "text/plain": [
       "<Figure size 432x288 with 1 Axes>"
      ],
      "image/png": "[encoded data removed]"
     },
     "metadata": {}
    }
   ],
   "metadata": {}
  },
  {
   "cell_type": "markdown",
   "source": [
    "## **adjacency matrix(hopping matrix) $t_{x, y}$**"
   ],
   "metadata": {}
  },
  {
   "cell_type": "code",
   "execution_count": 4,
   "source": [
    "general_lattice.to_adjacency_matrix()"
   ],
   "outputs": [
    {
     "output_type": "execute_result",
     "data": {
      "text/plain": [
       "array([[ 0.+0.j,  1.+0.j, -1.+0.j,  0.+0.j,  0.+0.j,  0.+0.j],\n",
       "       [ 1.+0.j,  0.+0.j,  0.+0.j,  0.+0.j,  0.+0.j,  0.+0.j],\n",
       "       [-1.+0.j,  0.+0.j,  0.+0.j,  2.+0.j, -1.+0.j, -1.+0.j],\n",
       "       [ 0.+0.j,  0.+0.j,  2.+0.j,  0.+0.j,  0.+0.j,  0.+0.j],\n",
       "       [ 0.+0.j,  0.+0.j, -1.+0.j,  0.+0.j,  3.+0.j,  0.+0.j],\n",
       "       [ 0.+0.j,  0.+0.j, -1.+0.j,  0.+0.j,  0.+0.j,  0.+0.j]])"
      ]
     },
     "metadata": {},
     "execution_count": 4
    }
   ],
   "metadata": {}
  },
  {
   "cell_type": "markdown",
   "source": [
    "## **Fermi-Hubbard model**"
   ],
   "metadata": {}
  },
  {
   "cell_type": "code",
   "execution_count": 5,
   "source": [
    "onsite_interaction = 2.0\n",
    "FHM = FermiHubbard(\n",
    "    lattice=general_lattice,\n",
    "    onsite_interaction=onsite_interaction\n",
    ")\n",
    "\n",
    "FHM.hamiltonian()"
   ],
   "outputs": [
    {
     "output_type": "execute_result",
     "data": {
      "text/plain": [
       "FermionicOp([('+I-IIIIIIIII', (1+0j)), ('-I+IIIIIIIII', (-1+0j)), ('+III-IIIIIII', (-1+0j)), ('-III+IIIIIII', (1+0j)), ('IIII+I-IIIII', (2+0j)), ('IIII-I+IIIII', (-2+0j)), ('IIII+III-III', (-1+0j)), ('IIII-III+III', (1+0j)), ('IIIIIIIINIII', (3+0j)), ('IIII+IIIII-I', (-1+0j)), ('IIII-IIIII+I', (1+0j)), ('I+I-IIIIIIII', (1+0j)), ('I-I+IIIIIIII', (-1+0j)), ('I+III-IIIIII', (-1+0j)), ('I-III+IIIIII', (1+0j)), ('IIIII+I-IIII', (2+0j)), ('IIIII-I+IIII', (-2+0j)), ('IIIII+III-II', (-1+0j)), ('IIIII-III+II', (1+0j)), ('IIIIIIIIINII', (3+0j)), ('IIIII+IIIII-', (-1+0j)), ('IIIII-IIIII+', (1+0j)), ('NNIIIIIIIIII', (2+0j)), ('IINNIIIIIIII', (2+0j)), ('IIIINNIIIIII', (2+0j)), ('IIIIIINNIIII', (2+0j)), ('IIIIIIIINNII', (2+0j)), ('IIIIIIIIIINN', (2+0j))])"
      ]
     },
     "metadata": {},
     "execution_count": 5
    }
   ],
   "metadata": {}
  },
  {
   "cell_type": "code",
   "execution_count": 6,
   "source": [
    "FHM.hopping_matrix()"
   ],
   "outputs": [
    {
     "output_type": "execute_result",
     "data": {
      "text/plain": [
       "array([[ 0.+0.j,  1.+0.j, -1.+0.j,  0.+0.j,  0.+0.j,  0.+0.j],\n",
       "       [ 1.+0.j,  0.+0.j,  0.+0.j,  0.+0.j,  0.+0.j,  0.+0.j],\n",
       "       [-1.+0.j,  0.+0.j,  0.+0.j,  2.+0.j, -1.+0.j, -1.+0.j],\n",
       "       [ 0.+0.j,  0.+0.j,  2.+0.j,  0.+0.j,  0.+0.j,  0.+0.j],\n",
       "       [ 0.+0.j,  0.+0.j, -1.+0.j,  0.+0.j,  3.+0.j,  0.+0.j],\n",
       "       [ 0.+0.j,  0.+0.j, -1.+0.j,  0.+0.j,  0.+0.j,  0.+0.j]])"
      ]
     },
     "metadata": {},
     "execution_count": 6
    }
   ],
   "metadata": {}
  },
  {
   "cell_type": "markdown",
   "source": [
    "# **One-dimensional case(open boundary condition)**"
   ],
   "metadata": {}
  },
  {
   "cell_type": "code",
   "execution_count": 6,
   "source": [
    "lattice_points = 4\n",
    "t = -1.0\n",
    "onsite_potential = 1.0\n",
    "one_dim_lattice = lattice.LineLattice(\n",
    "    num_nodes=lattice_points,\n",
    "    hopping_parameter=t,\n",
    "    onsite_potential=onsite_potential,\n",
    "    boundary_condition=\"open\"\n",
    ")"
   ],
   "outputs": [],
   "metadata": {}
  },
  {
   "cell_type": "markdown",
   "source": [
    "## **visualization**"
   ],
   "metadata": {}
  },
  {
   "cell_type": "code",
   "execution_count": 7,
   "source": [
    "one_dim_lattice.draw(with_labels=True)"
   ],
   "outputs": [
    {
     "output_type": "display_data",
     "data": {
      "text/plain": [
       "<Figure size 432x288 with 1 Axes>"
      ],
      "image/png": "[encoded data removed]"
     },
     "metadata": {}
    }
   ],
   "metadata": {}
  },
  {
   "cell_type": "markdown",
   "source": [
    "## **Fermi-Hubbard model**"
   ],
   "metadata": {}
  },
  {
   "cell_type": "code",
   "execution_count": 8,
   "source": [
    "onsite_interaction = 5.0\n",
    "FHM = FermiHubbard(\n",
    "    one_dim_lattice,\n",
    "    onsite_interaction\n",
    ")\n",
    "FHM.hamiltonian()"
   ],
   "outputs": [
    {
     "output_type": "execute_result",
     "data": {
      "text/plain": [
       "FermionicOp([('+I-IIIII', (-1+0j)), ('-I+IIIII', (1+0j)), ('II+I-III', (-1+0j)), ('II-I+III', (1+0j)), ('IIII+I-I', (-1+0j)), ('IIII-I+I', (1+0j)), ('NIIIIIII', (1+0j)), ('IINIIIII', (1+0j)), ('IIIINIII', (1+0j)), ('IIIIIINI', (1+0j)), ('I+I-IIII', (-1+0j)), ('I-I+IIII', (1+0j)), ('III+I-II', (-1+0j)), ('III-I+II', (1+0j)), ('IIIII+I-', (-1+0j)), ('IIIII-I+', (1+0j)), ('INIIIIII', (1+0j)), ('IIINIIII', (1+0j)), ('IIIIINII', (1+0j)), ('IIIIIIIN', (1+0j)), ('NNIIIIII', (5+0j)), ('IINNIIII', (5+0j)), ('IIIINNII', (5+0j)), ('IIIIIINN', (5+0j))])"
      ]
     },
     "metadata": {},
     "execution_count": 8
    }
   ],
   "metadata": {}
  },
  {
   "cell_type": "code",
   "execution_count": 9,
   "source": [
    "FHM.hopping_matrix()"
   ],
   "outputs": [
    {
     "output_type": "execute_result",
     "data": {
      "text/plain": [
       "array([[ 1.+0.j, -1.+0.j,  0.+0.j,  0.+0.j],\n",
       "       [-1.+0.j,  1.+0.j, -1.+0.j,  0.+0.j],\n",
       "       [ 0.+0.j, -1.+0.j,  1.+0.j, -1.+0.j],\n",
       "       [ 0.+0.j,  0.+0.j, -1.+0.j,  1.+0.j]])"
      ]
     },
     "metadata": {},
     "execution_count": 9
    }
   ],
   "metadata": {}
  },
  {
   "cell_type": "markdown",
   "source": [
    "## **Operator expression**"
   ],
   "metadata": {}
  },
  {
   "cell_type": "markdown",
   "source": [
    "$$\n",
    "\\begin{align*}\n",
    "H &= \\sum_{i = 0}^{2} \\sum_{\\sigma = \\uparrow, \\downarrow} (t c_{i, \\sigma}^\\dagger c_{i+1, \\sigma} + t c_{i+1, \\sigma}^\\dagger c_{i, \\sigma})+ U \\sum_{i=0}^{3} n_{i, \\uparrow} n_{i, \\downarrow} \\\\\n",
    "&= t c_{0, \\uparrow}^\\dagger c_{1, \\uparrow} - t c_{0, \\uparrow} c_{1, \\uparrow}^{\\dagger} \\\\\n",
    "& \\ + t c_{1, \\uparrow}^\\dagger c_{2, \\uparrow} - t c_{1, \\uparrow} c_{2, \\uparrow}^{\\dagger} \\\\\n",
    "& \\ + t c_{2, \\uparrow}^\\dagger c_{3, \\uparrow} - t c_{2, \\uparrow} c_{3, \\uparrow}^{\\dagger} \\\\\n",
    "& \\ + v n_{0, \\uparrow} + v n_{1, \\uparrow} + v n_{2, \\uparrow} + v n_{3, \\uparrow} \\\\\n",
    "& \\ + t c_{0, \\downarrow}^\\dagger c_{1, \\downarrow} - t c_{0, \\downarrow} c_{1, \\downarrow}^{\\dagger} \\\\\n",
    "& \\ + t c_{1, \\downarrow}^\\dagger c_{2, \\downarrow} - t c_{1, \\downarrow} c_{2, \\downarrow}^{\\dagger} \\\\\n",
    "& \\ + t c_{2, \\downarrow}^\\dagger c_{3, \\downarrow} - t c_{2, \\downarrow} c_{3, \\downarrow}^{\\dagger} \\\\\n",
    "& \\ + v n_{0, \\downarrow} + v n_{1, \\downarrow} + v n_{2, \\downarrow} + v n_{3, \\downarrow} \\\\\n",
    "& \\ + U n_{0, \\uparrow} n_{0, \\downarrow} + U n_{1, \\uparrow} n_{1, \\downarrow} + + U n_{2, \\uparrow} n_{2, \\downarrow} + U n_{3, \\uparrow} n_{3, \\downarrow}\n",
    "\\end{align*}\n",
    "$$"
   ],
   "metadata": {}
  },
  {
   "cell_type": "markdown",
   "source": [
    "# **One-dimensional case (periodic boundary condition)**"
   ],
   "metadata": {}
  },
  {
   "cell_type": "code",
   "execution_count": 10,
   "source": [
    "lattice_points = 4\n",
    "t = -1.0\n",
    "onsite_potential = 1.0\n",
    "one_dim_lattice = lattice.LineLattice(\n",
    "    num_nodes=lattice_points,\n",
    "    hopping_parameter=t,\n",
    "    onsite_potential=onsite_potential,\n",
    "    boundary_condition=\"periodic\"\n",
    ")"
   ],
   "outputs": [],
   "metadata": {}
  },
  {
   "cell_type": "markdown",
   "source": [
    "## **visualization**"
   ],
   "metadata": {}
  },
  {
   "cell_type": "code",
   "execution_count": 11,
   "source": [
    "one_dim_lattice.draw(with_labels=True)"
   ],
   "outputs": [
    {
     "output_type": "display_data",
     "data": {
      "text/plain": [
       "<Figure size 432x288 with 1 Axes>"
      ],
      "image/png": "[encoded data removed]"
     },
     "metadata": {}
    }
   ],
   "metadata": {}
  },
  {
   "cell_type": "markdown",
   "source": [
    "## **Fermi-Hubbard model**"
   ],
   "metadata": {}
  },
  {
   "cell_type": "code",
   "execution_count": 12,
   "source": [
    "FHM = FermiHubbard(\n",
    "    one_dim_lattice,\n",
    "    onsite_interaction\n",
    ")\n",
    "\n",
    "FHM.hamiltonian()"
   ],
   "outputs": [
    {
     "output_type": "execute_result",
     "data": {
      "text/plain": [
       "FermionicOp([('+I-IIIII', (-1+0j)), ('-I+IIIII', (1+0j)), ('II+I-III', (-1+0j)), ('II-I+III', (1+0j)), ('IIII+I-I', (-1+0j)), ('IIII-I+I', (1+0j)), ('+IIIII-I', (-1+0j)), ('-IIIII+I', (1+0j)), ('NIIIIIII', (1+0j)), ('IINIIIII', (1+0j)), ('IIIINIII', (1+0j)), ('IIIIIINI', (1+0j)), ('I+I-IIII', (-1+0j)), ('I-I+IIII', (1+0j)), ('III+I-II', (-1+0j)), ('III-I+II', (1+0j)), ('IIIII+I-', (-1+0j)), ('IIIII-I+', (1+0j)), ('I+IIIII-', (-1+0j)), ('I-IIIII+', (1+0j)), ('INIIIIII', (1+0j)), ('IIINIIII', (1+0j)), ('IIIIINII', (1+0j)), ('IIIIIIIN', (1+0j)), ('NNIIIIII', (5+0j)), ('IINNIIII', (5+0j)), ('IIIINNII', (5+0j)), ('IIIIIINN', (5+0j))])"
      ]
     },
     "metadata": {},
     "execution_count": 12
    }
   ],
   "metadata": {}
  },
  {
   "cell_type": "code",
   "execution_count": 13,
   "source": [
    "FHM.hopping_matrix()"
   ],
   "outputs": [
    {
     "output_type": "execute_result",
     "data": {
      "text/plain": [
       "array([[ 1.+0.j, -1.+0.j,  0.+0.j, -1.+0.j],\n",
       "       [-1.+0.j,  1.+0.j, -1.+0.j,  0.+0.j],\n",
       "       [ 0.+0.j, -1.+0.j,  1.+0.j, -1.+0.j],\n",
       "       [-1.+0.j,  0.+0.j, -1.+0.j,  1.+0.j]])"
      ]
     },
     "metadata": {},
     "execution_count": 13
    }
   ],
   "metadata": {}
  },
  {
   "cell_type": "markdown",
   "source": [
    "# **Square lattice**"
   ],
   "metadata": {}
  },
  {
   "cell_type": "code",
   "execution_count": 14,
   "source": [
    "size = [5, 4]\n",
    "square = lattice.SquareLattice(\n",
    "    size=size,\n",
    "    hopping_parameter=[1.0, -1.0],\n",
    "    onsite_potential=-2.0,\n",
    "    boundary_condition=[\"periodic\", \"periodic\"]\n",
    ")"
   ],
   "outputs": [],
   "metadata": {}
  },
  {
   "cell_type": "code",
   "execution_count": 15,
   "source": [
    "def indextocoord(index:int, size:list) -> list:\n",
    "    y = index // size[0]\n",
    "    x = index % size[0]\n",
    "    return [x, y]\n",
    "pos = dict([(index, indextocoord(index, size)) for index in range(np.prod(size))])\n",
    "square.draw(pos=pos, with_labels=True)"
   ],
   "outputs": [
    {
     "output_type": "display_data",
     "data": {
      "text/plain": [
       "<Figure size 432x288 with 1 Axes>"
      ],
      "image/png": "[encoded data removed]"
     },
     "metadata": {}
    }
   ],
   "metadata": {}
  },
  {
   "cell_type": "code",
   "execution_count": 16,
   "source": [
    "onsite_interaction = 2.0\n",
    "FHM = FermiHubbard(\n",
    "    lattice=square,\n",
    "    onsite_interaction=onsite_interaction\n",
    ")\n",
    "FHM.hamiltonian()"
   ],
   "outputs": [
    {
     "output_type": "execute_result",
     "data": {
      "text/plain": [
       "FermionicOp([('+I-IIIIIIIIIIIIIIIIIIIIIIIIIIIIIIIIIIIII', (1+0j)), ('-I+IIIIIIIIIIIIIIIIIIIIIIIIIIIIIIIIIIIII', (-1+0j)), ('+IIIIIIIII-IIIIIIIIIIIIIIIIIIIIIIIIIIIII', (-1+0j)), ('-IIIIIIIII+IIIIIIIIIIIIIIIIIIIIIIIIIIIII', (1+0j)), ('NIIIIIIIIIIIIIIIIIIIIIIIIIIIIIIIIIIIIIII', (-2+0j)), ('IIIIIIIIII+I-IIIIIIIIIIIIIIIIIIIIIIIIIII', (1+0j)), ('IIIIIIIIII-I+IIIIIIIIIIIIIIIIIIIIIIIIIII', (-1+0j)), ('IIIIIIIIII+IIIIIIIII-IIIIIIIIIIIIIIIIIII', (-1+0j)), ('IIIIIIIIII-IIIIIIIII+IIIIIIIIIIIIIIIIIII', (1+0j)), ('IIIIIIIIIINIIIIIIIIIIIIIIIIIIIIIIIIIIIII', (-2+0j)), ('IIIIIIIIIIIIIIIIIIII+I-IIIIIIIIIIIIIIIII', (1+0j)), ('IIIIIIIIIIIIIIIIIIII-I+IIIIIIIIIIIIIIIII', (-1+0j)), ('IIIIIIIIIIIIIIIIIIII+IIIIIIIII-IIIIIIIII', (-1+0j)), ('IIIIIIIIIIIIIIIIIIII-IIIIIIIII+IIIIIIIII', (1+0j)), ('IIIIIIIIIIIIIIIIIIIINIIIIIIIIIIIIIIIIIII', (-2+0j)), ('IIIIIIIIIIIIIIIIIIIIIIIIIIIIII+I-IIIIIII', (1+0j)), ('IIIIIIIIIIIIIIIIIIIIIIIIIIIIII-I+IIIIIII', (-1+0j)), ('+IIIIIIIIIIIIIIIIIIIIIIIIIIIII-IIIIIIIII', (-1+0j)), ('-IIIIIIIIIIIIIIIIIIIIIIIIIIIII+IIIIIIIII', (1+0j)), ('IIIIIIIIIIIIIIIIIIIIIIIIIIIIIINIIIIIIIII', (-2+0j)), ('II+I-IIIIIIIIIIIIIIIIIIIIIIIIIIIIIIIIIII', (1+0j)), ('II-I+IIIIIIIIIIIIIIIIIIIIIIIIIIIIIIIIIII', (-1+0j)), ('II+IIIIIIIII-IIIIIIIIIIIIIIIIIIIIIIIIIII', (-1+0j)), ('II-IIIIIIIII+IIIIIIIIIIIIIIIIIIIIIIIIIII', (1+0j)), ('IINIIIIIIIIIIIIIIIIIIIIIIIIIIIIIIIIIIIII', (-2+0j)), ('IIIIIIIIIIII+I-IIIIIIIIIIIIIIIIIIIIIIIII', (1+0j)), ('IIIIIIIIIIII-I+IIIIIIIIIIIIIIIIIIIIIIIII', (-1+0j)), ('IIIIIIIIIIII+IIIIIIIII-IIIIIIIIIIIIIIIII', (-1+0j)), ('IIIIIIIIIIII-IIIIIIIII+IIIIIIIIIIIIIIIII', (1+0j)), ('IIIIIIIIIIIINIIIIIIIIIIIIIIIIIIIIIIIIIII', (-2+0j)), ('IIIIIIIIIIIIIIIIIIIIII+I-IIIIIIIIIIIIIII', (1+0j)), ('IIIIIIIIIIIIIIIIIIIIII-I+IIIIIIIIIIIIIII', (-1+0j)), ('IIIIIIIIIIIIIIIIIIIIII+IIIIIIIII-IIIIIII', (-1+0j)), ('IIIIIIIIIIIIIIIIIIIIII-IIIIIIIII+IIIIIII', (1+0j)), ('IIIIIIIIIIIIIIIIIIIIIINIIIIIIIIIIIIIIIII', (-2+0j)), ('IIIIIIIIIIIIIIIIIIIIIIIIIIIIIIII+I-IIIII', (1+0j)), ('IIIIIIIIIIIIIIIIIIIIIIIIIIIIIIII-I+IIIII', (-1+0j)), ('II+IIIIIIIIIIIIIIIIIIIIIIIIIIIII-IIIIIII', (-1+0j)), ('II-IIIIIIIIIIIIIIIIIIIIIIIIIIIII+IIIIIII', (1+0j)), ('IIIIIIIIIIIIIIIIIIIIIIIIIIIIIIIINIIIIIII', (-2+0j)), ('IIII+I-IIIIIIIIIIIIIIIIIIIIIIIIIIIIIIIII', (1+0j)), ('IIII-I+IIIIIIIIIIIIIIIIIIIIIIIIIIIIIIIII', (-1+0j)), ('IIII+IIIIIIIII-IIIIIIIIIIIIIIIIIIIIIIIII', (-1+0j)), ('IIII-IIIIIIIII+IIIIIIIIIIIIIIIIIIIIIIIII', (1+0j)), ('IIIINIIIIIIIIIIIIIIIIIIIIIIIIIIIIIIIIIII', (-2+0j)), ('IIIIIIIIIIIIII+I-IIIIIIIIIIIIIIIIIIIIIII', (1+0j)), ('IIIIIIIIIIIIII-I+IIIIIIIIIIIIIIIIIIIIIII', (-1+0j)), ('IIIIIIIIIIIIII+IIIIIIIII-IIIIIIIIIIIIIII', (-1+0j)), ('IIIIIIIIIIIIII-IIIIIIIII+IIIIIIIIIIIIIII', (1+0j)), ('IIIIIIIIIIIIIINIIIIIIIIIIIIIIIIIIIIIIIII', (-2+0j)), ('IIIIIIIIIIIIIIIIIIIIIIII+I-IIIIIIIIIIIII', (1+0j)), ('IIIIIIIIIIIIIIIIIIIIIIII-I+IIIIIIIIIIIII', (-1+0j)), ('IIIIIIIIIIIIIIIIIIIIIIII+IIIIIIIII-IIIII', (-1+0j)), ('IIIIIIIIIIIIIIIIIIIIIIII-IIIIIIIII+IIIII', (1+0j)), ('IIIIIIIIIIIIIIIIIIIIIIIINIIIIIIIIIIIIIII', (-2+0j)), ('IIIIIIIIIIIIIIIIIIIIIIIIIIIIIIIIII+I-III', (1+0j)), ('IIIIIIIIIIIIIIIIIIIIIIIIIIIIIIIIII-I+III', (-1+0j)), ('IIII+IIIIIIIIIIIIIIIIIIIIIIIIIIIII-IIIII', (-1+0j)), ('IIII-IIIIIIIIIIIIIIIIIIIIIIIIIIIII+IIIII', (1+0j)), ('IIIIIIIIIIIIIIIIIIIIIIIIIIIIIIIIIINIIIII', (-2+0j)), ('IIIIII+I-IIIIIIIIIIIIIIIIIIIIIIIIIIIIIII', (1+0j)), ('IIIIII-I+IIIIIIIIIIIIIIIIIIIIIIIIIIIIIII', (-1+0j)), ('IIIIII+IIIIIIIII-IIIIIIIIIIIIIIIIIIIIIII', (-1+0j)), ('IIIIII-IIIIIIIII+IIIIIIIIIIIIIIIIIIIIIII', (1+0j)), ('IIIIIINIIIIIIIIIIIIIIIIIIIIIIIIIIIIIIIII', (-2+0j)), ('IIIIIIIIIIIIIIII+I-IIIIIIIIIIIIIIIIIIIII', (1+0j)), ('IIIIIIIIIIIIIIII-I+IIIIIIIIIIIIIIIIIIIII', (-1+0j)), ('IIIIIIIIIIIIIIII+IIIIIIIII-IIIIIIIIIIIII', (-1+0j)), ('IIIIIIIIIIIIIIII-IIIIIIIII+IIIIIIIIIIIII', (1+0j)), ('IIIIIIIIIIIIIIIINIIIIIIIIIIIIIIIIIIIIIII', (-2+0j)), ('IIIIIIIIIIIIIIIIIIIIIIIIII+I-IIIIIIIIIII', (1+0j)), ('IIIIIIIIIIIIIIIIIIIIIIIIII-I+IIIIIIIIIII', (-1+0j)), ('IIIIIIIIIIIIIIIIIIIIIIIIII+IIIIIIIII-III', (-1+0j)), ('IIIIIIIIIIIIIIIIIIIIIIIIII-IIIIIIIII+III', (1+0j)), ('IIIIIIIIIIIIIIIIIIIIIIIIIINIIIIIIIIIIIII', (-2+0j)), ('IIIIIIIIIIIIIIIIIIIIIIIIIIIIIIIIIIII+I-I', (1+0j)), ('IIIIIIIIIIIIIIIIIIIIIIIIIIIIIIIIIIII-I+I', (-1+0j)), ('IIIIII+IIIIIIIIIIIIIIIIIIIIIIIIIIIII-III', (-1+0j)), ('IIIIII-IIIIIIIIIIIIIIIIIIIIIIIIIIIII+III', (1+0j)), ('IIIIIIIIIIIIIIIIIIIIIIIIIIIIIIIIIIIINIII', (-2+0j)), ('+IIIIIII-IIIIIIIIIIIIIIIIIIIIIIIIIIIIIII', (1+0j)), ('-IIIIIII+IIIIIIIIIIIIIIIIIIIIIIIIIIIIIII', (-1+0j)), ('IIIIIIII+IIIIIIIII-IIIIIIIIIIIIIIIIIIIII', (-1+0j)), ('IIIIIIII-IIIIIIIII+IIIIIIIIIIIIIIIIIIIII', (1+0j)), ('IIIIIIIINIIIIIIIIIIIIIIIIIIIIIIIIIIIIIII', (-2+0j)), ('IIIIIIIIII+IIIIIII-IIIIIIIIIIIIIIIIIIIII', (1+0j)), ('IIIIIIIIII-IIIIIII+IIIIIIIIIIIIIIIIIIIII', (-1+0j)), ('IIIIIIIIIIIIIIIIII+IIIIIIIII-IIIIIIIIIII', (-1+0j)), ('IIIIIIIIIIIIIIIIII-IIIIIIIII+IIIIIIIIIII', (1+0j)), ('IIIIIIIIIIIIIIIIIINIIIIIIIIIIIIIIIIIIIII', (-2+0j)), ('IIIIIIIIIIIIIIIIIIII+IIIIIII-IIIIIIIIIII', (1+0j)), ('IIIIIIIIIIIIIIIIIIII-IIIIIII+IIIIIIIIIII', (-1+0j)), ('IIIIIIIIIIIIIIIIIIIIIIIIIIII+IIIIIIIII-I', (-1+0j)), ('IIIIIIIIIIIIIIIIIIIIIIIIIIII-IIIIIIIII+I', (1+0j)), ('IIIIIIIIIIIIIIIIIIIIIIIIIIIINIIIIIIIIIII', (-2+0j)), ('IIIIIIIIIIIIIIIIIIIIIIIIIIIIII+IIIIIII-I', (1+0j)), ('IIIIIIIIIIIIIIIIIIIIIIIIIIIIII-IIIIIII+I', (-1+0j)), ('IIIIIIII+IIIIIIIIIIIIIIIIIIIIIIIIIIIII-I', (-1+0j)), ('IIIIIIII-IIIIIIIIIIIIIIIIIIIIIIIIIIIII+I', (1+0j)), ('IIIIIIIIIIIIIIIIIIIIIIIIIIIIIIIIIIIIIINI', (-2+0j)), ('I+I-IIIIIIIIIIIIIIIIIIIIIIIIIIIIIIIIIIII', (1+0j)), ('I-I+IIIIIIIIIIIIIIIIIIIIIIIIIIIIIIIIIIII', (-1+0j)), ('I+IIIIIIIII-IIIIIIIIIIIIIIIIIIIIIIIIIIII', (-1+0j)), ('I-IIIIIIIII+IIIIIIIIIIIIIIIIIIIIIIIIIIII', (1+0j)), ('INIIIIIIIIIIIIIIIIIIIIIIIIIIIIIIIIIIIIII', (-2+0j)), ('IIIIIIIIIII+I-IIIIIIIIIIIIIIIIIIIIIIIIII', (1+0j)), ('IIIIIIIIIII-I+IIIIIIIIIIIIIIIIIIIIIIIIII', (-1+0j)), ('IIIIIIIIIII+IIIIIIIII-IIIIIIIIIIIIIIIIII', (-1+0j)), ('IIIIIIIIIII-IIIIIIIII+IIIIIIIIIIIIIIIIII', (1+0j)), ('IIIIIIIIIIINIIIIIIIIIIIIIIIIIIIIIIIIIIII', (-2+0j)), ('IIIIIIIIIIIIIIIIIIIII+I-IIIIIIIIIIIIIIII', (1+0j)), ('IIIIIIIIIIIIIIIIIIIII-I+IIIIIIIIIIIIIIII', (-1+0j)), ('IIIIIIIIIIIIIIIIIIIII+IIIIIIIII-IIIIIIII', (-1+0j)), ('IIIIIIIIIIIIIIIIIIIII-IIIIIIIII+IIIIIIII', (1+0j)), ('IIIIIIIIIIIIIIIIIIIIINIIIIIIIIIIIIIIIIII', (-2+0j)), ('IIIIIIIIIIIIIIIIIIIIIIIIIIIIIII+I-IIIIII', (1+0j)), ('IIIIIIIIIIIIIIIIIIIIIIIIIIIIIII-I+IIIIII', (-1+0j)), ('I+IIIIIIIIIIIIIIIIIIIIIIIIIIIII-IIIIIIII', (-1+0j)), ('I-IIIIIIIIIIIIIIIIIIIIIIIIIIIII+IIIIIIII', (1+0j)), ('IIIIIIIIIIIIIIIIIIIIIIIIIIIIIIINIIIIIIII', (-2+0j)), ('III+I-IIIIIIIIIIIIIIIIIIIIIIIIIIIIIIIIII', (1+0j)), ('III-I+IIIIIIIIIIIIIIIIIIIIIIIIIIIIIIIIII', (-1+0j)), ('III+IIIIIIIII-IIIIIIIIIIIIIIIIIIIIIIIIII', (-1+0j)), ('III-IIIIIIIII+IIIIIIIIIIIIIIIIIIIIIIIIII', (1+0j)), ('IIINIIIIIIIIIIIIIIIIIIIIIIIIIIIIIIIIIIII', (-2+0j)), ('IIIIIIIIIIIII+I-IIIIIIIIIIIIIIIIIIIIIIII', (1+0j)), ('IIIIIIIIIIIII-I+IIIIIIIIIIIIIIIIIIIIIIII', (-1+0j)), ('IIIIIIIIIIIII+IIIIIIIII-IIIIIIIIIIIIIIII', (-1+0j)), ('IIIIIIIIIIIII-IIIIIIIII+IIIIIIIIIIIIIIII', (1+0j)), ('IIIIIIIIIIIIINIIIIIIIIIIIIIIIIIIIIIIIIII', (-2+0j)), ('IIIIIIIIIIIIIIIIIIIIIII+I-IIIIIIIIIIIIII', (1+0j)), ('IIIIIIIIIIIIIIIIIIIIIII-I+IIIIIIIIIIIIII', (-1+0j)), ('IIIIIIIIIIIIIIIIIIIIIII+IIIIIIIII-IIIIII', (-1+0j)), ('IIIIIIIIIIIIIIIIIIIIIII-IIIIIIIII+IIIIII', (1+0j)), ('IIIIIIIIIIIIIIIIIIIIIIINIIIIIIIIIIIIIIII', (-2+0j)), ('IIIIIIIIIIIIIIIIIIIIIIIIIIIIIIIII+I-IIII', (1+0j)), ('IIIIIIIIIIIIIIIIIIIIIIIIIIIIIIIII-I+IIII', (-1+0j)), ('III+IIIIIIIIIIIIIIIIIIIIIIIIIIIII-IIIIII', (-1+0j)), ('III-IIIIIIIIIIIIIIIIIIIIIIIIIIIII+IIIIII', (1+0j)), ('IIIIIIIIIIIIIIIIIIIIIIIIIIIIIIIIINIIIIII', (-2+0j)), ('IIIII+I-IIIIIIIIIIIIIIIIIIIIIIIIIIIIIIII', (1+0j)), ('IIIII-I+IIIIIIIIIIIIIIIIIIIIIIIIIIIIIIII', (-1+0j)), ('IIIII+IIIIIIIII-IIIIIIIIIIIIIIIIIIIIIIII', (-1+0j)), ('IIIII-IIIIIIIII+IIIIIIIIIIIIIIIIIIIIIIII', (1+0j)), ('IIIIINIIIIIIIIIIIIIIIIIIIIIIIIIIIIIIIIII', (-2+0j)), ('IIIIIIIIIIIIIII+I-IIIIIIIIIIIIIIIIIIIIII', (1+0j)), ('IIIIIIIIIIIIIII-I+IIIIIIIIIIIIIIIIIIIIII', (-1+0j)), ('IIIIIIIIIIIIIII+IIIIIIIII-IIIIIIIIIIIIII', (-1+0j)), ('IIIIIIIIIIIIIII-IIIIIIIII+IIIIIIIIIIIIII', (1+0j)), ('IIIIIIIIIIIIIIINIIIIIIIIIIIIIIIIIIIIIIII', (-2+0j)), ('IIIIIIIIIIIIIIIIIIIIIIIII+I-IIIIIIIIIIII', (1+0j)), ('IIIIIIIIIIIIIIIIIIIIIIIII-I+IIIIIIIIIIII', (-1+0j)), ('IIIIIIIIIIIIIIIIIIIIIIIII+IIIIIIIII-IIII', (-1+0j)), ('IIIIIIIIIIIIIIIIIIIIIIIII-IIIIIIIII+IIII', (1+0j)), ('IIIIIIIIIIIIIIIIIIIIIIIIINIIIIIIIIIIIIII', (-2+0j)), ('IIIIIIIIIIIIIIIIIIIIIIIIIIIIIIIIIII+I-II', (1+0j)), ('IIIIIIIIIIIIIIIIIIIIIIIIIIIIIIIIIII-I+II', (-1+0j)), ('IIIII+IIIIIIIIIIIIIIIIIIIIIIIIIIIII-IIII', (-1+0j)), ('IIIII-IIIIIIIIIIIIIIIIIIIIIIIIIIIII+IIII', (1+0j)), ('IIIIIIIIIIIIIIIIIIIIIIIIIIIIIIIIIIINIIII', (-2+0j)), ('IIIIIII+I-IIIIIIIIIIIIIIIIIIIIIIIIIIIIII', (1+0j)), ('IIIIIII-I+IIIIIIIIIIIIIIIIIIIIIIIIIIIIII', (-1+0j)), ('IIIIIII+IIIIIIIII-IIIIIIIIIIIIIIIIIIIIII', (-1+0j)), ('IIIIIII-IIIIIIIII+IIIIIIIIIIIIIIIIIIIIII', (1+0j)), ('IIIIIIINIIIIIIIIIIIIIIIIIIIIIIIIIIIIIIII', (-2+0j)), ('IIIIIIIIIIIIIIIII+I-IIIIIIIIIIIIIIIIIIII', (1+0j)), ('IIIIIIIIIIIIIIIII-I+IIIIIIIIIIIIIIIIIIII', (-1+0j)), ('IIIIIIIIIIIIIIIII+IIIIIIIII-IIIIIIIIIIII', (-1+0j)), ('IIIIIIIIIIIIIIIII-IIIIIIIII+IIIIIIIIIIII', (1+0j)), ('IIIIIIIIIIIIIIIIINIIIIIIIIIIIIIIIIIIIIII', (-2+0j)), ('IIIIIIIIIIIIIIIIIIIIIIIIIII+I-IIIIIIIIII', (1+0j)), ('IIIIIIIIIIIIIIIIIIIIIIIIIII-I+IIIIIIIIII', (-1+0j)), ('IIIIIIIIIIIIIIIIIIIIIIIIIII+IIIIIIIII-II', (-1+0j)), ('IIIIIIIIIIIIIIIIIIIIIIIIIII-IIIIIIIII+II', (1+0j)), ('IIIIIIIIIIIIIIIIIIIIIIIIIIINIIIIIIIIIIII', (-2+0j)), ('IIIIIIIIIIIIIIIIIIIIIIIIIIIIIIIIIIIII+I-', (1+0j)), ('IIIIIIIIIIIIIIIIIIIIIIIIIIIIIIIIIIIII-I+', (-1+0j)), ('IIIIIII+IIIIIIIIIIIIIIIIIIIIIIIIIIIII-II', (-1+0j)), ('IIIIIII-IIIIIIIIIIIIIIIIIIIIIIIIIIIII+II', (1+0j)), ('IIIIIIIIIIIIIIIIIIIIIIIIIIIIIIIIIIIIINII', (-2+0j)), ('I+IIIIIII-IIIIIIIIIIIIIIIIIIIIIIIIIIIIII', (1+0j)), ('I-IIIIIII+IIIIIIIIIIIIIIIIIIIIIIIIIIIIII', (-1+0j)), ('IIIIIIIII+IIIIIIIII-IIIIIIIIIIIIIIIIIIII', (-1+0j)), ('IIIIIIIII-IIIIIIIII+IIIIIIIIIIIIIIIIIIII', (1+0j)), ('IIIIIIIIINIIIIIIIIIIIIIIIIIIIIIIIIIIIIII', (-2+0j)), ('IIIIIIIIIII+IIIIIII-IIIIIIIIIIIIIIIIIIII', (1+0j)), ('IIIIIIIIIII-IIIIIII+IIIIIIIIIIIIIIIIIIII', (-1+0j)), ('IIIIIIIIIIIIIIIIIII+IIIIIIIII-IIIIIIIIII', (-1+0j)), ('IIIIIIIIIIIIIIIIIII-IIIIIIIII+IIIIIIIIII', (1+0j)), ('IIIIIIIIIIIIIIIIIIINIIIIIIIIIIIIIIIIIIII', (-2+0j)), ('IIIIIIIIIIIIIIIIIIIII+IIIIIII-IIIIIIIIII', (1+0j)), ('IIIIIIIIIIIIIIIIIIIII-IIIIIII+IIIIIIIIII', (-1+0j)), ('IIIIIIIIIIIIIIIIIIIIIIIIIIIII+IIIIIIIII-', (-1+0j)), ('IIIIIIIIIIIIIIIIIIIIIIIIIIIII-IIIIIIIII+', (1+0j)), ('IIIIIIIIIIIIIIIIIIIIIIIIIIIIINIIIIIIIIII', (-2+0j)), ('IIIIIIIIIIIIIIIIIIIIIIIIIIIIIII+IIIIIII-', (1+0j)), ('IIIIIIIIIIIIIIIIIIIIIIIIIIIIIII-IIIIIII+', (-1+0j)), ('IIIIIIIII+IIIIIIIIIIIIIIIIIIIIIIIIIIIII-', (-1+0j)), ('IIIIIIIII-IIIIIIIIIIIIIIIIIIIIIIIIIIIII+', (1+0j)), ('IIIIIIIIIIIIIIIIIIIIIIIIIIIIIIIIIIIIIIIN', (-2+0j)), ('NNIIIIIIIIIIIIIIIIIIIIIIIIIIIIIIIIIIIIII', (2+0j)), ('IINNIIIIIIIIIIIIIIIIIIIIIIIIIIIIIIIIIIII', (2+0j)), ('IIIINNIIIIIIIIIIIIIIIIIIIIIIIIIIIIIIIIII', (2+0j)), ('IIIIIINNIIIIIIIIIIIIIIIIIIIIIIIIIIIIIIII', (2+0j)), ('IIIIIIIINNIIIIIIIIIIIIIIIIIIIIIIIIIIIIII', (2+0j)), ('IIIIIIIIIINNIIIIIIIIIIIIIIIIIIIIIIIIIIII', (2+0j)), ('IIIIIIIIIIIINNIIIIIIIIIIIIIIIIIIIIIIIIII', (2+0j)), ('IIIIIIIIIIIIIINNIIIIIIIIIIIIIIIIIIIIIIII', (2+0j)), ('IIIIIIIIIIIIIIIINNIIIIIIIIIIIIIIIIIIIIII', (2+0j)), ('IIIIIIIIIIIIIIIIIINNIIIIIIIIIIIIIIIIIIII', (2+0j)), ('IIIIIIIIIIIIIIIIIIIINNIIIIIIIIIIIIIIIIII', (2+0j)), ('IIIIIIIIIIIIIIIIIIIIIINNIIIIIIIIIIIIIIII', (2+0j)), ('IIIIIIIIIIIIIIIIIIIIIIIINNIIIIIIIIIIIIII', (2+0j)), ('IIIIIIIIIIIIIIIIIIIIIIIIIINNIIIIIIIIIIII', (2+0j)), ('IIIIIIIIIIIIIIIIIIIIIIIIIIIINNIIIIIIIIII', (2+0j)), ('IIIIIIIIIIIIIIIIIIIIIIIIIIIIIINNIIIIIIII', (2+0j)), ('IIIIIIIIIIIIIIIIIIIIIIIIIIIIIIIINNIIIIII', (2+0j)), ('IIIIIIIIIIIIIIIIIIIIIIIIIIIIIIIIIINNIIII', (2+0j)), ('IIIIIIIIIIIIIIIIIIIIIIIIIIIIIIIIIIIINNII', (2+0j)), ('IIIIIIIIIIIIIIIIIIIIIIIIIIIIIIIIIIIIIINN', (2+0j))])"
      ]
     },
     "metadata": {},
     "execution_count": 16
    }
   ],
   "metadata": {}
  },
  {
   "cell_type": "markdown",
   "source": [
    "# **The FHM from parameters(hopping matrix and on-site interaction)**"
   ],
   "metadata": {}
  },
  {
   "cell_type": "code",
   "execution_count": 20,
   "source": [
    "hopping_matrix = np.array([\n",
    "    [1. , -1. + 1.j, -5.+5.j], \n",
    "    [-1.-1.j, 2., 1.], \n",
    "    [-5.-5.j, 1., 2.]\n",
    "])\n",
    "\n",
    "onsite_interaction = 2.0\n",
    "\n",
    "FHM = FermiHubbard.from_parameters(\n",
    "    hopping_matrix=hopping_matrix,\n",
    "    onsite_interaction=onsite_interaction\n",
    ")\n",
    "\n",
    "FHM.hamiltonian()"
   ],
   "outputs": [
    {
     "output_type": "execute_result",
     "data": {
      "text/plain": [
       "FermionicOp([('NIIIII', (1+0j)), ('+I-III', (-1+1j)), ('-I+III', (1+1j)), ('+III-I', (-5+5j)), ('-III+I', (5+5j)), ('IINIII', (2+0j)), ('II+I-I', (1+0j)), ('II-I+I', (-1+0j)), ('IIIINI', (2+0j)), ('INIIII', (1+0j)), ('I+I-II', (-1+1j)), ('I-I+II', (1+1j)), ('I+III-', (-5+5j)), ('I-III+', (5+5j)), ('IIINII', (2+0j)), ('III+I-', (1+0j)), ('III-I+', (-1+0j)), ('IIIIIN', (2+0j)), ('NNIIII', (2+0j)), ('IINNII', (2+0j)), ('IIIINN', (2+0j))])"
      ]
     },
     "metadata": {},
     "execution_count": 20
    }
   ],
   "metadata": {}
  },
  {
   "cell_type": "code",
   "execution_count": 18,
   "source": [
    "FHM.hopping_matrix()"
   ],
   "outputs": [
    {
     "output_type": "execute_result",
     "data": {
      "text/plain": [
       "array([[ 1.+0.j, -1.+1.j, -5.+5.j],\n",
       "       [-1.-1.j,  2.+0.j,  1.+0.j],\n",
       "       [-5.-5.j,  1.+0.j,  2.+0.j]])"
      ]
     },
     "metadata": {},
     "execution_count": 18
    }
   ],
   "metadata": {}
  },
  {
   "cell_type": "code",
   "execution_count": null,
   "source": [],
   "outputs": [],
   "metadata": {}
  }
 ],
 "metadata": {
  "interpreter": {
   "hash": "9260e481e8ebffe645f675d55196b2f88380578be1352ac7d4f487d5b39fe6ee"
  },
  "kernelspec": {
   "name": "python3",
   "display_name": "Python 3.9.6 64-bit ('3.9.6': pyenv)"
  },
  "language_info": {
   "codemirror_mode": {
    "name": "ipython",
    "version": 3
   },
   "file_extension": ".py",
   "mimetype": "text/x-python",
   "name": "python",
   "nbconvert_exporter": "python",
   "pygments_lexer": "ipython3",
   "version": "3.9.6"
  }
 },
 "nbformat": 4,
 "nbformat_minor": 2
}