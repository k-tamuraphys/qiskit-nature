{
 "cells": [
  {
   "cell_type": "code",
   "execution_count": 1,
   "source": [
    "import lattice\n",
    "from hamiltonian import FermiHubbard\n",
    "import retworkx\n",
    "import numpy as np"
   ],
   "outputs": [],
   "metadata": {}
  },
  {
   "cell_type": "code",
   "execution_count": 29,
   "source": [
    "class test:\n",
    "    def __init__(self, a:int, b:float) -> None:\n",
    "        self.a = a\n",
    "        self.b = b\n",
    "t = test(1.2, 3)\n"
   ],
   "outputs": [],
   "metadata": {}
  },
  {
   "cell_type": "markdown",
   "source": [
    "# **General Lattice**"
   ],
   "metadata": {}
  },
  {
   "cell_type": "code",
   "execution_count": 6,
   "source": [
    "graph = retworkx.PyGraph(multigraph=False)\n",
    "graph.add_nodes_from(range(6))\n",
    "weighted_edge_list = [(0, 1, 1.0), (0, 2, -1.0), (2, 3, 2.0), (4, 2, -1.0), (4, 4, 3.0), (2, 5, -1.0)]\n",
    "graph.add_edges_from(weighted_edge_list)\n",
    "graph.add_edge(0, 1, -1.0)\n",
    "list(graph.weighted_edge_list())\n",
    "#general_lattice = lattice.Lattice(graph)"
   ],
   "outputs": [
    {
     "output_type": "execute_result",
     "data": {
      "text/plain": [
       "[(0, 1, -1.0),\n",
       " (0, 2, -1.0),\n",
       " (2, 3, 2.0),\n",
       " (4, 2, -1.0),\n",
       " (4, 4, 3.0),\n",
       " (2, 5, -1.0)]"
      ]
     },
     "metadata": {},
     "execution_count": 6
    }
   ],
   "metadata": {}
  },
  {
   "cell_type": "markdown",
   "source": [
    "## visualization"
   ],
   "metadata": {}
  },
  {
   "cell_type": "code",
   "execution_count": 3,
   "source": [
    "general_lattice.draw(with_labels=True)"
   ],
   "outputs": [
    {
     "output_type": "display_data",
     "data": {
      "text/plain": [
       "<Figure size 432x288 with 1 Axes>"
      ],
      "image/png": "[encoded data removed]"
     },
     "metadata": {}
    }
   ],
   "metadata": {}
  },
  {
   "cell_type": "markdown",
   "source": [
    "## **adjacency matrix(hopping matrix) $t_{x, y}$**"
   ],
   "metadata": {}
  },
  {
   "cell_type": "code",
   "execution_count": 4,
   "source": [
    "general_lattice.to_adjacency_matrix()"
   ],
   "outputs": [
    {
     "output_type": "execute_result",
     "data": {
      "text/plain": [
       "array([[ 0.+0.j,  1.+0.j, -1.+0.j,  0.+0.j,  0.+0.j,  0.+0.j],\n",
       "       [ 1.+0.j,  0.+0.j,  0.+0.j,  0.+0.j,  0.+0.j,  0.+0.j],\n",
       "       [-1.+0.j,  0.+0.j,  0.+0.j,  2.+0.j, -1.+0.j, -1.+0.j],\n",
       "       [ 0.+0.j,  0.+0.j,  2.+0.j,  0.+0.j,  0.+0.j,  0.+0.j],\n",
       "       [ 0.+0.j,  0.+0.j, -1.+0.j,  0.+0.j,  3.+0.j,  0.+0.j],\n",
       "       [ 0.+0.j,  0.+0.j, -1.+0.j,  0.+0.j,  0.+0.j,  0.+0.j]])"
      ]
     },
     "metadata": {},
     "execution_count": 4
    }
   ],
   "metadata": {}
  },
  {
   "cell_type": "markdown",
   "source": [
    "## **Fermi-Hubbard model**"
   ],
   "metadata": {}
  },
  {
   "cell_type": "code",
   "execution_count": 3,
   "source": [
    "onsite_interaction = 2.0\n",
    "FHM = FermiHubbard(\n",
    "    lattice=general_lattice,\n",
    "    onsite_interaction=onsite_interaction\n",
    ")\n",
    "\n",
    "ham = FHM.hamiltonian()\n",
    "ham.set_label_display_mode(\"sparse\")\n",
    "print(ham)\n",
    "# main の環境で使えるようにしとく"
   ],
   "outputs": [
    {
     "output_type": "stream",
     "name": "stdout",
     "text": [
      "  +_0 -_2 * (1+0j)\n",
      "+ -_0 +_2 * (-1+0j)\n",
      "+ +_0 -_4 * (-1+0j)\n",
      "+ -_0 +_4 * (1+0j)\n",
      "+ +_4 -_6 * (2+0j)\n",
      "+ -_4 +_6 * (-2+0j)\n",
      "+ +_4 -_8 * (-1+0j)\n",
      "+ -_4 +_8 * (1+0j)\n",
      "+ +_8 -_8 * (3+0j)\n",
      "+ +_4 -_10 * (-1+0j)\n",
      "+ -_4 +_10 * (1+0j)\n",
      "+ +_1 -_3 * (1+0j)\n",
      "+ -_1 +_3 * (-1+0j)\n",
      "+ +_1 -_5 * (-1+0j)\n",
      "+ -_1 +_5 * (1+0j)\n",
      "+ +_5 -_7 * (2+0j)\n",
      "+ -_5 +_7 * (-2+0j)\n",
      "+ +_5 -_9 * (-1+0j)\n",
      "+ -_5 +_9 * (1+0j)\n",
      "+ +_9 -_9 * (3+0j)\n",
      "+ +_5 -_11 * (-1+0j)\n",
      "+ -_5 +_11 * (1+0j)\n",
      "+ +_0 -_0 +_1 -_1 * (2+0j)\n",
      "+ +_2 -_2 +_3 -_3 * (2+0j)\n",
      "+ +_4 -_4 +_5 -_5 * (2+0j)\n",
      "+ +_6 -_6 +_7 -_7 * (2+0j)\n",
      "+ +_8 -_8 +_9 -_9 * (2+0j)\n",
      "+ +_10 -_10 +_11 -_11 * (2+0j)\n"
     ]
    }
   ],
   "metadata": {}
  },
  {
   "cell_type": "code",
   "execution_count": 6,
   "source": [
    "FHM.hopping_matrix()"
   ],
   "outputs": [
    {
     "output_type": "execute_result",
     "data": {
      "text/plain": [
       "array([[ 0.+0.j,  1.+0.j, -1.+0.j,  0.+0.j,  0.+0.j,  0.+0.j],\n",
       "       [ 1.+0.j,  0.+0.j,  0.+0.j,  0.+0.j,  0.+0.j,  0.+0.j],\n",
       "       [-1.+0.j,  0.+0.j,  0.+0.j,  2.+0.j, -1.+0.j, -1.+0.j],\n",
       "       [ 0.+0.j,  0.+0.j,  2.+0.j,  0.+0.j,  0.+0.j,  0.+0.j],\n",
       "       [ 0.+0.j,  0.+0.j, -1.+0.j,  0.+0.j,  3.+0.j,  0.+0.j],\n",
       "       [ 0.+0.j,  0.+0.j, -1.+0.j,  0.+0.j,  0.+0.j,  0.+0.j]])"
      ]
     },
     "metadata": {},
     "execution_count": 6
    }
   ],
   "metadata": {}
  },
  {
   "cell_type": "markdown",
   "source": [
    "# **One-dimensional case(open boundary condition)**"
   ],
   "metadata": {}
  },
  {
   "cell_type": "code",
   "execution_count": 7,
   "source": [
    "lattice_points = 4\n",
    "t = -1.0\n",
    "onsite_potential = 1.0\n",
    "one_dim_lattice = lattice.LineLattice(\n",
    "    num_nodes=lattice_points,\n",
    "    edge_parameter=t,\n",
    "    onsite_parameter=onsite_potential,\n",
    "    boundary_condition=\"open\"\n",
    ")"
   ],
   "outputs": [],
   "metadata": {}
  },
  {
   "cell_type": "markdown",
   "source": [
    "## **visualization**"
   ],
   "metadata": {}
  },
  {
   "cell_type": "code",
   "execution_count": 8,
   "source": [
    "pos = {0:[0, 0], 1:[1, 0], 2:[2, 0], 3:[3, 0]}\n",
    "one_dim_lattice.draw(pos=pos, with_labels=True)"
   ],
   "outputs": [
    {
     "output_type": "display_data",
     "data": {
      "text/plain": [
       "<Figure size 432x288 with 1 Axes>"
      ],
      "image/png": "[encoded data removed]"
     },
     "metadata": {}
    }
   ],
   "metadata": {}
  },
  {
   "cell_type": "markdown",
   "source": [
    "## **Fermi-Hubbard model**"
   ],
   "metadata": {}
  },
  {
   "cell_type": "code",
   "execution_count": 9,
   "source": [
    "onsite_interaction = 5.0\n",
    "FHM = FermiHubbard(\n",
    "    one_dim_lattice,\n",
    "    onsite_interaction\n",
    ")\n",
    "FHM.hamiltonian()"
   ],
   "outputs": [
    {
     "output_type": "execute_result",
     "data": {
      "text/plain": [
       "FermionicOp([('+I-IIIII', (-1+0j)), ('-I+IIIII', (1+0j)), ('II+I-III', (-1+0j)), ('II-I+III', (1+0j)), ('IIII+I-I', (-1+0j)), ('IIII-I+I', (1+0j)), ('NIIIIIII', (1+0j)), ('IINIIIII', (1+0j)), ('IIIINIII', (1+0j)), ('IIIIIINI', (1+0j)), ('I+I-IIII', (-1+0j)), ('I-I+IIII', (1+0j)), ('III+I-II', (-1+0j)), ('III-I+II', (1+0j)), ('IIIII+I-', (-1+0j)), ('IIIII-I+', (1+0j)), ('INIIIIII', (1+0j)), ('IIINIIII', (1+0j)), ('IIIIINII', (1+0j)), ('IIIIIIIN', (1+0j)), ('NNIIIIII', (5+0j)), ('IINNIIII', (5+0j)), ('IIIINNII', (5+0j)), ('IIIIIINN', (5+0j))])"
      ]
     },
     "metadata": {},
     "execution_count": 9
    }
   ],
   "metadata": {}
  },
  {
   "cell_type": "code",
   "execution_count": 10,
   "source": [
    "FHM.hopping_matrix()"
   ],
   "outputs": [
    {
     "output_type": "execute_result",
     "data": {
      "text/plain": [
       "array([[ 1.+0.j, -1.+0.j,  0.+0.j,  0.+0.j],\n",
       "       [-1.+0.j,  1.+0.j, -1.+0.j,  0.+0.j],\n",
       "       [ 0.+0.j, -1.+0.j,  1.+0.j, -1.+0.j],\n",
       "       [ 0.+0.j,  0.+0.j, -1.+0.j,  1.+0.j]])"
      ]
     },
     "metadata": {},
     "execution_count": 10
    }
   ],
   "metadata": {}
  },
  {
   "cell_type": "markdown",
   "source": [
    "## **Operator expression**"
   ],
   "metadata": {}
  },
  {
   "cell_type": "markdown",
   "source": [
    "$$\n",
    "\\begin{align*}\n",
    "H &= \\sum_{i = 0}^{2} \\sum_{\\sigma = \\uparrow, \\downarrow} (t c_{i, \\sigma}^\\dagger c_{i+1, \\sigma} + t c_{i+1, \\sigma}^\\dagger c_{i, \\sigma})+ U \\sum_{i=0}^{3} n_{i, \\uparrow} n_{i, \\downarrow} \\\\\n",
    "&= t c_{0, \\uparrow}^\\dagger c_{1, \\uparrow} - t c_{0, \\uparrow} c_{1, \\uparrow}^{\\dagger} \\\\\n",
    "& \\ + t c_{1, \\uparrow}^\\dagger c_{2, \\uparrow} - t c_{1, \\uparrow} c_{2, \\uparrow}^{\\dagger} \\\\\n",
    "& \\ + t c_{2, \\uparrow}^\\dagger c_{3, \\uparrow} - t c_{2, \\uparrow} c_{3, \\uparrow}^{\\dagger} \\\\\n",
    "& \\ + v n_{0, \\uparrow} + v n_{1, \\uparrow} + v n_{2, \\uparrow} + v n_{3, \\uparrow} \\\\\n",
    "& \\ + t c_{0, \\downarrow}^\\dagger c_{1, \\downarrow} - t c_{0, \\downarrow} c_{1, \\downarrow}^{\\dagger} \\\\\n",
    "& \\ + t c_{1, \\downarrow}^\\dagger c_{2, \\downarrow} - t c_{1, \\downarrow} c_{2, \\downarrow}^{\\dagger} \\\\\n",
    "& \\ + t c_{2, \\downarrow}^\\dagger c_{3, \\downarrow} - t c_{2, \\downarrow} c_{3, \\downarrow}^{\\dagger} \\\\\n",
    "& \\ + v n_{0, \\downarrow} + v n_{1, \\downarrow} + v n_{2, \\downarrow} + v n_{3, \\downarrow} \\\\\n",
    "& \\ + U n_{0, \\uparrow} n_{0, \\downarrow} + U n_{1, \\uparrow} n_{1, \\downarrow} + + U n_{2, \\uparrow} n_{2, \\downarrow} + U n_{3, \\uparrow} n_{3, \\downarrow}\n",
    "\\end{align*}\n",
    "$$"
   ],
   "metadata": {}
  },
  {
   "cell_type": "markdown",
   "source": [
    "# **One-dimensional case (periodic boundary condition)**"
   ],
   "metadata": {}
  },
  {
   "cell_type": "code",
   "execution_count": 11,
   "source": [
    "lattice_points = 4\n",
    "t = -1.0\n",
    "onsite_potential = 1.0\n",
    "one_dim_lattice = lattice.LineLattice(\n",
    "    num_nodes=lattice_points,\n",
    "    edge_parameter=t,\n",
    "    onsite_parameter=onsite_potential,\n",
    "    boundary_condition=\"periodic\"\n",
    ")"
   ],
   "outputs": [],
   "metadata": {}
  },
  {
   "cell_type": "markdown",
   "source": [
    "## **visualization**"
   ],
   "metadata": {}
  },
  {
   "cell_type": "code",
   "execution_count": 12,
   "source": [
    "one_dim_lattice.draw(with_labels=True)"
   ],
   "outputs": [
    {
     "output_type": "display_data",
     "data": {
      "text/plain": [
       "<Figure size 432x288 with 1 Axes>"
      ],
      "image/png": "[encoded data removed]"
     },
     "metadata": {}
    }
   ],
   "metadata": {}
  },
  {
   "cell_type": "markdown",
   "source": [
    "## **Fermi-Hubbard model**"
   ],
   "metadata": {}
  },
  {
   "cell_type": "code",
   "execution_count": 13,
   "source": [
    "FHM = FermiHubbard(\n",
    "    one_dim_lattice,\n",
    "    onsite_interaction\n",
    ")\n",
    "\n",
    "FHM.hamiltonian()"
   ],
   "outputs": [
    {
     "output_type": "execute_result",
     "data": {
      "text/plain": [
       "FermionicOp([('+I-IIIII', (-1+0j)), ('-I+IIIII', (1+0j)), ('II+I-III', (-1+0j)), ('II-I+III', (1+0j)), ('IIII+I-I', (-1+0j)), ('IIII-I+I', (1+0j)), ('+IIIII-I', (-1+0j)), ('-IIIII+I', (1+0j)), ('NIIIIIII', (1+0j)), ('IINIIIII', (1+0j)), ('IIIINIII', (1+0j)), ('IIIIIINI', (1+0j)), ('I+I-IIII', (-1+0j)), ('I-I+IIII', (1+0j)), ('III+I-II', (-1+0j)), ('III-I+II', (1+0j)), ('IIIII+I-', (-1+0j)), ('IIIII-I+', (1+0j)), ('I+IIIII-', (-1+0j)), ('I-IIIII+', (1+0j)), ('INIIIIII', (1+0j)), ('IIINIIII', (1+0j)), ('IIIIINII', (1+0j)), ('IIIIIIIN', (1+0j)), ('NNIIIIII', (5+0j)), ('IINNIIII', (5+0j)), ('IIIINNII', (5+0j)), ('IIIIIINN', (5+0j))])"
      ]
     },
     "metadata": {},
     "execution_count": 13
    }
   ],
   "metadata": {}
  },
  {
   "cell_type": "code",
   "execution_count": 14,
   "source": [
    "FHM.hopping_matrix()"
   ],
   "outputs": [
    {
     "output_type": "execute_result",
     "data": {
      "text/plain": [
       "array([[ 1.+0.j, -1.+0.j,  0.+0.j, -1.+0.j],\n",
       "       [-1.+0.j,  1.+0.j, -1.+0.j,  0.+0.j],\n",
       "       [ 0.+0.j, -1.+0.j,  1.+0.j, -1.+0.j],\n",
       "       [-1.+0.j,  0.+0.j, -1.+0.j,  1.+0.j]])"
      ]
     },
     "metadata": {},
     "execution_count": 14
    }
   ],
   "metadata": {}
  },
  {
   "cell_type": "markdown",
   "source": [
    "# **Square lattice**"
   ],
   "metadata": {}
  },
  {
   "cell_type": "code",
   "execution_count": 4,
   "source": [
    "size = [5, 4]\n",
    "square = lattice.SquareLattice(\n",
    "    size=size,\n",
    "    edge_parameter=[1.0, -1.0],\n",
    "    onsite_parameter=-2.0,\n",
    "    boundary_condition=[\"open\", \"periodic\"]\n",
    ")"
   ],
   "outputs": [
    {
     "output_type": "error",
     "ename": "TypeError",
     "evalue": "__init__() got an unexpected keyword argument 'size'",
     "traceback": [
      "\u001b[0;31m---------------------------------------------------------------------------\u001b[0m",
      "\u001b[0;31mTypeError\u001b[0m                                 Traceback (most recent call last)",
      "\u001b[0;32m/var/folders/9c/s5jmjc753lz26c5kxyl6t98w0000gn/T/ipykernel_5500/2944731590.py\u001b[0m in \u001b[0;36m<module>\u001b[0;34m\u001b[0m\n\u001b[1;32m      1\u001b[0m \u001b[0msize\u001b[0m \u001b[0;34m=\u001b[0m \u001b[0;34m[\u001b[0m\u001b[0;36m5\u001b[0m\u001b[0;34m,\u001b[0m \u001b[0;36m4\u001b[0m\u001b[0;34m]\u001b[0m\u001b[0;34m\u001b[0m\u001b[0;34m\u001b[0m\u001b[0m\n\u001b[0;32m----> 2\u001b[0;31m square = lattice.SquareLattice(\n\u001b[0m\u001b[1;32m      3\u001b[0m     \u001b[0msize\u001b[0m\u001b[0;34m=\u001b[0m\u001b[0msize\u001b[0m\u001b[0;34m,\u001b[0m\u001b[0;34m\u001b[0m\u001b[0;34m\u001b[0m\u001b[0m\n\u001b[1;32m      4\u001b[0m     \u001b[0medge_parameter\u001b[0m\u001b[0;34m=\u001b[0m\u001b[0;34m[\u001b[0m\u001b[0;36m1.0\u001b[0m\u001b[0;34m,\u001b[0m \u001b[0;34m-\u001b[0m\u001b[0;36m1.0\u001b[0m\u001b[0;34m]\u001b[0m\u001b[0;34m,\u001b[0m\u001b[0;34m\u001b[0m\u001b[0;34m\u001b[0m\u001b[0m\n\u001b[1;32m      5\u001b[0m     \u001b[0monsite_parameter\u001b[0m\u001b[0;34m=\u001b[0m\u001b[0;34m-\u001b[0m\u001b[0;36m2.0\u001b[0m\u001b[0;34m,\u001b[0m\u001b[0;34m\u001b[0m\u001b[0;34m\u001b[0m\u001b[0m\n",
      "\u001b[0;31mTypeError\u001b[0m: __init__() got an unexpected keyword argument 'size'"
     ]
    }
   ],
   "metadata": {}
  },
  {
   "cell_type": "code",
   "execution_count": 16,
   "source": [
    "def indextocoord(index:int, size:list) -> list:\n",
    "    x = index % size[0]\n",
    "    y = index // size[0]\n",
    "    return [x, y]\n",
    "pos = dict([(index, indextocoord(index, size)) for index in range(np.prod(size))])\n",
    "square.draw(pos=None, with_labels=True)"
   ],
   "outputs": [
    {
     "output_type": "display_data",
     "data": {
      "text/plain": [
       "<Figure size 432x288 with 1 Axes>"
      ],
      "image/png": "[encoded data removed]"
     },
     "metadata": {}
    }
   ],
   "metadata": {}
  },
  {
   "cell_type": "code",
   "execution_count": 17,
   "source": [
    "onsite_interaction = 2.0\n",
    "FHM = FermiHubbard(\n",
    "    lattice=square,\n",
    "    onsite_interaction=onsite_interaction\n",
    ")\n",
    "FHM.hamiltonian()"
   ],
   "outputs": [
    {
     "output_type": "execute_result",
     "data": {
      "text/plain": [
       "FermionicOp([('+I-IIIIIIIIIIIIIIIIIIIIIIIIIIIIIIIIIIIII', (1+0j)), ('-I+IIIIIIIIIIIIIIIIIIIIIIIIIIIIIIIIIIIII', (-1+0j)), ('+IIIIIIIII-IIIIIIIIIIIIIIIIIIIIIIIIIIIII', (-1+0j)), ('-IIIIIIIII+IIIIIIIIIIIIIIIIIIIIIIIIIIIII', (1+0j)), ('+IIIIIIIII-IIIIIIIIIIIIIIIIIIIIIIIIIIIII', (-2+0j)), ('-IIIIIIIII+IIIIIIIIIIIIIIIIIIIIIIIIIIIII', (2+0j)), ('IIIIIIIIII+I-IIIIIIIIIIIIIIIIIIIIIIIIIII', (1+0j)), ('IIIIIIIIII-I+IIIIIIIIIIIIIIIIIIIIIIIIIII', (-1+0j)), ('IIIIIIIIII+IIIIIIIII-IIIIIIIIIIIIIIIIIII', (-1+0j)), ('IIIIIIIIII-IIIIIIIII+IIIIIIIIIIIIIIIIIII', (1+0j)), ('IIIIIIIIII+IIIIIIIII-IIIIIIIIIIIIIIIIIII', (-2+0j)), ('IIIIIIIIII-IIIIIIIII+IIIIIIIIIIIIIIIIIII', (2+0j)), ('IIIIIIIIIIIIIIIIIIII+I-IIIIIIIIIIIIIIIII', (1+0j)), ('IIIIIIIIIIIIIIIIIIII-I+IIIIIIIIIIIIIIIII', (-1+0j)), ('IIIIIIIIIIIIIIIIIIII+IIIIIIIII-IIIIIIIII', (-1+0j)), ('IIIIIIIIIIIIIIIIIIII-IIIIIIIII+IIIIIIIII', (1+0j)), ('IIIIIIIIIIIIIIIIIIII+IIIIIIIII-IIIIIIIII', (-2+0j)), ('IIIIIIIIIIIIIIIIIIII-IIIIIIIII+IIIIIIIII', (2+0j)), ('IIIIIIIIIIIIIIIIIIIIIIIIIIIIII+I-IIIIIII', (1+0j)), ('IIIIIIIIIIIIIIIIIIIIIIIIIIIIII-I+IIIIIII', (-1+0j)), ('+IIIIIIIIIIIIIIIIIIIIIIIIIIIII-IIIIIIIII', (-1+0j)), ('-IIIIIIIIIIIIIIIIIIIIIIIIIIIII+IIIIIIIII', (1+0j)), ('+IIIIIIIIIIIIIIIIIIIIIIIIIIIII-IIIIIIIII', (-2+0j)), ('-IIIIIIIIIIIIIIIIIIIIIIIIIIIII+IIIIIIIII', (2+0j)), ('II+I-IIIIIIIIIIIIIIIIIIIIIIIIIIIIIIIIIII', (1+0j)), ('II-I+IIIIIIIIIIIIIIIIIIIIIIIIIIIIIIIIIII', (-1+0j)), ('II+IIIIIIIII-IIIIIIIIIIIIIIIIIIIIIIIIIII', (-1+0j)), ('II-IIIIIIIII+IIIIIIIIIIIIIIIIIIIIIIIIIII', (1+0j)), ('II+IIIIIIIII-IIIIIIIIIIIIIIIIIIIIIIIIIII', (-2+0j)), ('II-IIIIIIIII+IIIIIIIIIIIIIIIIIIIIIIIIIII', (2+0j)), ('IIIIIIIIIIII+I-IIIIIIIIIIIIIIIIIIIIIIIII', (1+0j)), ('IIIIIIIIIIII-I+IIIIIIIIIIIIIIIIIIIIIIIII', (-1+0j)), ('IIIIIIIIIIII+IIIIIIIII-IIIIIIIIIIIIIIIII', (-1+0j)), ('IIIIIIIIIIII-IIIIIIIII+IIIIIIIIIIIIIIIII', (1+0j)), ('IIIIIIIIIIII+IIIIIIIII-IIIIIIIIIIIIIIIII', (-2+0j)), ('IIIIIIIIIIII-IIIIIIIII+IIIIIIIIIIIIIIIII', (2+0j)), ('IIIIIIIIIIIIIIIIIIIIII+I-IIIIIIIIIIIIIII', (1+0j)), ('IIIIIIIIIIIIIIIIIIIIII-I+IIIIIIIIIIIIIII', (-1+0j)), ('IIIIIIIIIIIIIIIIIIIIII+IIIIIIIII-IIIIIII', (-1+0j)), ('IIIIIIIIIIIIIIIIIIIIII-IIIIIIIII+IIIIIII', (1+0j)), ('IIIIIIIIIIIIIIIIIIIIII+IIIIIIIII-IIIIIII', (-2+0j)), ('IIIIIIIIIIIIIIIIIIIIII-IIIIIIIII+IIIIIII', (2+0j)), ('IIIIIIIIIIIIIIIIIIIIIIIIIIIIIIII+I-IIIII', (1+0j)), ('IIIIIIIIIIIIIIIIIIIIIIIIIIIIIIII-I+IIIII', (-1+0j)), ('II+IIIIIIIIIIIIIIIIIIIIIIIIIIIII-IIIIIII', (-1+0j)), ('II-IIIIIIIIIIIIIIIIIIIIIIIIIIIII+IIIIIII', (1+0j)), ('II+IIIIIIIIIIIIIIIIIIIIIIIIIIIII-IIIIIII', (-2+0j)), ('II-IIIIIIIIIIIIIIIIIIIIIIIIIIIII+IIIIIII', (2+0j)), ('IIII+I-IIIIIIIIIIIIIIIIIIIIIIIIIIIIIIIII', (1+0j)), ('IIII-I+IIIIIIIIIIIIIIIIIIIIIIIIIIIIIIIII', (-1+0j)), ('IIII+IIIIIIIII-IIIIIIIIIIIIIIIIIIIIIIIII', (-1+0j)), ('IIII-IIIIIIIII+IIIIIIIIIIIIIIIIIIIIIIIII', (1+0j)), ('IIII+IIIIIIIII-IIIIIIIIIIIIIIIIIIIIIIIII', (-2+0j)), ('IIII-IIIIIIIII+IIIIIIIIIIIIIIIIIIIIIIIII', (2+0j)), ('IIIIIIIIIIIIII+I-IIIIIIIIIIIIIIIIIIIIIII', (1+0j)), ('IIIIIIIIIIIIII-I+IIIIIIIIIIIIIIIIIIIIIII', (-1+0j)), ('IIIIIIIIIIIIII+IIIIIIIII-IIIIIIIIIIIIIII', (-1+0j)), ('IIIIIIIIIIIIII-IIIIIIIII+IIIIIIIIIIIIIII', (1+0j)), ('IIIIIIIIIIIIII+IIIIIIIII-IIIIIIIIIIIIIII', (-2+0j)), ('IIIIIIIIIIIIII-IIIIIIIII+IIIIIIIIIIIIIII', (2+0j)), ('IIIIIIIIIIIIIIIIIIIIIIII+I-IIIIIIIIIIIII', (1+0j)), ('IIIIIIIIIIIIIIIIIIIIIIII-I+IIIIIIIIIIIII', (-1+0j)), ('IIIIIIIIIIIIIIIIIIIIIIII+IIIIIIIII-IIIII', (-1+0j)), ('IIIIIIIIIIIIIIIIIIIIIIII-IIIIIIIII+IIIII', (1+0j)), ('IIIIIIIIIIIIIIIIIIIIIIII+IIIIIIIII-IIIII', (-2+0j)), ('IIIIIIIIIIIIIIIIIIIIIIII-IIIIIIIII+IIIII', (2+0j)), ('IIIIIIIIIIIIIIIIIIIIIIIIIIIIIIIIII+I-III', (1+0j)), ('IIIIIIIIIIIIIIIIIIIIIIIIIIIIIIIIII-I+III', (-1+0j)), ('IIII+IIIIIIIIIIIIIIIIIIIIIIIIIIIII-IIIII', (-1+0j)), ('IIII-IIIIIIIIIIIIIIIIIIIIIIIIIIIII+IIIII', (1+0j)), ('IIII+IIIIIIIIIIIIIIIIIIIIIIIIIIIII-IIIII', (-2+0j)), ('IIII-IIIIIIIIIIIIIIIIIIIIIIIIIIIII+IIIII', (2+0j)), ('IIIIII+I-IIIIIIIIIIIIIIIIIIIIIIIIIIIIIII', (1+0j)), ('IIIIII-I+IIIIIIIIIIIIIIIIIIIIIIIIIIIIIII', (-1+0j)), ('IIIIII+IIIIIIIII-IIIIIIIIIIIIIIIIIIIIIII', (-1+0j)), ('IIIIII-IIIIIIIII+IIIIIIIIIIIIIIIIIIIIIII', (1+0j)), ('IIIIII+IIIIIIIII-IIIIIIIIIIIIIIIIIIIIIII', (-2+0j)), ('IIIIII-IIIIIIIII+IIIIIIIIIIIIIIIIIIIIIII', (2+0j)), ('IIIIIIIIIIIIIIII+I-IIIIIIIIIIIIIIIIIIIII', (1+0j)), ('IIIIIIIIIIIIIIII-I+IIIIIIIIIIIIIIIIIIIII', (-1+0j)), ('IIIIIIIIIIIIIIII+IIIIIIIII-IIIIIIIIIIIII', (-1+0j)), ('IIIIIIIIIIIIIIII-IIIIIIIII+IIIIIIIIIIIII', (1+0j)), ('IIIIIIIIIIIIIIII+IIIIIIIII-IIIIIIIIIIIII', (-2+0j)), ('IIIIIIIIIIIIIIII-IIIIIIIII+IIIIIIIIIIIII', (2+0j)), ('IIIIIIIIIIIIIIIIIIIIIIIIII+I-IIIIIIIIIII', (1+0j)), ('IIIIIIIIIIIIIIIIIIIIIIIIII-I+IIIIIIIIIII', (-1+0j)), ('IIIIIIIIIIIIIIIIIIIIIIIIII+IIIIIIIII-III', (-1+0j)), ('IIIIIIIIIIIIIIIIIIIIIIIIII-IIIIIIIII+III', (1+0j)), ('IIIIIIIIIIIIIIIIIIIIIIIIII+IIIIIIIII-III', (-2+0j)), ('IIIIIIIIIIIIIIIIIIIIIIIIII-IIIIIIIII+III', (2+0j)), ('IIIIIIIIIIIIIIIIIIIIIIIIIIIIIIIIIIII+I-I', (1+0j)), ('IIIIIIIIIIIIIIIIIIIIIIIIIIIIIIIIIIII-I+I', (-1+0j)), ('IIIIII+IIIIIIIIIIIIIIIIIIIIIIIIIIIII-III', (-1+0j)), ('IIIIII-IIIIIIIIIIIIIIIIIIIIIIIIIIIII+III', (1+0j)), ('IIIIII+IIIIIIIIIIIIIIIIIIIIIIIIIIIII-III', (-2+0j)), ('IIIIII-IIIIIIIIIIIIIIIIIIIIIIIIIIIII+III', (2+0j)), ('IIIIIIII+IIIIIIIII-IIIIIIIIIIIIIIIIIIIII', (-1+0j)), ('IIIIIIII-IIIIIIIII+IIIIIIIIIIIIIIIIIIIII', (1+0j)), ('IIIIIIII+IIIIIIIII-IIIIIIIIIIIIIIIIIIIII', (-2+0j)), ('IIIIIIII-IIIIIIIII+IIIIIIIIIIIIIIIIIIIII', (2+0j)), ('IIIIIIIIIIIIIIIIII+IIIIIIIII-IIIIIIIIIII', (-1+0j)), ('IIIIIIIIIIIIIIIIII-IIIIIIIII+IIIIIIIIIII', (1+0j)), ('IIIIIIIIIIIIIIIIII+IIIIIIIII-IIIIIIIIIII', (-2+0j)), ('IIIIIIIIIIIIIIIIII-IIIIIIIII+IIIIIIIIIII', (2+0j)), ('IIIIIIIIIIIIIIIIIIIIIIIIIIII+IIIIIIIII-I', (-1+0j)), ('IIIIIIIIIIIIIIIIIIIIIIIIIIII-IIIIIIIII+I', (1+0j)), ('IIIIIIIIIIIIIIIIIIIIIIIIIIII+IIIIIIIII-I', (-2+0j)), ('IIIIIIIIIIIIIIIIIIIIIIIIIIII-IIIIIIIII+I', (2+0j)), ('IIIIIIII+IIIIIIIIIIIIIIIIIIIIIIIIIIIII-I', (-1+0j)), ('IIIIIIII-IIIIIIIIIIIIIIIIIIIIIIIIIIIII+I', (1+0j)), ('IIIIIIII+IIIIIIIIIIIIIIIIIIIIIIIIIIIII-I', (-2+0j)), ('IIIIIIII-IIIIIIIIIIIIIIIIIIIIIIIIIIIII+I', (2+0j)), ('I+I-IIIIIIIIIIIIIIIIIIIIIIIIIIIIIIIIIIII', (1+0j)), ('I-I+IIIIIIIIIIIIIIIIIIIIIIIIIIIIIIIIIIII', (-1+0j)), ('I+IIIIIIIII-IIIIIIIIIIIIIIIIIIIIIIIIIIII', (-1+0j)), ('I-IIIIIIIII+IIIIIIIIIIIIIIIIIIIIIIIIIIII', (1+0j)), ('I+IIIIIIIII-IIIIIIIIIIIIIIIIIIIIIIIIIIII', (-2+0j)), ('I-IIIIIIIII+IIIIIIIIIIIIIIIIIIIIIIIIIIII', (2+0j)), ('IIIIIIIIIII+I-IIIIIIIIIIIIIIIIIIIIIIIIII', (1+0j)), ('IIIIIIIIIII-I+IIIIIIIIIIIIIIIIIIIIIIIIII', (-1+0j)), ('IIIIIIIIIII+IIIIIIIII-IIIIIIIIIIIIIIIIII', (-1+0j)), ('IIIIIIIIIII-IIIIIIIII+IIIIIIIIIIIIIIIIII', (1+0j)), ('IIIIIIIIIII+IIIIIIIII-IIIIIIIIIIIIIIIIII', (-2+0j)), ('IIIIIIIIIII-IIIIIIIII+IIIIIIIIIIIIIIIIII', (2+0j)), ('IIIIIIIIIIIIIIIIIIIII+I-IIIIIIIIIIIIIIII', (1+0j)), ('IIIIIIIIIIIIIIIIIIIII-I+IIIIIIIIIIIIIIII', (-1+0j)), ('IIIIIIIIIIIIIIIIIIIII+IIIIIIIII-IIIIIIII', (-1+0j)), ('IIIIIIIIIIIIIIIIIIIII-IIIIIIIII+IIIIIIII', (1+0j)), ('IIIIIIIIIIIIIIIIIIIII+IIIIIIIII-IIIIIIII', (-2+0j)), ('IIIIIIIIIIIIIIIIIIIII-IIIIIIIII+IIIIIIII', (2+0j)), ('IIIIIIIIIIIIIIIIIIIIIIIIIIIIIII+I-IIIIII', (1+0j)), ('IIIIIIIIIIIIIIIIIIIIIIIIIIIIIII-I+IIIIII', (-1+0j)), ('I+IIIIIIIIIIIIIIIIIIIIIIIIIIIII-IIIIIIII', (-1+0j)), ('I-IIIIIIIIIIIIIIIIIIIIIIIIIIIII+IIIIIIII', (1+0j)), ('I+IIIIIIIIIIIIIIIIIIIIIIIIIIIII-IIIIIIII', (-2+0j)), ('I-IIIIIIIIIIIIIIIIIIIIIIIIIIIII+IIIIIIII', (2+0j)), ('III+I-IIIIIIIIIIIIIIIIIIIIIIIIIIIIIIIIII', (1+0j)), ('III-I+IIIIIIIIIIIIIIIIIIIIIIIIIIIIIIIIII', (-1+0j)), ('III+IIIIIIIII-IIIIIIIIIIIIIIIIIIIIIIIIII', (-1+0j)), ('III-IIIIIIIII+IIIIIIIIIIIIIIIIIIIIIIIIII', (1+0j)), ('III+IIIIIIIII-IIIIIIIIIIIIIIIIIIIIIIIIII', (-2+0j)), ('III-IIIIIIIII+IIIIIIIIIIIIIIIIIIIIIIIIII', (2+0j)), ('IIIIIIIIIIIII+I-IIIIIIIIIIIIIIIIIIIIIIII', (1+0j)), ('IIIIIIIIIIIII-I+IIIIIIIIIIIIIIIIIIIIIIII', (-1+0j)), ('IIIIIIIIIIIII+IIIIIIIII-IIIIIIIIIIIIIIII', (-1+0j)), ('IIIIIIIIIIIII-IIIIIIIII+IIIIIIIIIIIIIIII', (1+0j)), ('IIIIIIIIIIIII+IIIIIIIII-IIIIIIIIIIIIIIII', (-2+0j)), ('IIIIIIIIIIIII-IIIIIIIII+IIIIIIIIIIIIIIII', (2+0j)), ('IIIIIIIIIIIIIIIIIIIIIII+I-IIIIIIIIIIIIII', (1+0j)), ('IIIIIIIIIIIIIIIIIIIIIII-I+IIIIIIIIIIIIII', (-1+0j)), ('IIIIIIIIIIIIIIIIIIIIIII+IIIIIIIII-IIIIII', (-1+0j)), ('IIIIIIIIIIIIIIIIIIIIIII-IIIIIIIII+IIIIII', (1+0j)), ('IIIIIIIIIIIIIIIIIIIIIII+IIIIIIIII-IIIIII', (-2+0j)), ('IIIIIIIIIIIIIIIIIIIIIII-IIIIIIIII+IIIIII', (2+0j)), ('IIIIIIIIIIIIIIIIIIIIIIIIIIIIIIIII+I-IIII', (1+0j)), ('IIIIIIIIIIIIIIIIIIIIIIIIIIIIIIIII-I+IIII', (-1+0j)), ('III+IIIIIIIIIIIIIIIIIIIIIIIIIIIII-IIIIII', (-1+0j)), ('III-IIIIIIIIIIIIIIIIIIIIIIIIIIIII+IIIIII', (1+0j)), ('III+IIIIIIIIIIIIIIIIIIIIIIIIIIIII-IIIIII', (-2+0j)), ('III-IIIIIIIIIIIIIIIIIIIIIIIIIIIII+IIIIII', (2+0j)), ('IIIII+I-IIIIIIIIIIIIIIIIIIIIIIIIIIIIIIII', (1+0j)), ('IIIII-I+IIIIIIIIIIIIIIIIIIIIIIIIIIIIIIII', (-1+0j)), ('IIIII+IIIIIIIII-IIIIIIIIIIIIIIIIIIIIIIII', (-1+0j)), ('IIIII-IIIIIIIII+IIIIIIIIIIIIIIIIIIIIIIII', (1+0j)), ('IIIII+IIIIIIIII-IIIIIIIIIIIIIIIIIIIIIIII', (-2+0j)), ('IIIII-IIIIIIIII+IIIIIIIIIIIIIIIIIIIIIIII', (2+0j)), ('IIIIIIIIIIIIIII+I-IIIIIIIIIIIIIIIIIIIIII', (1+0j)), ('IIIIIIIIIIIIIII-I+IIIIIIIIIIIIIIIIIIIIII', (-1+0j)), ('IIIIIIIIIIIIIII+IIIIIIIII-IIIIIIIIIIIIII', (-1+0j)), ('IIIIIIIIIIIIIII-IIIIIIIII+IIIIIIIIIIIIII', (1+0j)), ('IIIIIIIIIIIIIII+IIIIIIIII-IIIIIIIIIIIIII', (-2+0j)), ('IIIIIIIIIIIIIII-IIIIIIIII+IIIIIIIIIIIIII', (2+0j)), ('IIIIIIIIIIIIIIIIIIIIIIIII+I-IIIIIIIIIIII', (1+0j)), ('IIIIIIIIIIIIIIIIIIIIIIIII-I+IIIIIIIIIIII', (-1+0j)), ('IIIIIIIIIIIIIIIIIIIIIIIII+IIIIIIIII-IIII', (-1+0j)), ('IIIIIIIIIIIIIIIIIIIIIIIII-IIIIIIIII+IIII', (1+0j)), ('IIIIIIIIIIIIIIIIIIIIIIIII+IIIIIIIII-IIII', (-2+0j)), ('IIIIIIIIIIIIIIIIIIIIIIIII-IIIIIIIII+IIII', (2+0j)), ('IIIIIIIIIIIIIIIIIIIIIIIIIIIIIIIIIII+I-II', (1+0j)), ('IIIIIIIIIIIIIIIIIIIIIIIIIIIIIIIIIII-I+II', (-1+0j)), ('IIIII+IIIIIIIIIIIIIIIIIIIIIIIIIIIII-IIII', (-1+0j)), ('IIIII-IIIIIIIIIIIIIIIIIIIIIIIIIIIII+IIII', (1+0j)), ('IIIII+IIIIIIIIIIIIIIIIIIIIIIIIIIIII-IIII', (-2+0j)), ('IIIII-IIIIIIIIIIIIIIIIIIIIIIIIIIIII+IIII', (2+0j)), ('IIIIIII+I-IIIIIIIIIIIIIIIIIIIIIIIIIIIIII', (1+0j)), ('IIIIIII-I+IIIIIIIIIIIIIIIIIIIIIIIIIIIIII', (-1+0j)), ('IIIIIII+IIIIIIIII-IIIIIIIIIIIIIIIIIIIIII', (-1+0j)), ('IIIIIII-IIIIIIIII+IIIIIIIIIIIIIIIIIIIIII', (1+0j)), ('IIIIIII+IIIIIIIII-IIIIIIIIIIIIIIIIIIIIII', (-2+0j)), ('IIIIIII-IIIIIIIII+IIIIIIIIIIIIIIIIIIIIII', (2+0j)), ('IIIIIIIIIIIIIIIII+I-IIIIIIIIIIIIIIIIIIII', (1+0j)), ('IIIIIIIIIIIIIIIII-I+IIIIIIIIIIIIIIIIIIII', (-1+0j)), ('IIIIIIIIIIIIIIIII+IIIIIIIII-IIIIIIIIIIII', (-1+0j)), ('IIIIIIIIIIIIIIIII-IIIIIIIII+IIIIIIIIIIII', (1+0j)), ('IIIIIIIIIIIIIIIII+IIIIIIIII-IIIIIIIIIIII', (-2+0j)), ('IIIIIIIIIIIIIIIII-IIIIIIIII+IIIIIIIIIIII', (2+0j)), ('IIIIIIIIIIIIIIIIIIIIIIIIIII+I-IIIIIIIIII', (1+0j)), ('IIIIIIIIIIIIIIIIIIIIIIIIIII-I+IIIIIIIIII', (-1+0j)), ('IIIIIIIIIIIIIIIIIIIIIIIIIII+IIIIIIIII-II', (-1+0j)), ('IIIIIIIIIIIIIIIIIIIIIIIIIII-IIIIIIIII+II', (1+0j)), ('IIIIIIIIIIIIIIIIIIIIIIIIIII+IIIIIIIII-II', (-2+0j)), ('IIIIIIIIIIIIIIIIIIIIIIIIIII-IIIIIIIII+II', (2+0j)), ('IIIIIIIIIIIIIIIIIIIIIIIIIIIIIIIIIIIII+I-', (1+0j)), ('IIIIIIIIIIIIIIIIIIIIIIIIIIIIIIIIIIIII-I+', (-1+0j)), ('IIIIIII+IIIIIIIIIIIIIIIIIIIIIIIIIIIII-II', (-1+0j)), ('IIIIIII-IIIIIIIIIIIIIIIIIIIIIIIIIIIII+II', (1+0j)), ('IIIIIII+IIIIIIIIIIIIIIIIIIIIIIIIIIIII-II', (-2+0j)), ('IIIIIII-IIIIIIIIIIIIIIIIIIIIIIIIIIIII+II', (2+0j)), ('IIIIIIIII+IIIIIIIII-IIIIIIIIIIIIIIIIIIII', (-1+0j)), ('IIIIIIIII-IIIIIIIII+IIIIIIIIIIIIIIIIIIII', (1+0j)), ('IIIIIIIII+IIIIIIIII-IIIIIIIIIIIIIIIIIIII', (-2+0j)), ('IIIIIIIII-IIIIIIIII+IIIIIIIIIIIIIIIIIIII', (2+0j)), ('IIIIIIIIIIIIIIIIIII+IIIIIIIII-IIIIIIIIII', (-1+0j)), ('IIIIIIIIIIIIIIIIIII-IIIIIIIII+IIIIIIIIII', (1+0j)), ('IIIIIIIIIIIIIIIIIII+IIIIIIIII-IIIIIIIIII', (-2+0j)), ('IIIIIIIIIIIIIIIIIII-IIIIIIIII+IIIIIIIIII', (2+0j)), ('IIIIIIIIIIIIIIIIIIIIIIIIIIIII+IIIIIIIII-', (-1+0j)), ('IIIIIIIIIIIIIIIIIIIIIIIIIIIII-IIIIIIIII+', (1+0j)), ('IIIIIIIIIIIIIIIIIIIIIIIIIIIII+IIIIIIIII-', (-2+0j)), ('IIIIIIIIIIIIIIIIIIIIIIIIIIIII-IIIIIIIII+', (2+0j)), ('IIIIIIIII+IIIIIIIIIIIIIIIIIIIIIIIIIIIII-', (-1+0j)), ('IIIIIIIII-IIIIIIIIIIIIIIIIIIIIIIIIIIIII+', (1+0j)), ('IIIIIIIII+IIIIIIIIIIIIIIIIIIIIIIIIIIIII-', (-2+0j)), ('IIIIIIIII-IIIIIIIIIIIIIIIIIIIIIIIIIIIII+', (2+0j)), ('NNIIIIIIIIIIIIIIIIIIIIIIIIIIIIIIIIIIIIII', (2+0j)), ('IINNIIIIIIIIIIIIIIIIIIIIIIIIIIIIIIIIIIII', (2+0j)), ('IIIINNIIIIIIIIIIIIIIIIIIIIIIIIIIIIIIIIII', (2+0j)), ('IIIIIINNIIIIIIIIIIIIIIIIIIIIIIIIIIIIIIII', (2+0j)), ('IIIIIIIINNIIIIIIIIIIIIIIIIIIIIIIIIIIIIII', (2+0j)), ('IIIIIIIIIINNIIIIIIIIIIIIIIIIIIIIIIIIIIII', (2+0j)), ('IIIIIIIIIIIINNIIIIIIIIIIIIIIIIIIIIIIIIII', (2+0j)), ('IIIIIIIIIIIIIINNIIIIIIIIIIIIIIIIIIIIIIII', (2+0j)), ('IIIIIIIIIIIIIIIINNIIIIIIIIIIIIIIIIIIIIII', (2+0j)), ('IIIIIIIIIIIIIIIIIINNIIIIIIIIIIIIIIIIIIII', (2+0j)), ('IIIIIIIIIIIIIIIIIIIINNIIIIIIIIIIIIIIIIII', (2+0j)), ('IIIIIIIIIIIIIIIIIIIIIINNIIIIIIIIIIIIIIII', (2+0j)), ('IIIIIIIIIIIIIIIIIIIIIIIINNIIIIIIIIIIIIII', (2+0j)), ('IIIIIIIIIIIIIIIIIIIIIIIIIINNIIIIIIIIIIII', (2+0j)), ('IIIIIIIIIIIIIIIIIIIIIIIIIIIINNIIIIIIIIII', (2+0j)), ('IIIIIIIIIIIIIIIIIIIIIIIIIIIIIINNIIIIIIII', (2+0j)), ('IIIIIIIIIIIIIIIIIIIIIIIIIIIIIIIINNIIIIII', (2+0j)), ('IIIIIIIIIIIIIIIIIIIIIIIIIIIIIIIIIINNIIII', (2+0j)), ('IIIIIIIIIIIIIIIIIIIIIIIIIIIIIIIIIIIINNII', (2+0j)), ('IIIIIIIIIIIIIIIIIIIIIIIIIIIIIIIIIIIIIINN', (2+0j))])"
      ]
     },
     "metadata": {},
     "execution_count": 17
    }
   ],
   "metadata": {}
  },
  {
   "cell_type": "code",
   "execution_count": 18,
   "source": [
    "FHM.hopping_matrix()"
   ],
   "outputs": [
    {
     "output_type": "execute_result",
     "data": {
      "text/plain": [
       "array([[ 0.+0.j,  1.+0.j,  0.+0.j,  0.+0.j,  0.+0.j, -2.+0.j,  0.+0.j,\n",
       "         0.+0.j,  0.+0.j,  0.+0.j,  0.+0.j,  0.+0.j,  0.+0.j,  0.+0.j,\n",
       "         0.+0.j, -2.+0.j,  0.+0.j,  0.+0.j,  0.+0.j,  0.+0.j],\n",
       "       [ 1.+0.j,  0.+0.j,  1.+0.j,  0.+0.j,  0.+0.j,  0.+0.j, -2.+0.j,\n",
       "         0.+0.j,  0.+0.j,  0.+0.j,  0.+0.j,  0.+0.j,  0.+0.j,  0.+0.j,\n",
       "         0.+0.j,  0.+0.j, -2.+0.j,  0.+0.j,  0.+0.j,  0.+0.j],\n",
       "       [ 0.+0.j,  1.+0.j,  0.+0.j,  1.+0.j,  0.+0.j,  0.+0.j,  0.+0.j,\n",
       "        -2.+0.j,  0.+0.j,  0.+0.j,  0.+0.j,  0.+0.j,  0.+0.j,  0.+0.j,\n",
       "         0.+0.j,  0.+0.j,  0.+0.j, -2.+0.j,  0.+0.j,  0.+0.j],\n",
       "       [ 0.+0.j,  0.+0.j,  1.+0.j,  0.+0.j,  1.+0.j,  0.+0.j,  0.+0.j,\n",
       "         0.+0.j, -2.+0.j,  0.+0.j,  0.+0.j,  0.+0.j,  0.+0.j,  0.+0.j,\n",
       "         0.+0.j,  0.+0.j,  0.+0.j,  0.+0.j, -2.+0.j,  0.+0.j],\n",
       "       [ 0.+0.j,  0.+0.j,  0.+0.j,  1.+0.j,  0.+0.j,  0.+0.j,  0.+0.j,\n",
       "         0.+0.j,  0.+0.j, -2.+0.j,  0.+0.j,  0.+0.j,  0.+0.j,  0.+0.j,\n",
       "         0.+0.j,  0.+0.j,  0.+0.j,  0.+0.j,  0.+0.j, -2.+0.j],\n",
       "       [-2.+0.j,  0.+0.j,  0.+0.j,  0.+0.j,  0.+0.j,  0.+0.j,  1.+0.j,\n",
       "         0.+0.j,  0.+0.j,  0.+0.j, -2.+0.j,  0.+0.j,  0.+0.j,  0.+0.j,\n",
       "         0.+0.j,  0.+0.j,  0.+0.j,  0.+0.j,  0.+0.j,  0.+0.j],\n",
       "       [ 0.+0.j, -2.+0.j,  0.+0.j,  0.+0.j,  0.+0.j,  1.+0.j,  0.+0.j,\n",
       "         1.+0.j,  0.+0.j,  0.+0.j,  0.+0.j, -2.+0.j,  0.+0.j,  0.+0.j,\n",
       "         0.+0.j,  0.+0.j,  0.+0.j,  0.+0.j,  0.+0.j,  0.+0.j],\n",
       "       [ 0.+0.j,  0.+0.j, -2.+0.j,  0.+0.j,  0.+0.j,  0.+0.j,  1.+0.j,\n",
       "         0.+0.j,  1.+0.j,  0.+0.j,  0.+0.j,  0.+0.j, -2.+0.j,  0.+0.j,\n",
       "         0.+0.j,  0.+0.j,  0.+0.j,  0.+0.j,  0.+0.j,  0.+0.j],\n",
       "       [ 0.+0.j,  0.+0.j,  0.+0.j, -2.+0.j,  0.+0.j,  0.+0.j,  0.+0.j,\n",
       "         1.+0.j,  0.+0.j,  1.+0.j,  0.+0.j,  0.+0.j,  0.+0.j, -2.+0.j,\n",
       "         0.+0.j,  0.+0.j,  0.+0.j,  0.+0.j,  0.+0.j,  0.+0.j],\n",
       "       [ 0.+0.j,  0.+0.j,  0.+0.j,  0.+0.j, -2.+0.j,  0.+0.j,  0.+0.j,\n",
       "         0.+0.j,  1.+0.j,  0.+0.j,  0.+0.j,  0.+0.j,  0.+0.j,  0.+0.j,\n",
       "        -2.+0.j,  0.+0.j,  0.+0.j,  0.+0.j,  0.+0.j,  0.+0.j],\n",
       "       [ 0.+0.j,  0.+0.j,  0.+0.j,  0.+0.j,  0.+0.j, -2.+0.j,  0.+0.j,\n",
       "         0.+0.j,  0.+0.j,  0.+0.j,  0.+0.j,  1.+0.j,  0.+0.j,  0.+0.j,\n",
       "         0.+0.j, -2.+0.j,  0.+0.j,  0.+0.j,  0.+0.j,  0.+0.j],\n",
       "       [ 0.+0.j,  0.+0.j,  0.+0.j,  0.+0.j,  0.+0.j,  0.+0.j, -2.+0.j,\n",
       "         0.+0.j,  0.+0.j,  0.+0.j,  1.+0.j,  0.+0.j,  1.+0.j,  0.+0.j,\n",
       "         0.+0.j,  0.+0.j, -2.+0.j,  0.+0.j,  0.+0.j,  0.+0.j],\n",
       "       [ 0.+0.j,  0.+0.j,  0.+0.j,  0.+0.j,  0.+0.j,  0.+0.j,  0.+0.j,\n",
       "        -2.+0.j,  0.+0.j,  0.+0.j,  0.+0.j,  1.+0.j,  0.+0.j,  1.+0.j,\n",
       "         0.+0.j,  0.+0.j,  0.+0.j, -2.+0.j,  0.+0.j,  0.+0.j],\n",
       "       [ 0.+0.j,  0.+0.j,  0.+0.j,  0.+0.j,  0.+0.j,  0.+0.j,  0.+0.j,\n",
       "         0.+0.j, -2.+0.j,  0.+0.j,  0.+0.j,  0.+0.j,  1.+0.j,  0.+0.j,\n",
       "         1.+0.j,  0.+0.j,  0.+0.j,  0.+0.j, -2.+0.j,  0.+0.j],\n",
       "       [ 0.+0.j,  0.+0.j,  0.+0.j,  0.+0.j,  0.+0.j,  0.+0.j,  0.+0.j,\n",
       "         0.+0.j,  0.+0.j, -2.+0.j,  0.+0.j,  0.+0.j,  0.+0.j,  1.+0.j,\n",
       "         0.+0.j,  0.+0.j,  0.+0.j,  0.+0.j,  0.+0.j, -2.+0.j],\n",
       "       [-2.+0.j,  0.+0.j,  0.+0.j,  0.+0.j,  0.+0.j,  0.+0.j,  0.+0.j,\n",
       "         0.+0.j,  0.+0.j,  0.+0.j, -2.+0.j,  0.+0.j,  0.+0.j,  0.+0.j,\n",
       "         0.+0.j,  0.+0.j,  1.+0.j,  0.+0.j,  0.+0.j,  0.+0.j],\n",
       "       [ 0.+0.j, -2.+0.j,  0.+0.j,  0.+0.j,  0.+0.j,  0.+0.j,  0.+0.j,\n",
       "         0.+0.j,  0.+0.j,  0.+0.j,  0.+0.j, -2.+0.j,  0.+0.j,  0.+0.j,\n",
       "         0.+0.j,  1.+0.j,  0.+0.j,  1.+0.j,  0.+0.j,  0.+0.j],\n",
       "       [ 0.+0.j,  0.+0.j, -2.+0.j,  0.+0.j,  0.+0.j,  0.+0.j,  0.+0.j,\n",
       "         0.+0.j,  0.+0.j,  0.+0.j,  0.+0.j,  0.+0.j, -2.+0.j,  0.+0.j,\n",
       "         0.+0.j,  0.+0.j,  1.+0.j,  0.+0.j,  1.+0.j,  0.+0.j],\n",
       "       [ 0.+0.j,  0.+0.j,  0.+0.j, -2.+0.j,  0.+0.j,  0.+0.j,  0.+0.j,\n",
       "         0.+0.j,  0.+0.j,  0.+0.j,  0.+0.j,  0.+0.j,  0.+0.j, -2.+0.j,\n",
       "         0.+0.j,  0.+0.j,  0.+0.j,  1.+0.j,  0.+0.j,  1.+0.j],\n",
       "       [ 0.+0.j,  0.+0.j,  0.+0.j,  0.+0.j, -2.+0.j,  0.+0.j,  0.+0.j,\n",
       "         0.+0.j,  0.+0.j,  0.+0.j,  0.+0.j,  0.+0.j,  0.+0.j,  0.+0.j,\n",
       "        -2.+0.j,  0.+0.j,  0.+0.j,  0.+0.j,  1.+0.j,  0.+0.j]])"
      ]
     },
     "metadata": {},
     "execution_count": 18
    }
   ],
   "metadata": {}
  },
  {
   "cell_type": "markdown",
   "source": [
    "# **The FHM from parameters(hopping matrix and on-site interaction)**"
   ],
   "metadata": {}
  },
  {
   "cell_type": "code",
   "execution_count": 6,
   "source": [
    "hopping_matrix = np.array([\n",
    "    [1. , -1. + 1.j, -5.+5.j], \n",
    "    [-1.-1.j, 2., 1.], \n",
    "    [-5.-5.j, 1., 2.]\n",
    "])\n",
    "\n",
    "onsite_interaction = 2.0\n",
    "\n",
    "FHM = FermiHubbard.from_parameters(\n",
    "    hopping_matrix=hopping_matrix,\n",
    "    onsite_interaction=onsite_interaction\n",
    ")\n",
    "\n",
    "ham = FHM.hamiltonian()\n",
    "print(ham)"
   ],
   "outputs": [
    {
     "output_type": "stream",
     "name": "stdout",
     "text": [
      "  +_0 -_0 * (1+0j)\n",
      "+ +_0 -_2 * (-1+1j)\n",
      "+ -_0 +_2 * (1+1j)\n",
      "+ +_0 -_4 * (-5+5j)\n",
      "+ -_0 +_4 * (5+5j)\n",
      "+ +_2 -_2 * (2+0j)\n",
      "+ +_2 -_4 * (1+0j)\n",
      "+ -_2 +_4 * (-1+0j)\n",
      "+ +_4 -_4 * (2+0j)\n",
      "+ +_1 -_1 * (1+0j)\n",
      "+ +_1 -_3 * (-1+1j)\n",
      "+ -_1 +_3 * (1+1j)\n",
      "+ +_1 -_5 * (-5+5j)\n",
      "+ -_1 +_5 * (5+5j)\n",
      "+ +_3 -_3 * (2+0j)\n",
      "+ +_3 -_5 * (1+0j)\n",
      "+ -_3 +_5 * (-1+0j)\n",
      "+ +_5 -_5 * (2+0j)\n",
      "+ +_0 -_0 +_1 -_1 * (2+0j)\n",
      "+ +_2 -_2 +_3 -_3 * (2+0j)\n",
      "+ +_4 -_4 +_5 -_5 * (2+0j)\n"
     ]
    }
   ],
   "metadata": {}
  },
  {
   "cell_type": "code",
   "execution_count": 20,
   "source": [
    "FHM.hopping_matrix()"
   ],
   "outputs": [
    {
     "output_type": "execute_result",
     "data": {
      "text/plain": [
       "array([[ 1.+0.j, -1.+1.j, -5.+5.j],\n",
       "       [-1.-1.j,  2.+0.j,  1.+0.j],\n",
       "       [-5.-5.j,  1.+0.j,  2.+0.j]])"
      ]
     },
     "metadata": {},
     "execution_count": 20
    }
   ],
   "metadata": {}
  },
  {
   "cell_type": "code",
   "execution_count": null,
   "source": [
    "#venv で nature 用の仮想環境"
   ],
   "outputs": [],
   "metadata": {}
  }
 ],
 "metadata": {
  "interpreter": {
   "hash": "f098cfac84d7616a27900d8489bf4403ac10b050e20733a638db380d2a07a2de"
  },
  "kernelspec": {
   "name": "python3",
   "display_name": "Python 3.9.6 64-bit ('.venv')"
  },
  "language_info": {
   "codemirror_mode": {
    "name": "ipython",
    "version": 3
   },
   "file_extension": ".py",
   "mimetype": "text/x-python",
   "name": "python",
   "nbconvert_exporter": "python",
   "pygments_lexer": "ipython3",
   "version": "3.9.6"
  }
 },
 "nbformat": 4,
 "nbformat_minor": 2
}