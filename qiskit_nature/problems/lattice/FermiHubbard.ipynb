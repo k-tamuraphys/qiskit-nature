{
 "cells": [
  {
   "cell_type": "markdown",
   "source": [
    "# **Demonstration**"
   ],
   "metadata": {
    "slideshow": {
     "slide_type": "slide"
    }
   }
  },
  {
   "cell_type": "code",
   "execution_count": 13,
   "source": [
    "import lattice\n",
    "from hamiltonian import FermiHubbard\n",
    "import retworkx as rx\n",
    "import numpy as np"
   ],
   "outputs": [],
   "metadata": {
    "slideshow": {
     "slide_type": "slide"
    }
   }
  },
  {
   "cell_type": "markdown",
   "source": [
    "## ***General Lattice***"
   ],
   "metadata": {
    "slideshow": {
     "slide_type": "slide"
    }
   }
  },
  {
   "cell_type": "code",
   "execution_count": 14,
   "source": [
    "graph = rx.PyGraph(multigraph=False)\n",
    "graph.add_nodes_from(range(6))\n",
    "weighted_edge_list = [(0, 1, 1.0), (0, 2, -1.0), (2, 3, 2.0), (4, 2, -1.0), (4, 4, 3.0), (2, 5, -1.0)]\n",
    "graph.add_edges_from(weighted_edge_list)\n",
    "\n",
    "# make a lattice\n",
    "general_lattice = lattice.Lattice(graph)"
   ],
   "outputs": [],
   "metadata": {
    "slideshow": {
     "slide_type": "subslide"
    }
   }
  },
  {
   "cell_type": "markdown",
   "source": [
    "### **visualization**"
   ],
   "metadata": {
    "slideshow": {
     "slide_type": "subslide"
    }
   }
  },
  {
   "cell_type": "code",
   "execution_count": 15,
   "source": [
    "general_lattice.draw(with_labels=True)"
   ],
   "outputs": [
    {
     "output_type": "display_data",
     "data": {
      "text/plain": [
       "<Figure size 432x288 with 1 Axes>"
      ],
      "image/png": "[encoded data removed]"
     },
     "metadata": {}
    }
   ],
   "metadata": {
    "slideshow": {
     "slide_type": "fragment"
    }
   }
  },
  {
   "cell_type": "markdown",
   "source": [
    "### **adjacency matrix(hopping matrix) $t_{x, y}$**"
   ],
   "metadata": {
    "slideshow": {
     "slide_type": "subslide"
    }
   }
  },
  {
   "cell_type": "code",
   "execution_count": 16,
   "source": [
    "general_lattice.to_adjacency_matrix()"
   ],
   "outputs": [
    {
     "output_type": "execute_result",
     "data": {
      "text/plain": [
       "array([[ 0.+0.j,  1.+0.j, -1.+0.j,  0.+0.j,  0.+0.j,  0.+0.j],\n",
       "       [ 1.+0.j,  0.+0.j,  0.+0.j,  0.+0.j,  0.+0.j,  0.+0.j],\n",
       "       [-1.+0.j,  0.+0.j,  0.+0.j,  2.+0.j, -1.+0.j, -1.+0.j],\n",
       "       [ 0.+0.j,  0.+0.j,  2.+0.j,  0.+0.j,  0.+0.j,  0.+0.j],\n",
       "       [ 0.+0.j,  0.+0.j, -1.+0.j,  0.+0.j,  3.+0.j,  0.+0.j],\n",
       "       [ 0.+0.j,  0.+0.j, -1.+0.j,  0.+0.j,  0.+0.j,  0.+0.j]])"
      ]
     },
     "metadata": {},
     "execution_count": 16
    }
   ],
   "metadata": {
    "slideshow": {
     "slide_type": "fragment"
    }
   }
  },
  {
   "cell_type": "markdown",
   "source": [
    "### **Fermi-Hubbard model**"
   ],
   "metadata": {
    "slideshow": {
     "slide_type": "subslide"
    }
   }
  },
  {
   "cell_type": "code",
   "execution_count": 17,
   "source": [
    "onsite_interaction = 2.0\n",
    "\n",
    "FHM = FermiHubbard(\n",
    "    lattice=general_lattice,\n",
    "    onsite_interaction=onsite_interaction\n",
    ")\n",
    "\n",
    "ham = FHM.hamiltonian()\n",
    "ham.set_label_display_mode(\"sparse\")\n",
    "# even site -> up spin\n",
    "# odd sites -> down spin\n",
    "print(ham)"
   ],
   "outputs": [
    {
     "output_type": "stream",
     "name": "stdout",
     "text": [
      "  +_0 -_2 * (1+0j)\n",
      "+ -_0 +_2 * (-1+0j)\n",
      "+ +_0 -_4 * (-1+0j)\n",
      "+ -_0 +_4 * (1+0j)\n",
      "+ +_4 -_6 * (2+0j)\n",
      "+ -_4 +_6 * (-2+0j)\n",
      "+ +_4 -_8 * (-1+0j)\n",
      "+ -_4 +_8 * (1+0j)\n",
      "+ +_8 -_8 * (3+0j)\n",
      "+ +_4 -_10 * (-1+0j)\n",
      "+ -_4 +_10 * (1+0j)\n",
      "+ +_1 -_3 * (1+0j)\n",
      "+ -_1 +_3 * (-1+0j)\n",
      "+ +_1 -_5 * (-1+0j)\n",
      "+ -_1 +_5 * (1+0j)\n",
      "+ +_5 -_7 * (2+0j)\n",
      "+ -_5 +_7 * (-2+0j)\n",
      "+ +_5 -_9 * (-1+0j)\n",
      "+ -_5 +_9 * (1+0j)\n",
      "+ +_9 -_9 * (3+0j)\n",
      "+ +_5 -_11 * (-1+0j)\n",
      "+ -_5 +_11 * (1+0j)\n",
      "+ +_0 -_0 +_1 -_1 * (2+0j)\n",
      "+ +_2 -_2 +_3 -_3 * (2+0j)\n",
      "+ +_4 -_4 +_5 -_5 * (2+0j)\n",
      "+ +_6 -_6 +_7 -_7 * (2+0j)\n",
      "+ +_8 -_8 +_9 -_9 * (2+0j)\n",
      "+ +_10 -_10 +_11 -_11 * (2+0j)\n"
     ]
    }
   ],
   "metadata": {
    "slideshow": {
     "slide_type": "fragment"
    }
   }
  },
  {
   "cell_type": "code",
   "execution_count": 18,
   "source": [
    "FHM.hopping_matrix()"
   ],
   "outputs": [
    {
     "output_type": "execute_result",
     "data": {
      "text/plain": [
       "array([[ 0.+0.j,  1.+0.j, -1.+0.j,  0.+0.j,  0.+0.j,  0.+0.j],\n",
       "       [ 1.+0.j,  0.+0.j,  0.+0.j,  0.+0.j,  0.+0.j,  0.+0.j],\n",
       "       [-1.+0.j,  0.+0.j,  0.+0.j,  2.+0.j, -1.+0.j, -1.+0.j],\n",
       "       [ 0.+0.j,  0.+0.j,  2.+0.j,  0.+0.j,  0.+0.j,  0.+0.j],\n",
       "       [ 0.+0.j,  0.+0.j, -1.+0.j,  0.+0.j,  3.+0.j,  0.+0.j],\n",
       "       [ 0.+0.j,  0.+0.j, -1.+0.j,  0.+0.j,  0.+0.j,  0.+0.j]])"
      ]
     },
     "metadata": {},
     "execution_count": 18
    }
   ],
   "metadata": {
    "slideshow": {
     "slide_type": "subslide"
    }
   }
  },
  {
   "cell_type": "code",
   "execution_count": 6,
   "source": [
    "FHM.hopping_matrix()"
   ],
   "outputs": [
    {
     "output_type": "execute_result",
     "data": {
      "text/plain": [
       "array([[ 0.+0.j,  1.+0.j, -1.+0.j,  0.+0.j,  0.+0.j,  0.+0.j],\n",
       "       [ 1.+0.j,  0.+0.j,  0.+0.j,  0.+0.j,  0.+0.j,  0.+0.j],\n",
       "       [-1.+0.j,  0.+0.j,  0.+0.j,  2.+0.j, -1.+0.j, -1.+0.j],\n",
       "       [ 0.+0.j,  0.+0.j,  2.+0.j,  0.+0.j,  0.+0.j,  0.+0.j],\n",
       "       [ 0.+0.j,  0.+0.j, -1.+0.j,  0.+0.j,  3.+0.j,  0.+0.j],\n",
       "       [ 0.+0.j,  0.+0.j, -1.+0.j,  0.+0.j,  0.+0.j,  0.+0.j]])"
      ]
     },
     "metadata": {},
     "execution_count": 6
    }
   ],
   "metadata": {}
  },
  {
   "cell_type": "markdown",
   "source": [
    "## ***Lattice from an adjacency matrix***"
   ],
   "metadata": {
    "slideshow": {
     "slide_type": "slide"
    }
   }
  },
  {
   "cell_type": "code",
   "execution_count": 19,
   "source": [
    "ad_mat = np.array(\n",
    "    [\n",
    "        [1.0 , -1.0 + 1.0j, 2.0, 0.0],\n",
    "        [0.0, 2.0, -3.0, -1.0],\n",
    "        [0.0, 0.0, 3.0, 0.0],\n",
    "        [0.0, 0.0, 0.0, 4.0]\n",
    "    ]\n",
    ")\n",
    "\n",
    "lattice_from_ad_mat = lattice.Lattice.from_adjacency_matrix(ad_mat)\n",
    "lattice_from_ad_mat.draw(with_labels=True)"
   ],
   "outputs": [
    {
     "output_type": "display_data",
     "data": {
      "text/plain": [
       "<Figure size 432x288 with 1 Axes>"
      ],
      "image/png": "[encoded data removed]"
     },
     "metadata": {}
    }
   ],
   "metadata": {
    "slideshow": {
     "slide_type": "subslide"
    }
   }
  },
  {
   "cell_type": "code",
   "execution_count": 20,
   "source": [
    "lattice_from_ad_mat.to_adjacency_matrix()"
   ],
   "outputs": [
    {
     "output_type": "execute_result",
     "data": {
      "text/plain": [
       "array([[ 1.+0.j, -1.+1.j,  2.+0.j,  0.+0.j],\n",
       "       [-1.-1.j,  2.+0.j, -3.+0.j, -1.+0.j],\n",
       "       [ 2.+0.j, -3.+0.j,  3.+0.j,  0.+0.j],\n",
       "       [ 0.+0.j, -1.+0.j,  0.+0.j,  4.+0.j]])"
      ]
     },
     "metadata": {},
     "execution_count": 20
    }
   ],
   "metadata": {
    "slideshow": {
     "slide_type": "fragment"
    }
   }
  },
  {
   "cell_type": "markdown",
   "source": [
    "### **Fermi-Hubbard model**"
   ],
   "metadata": {
    "slideshow": {
     "slide_type": "subslide"
    }
   }
  },
  {
   "cell_type": "code",
   "execution_count": 21,
   "source": [
    "onsite_interaction = 2.0\n",
    "FHM = FermiHubbard(\n",
    "    lattice=lattice_from_ad_mat,\n",
    "    onsite_interaction=onsite_interaction\n",
    ")\n",
    "\n",
    "ham = FHM.hamiltonian()\n",
    "print(ham)"
   ],
   "outputs": [
    {
     "output_type": "stream",
     "name": "stdout",
     "text": [
      "  +_0 -_0 * (1+0j)\n",
      "+ +_0 -_2 * (-1+1j)\n",
      "+ -_0 +_2 * (1+1j)\n",
      "+ +_0 -_4 * (2+0j)\n",
      "+ -_0 +_4 * (-2+0j)\n",
      "+ +_2 -_2 * (2+0j)\n",
      "+ +_2 -_4 * (-3+0j)\n",
      "+ -_2 +_4 * (3+0j)\n",
      "+ +_2 -_6 * (-1+0j)\n",
      "+ -_2 +_6 * (1+0j)\n",
      "+ +_4 -_4 * (3+0j)\n",
      "+ +_6 -_6 * (4+0j)\n",
      "+ +_1 -_1 * (1+0j)\n",
      "+ +_1 -_3 * (-1+1j)\n",
      "+ -_1 +_3 * (1+1j)\n",
      "+ +_1 -_5 * (2+0j)\n",
      "+ -_1 +_5 * (-2+0j)\n",
      "+ +_3 -_3 * (2+0j)\n",
      "+ +_3 -_5 * (-3+0j)\n",
      "+ -_3 +_5 * (3+0j)\n",
      "+ +_3 -_7 * (-1+0j)\n",
      "+ -_3 +_7 * (1+0j)\n",
      "+ +_5 -_5 * (3+0j)\n",
      "+ +_7 -_7 * (4+0j)\n",
      "+ +_0 -_0 +_1 -_1 * (2+0j)\n",
      "+ +_2 -_2 +_3 -_3 * (2+0j)\n",
      "+ +_4 -_4 +_5 -_5 * (2+0j)\n",
      "+ +_6 -_6 +_7 -_7 * (2+0j)\n"
     ]
    }
   ],
   "metadata": {
    "slideshow": {
     "slide_type": "fragment"
    }
   }
  },
  {
   "cell_type": "markdown",
   "source": [
    "## ***One-dimensional case(open boundary condition)***"
   ],
   "metadata": {
    "slideshow": {
     "slide_type": "slide"
    }
   }
  },
  {
   "cell_type": "code",
   "execution_count": 22,
   "source": [
    "lattice_points = 4\n",
    "t = -1.0\n",
    "onsite_potential = 1.0\n",
    "one_dim_lattice = lattice.LineLattice(\n",
    "    num_nodes=lattice_points,\n",
    "    edge_parameter=t,\n",
    "    onsite_parameter=onsite_potential,\n",
    "    boundary_condition=\"open\"\n",
    ")"
   ],
   "outputs": [],
   "metadata": {
    "slideshow": {
     "slide_type": "subslide"
    }
   }
  },
  {
   "cell_type": "markdown",
   "source": [
    "### **visualization**"
   ],
   "metadata": {
    "slideshow": {
     "slide_type": "subslide"
    }
   }
  },
  {
   "cell_type": "code",
   "execution_count": 23,
   "source": [
    "pos = {0:[0, 0], 1:[1, 0], 2:[2, 0], 3:[3, 0]}\n",
    "one_dim_lattice.draw(pos=pos, with_labels=True)"
   ],
   "outputs": [
    {
     "output_type": "display_data",
     "data": {
      "text/plain": [
       "<Figure size 432x288 with 1 Axes>"
      ],
      "image/png": "[encoded data removed]"
     },
     "metadata": {}
    }
   ],
   "metadata": {
    "slideshow": {
     "slide_type": "fragment"
    }
   }
  },
  {
   "cell_type": "markdown",
   "source": [
    "### **Fermi-Hubbard model**"
   ],
   "metadata": {
    "slideshow": {
     "slide_type": "subslide"
    }
   }
  },
  {
   "cell_type": "code",
   "execution_count": 24,
   "source": [
    "onsite_interaction = 5.0\n",
    "FHM = FermiHubbard(\n",
    "    one_dim_lattice,\n",
    "    onsite_interaction\n",
    ")\n",
    "ham = FHM.hamiltonian()\n",
    "print(ham)"
   ],
   "outputs": [
    {
     "output_type": "stream",
     "name": "stdout",
     "text": [
      "  +_0 -_2 * (-1+0j)\n",
      "+ -_0 +_2 * (1+0j)\n",
      "+ +_2 -_4 * (-1+0j)\n",
      "+ -_2 +_4 * (1+0j)\n",
      "+ +_4 -_6 * (-1+0j)\n",
      "+ -_4 +_6 * (1+0j)\n",
      "+ +_0 -_0 * (1+0j)\n",
      "+ +_2 -_2 * (1+0j)\n",
      "+ +_4 -_4 * (1+0j)\n",
      "+ +_6 -_6 * (1+0j)\n",
      "+ +_1 -_3 * (-1+0j)\n",
      "+ -_1 +_3 * (1+0j)\n",
      "+ +_3 -_5 * (-1+0j)\n",
      "+ -_3 +_5 * (1+0j)\n",
      "+ +_5 -_7 * (-1+0j)\n",
      "+ -_5 +_7 * (1+0j)\n",
      "+ +_1 -_1 * (1+0j)\n",
      "+ +_3 -_3 * (1+0j)\n",
      "+ +_5 -_5 * (1+0j)\n",
      "+ +_7 -_7 * (1+0j)\n",
      "+ +_0 -_0 +_1 -_1 * (5+0j)\n",
      "+ +_2 -_2 +_3 -_3 * (5+0j)\n",
      "+ +_4 -_4 +_5 -_5 * (5+0j)\n",
      "+ +_6 -_6 +_7 -_7 * (5+0j)\n"
     ]
    }
   ],
   "metadata": {
    "slideshow": {
     "slide_type": "fragment"
    }
   }
  },
  {
   "cell_type": "code",
   "execution_count": 25,
   "source": [
    "FHM.hopping_matrix()"
   ],
   "outputs": [
    {
     "output_type": "execute_result",
     "data": {
      "text/plain": [
       "array([[ 1.+0.j, -1.+0.j,  0.+0.j,  0.+0.j],\n",
       "       [-1.+0.j,  1.+0.j, -1.+0.j,  0.+0.j],\n",
       "       [ 0.+0.j, -1.+0.j,  1.+0.j, -1.+0.j],\n",
       "       [ 0.+0.j,  0.+0.j, -1.+0.j,  1.+0.j]])"
      ]
     },
     "metadata": {},
     "execution_count": 25
    }
   ],
   "metadata": {
    "slideshow": {
     "slide_type": "skip"
    }
   }
  },
  {
   "cell_type": "markdown",
   "source": [
    "### **Operator expression**"
   ],
   "metadata": {
    "slideshow": {
     "slide_type": "skip"
    }
   }
  },
  {
   "cell_type": "markdown",
   "source": [
    "$$\n",
    "\\begin{align*}\n",
    "H &= \\sum_{i = 0}^{2} \\sum_{\\sigma = \\uparrow, \\downarrow} (t c_{i, \\sigma}^\\dagger c_{i+1, \\sigma} + t c_{i+1, \\sigma}^\\dagger c_{i, \\sigma})+ U \\sum_{i=0}^{3} n_{i, \\uparrow} n_{i, \\downarrow} \\\\\n",
    "&= t c_{0, \\uparrow}^\\dagger c_{1, \\uparrow} - t c_{0, \\uparrow} c_{1, \\uparrow}^{\\dagger} \\\\\n",
    "& \\ + t c_{1, \\uparrow}^\\dagger c_{2, \\uparrow} - t c_{1, \\uparrow} c_{2, \\uparrow}^{\\dagger} \\\\\n",
    "& \\ + t c_{2, \\uparrow}^\\dagger c_{3, \\uparrow} - t c_{2, \\uparrow} c_{3, \\uparrow}^{\\dagger} \\\\\n",
    "& \\ + v n_{0, \\uparrow} + v n_{1, \\uparrow} + v n_{2, \\uparrow} + v n_{3, \\uparrow} \\\\\n",
    "& \\ + t c_{0, \\downarrow}^\\dagger c_{1, \\downarrow} - t c_{0, \\downarrow} c_{1, \\downarrow}^{\\dagger} \\\\\n",
    "& \\ + t c_{1, \\downarrow}^\\dagger c_{2, \\downarrow} - t c_{1, \\downarrow} c_{2, \\downarrow}^{\\dagger} \\\\\n",
    "& \\ + t c_{2, \\downarrow}^\\dagger c_{3, \\downarrow} - t c_{2, \\downarrow} c_{3, \\downarrow}^{\\dagger} \\\\\n",
    "& \\ + v n_{0, \\downarrow} + v n_{1, \\downarrow} + v n_{2, \\downarrow} + v n_{3, \\downarrow} \\\\\n",
    "& \\ + U n_{0, \\uparrow} n_{0, \\downarrow} + U n_{1, \\uparrow} n_{1, \\downarrow} + + U n_{2, \\uparrow} n_{2, \\downarrow} + U n_{3, \\uparrow} n_{3, \\downarrow}\n",
    "\\end{align*}\n",
    "$$"
   ],
   "metadata": {
    "slideshow": {
     "slide_type": "skip"
    }
   }
  },
  {
   "cell_type": "markdown",
   "source": [
    "## ***One-dimensional case (periodic boundary condition)***"
   ],
   "metadata": {
    "slideshow": {
     "slide_type": "slide"
    }
   }
  },
  {
   "cell_type": "code",
   "execution_count": 26,
   "source": [
    "lattice_points = 4\n",
    "t = -1.0\n",
    "onsite_potential = 1.0\n",
    "one_dim_lattice = lattice.LineLattice(\n",
    "    num_nodes=lattice_points,\n",
    "    edge_parameter=t,\n",
    "    onsite_parameter=onsite_potential,\n",
    "    boundary_condition=\"periodic\"\n",
    ")"
   ],
   "outputs": [],
   "metadata": {
    "slideshow": {
     "slide_type": "subslide"
    }
   }
  },
  {
   "cell_type": "markdown",
   "source": [
    "### **visualization**"
   ],
   "metadata": {
    "slideshow": {
     "slide_type": "subslide"
    }
   }
  },
  {
   "cell_type": "code",
   "execution_count": 27,
   "source": [
    "one_dim_lattice.draw(with_labels=True)"
   ],
   "outputs": [
    {
     "output_type": "display_data",
     "data": {
      "text/plain": [
       "<Figure size 432x288 with 1 Axes>"
      ],
      "image/png": "[encoded data removed]"
     },
     "metadata": {}
    }
   ],
   "metadata": {
    "slideshow": {
     "slide_type": "fragment"
    }
   }
  },
  {
   "cell_type": "markdown",
   "source": [
    "### **Fermi-Hubbard model**"
   ],
   "metadata": {
    "slideshow": {
     "slide_type": "subslide"
    }
   }
  },
  {
   "cell_type": "code",
   "execution_count": 28,
   "source": [
    "FHM = FermiHubbard(\n",
    "    one_dim_lattice,\n",
    "    onsite_interaction\n",
    ")\n",
    "\n",
    "ham = FHM.hamiltonian()\n",
    "print(ham)"
   ],
   "outputs": [
    {
     "output_type": "stream",
     "name": "stdout",
     "text": [
      "  +_0 -_2 * (-1+0j)\n",
      "+ -_0 +_2 * (1+0j)\n",
      "+ +_2 -_4 * (-1+0j)\n",
      "+ -_2 +_4 * (1+0j)\n",
      "+ +_4 -_6 * (-1+0j)\n",
      "+ -_4 +_6 * (1+0j)\n",
      "+ +_0 -_6 * (-1+0j)\n",
      "+ -_0 +_6 * (1+0j)\n",
      "+ +_0 -_0 * (1+0j)\n",
      "+ +_2 -_2 * (1+0j)\n",
      "+ +_4 -_4 * (1+0j)\n",
      "+ +_6 -_6 * (1+0j)\n",
      "+ +_1 -_3 * (-1+0j)\n",
      "+ -_1 +_3 * (1+0j)\n",
      "+ +_3 -_5 * (-1+0j)\n",
      "+ -_3 +_5 * (1+0j)\n",
      "+ +_5 -_7 * (-1+0j)\n",
      "+ -_5 +_7 * (1+0j)\n",
      "+ +_1 -_7 * (-1+0j)\n",
      "+ -_1 +_7 * (1+0j)\n",
      "+ +_1 -_1 * (1+0j)\n",
      "+ +_3 -_3 * (1+0j)\n",
      "+ +_5 -_5 * (1+0j)\n",
      "+ +_7 -_7 * (1+0j)\n",
      "+ +_0 -_0 +_1 -_1 * (5+0j)\n",
      "+ +_2 -_2 +_3 -_3 * (5+0j)\n",
      "+ +_4 -_4 +_5 -_5 * (5+0j)\n",
      "+ +_6 -_6 +_7 -_7 * (5+0j)\n"
     ]
    }
   ],
   "metadata": {
    "slideshow": {
     "slide_type": "fragment"
    }
   }
  },
  {
   "cell_type": "code",
   "execution_count": 29,
   "source": [
    "FHM.hopping_matrix()"
   ],
   "outputs": [
    {
     "output_type": "execute_result",
     "data": {
      "text/plain": [
       "array([[ 1.+0.j, -1.+0.j,  0.+0.j, -1.+0.j],\n",
       "       [-1.+0.j,  1.+0.j, -1.+0.j,  0.+0.j],\n",
       "       [ 0.+0.j, -1.+0.j,  1.+0.j, -1.+0.j],\n",
       "       [-1.+0.j,  0.+0.j, -1.+0.j,  1.+0.j]])"
      ]
     },
     "metadata": {},
     "execution_count": 29
    }
   ],
   "metadata": {
    "slideshow": {
     "slide_type": "skip"
    }
   }
  },
  {
   "cell_type": "markdown",
   "source": [
    "## ***Square lattice***"
   ],
   "metadata": {
    "slideshow": {
     "slide_type": "slide"
    }
   }
  },
  {
   "cell_type": "code",
   "execution_count": 30,
   "source": [
    "rows = 5\n",
    "cols = 3\n",
    "square = lattice.SquareLattice(\n",
    "    rows=rows,\n",
    "    cols=cols,\n",
    "    edge_parameter=(1.0, -1.0),\n",
    "    onsite_parameter=1.0,\n",
    "    boundary_condition=\"open\"\n",
    ")"
   ],
   "outputs": [],
   "metadata": {
    "slideshow": {
     "slide_type": "subslide"
    }
   }
  },
  {
   "cell_type": "markdown",
   "source": [
    "### **visualization**"
   ],
   "metadata": {
    "slideshow": {
     "slide_type": "subslide"
    }
   }
  },
  {
   "cell_type": "code",
   "execution_count": 31,
   "source": [
    "def indextocoord(index:int, size:list) -> list:\n",
    "    x = index % rows\n",
    "    y = index // rows\n",
    "    return [x, y]\n",
    "pos = dict([(index, indextocoord(index, [rows, cols])) for index in range(np.prod([rows, cols]))])\n",
    "square.draw(pos=pos, with_labels=True)"
   ],
   "outputs": [
    {
     "output_type": "display_data",
     "data": {
      "text/plain": [
       "<Figure size 432x288 with 1 Axes>"
      ],
      "image/png": "[encoded data removed]"
     },
     "metadata": {}
    }
   ],
   "metadata": {
    "slideshow": {
     "slide_type": "fragment"
    }
   }
  },
  {
   "cell_type": "markdown",
   "source": [
    "### **Fermi-Hubbard model**"
   ],
   "metadata": {
    "slideshow": {
     "slide_type": "subslide"
    }
   }
  },
  {
   "cell_type": "code",
   "execution_count": 32,
   "source": [
    "onsite_interaction = 2.0\n",
    "FHM = FermiHubbard(\n",
    "    lattice=square,\n",
    "    onsite_interaction=onsite_interaction\n",
    ")\n",
    "\n",
    "ham = FHM.hamiltonian()\n",
    "print(ham)"
   ],
   "outputs": [
    {
     "output_type": "stream",
     "name": "stdout",
     "text": [
      "  +_0 -_2 * (1+0j)\n",
      "+ -_0 +_2 * (-1+0j)\n",
      "+ +_0 -_10 * (-1+0j)\n",
      "+ -_0 +_10 * (1+0j)\n",
      "+ +_0 -_0 * (1+0j)\n",
      "+ +_10 -_12 * (1+0j)\n",
      "+ -_10 +_12 * (-1+0j)\n",
      "+ +_10 -_20 * (-1+0j)\n",
      "+ -_10 +_20 * (1+0j)\n",
      "+ +_10 -_10 * (1+0j)\n",
      "+ +_2 -_4 * (1+0j)\n",
      "+ -_2 +_4 * (-1+0j)\n",
      "+ +_2 -_12 * (-1+0j)\n",
      "+ -_2 +_12 * (1+0j)\n",
      "+ +_2 -_2 * (1+0j)\n",
      "+ +_12 -_14 * (1+0j)\n",
      "+ -_12 +_14 * (-1+0j)\n",
      "+ +_12 -_22 * (-1+0j)\n",
      "+ -_12 +_22 * (1+0j)\n",
      "+ +_12 -_12 * (1+0j)\n",
      "+ +_4 -_6 * (1+0j)\n",
      "+ -_4 +_6 * (-1+0j)\n",
      "+ +_4 -_14 * (-1+0j)\n",
      "+ -_4 +_14 * (1+0j)\n",
      "+ +_4 -_4 * (1+0j)\n",
      "+ +_14 -_16 * (1+0j)\n",
      "+ -_14 +_16 * (-1+0j)\n",
      "+ +_14 -_24 * (-1+0j)\n",
      "+ -_14 +_24 * (1+0j)\n",
      "+ +_14 -_14 * (1+0j)\n",
      "+ +_6 -_8 * (1+0j)\n",
      "+ -_6 +_8 * (-1+0j)\n",
      "+ +_6 -_16 * (-1+0j)\n",
      "+ -_6 +_16 * (1+0j)\n",
      "+ +_6 -_6 * (1+0j)\n",
      "+ +_16 -_18 * (1+0j)\n",
      "+ -_16 +_18 * (-1+0j)\n",
      "+ +_16 -_26 * (-1+0j)\n",
      "+ -_16 +_26 * (1+0j)\n",
      "+ +_16 -_16 * (1+0j)\n",
      "+ +_20 -_22 * (1+0j)\n",
      "+ -_20 +_22 * (-1+0j)\n",
      "+ +_20 -_20 * (1+0j)\n",
      "+ +_22 -_24 * (1+0j)\n",
      "+ -_22 +_24 * (-1+0j)\n",
      "+ +_22 -_22 * (1+0j)\n",
      "+ +_24 -_26 * (1+0j)\n",
      "+ -_24 +_26 * (-1+0j)\n",
      "+ +_24 -_24 * (1+0j)\n",
      "+ +_26 -_28 * (1+0j)\n",
      "+ -_26 +_28 * (-1+0j)\n",
      "+ +_26 -_26 * (1+0j)\n",
      "+ +_8 -_18 * (-1+0j)\n",
      "+ -_8 +_18 * (1+0j)\n",
      "+ +_8 -_8 * (1+0j)\n",
      "+ +_18 -_28 * (-1+0j)\n",
      "+ -_18 +_28 * (1+0j)\n",
      "+ +_18 -_18 * (1+0j)\n",
      "+ +_28 -_28 * (1+0j)\n",
      "+ +_1 -_3 * (1+0j)\n",
      "+ -_1 +_3 * (-1+0j)\n",
      "+ +_1 -_11 * (-1+0j)\n",
      "+ -_1 +_11 * (1+0j)\n",
      "+ +_1 -_1 * (1+0j)\n",
      "+ +_11 -_13 * (1+0j)\n",
      "+ -_11 +_13 * (-1+0j)\n",
      "+ +_11 -_21 * (-1+0j)\n",
      "+ -_11 +_21 * (1+0j)\n",
      "+ +_11 -_11 * (1+0j)\n",
      "+ +_3 -_5 * (1+0j)\n",
      "+ -_3 +_5 * (-1+0j)\n",
      "+ +_3 -_13 * (-1+0j)\n",
      "+ -_3 +_13 * (1+0j)\n",
      "+ +_3 -_3 * (1+0j)\n",
      "+ +_13 -_15 * (1+0j)\n",
      "+ -_13 +_15 * (-1+0j)\n",
      "+ +_13 -_23 * (-1+0j)\n",
      "+ -_13 +_23 * (1+0j)\n",
      "+ +_13 -_13 * (1+0j)\n",
      "+ +_5 -_7 * (1+0j)\n",
      "+ -_5 +_7 * (-1+0j)\n",
      "+ +_5 -_15 * (-1+0j)\n",
      "+ -_5 +_15 * (1+0j)\n",
      "+ +_5 -_5 * (1+0j)\n",
      "+ +_15 -_17 * (1+0j)\n",
      "+ -_15 +_17 * (-1+0j)\n",
      "+ +_15 -_25 * (-1+0j)\n",
      "+ -_15 +_25 * (1+0j)\n",
      "+ +_15 -_15 * (1+0j)\n",
      "+ +_7 -_9 * (1+0j)\n",
      "+ -_7 +_9 * (-1+0j)\n",
      "+ +_7 -_17 * (-1+0j)\n",
      "+ -_7 +_17 * (1+0j)\n",
      "+ +_7 -_7 * (1+0j)\n",
      "+ +_17 -_19 * (1+0j)\n",
      "+ -_17 +_19 * (-1+0j)\n",
      "+ +_17 -_27 * (-1+0j)\n",
      "+ -_17 +_27 * (1+0j)\n",
      "+ +_17 -_17 * (1+0j)\n",
      "+ +_21 -_23 * (1+0j)\n",
      "+ -_21 +_23 * (-1+0j)\n",
      "+ +_21 -_21 * (1+0j)\n",
      "+ +_23 -_25 * (1+0j)\n",
      "+ -_23 +_25 * (-1+0j)\n",
      "+ +_23 -_23 * (1+0j)\n",
      "+ +_25 -_27 * (1+0j)\n",
      "+ -_25 +_27 * (-1+0j)\n",
      "+ +_25 -_25 * (1+0j)\n",
      "+ +_27 -_29 * (1+0j)\n",
      "+ -_27 +_29 * (-1+0j)\n",
      "+ +_27 -_27 * (1+0j)\n",
      "+ +_9 -_19 * (-1+0j)\n",
      "+ -_9 +_19 * (1+0j)\n",
      "+ +_9 -_9 * (1+0j)\n",
      "+ +_19 -_29 * (-1+0j)\n",
      "+ -_19 +_29 * (1+0j)\n",
      "+ +_19 -_19 * (1+0j)\n",
      "+ +_29 -_29 * (1+0j)\n",
      "+ +_0 -_0 +_1 -_1 * (2+0j)\n",
      "+ +_2 -_2 +_3 -_3 * (2+0j)\n",
      "+ +_4 -_4 +_5 -_5 * (2+0j)\n",
      "+ +_6 -_6 +_7 -_7 * (2+0j)\n",
      "+ +_8 -_8 +_9 -_9 * (2+0j)\n",
      "+ +_10 -_10 +_11 -_11 * (2+0j)\n",
      "+ +_12 -_12 +_13 -_13 * (2+0j)\n",
      "+ +_14 -_14 +_15 -_15 * (2+0j)\n",
      "+ +_16 -_16 +_17 -_17 * (2+0j)\n",
      "+ +_18 -_18 +_19 -_19 * (2+0j)\n",
      "+ +_20 -_20 +_21 -_21 * (2+0j)\n",
      "+ +_22 -_22 +_23 -_23 * (2+0j)\n",
      "+ +_24 -_24 +_25 -_25 * (2+0j)\n",
      "+ +_26 -_26 +_27 -_27 * (2+0j)\n",
      "+ +_28 -_28 +_29 -_29 * (2+0j)\n"
     ]
    }
   ],
   "metadata": {
    "slideshow": {
     "slide_type": "fragment"
    }
   }
  },
  {
   "cell_type": "code",
   "execution_count": 33,
   "source": [
    "FHM.hopping_matrix()"
   ],
   "outputs": [
    {
     "output_type": "execute_result",
     "data": {
      "text/plain": [
       "array([[ 1.+0.j,  1.+0.j,  0.+0.j,  0.+0.j,  0.+0.j, -1.+0.j,  0.+0.j,\n",
       "         0.+0.j,  0.+0.j,  0.+0.j,  0.+0.j,  0.+0.j,  0.+0.j,  0.+0.j,\n",
       "         0.+0.j],\n",
       "       [ 1.+0.j,  1.+0.j,  1.+0.j,  0.+0.j,  0.+0.j,  0.+0.j, -1.+0.j,\n",
       "         0.+0.j,  0.+0.j,  0.+0.j,  0.+0.j,  0.+0.j,  0.+0.j,  0.+0.j,\n",
       "         0.+0.j],\n",
       "       [ 0.+0.j,  1.+0.j,  1.+0.j,  1.+0.j,  0.+0.j,  0.+0.j,  0.+0.j,\n",
       "        -1.+0.j,  0.+0.j,  0.+0.j,  0.+0.j,  0.+0.j,  0.+0.j,  0.+0.j,\n",
       "         0.+0.j],\n",
       "       [ 0.+0.j,  0.+0.j,  1.+0.j,  1.+0.j,  1.+0.j,  0.+0.j,  0.+0.j,\n",
       "         0.+0.j, -1.+0.j,  0.+0.j,  0.+0.j,  0.+0.j,  0.+0.j,  0.+0.j,\n",
       "         0.+0.j],\n",
       "       [ 0.+0.j,  0.+0.j,  0.+0.j,  1.+0.j,  1.+0.j,  0.+0.j,  0.+0.j,\n",
       "         0.+0.j,  0.+0.j, -1.+0.j,  0.+0.j,  0.+0.j,  0.+0.j,  0.+0.j,\n",
       "         0.+0.j],\n",
       "       [-1.+0.j,  0.+0.j,  0.+0.j,  0.+0.j,  0.+0.j,  1.+0.j,  1.+0.j,\n",
       "         0.+0.j,  0.+0.j,  0.+0.j, -1.+0.j,  0.+0.j,  0.+0.j,  0.+0.j,\n",
       "         0.+0.j],\n",
       "       [ 0.+0.j, -1.+0.j,  0.+0.j,  0.+0.j,  0.+0.j,  1.+0.j,  1.+0.j,\n",
       "         1.+0.j,  0.+0.j,  0.+0.j,  0.+0.j, -1.+0.j,  0.+0.j,  0.+0.j,\n",
       "         0.+0.j],\n",
       "       [ 0.+0.j,  0.+0.j, -1.+0.j,  0.+0.j,  0.+0.j,  0.+0.j,  1.+0.j,\n",
       "         1.+0.j,  1.+0.j,  0.+0.j,  0.+0.j,  0.+0.j, -1.+0.j,  0.+0.j,\n",
       "         0.+0.j],\n",
       "       [ 0.+0.j,  0.+0.j,  0.+0.j, -1.+0.j,  0.+0.j,  0.+0.j,  0.+0.j,\n",
       "         1.+0.j,  1.+0.j,  1.+0.j,  0.+0.j,  0.+0.j,  0.+0.j, -1.+0.j,\n",
       "         0.+0.j],\n",
       "       [ 0.+0.j,  0.+0.j,  0.+0.j,  0.+0.j, -1.+0.j,  0.+0.j,  0.+0.j,\n",
       "         0.+0.j,  1.+0.j,  1.+0.j,  0.+0.j,  0.+0.j,  0.+0.j,  0.+0.j,\n",
       "        -1.+0.j],\n",
       "       [ 0.+0.j,  0.+0.j,  0.+0.j,  0.+0.j,  0.+0.j, -1.+0.j,  0.+0.j,\n",
       "         0.+0.j,  0.+0.j,  0.+0.j,  1.+0.j,  1.+0.j,  0.+0.j,  0.+0.j,\n",
       "         0.+0.j],\n",
       "       [ 0.+0.j,  0.+0.j,  0.+0.j,  0.+0.j,  0.+0.j,  0.+0.j, -1.+0.j,\n",
       "         0.+0.j,  0.+0.j,  0.+0.j,  1.+0.j,  1.+0.j,  1.+0.j,  0.+0.j,\n",
       "         0.+0.j],\n",
       "       [ 0.+0.j,  0.+0.j,  0.+0.j,  0.+0.j,  0.+0.j,  0.+0.j,  0.+0.j,\n",
       "        -1.+0.j,  0.+0.j,  0.+0.j,  0.+0.j,  1.+0.j,  1.+0.j,  1.+0.j,\n",
       "         0.+0.j],\n",
       "       [ 0.+0.j,  0.+0.j,  0.+0.j,  0.+0.j,  0.+0.j,  0.+0.j,  0.+0.j,\n",
       "         0.+0.j, -1.+0.j,  0.+0.j,  0.+0.j,  0.+0.j,  1.+0.j,  1.+0.j,\n",
       "         1.+0.j],\n",
       "       [ 0.+0.j,  0.+0.j,  0.+0.j,  0.+0.j,  0.+0.j,  0.+0.j,  0.+0.j,\n",
       "         0.+0.j,  0.+0.j, -1.+0.j,  0.+0.j,  0.+0.j,  0.+0.j,  1.+0.j,\n",
       "         1.+0.j]])"
      ]
     },
     "metadata": {},
     "execution_count": 33
    }
   ],
   "metadata": {
    "slideshow": {
     "slide_type": "skip"
    }
   }
  },
  {
   "cell_type": "markdown",
   "source": [
    "## ***The FHM from parameters(hopping matrix and on-site interaction)***"
   ],
   "metadata": {
    "slideshow": {
     "slide_type": "slide"
    }
   }
  },
  {
   "cell_type": "code",
   "execution_count": 34,
   "source": [
    "hopping_matrix = np.array([\n",
    "    [1. , -1. + 1.j, -5.+5.j], \n",
    "    [-1.-1.j, 2., 1.], \n",
    "    [-5.-5.j, 1., 2.]\n",
    "])\n",
    "\n",
    "onsite_interaction = 2.0\n",
    "\n",
    "FHM = FermiHubbard.from_parameters(\n",
    "    hopping_matrix=hopping_matrix,\n",
    "    onsite_interaction=onsite_interaction\n",
    ")\n",
    "\n",
    "ham = FHM.hamiltonian()\n",
    "print(ham)"
   ],
   "outputs": [
    {
     "output_type": "stream",
     "name": "stdout",
     "text": [
      "  +_0 -_0 * (1+0j)\n",
      "+ +_0 -_2 * (-1+1j)\n",
      "+ -_0 +_2 * (1+1j)\n",
      "+ +_0 -_4 * (-5+5j)\n",
      "+ -_0 +_4 * (5+5j)\n",
      "+ +_2 -_2 * (2+0j)\n",
      "+ +_2 -_4 * (1+0j)\n",
      "+ -_2 +_4 * (-1+0j)\n",
      "+ +_4 -_4 * (2+0j)\n",
      "+ +_1 -_1 * (1+0j)\n",
      "+ +_1 -_3 * (-1+1j)\n",
      "+ -_1 +_3 * (1+1j)\n",
      "+ +_1 -_5 * (-5+5j)\n",
      "+ -_1 +_5 * (5+5j)\n",
      "+ +_3 -_3 * (2+0j)\n",
      "+ +_3 -_5 * (1+0j)\n",
      "+ -_3 +_5 * (-1+0j)\n",
      "+ +_5 -_5 * (2+0j)\n",
      "+ +_0 -_0 +_1 -_1 * (2+0j)\n",
      "+ +_2 -_2 +_3 -_3 * (2+0j)\n",
      "+ +_4 -_4 +_5 -_5 * (2+0j)\n"
     ]
    }
   ],
   "metadata": {
    "slideshow": {
     "slide_type": "subslide"
    }
   }
  },
  {
   "cell_type": "code",
   "execution_count": 18,
   "source": [
    "lattice_points = 4\n",
    "t = -1.0\n",
    "onsite_potential = 1.0\n",
    "one_dim_lattice = lattice.LineLattice(\n",
    "    num_nodes=lattice_points,\n",
    "    edge_parameter=t,\n",
    "    onsite_parameter=onsite_potential,\n",
    "    boundary_condition=\"periodic\"\n",
    ")"
   ],
   "outputs": [],
   "metadata": {}
  },
  {
   "cell_type": "markdown",
   "source": [
    "## **visualization**"
   ],
   "metadata": {}
  },
  {
   "cell_type": "code",
   "execution_count": 12,
   "source": [
    "one_dim_lattice.draw(with_labels=True)"
   ],
   "outputs": [
    {
     "output_type": "display_data",
     "data": {
      "text/plain": [
       "<Figure size 432x288 with 1 Axes>"
      ],
      "image/png": "[encoded data removed]"
     },
     "metadata": {}
    }
   ],
   "metadata": {}
  },
  {
   "cell_type": "markdown",
   "source": [
    "## **Fermi-Hubbard model**"
   ],
   "metadata": {}
  },
  {
   "cell_type": "code",
   "execution_count": 13,
   "source": [
    "FHM = FermiHubbard(\n",
    "    one_dim_lattice,\n",
    "    onsite_interaction\n",
    ")\n",
    "\n",
    "FHM.hamiltonian()"
   ],
   "outputs": [
    {
     "output_type": "execute_result",
     "data": {
      "text/plain": [
       "FermionicOp([('+_0 -_2', (-1+0j)), ('-_0 +_2', (1+0j)), ('+_2 -_4', (-1+0j)), ('-_2 +_4', (1+0j)), ('+_4 -_6', (-1+0j)), ('-_4 +_6', (1+0j)), ('+_0 -_6', (-1+0j)), ('-_0 +_6', (1+0j)), ('+_0 -_0', (1+0j)), ('+_2 -_2', (1+0j)), ('+_4 -_4', (1+0j)), ('+_6 -_6', (1+0j)), ('+_1 -_3', (-1+0j)), ('-_1 +_3', (1+0j)), ('+_3 -_5', (-1+0j)), ('-_3 +_5', (1+0j)), ('+_5 -_7', (-1+0j)), ('-_5 +_7', (1+0j)), ('+_1 -_7', (-1+0j)), ('-_1 +_7', (1+0j)), ('+_1 -_1', (1+0j)), ('+_3 -_3', (1+0j)), ('+_5 -_5', (1+0j)), ('+_7 -_7', (1+0j)), ('+_0 -_0 +_1 -_1', (5+0j)), ('+_2 -_2 +_3 -_3', (5+0j)), ('+_4 -_4 +_5 -_5', (5+0j)), ('+_6 -_6 +_7 -_7', (5+0j))], register_length=8)"
      ]
     },
     "metadata": {},
     "execution_count": 13
    }
   ],
   "metadata": {}
  },
  {
   "cell_type": "code",
   "execution_count": 14,
   "source": [
    "FHM.hopping_matrix()"
   ],
   "outputs": [
    {
     "output_type": "execute_result",
     "data": {
      "text/plain": [
       "array([[ 1.+0.j, -1.+0.j,  0.+0.j, -1.+0.j],\n",
       "       [-1.+0.j,  1.+0.j, -1.+0.j,  0.+0.j],\n",
       "       [ 0.+0.j, -1.+0.j,  1.+0.j, -1.+0.j],\n",
       "       [-1.+0.j,  0.+0.j, -1.+0.j,  1.+0.j]])"
      ]
     },
     "metadata": {},
     "execution_count": 14
    }
   ],
   "metadata": {}
  },
  {
   "cell_type": "markdown",
   "source": [
    "# **Square lattice**"
   ],
   "metadata": {}
  },
  {
   "cell_type": "code",
   "execution_count": 15,
   "source": [
    "rows = 5\n",
    "cols = 3\n",
    "square = lattice.SquareLattice(\n",
    "    rows=rows,\n",
    "    cols=cols,\n",
    "    edge_parameter=(1.0, -1.0),\n",
    "    boundary_condition=\"open\"\n",
    ")"
   ],
   "outputs": [],
   "metadata": {}
  },
  {
   "cell_type": "code",
   "execution_count": 16,
   "source": [
    "def indextocoord(index:int, size:list) -> list:\n",
    "    x = index % rows\n",
    "    y = index // rows\n",
    "    return [x, y]\n",
    "pos = dict([(index, indextocoord(index, [rows, cols])) for index in range(np.prod([rows, cols]))])\n",
    "square.draw(pos=pos, with_labels=True)"
   ],
   "outputs": [
    {
     "output_type": "display_data",
     "data": {
      "text/plain": [
       "<Figure size 432x288 with 1 Axes>"
      ],
      "image/png": "[encoded data removed]"
     },
     "metadata": {}
    }
   ],
   "metadata": {}
  },
  {
   "cell_type": "code",
   "execution_count": 17,
   "source": [
    "onsite_interaction = 2.0\n",
    "FHM = FermiHubbard(\n",
    "    lattice=square,\n",
    "    onsite_interaction=onsite_interaction\n",
    ")\n",
    "FHM.hamiltonian()"
   ],
   "outputs": [
    {
     "output_type": "execute_result",
     "data": {
      "text/plain": [
       "FermionicOp([('+_0 -_2', (1+0j)), ('-_0 +_2', (-1+0j)), ('+_0 -_10', (-1+0j)), ('-_0 +_10', (1+0j)), ('+_0 -_0', 0j), ('+_10 -_12', (1+0j)), ('-_10 +_12', (-1+0j)), ('+_10 -_20', (-1+0j)), ('-_10 +_20', (1+0j)), ('+_10 -_10', 0j), ('+_2 -_4', (1+0j)), ('-_2 +_4', (-1+0j)), ('+_2 -_12', (-1+0j)), ('-_2 +_12', (1+0j)), ('+_2 -_2', 0j), ('+_12 -_14', (1+0j)), ('-_12 +_14', (-1+0j)), ('+_12 -_22', (-1+0j)), ('-_12 +_22', (1+0j)), ('+_12 -_12', 0j), ('+_4 -_6', (1+0j)), ('-_4 +_6', (-1+0j)), ('+_4 -_14', (-1+0j)), ('-_4 +_14', (1+0j)), ('+_4 -_4', 0j), ('+_14 -_16', (1+0j)), ('-_14 +_16', (-1+0j)), ('+_14 -_24', (-1+0j)), ('-_14 +_24', (1+0j)), ('+_14 -_14', 0j), ('+_6 -_8', (1+0j)), ('-_6 +_8', (-1+0j)), ('+_6 -_16', (-1+0j)), ('-_6 +_16', (1+0j)), ('+_6 -_6', 0j), ('+_16 -_18', (1+0j)), ('-_16 +_18', (-1+0j)), ('+_16 -_26', (-1+0j)), ('-_16 +_26', (1+0j)), ('+_16 -_16', 0j), ('+_20 -_22', (1+0j)), ('-_20 +_22', (-1+0j)), ('+_20 -_20', 0j), ('+_22 -_24', (1+0j)), ('-_22 +_24', (-1+0j)), ('+_22 -_22', 0j), ('+_24 -_26', (1+0j)), ('-_24 +_26', (-1+0j)), ('+_24 -_24', 0j), ('+_26 -_28', (1+0j)), ('-_26 +_28', (-1+0j)), ('+_26 -_26', 0j), ('+_8 -_18', (-1+0j)), ('-_8 +_18', (1+0j)), ('+_8 -_8', 0j), ('+_18 -_28', (-1+0j)), ('-_18 +_28', (1+0j)), ('+_18 -_18', 0j), ('+_28 -_28', 0j), ('+_1 -_3', (1+0j)), ('-_1 +_3', (-1+0j)), ('+_1 -_11', (-1+0j)), ('-_1 +_11', (1+0j)), ('+_1 -_1', 0j), ('+_11 -_13', (1+0j)), ('-_11 +_13', (-1+0j)), ('+_11 -_21', (-1+0j)), ('-_11 +_21', (1+0j)), ('+_11 -_11', 0j), ('+_3 -_5', (1+0j)), ('-_3 +_5', (-1+0j)), ('+_3 -_13', (-1+0j)), ('-_3 +_13', (1+0j)), ('+_3 -_3', 0j), ('+_13 -_15', (1+0j)), ('-_13 +_15', (-1+0j)), ('+_13 -_23', (-1+0j)), ('-_13 +_23', (1+0j)), ('+_13 -_13', 0j), ('+_5 -_7', (1+0j)), ('-_5 +_7', (-1+0j)), ('+_5 -_15', (-1+0j)), ('-_5 +_15', (1+0j)), ('+_5 -_5', 0j), ('+_15 -_17', (1+0j)), ('-_15 +_17', (-1+0j)), ('+_15 -_25', (-1+0j)), ('-_15 +_25', (1+0j)), ('+_15 -_15', 0j), ('+_7 -_9', (1+0j)), ('-_7 +_9', (-1+0j)), ('+_7 -_17', (-1+0j)), ('-_7 +_17', (1+0j)), ('+_7 -_7', 0j), ('+_17 -_19', (1+0j)), ('-_17 +_19', (-1+0j)), ('+_17 -_27', (-1+0j)), ('-_17 +_27', (1+0j)), ('+_17 -_17', 0j), ('+_21 -_23', (1+0j)), ('-_21 +_23', (-1+0j)), ('+_21 -_21', 0j), ('+_23 -_25', (1+0j)), ('-_23 +_25', (-1+0j)), ('+_23 -_23', 0j), ('+_25 -_27', (1+0j)), ('-_25 +_27', (-1+0j)), ('+_25 -_25', 0j), ('+_27 -_29', (1+0j)), ('-_27 +_29', (-1+0j)), ('+_27 -_27', 0j), ('+_9 -_19', (-1+0j)), ('-_9 +_19', (1+0j)), ('+_9 -_9', 0j), ('+_19 -_29', (-1+0j)), ('-_19 +_29', (1+0j)), ('+_19 -_19', 0j), ('+_29 -_29', 0j), ('+_0 -_0 +_1 -_1', (2+0j)), ('+_2 -_2 +_3 -_3', (2+0j)), ('+_4 -_4 +_5 -_5', (2+0j)), ('+_6 -_6 +_7 -_7', (2+0j)), ('+_8 -_8 +_9 -_9', (2+0j)), ('+_10 -_10 +_11 -_11', (2+0j)), ('+_12 -_12 +_13 -_13', (2+0j)), ('+_14 -_14 +_15 -_15', (2+0j)), ('+_16 -_16 +_17 -_17', (2+0j)), ('+_18 -_18 +_19 -_19', (2+0j)), ('+_20 -_20 +_21 -_21', (2+0j)), ('+_22 -_22 +_23 -_23', (2+0j)), ('+_24 -_24 +_25 -_25', (2+0j)), ('+_26 -_26 +_27 -_27', (2+0j)), ('+_28 -_28 +_29 -_29', (2+0j))], register_length=30)"
      ]
     },
     "metadata": {},
     "execution_count": 17
    }
   ],
   "metadata": {}
  },
  {
   "cell_type": "code",
   "execution_count": 18,
   "source": [
    "FHM.hopping_matrix()"
   ],
   "outputs": [
    {
     "output_type": "execute_result",
     "data": {
      "text/plain": [
       "array([[ 0.+0.j,  1.+0.j,  0.+0.j,  0.+0.j,  0.+0.j, -1.+0.j,  0.+0.j,\n",
       "         0.+0.j,  0.+0.j,  0.+0.j,  0.+0.j,  0.+0.j,  0.+0.j,  0.+0.j,\n",
       "         0.+0.j],\n",
       "       [ 1.+0.j,  0.+0.j,  1.+0.j,  0.+0.j,  0.+0.j,  0.+0.j, -1.+0.j,\n",
       "         0.+0.j,  0.+0.j,  0.+0.j,  0.+0.j,  0.+0.j,  0.+0.j,  0.+0.j,\n",
       "         0.+0.j],\n",
       "       [ 0.+0.j,  1.+0.j,  0.+0.j,  1.+0.j,  0.+0.j,  0.+0.j,  0.+0.j,\n",
       "        -1.+0.j,  0.+0.j,  0.+0.j,  0.+0.j,  0.+0.j,  0.+0.j,  0.+0.j,\n",
       "         0.+0.j],\n",
       "       [ 0.+0.j,  0.+0.j,  1.+0.j,  0.+0.j,  1.+0.j,  0.+0.j,  0.+0.j,\n",
       "         0.+0.j, -1.+0.j,  0.+0.j,  0.+0.j,  0.+0.j,  0.+0.j,  0.+0.j,\n",
       "         0.+0.j],\n",
       "       [ 0.+0.j,  0.+0.j,  0.+0.j,  1.+0.j,  0.+0.j,  0.+0.j,  0.+0.j,\n",
       "         0.+0.j,  0.+0.j, -1.+0.j,  0.+0.j,  0.+0.j,  0.+0.j,  0.+0.j,\n",
       "         0.+0.j],\n",
       "       [-1.+0.j,  0.+0.j,  0.+0.j,  0.+0.j,  0.+0.j,  0.+0.j,  1.+0.j,\n",
       "         0.+0.j,  0.+0.j,  0.+0.j, -1.+0.j,  0.+0.j,  0.+0.j,  0.+0.j,\n",
       "         0.+0.j],\n",
       "       [ 0.+0.j, -1.+0.j,  0.+0.j,  0.+0.j,  0.+0.j,  1.+0.j,  0.+0.j,\n",
       "         1.+0.j,  0.+0.j,  0.+0.j,  0.+0.j, -1.+0.j,  0.+0.j,  0.+0.j,\n",
       "         0.+0.j],\n",
       "       [ 0.+0.j,  0.+0.j, -1.+0.j,  0.+0.j,  0.+0.j,  0.+0.j,  1.+0.j,\n",
       "         0.+0.j,  1.+0.j,  0.+0.j,  0.+0.j,  0.+0.j, -1.+0.j,  0.+0.j,\n",
       "         0.+0.j],\n",
       "       [ 0.+0.j,  0.+0.j,  0.+0.j, -1.+0.j,  0.+0.j,  0.+0.j,  0.+0.j,\n",
       "         1.+0.j,  0.+0.j,  1.+0.j,  0.+0.j,  0.+0.j,  0.+0.j, -1.+0.j,\n",
       "         0.+0.j],\n",
       "       [ 0.+0.j,  0.+0.j,  0.+0.j,  0.+0.j, -1.+0.j,  0.+0.j,  0.+0.j,\n",
       "         0.+0.j,  1.+0.j,  0.+0.j,  0.+0.j,  0.+0.j,  0.+0.j,  0.+0.j,\n",
       "        -1.+0.j],\n",
       "       [ 0.+0.j,  0.+0.j,  0.+0.j,  0.+0.j,  0.+0.j, -1.+0.j,  0.+0.j,\n",
       "         0.+0.j,  0.+0.j,  0.+0.j,  0.+0.j,  1.+0.j,  0.+0.j,  0.+0.j,\n",
       "         0.+0.j],\n",
       "       [ 0.+0.j,  0.+0.j,  0.+0.j,  0.+0.j,  0.+0.j,  0.+0.j, -1.+0.j,\n",
       "         0.+0.j,  0.+0.j,  0.+0.j,  1.+0.j,  0.+0.j,  1.+0.j,  0.+0.j,\n",
       "         0.+0.j],\n",
       "       [ 0.+0.j,  0.+0.j,  0.+0.j,  0.+0.j,  0.+0.j,  0.+0.j,  0.+0.j,\n",
       "        -1.+0.j,  0.+0.j,  0.+0.j,  0.+0.j,  1.+0.j,  0.+0.j,  1.+0.j,\n",
       "         0.+0.j],\n",
       "       [ 0.+0.j,  0.+0.j,  0.+0.j,  0.+0.j,  0.+0.j,  0.+0.j,  0.+0.j,\n",
       "         0.+0.j, -1.+0.j,  0.+0.j,  0.+0.j,  0.+0.j,  1.+0.j,  0.+0.j,\n",
       "         1.+0.j],\n",
       "       [ 0.+0.j,  0.+0.j,  0.+0.j,  0.+0.j,  0.+0.j,  0.+0.j,  0.+0.j,\n",
       "         0.+0.j,  0.+0.j, -1.+0.j,  0.+0.j,  0.+0.j,  0.+0.j,  1.+0.j,\n",
       "         0.+0.j]])"
      ]
     },
     "metadata": {},
     "execution_count": 18
    }
   ],
   "metadata": {}
  },
  {
   "cell_type": "markdown",
   "source": [
    "# **The FHM from parameters(hopping matrix and on-site interaction)**"
   ],
   "metadata": {}
  },
  {
   "cell_type": "code",
   "execution_count": 19,
   "source": [
    "hopping_matrix = np.array([\n",
    "    [1. , -1. + 1.j, -5.+5.j], \n",
    "    [-1.-1.j, 2., 1.], \n",
    "    [-5.-5.j, 1., 2.]\n",
    "])\n",
    "\n",
    "onsite_interaction = 2.0\n",
    "\n",
    "FHM = FermiHubbard.from_parameters(\n",
    "    hopping_matrix=hopping_matrix,\n",
    "    onsite_interaction=onsite_interaction\n",
    ")\n",
    "\n",
    "ham = FHM.hamiltonian()\n",
    "print(ham)"
   ],
   "outputs": [
    {
     "output_type": "stream",
     "name": "stdout",
     "text": [
      "  +_0 -_0 * (1+0j)\n",
      "+ +_0 -_2 * (-1+1j)\n",
      "+ -_0 +_2 * (1+1j)\n",
      "+ +_0 -_4 * (-5+5j)\n",
      "+ -_0 +_4 * (5+5j)\n",
      "+ +_2 -_2 * (2+0j)\n",
      "+ +_2 -_4 * (1+0j)\n",
      "+ -_2 +_4 * (-1+0j)\n",
      "+ +_4 -_4 * (2+0j)\n",
      "+ +_1 -_1 * (1+0j)\n",
      "+ +_1 -_3 * (-1+1j)\n",
      "+ -_1 +_3 * (1+1j)\n",
      "+ +_1 -_5 * (-5+5j)\n",
      "+ -_1 +_5 * (5+5j)\n",
      "+ +_3 -_3 * (2+0j)\n",
      "+ +_3 -_5 * (1+0j)\n",
      "+ -_3 +_5 * (-1+0j)\n",
      "+ +_5 -_5 * (2+0j)\n",
      "+ +_0 -_0 +_1 -_1 * (2+0j)\n",
      "+ +_2 -_2 +_3 -_3 * (2+0j)\n",
      "+ +_4 -_4 +_5 -_5 * (2+0j)\n"
     ]
    }
   ],
   "metadata": {}
  },
  {
   "cell_type": "code",
   "execution_count": 20,
   "source": [
    "FHM.hopping_matrix()"
   ],
   "outputs": [
    {
     "output_type": "execute_result",
     "data": {
      "text/plain": [
       "array([[ 1.+0.j, -1.+1.j, -5.+5.j],\n",
       "       [-1.-1.j,  2.+0.j,  1.+0.j],\n",
       "       [-5.-5.j,  1.+0.j,  2.+0.j]])"
      ]
     },
     "metadata": {},
     "execution_count": 20
    }
   ],
   "metadata": {}
  },
  {
   "cell_type": "code",
   "execution_count": null,
   "source": [],
   "outputs": [],
   "metadata": {}
  }
 ],
 "metadata": {
  "celltoolbar": "スライドショー",
  "interpreter": {
   "hash": "f098cfac84d7616a27900d8489bf4403ac10b050e20733a638db380d2a07a2de"
  },
  "kernelspec": {
   "display_name": "Python 3 (ipykernel)",
   "language": "python",
   "name": "python3"
  },
  "language_info": {
   "codemirror_mode": {
    "name": "ipython",
    "version": 3
   },
   "file_extension": ".py",
   "mimetype": "text/x-python",
   "name": "python",
   "nbconvert_exporter": "python",
   "pygments_lexer": "ipython3",
   "version": "3.9.6"
  }
 },
 "nbformat": 4,
 "nbformat_minor": 2
}