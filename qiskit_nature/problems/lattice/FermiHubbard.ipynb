{
 "cells": [
  {
   "cell_type": "markdown",
   "source": [
    "# **Demonstration**"
   ],
   "metadata": {
    "slideshow": {
     "slide_type": "slide"
    }
   }
  },
  {
   "cell_type": "code",
   "execution_count": 13,
   "source": [
    "import lattice\n",
    "from hamiltonian import FermiHubbard\n",
    "import retworkx as rx\n",
    "import numpy as np"
   ],
   "outputs": [],
   "metadata": {
    "slideshow": {
     "slide_type": "slide"
    }
   }
  },
  {
   "cell_type": "code",
   "execution_count": 5,
   "source": [
    "ad_mat = np.array([\n",
    "    [1.0, 0.0, -1.0], \n",
    "    [0.0, 2.0, -2.0], \n",
    "    [0.0, 0.0, 3.0]\n",
    "])\n",
    "lattice.LineLattice.from_adjacency_matrix(ad_mat)\n",
    "ad_mat.shape"
   ],
   "outputs": [
    {
     "output_type": "execute_result",
     "data": {
      "text/plain": [
       "(3, 3)"
      ]
     },
     "metadata": {},
     "execution_count": 5
    }
   ],
   "metadata": {}
  },
  {
   "cell_type": "markdown",
   "source": [
    "## ***General Lattice***"
   ],
   "metadata": {
    "slideshow": {
     "slide_type": "slide"
    }
   }
  },
  {
   "cell_type": "code",
   "execution_count": 14,
   "source": [
    "graph = rx.PyGraph(multigraph=False)\n",
    "graph.add_nodes_from(range(6))\n",
    "weighted_edge_list = [(0, 1, 1.0), (0, 2, -1.0), (2, 3, 2.0), (4, 2, -1.0), (4, 4, 3.0), (2, 5, -1.0)]\n",
    "graph.add_edges_from(weighted_edge_list)\n",
    "\n",
    "# make a lattice\n",
    "general_lattice = lattice.Lattice(graph)"
   ],
   "outputs": [],
   "metadata": {
    "slideshow": {
     "slide_type": "subslide"
    }
   }
  },
  {
   "cell_type": "markdown",
   "source": [
    "### **visualization**"
   ],
   "metadata": {
    "slideshow": {
     "slide_type": "subslide"
    }
   }
  },
  {
   "cell_type": "code",
   "execution_count": 15,
   "source": [
    "general_lattice.draw(with_labels=True)"
   ],
   "outputs": [
    {
     "output_type": "display_data",
     "data": {
      "text/plain": [
       "<Figure size 432x288 with 1 Axes>"
      ],
      "image/png": "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"
     },
     "metadata": {}
    }
   ],
   "metadata": {
    "slideshow": {
     "slide_type": "fragment"
    }
   }
  },
  {
   "cell_type": "markdown",
   "source": [
    "### **adjacency matrix(hopping matrix) $t_{x, y}$**"
   ],
   "metadata": {
    "slideshow": {
     "slide_type": "subslide"
    }
   }
  },
  {
   "cell_type": "code",
   "execution_count": 16,
   "source": [
    "general_lattice.to_adjacency_matrix()"
   ],
   "outputs": [
    {
     "output_type": "execute_result",
     "data": {
      "text/plain": [
       "array([[ 0.+0.j,  1.+0.j, -1.+0.j,  0.+0.j,  0.+0.j,  0.+0.j],\n",
       "       [ 1.+0.j,  0.+0.j,  0.+0.j,  0.+0.j,  0.+0.j,  0.+0.j],\n",
       "       [-1.+0.j,  0.+0.j,  0.+0.j,  2.+0.j, -1.+0.j, -1.+0.j],\n",
       "       [ 0.+0.j,  0.+0.j,  2.+0.j,  0.+0.j,  0.+0.j,  0.+0.j],\n",
       "       [ 0.+0.j,  0.+0.j, -1.+0.j,  0.+0.j,  3.+0.j,  0.+0.j],\n",
       "       [ 0.+0.j,  0.+0.j, -1.+0.j,  0.+0.j,  0.+0.j,  0.+0.j]])"
      ]
     },
     "metadata": {},
     "execution_count": 16
    }
   ],
   "metadata": {
    "slideshow": {
     "slide_type": "fragment"
    }
   }
  },
  {
   "cell_type": "markdown",
   "source": [
    "### **Fermi-Hubbard model**"
   ],
   "metadata": {
    "slideshow": {
     "slide_type": "subslide"
    }
   }
  },
  {
   "cell_type": "code",
   "execution_count": 17,
   "source": [
    "onsite_interaction = 2.0\n",
    "\n",
    "FHM = FermiHubbard(\n",
    "    lattice=general_lattice,\n",
    "    onsite_interaction=onsite_interaction\n",
    ")\n",
    "\n",
    "ham = FHM.hamiltonian()\n",
    "ham.set_label_display_mode(\"sparse\")\n",
    "# even site -> up spin\n",
    "# odd sites -> down spin\n",
    "print(ham)"
   ],
   "outputs": [
    {
     "output_type": "stream",
     "name": "stdout",
     "text": [
      "  +_0 -_2 * (1+0j)\n",
      "+ -_0 +_2 * (-1+0j)\n",
      "+ +_0 -_4 * (-1+0j)\n",
      "+ -_0 +_4 * (1+0j)\n",
      "+ +_4 -_6 * (2+0j)\n",
      "+ -_4 +_6 * (-2+0j)\n",
      "+ +_4 -_8 * (-1+0j)\n",
      "+ -_4 +_8 * (1+0j)\n",
      "+ +_8 -_8 * (3+0j)\n",
      "+ +_4 -_10 * (-1+0j)\n",
      "+ -_4 +_10 * (1+0j)\n",
      "+ +_1 -_3 * (1+0j)\n",
      "+ -_1 +_3 * (-1+0j)\n",
      "+ +_1 -_5 * (-1+0j)\n",
      "+ -_1 +_5 * (1+0j)\n",
      "+ +_5 -_7 * (2+0j)\n",
      "+ -_5 +_7 * (-2+0j)\n",
      "+ +_5 -_9 * (-1+0j)\n",
      "+ -_5 +_9 * (1+0j)\n",
      "+ +_9 -_9 * (3+0j)\n",
      "+ +_5 -_11 * (-1+0j)\n",
      "+ -_5 +_11 * (1+0j)\n",
      "+ +_0 -_0 +_1 -_1 * (2+0j)\n",
      "+ +_2 -_2 +_3 -_3 * (2+0j)\n",
      "+ +_4 -_4 +_5 -_5 * (2+0j)\n",
      "+ +_6 -_6 +_7 -_7 * (2+0j)\n",
      "+ +_8 -_8 +_9 -_9 * (2+0j)\n",
      "+ +_10 -_10 +_11 -_11 * (2+0j)\n"
     ]
    }
   ],
   "metadata": {
    "slideshow": {
     "slide_type": "fragment"
    }
   }
  },
  {
   "cell_type": "code",
   "execution_count": 18,
   "source": [
    "FHM.hopping_matrix()"
   ],
   "outputs": [
    {
     "output_type": "execute_result",
     "data": {
      "text/plain": [
       "array([[ 0.+0.j,  1.+0.j, -1.+0.j,  0.+0.j,  0.+0.j,  0.+0.j],\n",
       "       [ 1.+0.j,  0.+0.j,  0.+0.j,  0.+0.j,  0.+0.j,  0.+0.j],\n",
       "       [-1.+0.j,  0.+0.j,  0.+0.j,  2.+0.j, -1.+0.j, -1.+0.j],\n",
       "       [ 0.+0.j,  0.+0.j,  2.+0.j,  0.+0.j,  0.+0.j,  0.+0.j],\n",
       "       [ 0.+0.j,  0.+0.j, -1.+0.j,  0.+0.j,  3.+0.j,  0.+0.j],\n",
       "       [ 0.+0.j,  0.+0.j, -1.+0.j,  0.+0.j,  0.+0.j,  0.+0.j]])"
      ]
     },
     "metadata": {},
     "execution_count": 18
    }
   ],
   "metadata": {
    "slideshow": {
     "slide_type": "subslide"
    }
   }
  },
  {
   "cell_type": "code",
   "execution_count": 2,
   "source": [
    "FHM.hopping_matrix()"
   ],
   "outputs": [
    {
     "output_type": "execute_result",
     "data": {
      "text/plain": [
       "array([[ 0.+0.j,  1.+0.j, -1.+0.j,  0.+0.j,  0.+0.j,  0.+0.j],\n",
       "       [ 1.+0.j,  0.+0.j,  0.+0.j,  0.+0.j,  0.+0.j,  0.+0.j],\n",
       "       [-1.+0.j,  0.+0.j,  0.+0.j,  2.+0.j, -1.+0.j, -1.+0.j],\n",
       "       [ 0.+0.j,  0.+0.j,  2.+0.j,  0.+0.j,  0.+0.j,  0.+0.j],\n",
       "       [ 0.+0.j,  0.+0.j, -1.+0.j,  0.+0.j,  3.+0.j,  0.+0.j],\n",
       "       [ 0.+0.j,  0.+0.j, -1.+0.j,  0.+0.j,  0.+0.j,  0.+0.j]])"
      ]
     },
     "metadata": {},
     "execution_count": 6
    }
   ],
   "metadata": {}
  },
  {
   "cell_type": "code",
   "execution_count": 29,
   "source": [
    "class test:\n",
    "    def __init__(self, a:int, b:float) -> None:\n",
    "        self.a = a\n",
    "        self.b = b\n",
    "t = test(1.2, 3)\n"
   ],
   "outputs": [],
>>>>>>> 540e228 (minor change)
   "metadata": {}
  },
  {
   "cell_type": "markdown",
   "source": [
    "## ***Lattice from an adjacency matrix***"
   ],
   "metadata": {
    "slideshow": {
     "slide_type": "slide"
    }
   }
  },
  {
   "cell_type": "code",
   "execution_count": 19,
   "source": [
    "ad_mat = np.array(\n",
    "    [\n",
    "        [1.0 , -1.0 + 1.0j, 2.0, 0.0],\n",
    "        [0.0, 2.0, -3.0, -1.0],\n",
    "        [0.0, 0.0, 3.0, 0.0],\n",
    "        [0.0, 0.0, 0.0, 4.0]\n",
    "    ]\n",
    ")\n",
    "\n",
    "lattice_from_ad_mat = lattice.Lattice.from_adjacency_matrix(ad_mat)\n",
    "lattice_from_ad_mat.draw(with_labels=True)"
   ],
   "outputs": [
    {
     "output_type": "display_data",
     "data": {
      "text/plain": [
       "<Figure size 432x288 with 1 Axes>"
      ],
      "image/png": "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"
     },
     "metadata": {}
    }
   ],
   "metadata": {
    "slideshow": {
     "slide_type": "subslide"
    }
   }
  },
  {
   "cell_type": "code",
   "execution_count": 20,
   "source": [
    "lattice_from_ad_mat.to_adjacency_matrix()"
   ],
   "outputs": [
    {
     "output_type": "execute_result",
     "data": {
      "text/plain": [
       "array([[ 1.+0.j, -1.+1.j,  2.+0.j,  0.+0.j],\n",
       "       [-1.-1.j,  2.+0.j, -3.+0.j, -1.+0.j],\n",
       "       [ 2.+0.j, -3.+0.j,  3.+0.j,  0.+0.j],\n",
       "       [ 0.+0.j, -1.+0.j,  0.+0.j,  4.+0.j]])"
      ]
     },
     "metadata": {},
     "execution_count": 20
    }
   ],
   "metadata": {
    "slideshow": {
     "slide_type": "fragment"
    }
   }
  },
  {
   "cell_type": "markdown",
   "source": [
    "### **Fermi-Hubbard model**"
   ],
   "metadata": {
    "slideshow": {
     "slide_type": "subslide"
    }
   }
  },
  {
   "cell_type": "code",
   "execution_count": 21,
   "source": [
    "onsite_interaction = 2.0\n",
    "FHM = FermiHubbard(\n",
    "    lattice=lattice_from_ad_mat,\n",
    "    onsite_interaction=onsite_interaction\n",
    ")\n",
    "\n",
    "ham = FHM.hamiltonian()\n",
    "print(ham)"
   ],
   "outputs": [
    {
     "output_type": "stream",
     "name": "stdout",
     "text": [
      "  +_0 -_0 * (1+0j)\n",
      "+ +_0 -_2 * (-1+1j)\n",
      "+ -_0 +_2 * (1+1j)\n",
      "+ +_0 -_4 * (2+0j)\n",
      "+ -_0 +_4 * (-2+0j)\n",
      "+ +_2 -_2 * (2+0j)\n",
      "+ +_2 -_4 * (-3+0j)\n",
      "+ -_2 +_4 * (3+0j)\n",
      "+ +_2 -_6 * (-1+0j)\n",
      "+ -_2 +_6 * (1+0j)\n",
      "+ +_4 -_4 * (3+0j)\n",
      "+ +_6 -_6 * (4+0j)\n",
      "+ +_1 -_1 * (1+0j)\n",
      "+ +_1 -_3 * (-1+1j)\n",
      "+ -_1 +_3 * (1+1j)\n",
      "+ +_1 -_5 * (2+0j)\n",
      "+ -_1 +_5 * (-2+0j)\n",
      "+ +_3 -_3 * (2+0j)\n",
      "+ +_3 -_5 * (-3+0j)\n",
      "+ -_3 +_5 * (3+0j)\n",
      "+ +_3 -_7 * (-1+0j)\n",
      "+ -_3 +_7 * (1+0j)\n",
      "+ +_5 -_5 * (3+0j)\n",
      "+ +_7 -_7 * (4+0j)\n",
      "+ +_0 -_0 +_1 -_1 * (2+0j)\n",
      "+ +_2 -_2 +_3 -_3 * (2+0j)\n",
      "+ +_4 -_4 +_5 -_5 * (2+0j)\n",
      "+ +_6 -_6 +_7 -_7 * (2+0j)\n"
     ]
    }
   ],
   "metadata": {
    "slideshow": {
     "slide_type": "fragment"
    }
   }
  },
  {
   "cell_type": "markdown",
   "source": [
    "## ***One-dimensional case(open boundary condition)***"
   ],
   "metadata": {
    "slideshow": {
     "slide_type": "slide"
    }
   }
  },
  {
   "cell_type": "code",
   "execution_count": 22,
   "source": [
    "lattice_points = 4\n",
    "t = -1.0\n",
    "onsite_potential = 1.0\n",
    "one_dim_lattice = lattice.LineLattice(\n",
    "    num_nodes=lattice_points,\n",
    "    edge_parameter=t,\n",
    "    onsite_parameter=onsite_potential,\n",
    "    boundary_condition=\"open\"\n",
    ")"
   ],
   "outputs": [],
   "metadata": {
    "slideshow": {
     "slide_type": "subslide"
    }
   }
  },
  {
   "cell_type": "markdown",
   "source": [
    "### **visualization**"
   ],
   "metadata": {
    "slideshow": {
     "slide_type": "subslide"
    }
   }
  },
  {
   "cell_type": "code",
   "execution_count": 23,
   "source": [
    "pos = {0:[0, 0], 1:[1, 0], 2:[2, 0], 3:[3, 0]}\n",
    "one_dim_lattice.draw(pos=pos, with_labels=True)"
   ],
   "outputs": [
    {
     "output_type": "display_data",
     "data": {
      "text/plain": [
       "<Figure size 432x288 with 1 Axes>"
      ],
      "image/png": "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"
     },
     "metadata": {}
    }
   ],
   "metadata": {
    "slideshow": {
     "slide_type": "fragment"
    }
   }
  },
  {
   "cell_type": "markdown",
   "source": [
    "### **Fermi-Hubbard model**"
   ],
   "metadata": {
    "slideshow": {
     "slide_type": "subslide"
    }
   }
  },
  {
   "cell_type": "code",
   "execution_count": 24,
   "source": [
    "onsite_interaction = 5.0\n",
    "FHM = FermiHubbard(\n",
    "    one_dim_lattice,\n",
    "    onsite_interaction\n",
    ")\n",
    "ham = FHM.hamiltonian()\n",
    "print(ham)"
   ],
   "outputs": [
    {
     "output_type": "stream",
     "name": "stdout",
     "text": [
      "  +_0 -_2 * (-1+0j)\n",
      "+ -_0 +_2 * (1+0j)\n",
      "+ +_2 -_4 * (-1+0j)\n",
      "+ -_2 +_4 * (1+0j)\n",
      "+ +_4 -_6 * (-1+0j)\n",
      "+ -_4 +_6 * (1+0j)\n",
      "+ +_0 -_0 * (1+0j)\n",
      "+ +_2 -_2 * (1+0j)\n",
      "+ +_4 -_4 * (1+0j)\n",
      "+ +_6 -_6 * (1+0j)\n",
      "+ +_1 -_3 * (-1+0j)\n",
      "+ -_1 +_3 * (1+0j)\n",
      "+ +_3 -_5 * (-1+0j)\n",
      "+ -_3 +_5 * (1+0j)\n",
      "+ +_5 -_7 * (-1+0j)\n",
      "+ -_5 +_7 * (1+0j)\n",
      "+ +_1 -_1 * (1+0j)\n",
      "+ +_3 -_3 * (1+0j)\n",
      "+ +_5 -_5 * (1+0j)\n",
      "+ +_7 -_7 * (1+0j)\n",
      "+ +_0 -_0 +_1 -_1 * (5+0j)\n",
      "+ +_2 -_2 +_3 -_3 * (5+0j)\n",
      "+ +_4 -_4 +_5 -_5 * (5+0j)\n",
      "+ +_6 -_6 +_7 -_7 * (5+0j)\n"
     ]
    }
   ],
   "metadata": {
    "slideshow": {
     "slide_type": "fragment"
    }
   }
  },
  {
   "cell_type": "code",
   "execution_count": 25,
   "source": [
    "FHM.hopping_matrix()"
   ],
   "outputs": [
    {
     "output_type": "execute_result",
     "data": {
      "text/plain": [
       "array([[ 1.+0.j, -1.+0.j,  0.+0.j,  0.+0.j],\n",
       "       [-1.+0.j,  1.+0.j, -1.+0.j,  0.+0.j],\n",
       "       [ 0.+0.j, -1.+0.j,  1.+0.j, -1.+0.j],\n",
       "       [ 0.+0.j,  0.+0.j, -1.+0.j,  1.+0.j]])"
      ]
     },
     "metadata": {},
     "execution_count": 25
    }
   ],
   "metadata": {
    "slideshow": {
     "slide_type": "skip"
    }
   }
  },
  {
   "cell_type": "markdown",
   "source": [
    "### **Operator expression**"
   ],
   "metadata": {
    "slideshow": {
     "slide_type": "skip"
    }
   }
  },
  {
   "cell_type": "markdown",
   "source": [
    "$$\n",
    "\\begin{align*}\n",
    "H &= \\sum_{i = 0}^{2} \\sum_{\\sigma = \\uparrow, \\downarrow} (t c_{i, \\sigma}^\\dagger c_{i+1, \\sigma} + t c_{i+1, \\sigma}^\\dagger c_{i, \\sigma})+ U \\sum_{i=0}^{3} n_{i, \\uparrow} n_{i, \\downarrow} \\\\\n",
    "&= t c_{0, \\uparrow}^\\dagger c_{1, \\uparrow} - t c_{0, \\uparrow} c_{1, \\uparrow}^{\\dagger} \\\\\n",
    "& \\ + t c_{1, \\uparrow}^\\dagger c_{2, \\uparrow} - t c_{1, \\uparrow} c_{2, \\uparrow}^{\\dagger} \\\\\n",
    "& \\ + t c_{2, \\uparrow}^\\dagger c_{3, \\uparrow} - t c_{2, \\uparrow} c_{3, \\uparrow}^{\\dagger} \\\\\n",
    "& \\ + v n_{0, \\uparrow} + v n_{1, \\uparrow} + v n_{2, \\uparrow} + v n_{3, \\uparrow} \\\\\n",
    "& \\ + t c_{0, \\downarrow}^\\dagger c_{1, \\downarrow} - t c_{0, \\downarrow} c_{1, \\downarrow}^{\\dagger} \\\\\n",
    "& \\ + t c_{1, \\downarrow}^\\dagger c_{2, \\downarrow} - t c_{1, \\downarrow} c_{2, \\downarrow}^{\\dagger} \\\\\n",
    "& \\ + t c_{2, \\downarrow}^\\dagger c_{3, \\downarrow} - t c_{2, \\downarrow} c_{3, \\downarrow}^{\\dagger} \\\\\n",
    "& \\ + v n_{0, \\downarrow} + v n_{1, \\downarrow} + v n_{2, \\downarrow} + v n_{3, \\downarrow} \\\\\n",
    "& \\ + U n_{0, \\uparrow} n_{0, \\downarrow} + U n_{1, \\uparrow} n_{1, \\downarrow} + + U n_{2, \\uparrow} n_{2, \\downarrow} + U n_{3, \\uparrow} n_{3, \\downarrow}\n",
    "\\end{align*}\n",
    "$$"
   ],
   "metadata": {
    "slideshow": {
     "slide_type": "skip"
    }
   }
  },
  {
   "cell_type": "markdown",
   "source": [
    "## ***One-dimensional case (periodic boundary condition)***"
   ],
   "metadata": {
    "slideshow": {
     "slide_type": "slide"
    }
   }
  },
  {
   "cell_type": "code",
   "execution_count": 26,
   "source": [
    "lattice_points = 4\n",
    "t = -1.0\n",
    "onsite_potential = 1.0\n",
    "one_dim_lattice = lattice.LineLattice(\n",
    "    num_nodes=lattice_points,\n",
    "    edge_parameter=t,\n",
    "    onsite_parameter=onsite_potential,\n",
    "    boundary_condition=\"periodic\"\n",
    ")"
   ],
   "outputs": [],
   "metadata": {
    "slideshow": {
     "slide_type": "subslide"
    }
   }
=======
    "# **General Lattice**"
   ],
   "metadata": {}
  },
  {
   "cell_type": "code",
   "execution_count": 6,
   "source": [
    "graph = retworkx.PyGraph(multigraph=False)\n",
    "graph.add_nodes_from(range(6))\n",
    "weighted_edge_list = [(0, 1, 1.0), (0, 2, -1.0), (2, 3, 2.0), (4, 2, -1.0), (4, 4, 3.0), (2, 5, -1.0)]\n",
    "graph.add_edges_from(weighted_edge_list)\n",
    "graph.add_edge(0, 1, -1.0)\n",
    "list(graph.weighted_edge_list())\n",
    "#general_lattice = lattice.Lattice(graph)"
   ],
   "outputs": [
    {
     "output_type": "execute_result",
     "data": {
      "text/plain": [
       "[(0, 1, -1.0),\n",
       " (0, 2, -1.0),\n",
       " (2, 3, 2.0),\n",
       " (4, 2, -1.0),\n",
       " (4, 4, 3.0),\n",
       " (2, 5, -1.0)]"
      ]
     },
     "metadata": {},
     "execution_count": 6
    }
   ],
   "metadata": {}
>>>>>>> 4d53371 (add files and edit them)
  },
  {
   "cell_type": "markdown",
   "source": [
    "### **visualization**"
   ],
   "metadata": {
    "slideshow": {
     "slide_type": "subslide"
    }
   }
  },
  {
   "cell_type": "code",
   "execution_count": 27,
   "source": [
    "one_dim_lattice.draw(with_labels=True)"
   ],
   "outputs": [
    {
     "output_type": "display_data",
     "data": {
      "text/plain": [
       "<Figure size 432x288 with 1 Axes>"
      ],
      "image/png": "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"
=======
      "image/png": "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"
>>>>>>> 4d53371 (add files and edit them)
=======
      "image/png": "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"
>>>>>>> c8a0692 (minor change)
=======
      "image/png": "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"
>>>>>>> 8cd6705 (update)
     },
     "metadata": {}
    }
   ],
   "metadata": {
    "slideshow": {
     "slide_type": "fragment"
    }
   }
  },
  {
   "cell_type": "markdown",
   "source": [
    "### **Fermi-Hubbard model**"
   ],
   "metadata": {
    "slideshow": {
     "slide_type": "subslide"
    }
   }
  },
  {
   "cell_type": "code",
   "execution_count": 28,
   "source": [
    "FHM = FermiHubbard(\n",
    "    one_dim_lattice,\n",
    "    onsite_interaction\n",
    ")\n",
    "\n",
    "ham = FHM.hamiltonian()\n",
    "print(ham)"
   ],
   "outputs": [
    {
     "output_type": "stream",
     "name": "stdout",
     "text": [
      "  +_0 -_2 * (-1+0j)\n",
      "+ -_0 +_2 * (1+0j)\n",
      "+ +_2 -_4 * (-1+0j)\n",
      "+ -_2 +_4 * (1+0j)\n",
      "+ +_4 -_6 * (-1+0j)\n",
      "+ -_4 +_6 * (1+0j)\n",
      "+ +_0 -_6 * (-1+0j)\n",
      "+ -_0 +_6 * (1+0j)\n",
      "+ +_0 -_0 * (1+0j)\n",
      "+ +_2 -_2 * (1+0j)\n",
      "+ +_4 -_4 * (1+0j)\n",
      "+ +_6 -_6 * (1+0j)\n",
      "+ +_1 -_3 * (-1+0j)\n",
      "+ -_1 +_3 * (1+0j)\n",
      "+ +_3 -_5 * (-1+0j)\n",
      "+ -_3 +_5 * (1+0j)\n",
      "+ +_5 -_7 * (-1+0j)\n",
      "+ -_5 +_7 * (1+0j)\n",
      "+ +_1 -_7 * (-1+0j)\n",
      "+ -_1 +_7 * (1+0j)\n",
      "+ +_1 -_1 * (1+0j)\n",
      "+ +_3 -_3 * (1+0j)\n",
      "+ +_5 -_5 * (1+0j)\n",
      "+ +_7 -_7 * (1+0j)\n",
      "+ +_0 -_0 +_1 -_1 * (5+0j)\n",
      "+ +_2 -_2 +_3 -_3 * (5+0j)\n",
      "+ +_4 -_4 +_5 -_5 * (5+0j)\n",
      "+ +_6 -_6 +_7 -_7 * (5+0j)\n"
     ]
    }
   ],
   "metadata": {
    "slideshow": {
     "slide_type": "fragment"
    }
   }
  },
  {
   "cell_type": "code",
   "execution_count": 29,
   "source": [
    "FHM.hopping_matrix()"
=======
    "## hopping matrix $t_{x, y}$"
=======
    "## **adjacency matrix(hopping matrix) $t_{x, y}$**"
>>>>>>> 8cd6705 (update)
   ],
   "metadata": {}
  },
  {
   "cell_type": "code",
   "execution_count": 4,
   "source": [
    "general_lattice.to_hopping_matrix()"
>>>>>>> 4d53371 (add files and edit them)
=======
    "general_lattice.to_adjacency_matrix()"
>>>>>>> 8cd6705 (update)
   ],
   "outputs": [
    {
     "output_type": "execute_result",
     "data": {
      "text/plain": [
       "array([[ 1.+0.j, -1.+0.j,  0.+0.j, -1.+0.j],\n",
       "       [-1.+0.j,  1.+0.j, -1.+0.j,  0.+0.j],\n",
       "       [ 0.+0.j, -1.+0.j,  1.+0.j, -1.+0.j],\n",
       "       [-1.+0.j,  0.+0.j, -1.+0.j,  1.+0.j]])"
      ]
     },
     "metadata": {},
     "execution_count": 29
    }
   ],
   "metadata": {
    "slideshow": {
     "slide_type": "skip"
    }
   }
=======
       "array([[ 0.,  1., -1.,  0.,  0.,  0.],\n",
       "       [ 1.,  0.,  0.,  0.,  0.,  0.],\n",
       "       [-1.,  0.,  0.,  2., -1., -1.],\n",
       "       [ 0.,  0.,  2.,  0.,  0.,  0.],\n",
       "       [ 0.,  0., -1.,  0.,  3.,  0.],\n",
       "       [ 0.,  0., -1.,  0.,  0.,  0.]])"
=======
       "array([[ 0.+0.j,  1.+0.j, -1.+0.j,  0.+0.j,  0.+0.j,  0.+0.j],\n",
       "       [ 1.+0.j,  0.+0.j,  0.+0.j,  0.+0.j,  0.+0.j,  0.+0.j],\n",
       "       [-1.+0.j,  0.+0.j,  0.+0.j,  2.+0.j, -1.+0.j, -1.+0.j],\n",
       "       [ 0.+0.j,  0.+0.j,  2.+0.j,  0.+0.j,  0.+0.j,  0.+0.j],\n",
       "       [ 0.+0.j,  0.+0.j, -1.+0.j,  0.+0.j,  3.+0.j,  0.+0.j],\n",
       "       [ 0.+0.j,  0.+0.j, -1.+0.j,  0.+0.j,  0.+0.j,  0.+0.j]])"
>>>>>>> 8cd6705 (update)
      ]
     },
     "metadata": {},
     "execution_count": 4
    }
   ],
   "metadata": {}
>>>>>>> 4d53371 (add files and edit them)
  },
  {
   "cell_type": "markdown",
   "source": [
    "## ***Square lattice***"
   ],
   "metadata": {
    "slideshow": {
     "slide_type": "slide"
    }
   }
  },
  {
   "cell_type": "code",
   "execution_count": 30,
   "source": [
    "rows = 5\n",
    "cols = 3\n",
    "square = lattice.SquareLattice(\n",
    "    rows=rows,\n",
    "    cols=cols,\n",
    "    edge_parameter=(1.0, -1.0),\n",
    "    onsite_parameter=1.0,\n",
    "    boundary_condition=\"open\"\n",
    ")"
   ],
   "outputs": [],
   "metadata": {
    "slideshow": {
     "slide_type": "subslide"
    }
   }
  },
  {
   "cell_type": "markdown",
   "source": [
    "### **visualization**"
   ],
   "metadata": {
    "slideshow": {
     "slide_type": "subslide"
    }
   }
  },
  {
   "cell_type": "code",
   "execution_count": 31,
   "source": [
    "def indextocoord(index:int, size:list) -> list:\n",
    "    x = index % rows\n",
    "    y = index // rows\n",
    "    return [x, y]\n",
    "pos = dict([(index, indextocoord(index, [rows, cols])) for index in range(np.prod([rows, cols]))])\n",
    "square.draw(pos=pos, with_labels=True)"
   ],
   "outputs": [
    {
     "output_type": "display_data",
     "data": {
      "text/plain": [
       "<Figure size 432x288 with 1 Axes>"
      ],
      "image/png": "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"
     },
     "metadata": {}
    }
   ],
   "metadata": {
    "slideshow": {
     "slide_type": "fragment"
    }
   }
  },
  {
   "cell_type": "markdown",
   "source": [
    "### **Fermi-Hubbard model**"
   ],
   "metadata": {
    "slideshow": {
     "slide_type": "subslide"
    }
   }
  },
  {
   "cell_type": "code",
   "execution_count": 32,
   "source": [
    "onsite_interaction = 2.0\n",
    "FHM = FermiHubbard(\n",
    "    lattice=square,\n",
    "    onsite_interaction=onsite_interaction\n",
    ")\n",
    "\n",
    "ham = FHM.hamiltonian()\n",
    "print(ham)"
   ],
   "outputs": [
    {
     "output_type": "stream",
     "name": "stdout",
     "text": [
      "  +_0 -_2 * (1+0j)\n",
      "+ -_0 +_2 * (-1+0j)\n",
      "+ +_0 -_10 * (-1+0j)\n",
      "+ -_0 +_10 * (1+0j)\n",
      "+ +_0 -_0 * (1+0j)\n",
      "+ +_10 -_12 * (1+0j)\n",
      "+ -_10 +_12 * (-1+0j)\n",
      "+ +_10 -_20 * (-1+0j)\n",
      "+ -_10 +_20 * (1+0j)\n",
      "+ +_10 -_10 * (1+0j)\n",
      "+ +_2 -_4 * (1+0j)\n",
      "+ -_2 +_4 * (-1+0j)\n",
      "+ +_2 -_12 * (-1+0j)\n",
      "+ -_2 +_12 * (1+0j)\n",
      "+ +_2 -_2 * (1+0j)\n",
      "+ +_12 -_14 * (1+0j)\n",
      "+ -_12 +_14 * (-1+0j)\n",
      "+ +_12 -_22 * (-1+0j)\n",
      "+ -_12 +_22 * (1+0j)\n",
      "+ +_12 -_12 * (1+0j)\n",
      "+ +_4 -_6 * (1+0j)\n",
      "+ -_4 +_6 * (-1+0j)\n",
      "+ +_4 -_14 * (-1+0j)\n",
      "+ -_4 +_14 * (1+0j)\n",
      "+ +_4 -_4 * (1+0j)\n",
      "+ +_14 -_16 * (1+0j)\n",
      "+ -_14 +_16 * (-1+0j)\n",
      "+ +_14 -_24 * (-1+0j)\n",
      "+ -_14 +_24 * (1+0j)\n",
      "+ +_14 -_14 * (1+0j)\n",
      "+ +_6 -_8 * (1+0j)\n",
      "+ -_6 +_8 * (-1+0j)\n",
      "+ +_6 -_16 * (-1+0j)\n",
      "+ -_6 +_16 * (1+0j)\n",
      "+ +_6 -_6 * (1+0j)\n",
      "+ +_16 -_18 * (1+0j)\n",
      "+ -_16 +_18 * (-1+0j)\n",
      "+ +_16 -_26 * (-1+0j)\n",
      "+ -_16 +_26 * (1+0j)\n",
      "+ +_16 -_16 * (1+0j)\n",
      "+ +_20 -_22 * (1+0j)\n",
      "+ -_20 +_22 * (-1+0j)\n",
      "+ +_20 -_20 * (1+0j)\n",
      "+ +_22 -_24 * (1+0j)\n",
      "+ -_22 +_24 * (-1+0j)\n",
      "+ +_22 -_22 * (1+0j)\n",
      "+ +_24 -_26 * (1+0j)\n",
      "+ -_24 +_26 * (-1+0j)\n",
      "+ +_24 -_24 * (1+0j)\n",
      "+ +_26 -_28 * (1+0j)\n",
      "+ -_26 +_28 * (-1+0j)\n",
      "+ +_26 -_26 * (1+0j)\n",
      "+ +_8 -_18 * (-1+0j)\n",
      "+ -_8 +_18 * (1+0j)\n",
      "+ +_8 -_8 * (1+0j)\n",
      "+ +_18 -_28 * (-1+0j)\n",
      "+ -_18 +_28 * (1+0j)\n",
      "+ +_18 -_18 * (1+0j)\n",
      "+ +_28 -_28 * (1+0j)\n",
      "+ +_1 -_3 * (1+0j)\n",
      "+ -_1 +_3 * (-1+0j)\n",
      "+ +_1 -_11 * (-1+0j)\n",
      "+ -_1 +_11 * (1+0j)\n",
      "+ +_1 -_1 * (1+0j)\n",
      "+ +_11 -_13 * (1+0j)\n",
      "+ -_11 +_13 * (-1+0j)\n",
      "+ +_11 -_21 * (-1+0j)\n",
      "+ -_11 +_21 * (1+0j)\n",
      "+ +_11 -_11 * (1+0j)\n",
      "+ +_3 -_5 * (1+0j)\n",
      "+ -_3 +_5 * (-1+0j)\n",
      "+ +_3 -_13 * (-1+0j)\n",
      "+ -_3 +_13 * (1+0j)\n",
      "+ +_3 -_3 * (1+0j)\n",
      "+ +_13 -_15 * (1+0j)\n",
      "+ -_13 +_15 * (-1+0j)\n",
      "+ +_13 -_23 * (-1+0j)\n",
      "+ -_13 +_23 * (1+0j)\n",
      "+ +_13 -_13 * (1+0j)\n",
      "+ +_5 -_7 * (1+0j)\n",
      "+ -_5 +_7 * (-1+0j)\n",
      "+ +_5 -_15 * (-1+0j)\n",
      "+ -_5 +_15 * (1+0j)\n",
      "+ +_5 -_5 * (1+0j)\n",
      "+ +_15 -_17 * (1+0j)\n",
      "+ -_15 +_17 * (-1+0j)\n",
      "+ +_15 -_25 * (-1+0j)\n",
      "+ -_15 +_25 * (1+0j)\n",
      "+ +_15 -_15 * (1+0j)\n",
      "+ +_7 -_9 * (1+0j)\n",
      "+ -_7 +_9 * (-1+0j)\n",
      "+ +_7 -_17 * (-1+0j)\n",
      "+ -_7 +_17 * (1+0j)\n",
      "+ +_7 -_7 * (1+0j)\n",
      "+ +_17 -_19 * (1+0j)\n",
      "+ -_17 +_19 * (-1+0j)\n",
      "+ +_17 -_27 * (-1+0j)\n",
      "+ -_17 +_27 * (1+0j)\n",
      "+ +_17 -_17 * (1+0j)\n",
      "+ +_21 -_23 * (1+0j)\n",
      "+ -_21 +_23 * (-1+0j)\n",
      "+ +_21 -_21 * (1+0j)\n",
      "+ +_23 -_25 * (1+0j)\n",
      "+ -_23 +_25 * (-1+0j)\n",
      "+ +_23 -_23 * (1+0j)\n",
      "+ +_25 -_27 * (1+0j)\n",
      "+ -_25 +_27 * (-1+0j)\n",
      "+ +_25 -_25 * (1+0j)\n",
      "+ +_27 -_29 * (1+0j)\n",
      "+ -_27 +_29 * (-1+0j)\n",
      "+ +_27 -_27 * (1+0j)\n",
      "+ +_9 -_19 * (-1+0j)\n",
      "+ -_9 +_19 * (1+0j)\n",
      "+ +_9 -_9 * (1+0j)\n",
      "+ +_19 -_29 * (-1+0j)\n",
      "+ -_19 +_29 * (1+0j)\n",
      "+ +_19 -_19 * (1+0j)\n",
      "+ +_29 -_29 * (1+0j)\n",
      "+ +_0 -_0 +_1 -_1 * (2+0j)\n",
      "+ +_2 -_2 +_3 -_3 * (2+0j)\n",
      "+ +_4 -_4 +_5 -_5 * (2+0j)\n",
      "+ +_6 -_6 +_7 -_7 * (2+0j)\n",
      "+ +_8 -_8 +_9 -_9 * (2+0j)\n",
      "+ +_10 -_10 +_11 -_11 * (2+0j)\n",
      "+ +_12 -_12 +_13 -_13 * (2+0j)\n",
      "+ +_14 -_14 +_15 -_15 * (2+0j)\n",
      "+ +_16 -_16 +_17 -_17 * (2+0j)\n",
      "+ +_18 -_18 +_19 -_19 * (2+0j)\n",
      "+ +_20 -_20 +_21 -_21 * (2+0j)\n",
      "+ +_22 -_22 +_23 -_23 * (2+0j)\n",
      "+ +_24 -_24 +_25 -_25 * (2+0j)\n",
      "+ +_26 -_26 +_27 -_27 * (2+0j)\n",
      "+ +_28 -_28 +_29 -_29 * (2+0j)\n"
     ]
    }
   ],
   "metadata": {
    "slideshow": {
     "slide_type": "fragment"
    }
   }
  },
  {
   "cell_type": "code",
   "execution_count": 33,
   "source": [
    "FHM.hopping_matrix()"
   ],
=======
    "## **Fermi-Hubbard model**"
   ],
   "metadata": {}
  },
  {
   "cell_type": "code",
   "execution_count": 3,
   "source": [
    "onsite_interaction = 2.0\n",
    "FHM = FermiHubbard(\n",
    "    lattice=general_lattice,\n",
    "    onsite_interaction=onsite_interaction\n",
    ")\n",
    "\n",
    "ham = FHM.hamiltonian()\n",
    "ham.set_label_display_mode(\"sparse\")\n",
    "print(ham)\n",
    "# main の環境で使えるようにしとく"
   ],
>>>>>>> 4d53371 (add files and edit them)
   "outputs": [
    {
     "output_type": "execute_result",
     "data": {
      "text/plain": [
       "array([[ 1.+0.j,  1.+0.j,  0.+0.j,  0.+0.j,  0.+0.j, -1.+0.j,  0.+0.j,\n",
       "         0.+0.j,  0.+0.j,  0.+0.j,  0.+0.j,  0.+0.j,  0.+0.j,  0.+0.j,\n",
       "         0.+0.j],\n",
       "       [ 1.+0.j,  1.+0.j,  1.+0.j,  0.+0.j,  0.+0.j,  0.+0.j, -1.+0.j,\n",
       "         0.+0.j,  0.+0.j,  0.+0.j,  0.+0.j,  0.+0.j,  0.+0.j,  0.+0.j,\n",
       "         0.+0.j],\n",
       "       [ 0.+0.j,  1.+0.j,  1.+0.j,  1.+0.j,  0.+0.j,  0.+0.j,  0.+0.j,\n",
       "        -1.+0.j,  0.+0.j,  0.+0.j,  0.+0.j,  0.+0.j,  0.+0.j,  0.+0.j,\n",
       "         0.+0.j],\n",
       "       [ 0.+0.j,  0.+0.j,  1.+0.j,  1.+0.j,  1.+0.j,  0.+0.j,  0.+0.j,\n",
       "         0.+0.j, -1.+0.j,  0.+0.j,  0.+0.j,  0.+0.j,  0.+0.j,  0.+0.j,\n",
       "         0.+0.j],\n",
       "       [ 0.+0.j,  0.+0.j,  0.+0.j,  1.+0.j,  1.+0.j,  0.+0.j,  0.+0.j,\n",
       "         0.+0.j,  0.+0.j, -1.+0.j,  0.+0.j,  0.+0.j,  0.+0.j,  0.+0.j,\n",
       "         0.+0.j],\n",
       "       [-1.+0.j,  0.+0.j,  0.+0.j,  0.+0.j,  0.+0.j,  1.+0.j,  1.+0.j,\n",
       "         0.+0.j,  0.+0.j,  0.+0.j, -1.+0.j,  0.+0.j,  0.+0.j,  0.+0.j,\n",
       "         0.+0.j],\n",
       "       [ 0.+0.j, -1.+0.j,  0.+0.j,  0.+0.j,  0.+0.j,  1.+0.j,  1.+0.j,\n",
       "         1.+0.j,  0.+0.j,  0.+0.j,  0.+0.j, -1.+0.j,  0.+0.j,  0.+0.j,\n",
       "         0.+0.j],\n",
       "       [ 0.+0.j,  0.+0.j, -1.+0.j,  0.+0.j,  0.+0.j,  0.+0.j,  1.+0.j,\n",
       "         1.+0.j,  1.+0.j,  0.+0.j,  0.+0.j,  0.+0.j, -1.+0.j,  0.+0.j,\n",
       "         0.+0.j],\n",
       "       [ 0.+0.j,  0.+0.j,  0.+0.j, -1.+0.j,  0.+0.j,  0.+0.j,  0.+0.j,\n",
       "         1.+0.j,  1.+0.j,  1.+0.j,  0.+0.j,  0.+0.j,  0.+0.j, -1.+0.j,\n",
       "         0.+0.j],\n",
       "       [ 0.+0.j,  0.+0.j,  0.+0.j,  0.+0.j, -1.+0.j,  0.+0.j,  0.+0.j,\n",
       "         0.+0.j,  1.+0.j,  1.+0.j,  0.+0.j,  0.+0.j,  0.+0.j,  0.+0.j,\n",
       "        -1.+0.j],\n",
       "       [ 0.+0.j,  0.+0.j,  0.+0.j,  0.+0.j,  0.+0.j, -1.+0.j,  0.+0.j,\n",
       "         0.+0.j,  0.+0.j,  0.+0.j,  1.+0.j,  1.+0.j,  0.+0.j,  0.+0.j,\n",
       "         0.+0.j],\n",
       "       [ 0.+0.j,  0.+0.j,  0.+0.j,  0.+0.j,  0.+0.j,  0.+0.j, -1.+0.j,\n",
       "         0.+0.j,  0.+0.j,  0.+0.j,  1.+0.j,  1.+0.j,  1.+0.j,  0.+0.j,\n",
       "         0.+0.j],\n",
       "       [ 0.+0.j,  0.+0.j,  0.+0.j,  0.+0.j,  0.+0.j,  0.+0.j,  0.+0.j,\n",
       "        -1.+0.j,  0.+0.j,  0.+0.j,  0.+0.j,  1.+0.j,  1.+0.j,  1.+0.j,\n",
       "         0.+0.j],\n",
       "       [ 0.+0.j,  0.+0.j,  0.+0.j,  0.+0.j,  0.+0.j,  0.+0.j,  0.+0.j,\n",
       "         0.+0.j, -1.+0.j,  0.+0.j,  0.+0.j,  0.+0.j,  1.+0.j,  1.+0.j,\n",
       "         1.+0.j],\n",
       "       [ 0.+0.j,  0.+0.j,  0.+0.j,  0.+0.j,  0.+0.j,  0.+0.j,  0.+0.j,\n",
       "         0.+0.j,  0.+0.j, -1.+0.j,  0.+0.j,  0.+0.j,  0.+0.j,  1.+0.j,\n",
       "         1.+0.j]])"
      ]
     },
     "metadata": {},
     "execution_count": 33
    }
   ],
   "metadata": {
    "slideshow": {
     "slide_type": "skip"
    }
   }
  },
  {
   "cell_type": "code",
   "execution_count": 6,
   "source": [
    "FHM.hopping_matrix()"
   ],
   "outputs": [
    {
     "output_type": "execute_result",
     "data": {
      "text/plain": [
       "array([[ 0.+0.j,  1.+0.j, -1.+0.j,  0.+0.j,  0.+0.j,  0.+0.j],\n",
       "       [ 1.+0.j,  0.+0.j,  0.+0.j,  0.+0.j,  0.+0.j,  0.+0.j],\n",
       "       [-1.+0.j,  0.+0.j,  0.+0.j,  2.+0.j, -1.+0.j, -1.+0.j],\n",
       "       [ 0.+0.j,  0.+0.j,  2.+0.j,  0.+0.j,  0.+0.j,  0.+0.j],\n",
       "       [ 0.+0.j,  0.+0.j, -1.+0.j,  0.+0.j,  3.+0.j,  0.+0.j],\n",
       "       [ 0.+0.j,  0.+0.j, -1.+0.j,  0.+0.j,  0.+0.j,  0.+0.j]])"
      ]
     },
     "metadata": {},
     "execution_count": 6
    }
   ],
   "metadata": {}
  },
  {
   "cell_type": "markdown",
   "source": [


    "## ***The FHM from parameters(hopping matrix and on-site interaction)***"
   ],
   "metadata": {
    "slideshow": {
     "slide_type": "slide"
    }
   }
  },
  {
   "cell_type": "code",
   "execution_count": 34,
   "source": [
    "hopping_matrix = np.array([\n",
    "    [1. , -1. + 1.j, -5.+5.j], \n",
    "    [-1.-1.j, 2., 1.], \n",
    "    [-5.-5.j, 1., 2.]\n",
    "])\n",
    "\n",
    "onsite_interaction = 2.0\n",
    "\n",
    "FHM = FermiHubbard.from_parameters(\n",
    "    hopping_matrix=hopping_matrix,\n",
    "    onsite_interaction=onsite_interaction\n",
    ")\n",
    "\n",
    "ham = FHM.hamiltonian()\n",
    "print(ham)"
   ],
   "outputs": [
    {
     "output_type": "stream",
     "name": "stdout",
     "text": [
      "  +_0 -_0 * (1+0j)\n",
      "+ +_0 -_2 * (-1+1j)\n",
      "+ -_0 +_2 * (1+1j)\n",
      "+ +_0 -_4 * (-5+5j)\n",
      "+ -_0 +_4 * (5+5j)\n",
      "+ +_2 -_2 * (2+0j)\n",
      "+ +_2 -_4 * (1+0j)\n",
      "+ -_2 +_4 * (-1+0j)\n",
      "+ +_4 -_4 * (2+0j)\n",
      "+ +_1 -_1 * (1+0j)\n",
      "+ +_1 -_3 * (-1+1j)\n",
      "+ -_1 +_3 * (1+1j)\n",
      "+ +_1 -_5 * (-5+5j)\n",
      "+ -_1 +_5 * (5+5j)\n",
      "+ +_3 -_3 * (2+0j)\n",
      "+ +_3 -_5 * (1+0j)\n",
      "+ -_3 +_5 * (-1+0j)\n",
      "+ +_5 -_5 * (2+0j)\n",
      "+ +_0 -_0 +_1 -_1 * (2+0j)\n",
      "+ +_2 -_2 +_3 -_3 * (2+0j)\n",
      "+ +_4 -_4 +_5 -_5 * (2+0j)\n"
     ]
    }
   ],
   "metadata": {
    "slideshow": {
     "slide_type": "subslide"
    }
   }
  },
  {
   "cell_type": "code",
   "execution_count": 18,
=======
    "# **One-dimensional case**"
=======
    "# **One-dimensional case(open boundary condition)**"
>>>>>>> 8cd6705 (update)
   ],
   "metadata": {}
  },
  {
   "cell_type": "code",



   "execution_count": 6,
>>>>>>> 4d53371 (add files and edit them)
=======
   "execution_count": 14,
>>>>>>> 8cd6705 (update)
=======
   "execution_count": 6,
>>>>>>> 65507fc (update)
=======
   "execution_count": 7,
>>>>>>> 540e228 (minor change)
   "source": [
    "lattice_points = 4\n",
    "t = -1.0\n",
    "onsite_potential = 1.0\n",


    "one_dim_lattice = lattice.LineLattice(\n",
    "    num_nodes=lattice_points,\n",
    "    edge_parameter=t,\n",
    "    onsite_parameter=onsite_potential,\n",
    "    boundary_condition=\"periodic\"\n",
=======
    "one_dim_lattice = lattice.Line(\n",
=======
    "one_dim_lattice = lattice.LineLattice(\n",
>>>>>>> c8a0692 (minor change)
    "    num_nodes=lattice_points,\n",
    "    edge_parameter=t,\n",
    "    onsite_parameter=onsite_potential,\n",
    "    boundary_condition=\"open\"\n",
>>>>>>> 4d53371 (add files and edit them)
    ")"
   ],
   "outputs": [],
   "metadata": {}
  },
  {
   "cell_type": "markdown",
   "source": [
    "## **visualization**"
=======
    "## visualization"
=======
    "## **visualization**"
   ],
   "metadata": {}
  },
  {
   "cell_type": "code",

   "execution_count": 12,
   "execution_count": 7,
>>>>>>> 4d53371 (add files and edit them)
=======
   "execution_count": 15,
>>>>>>> 8cd6705 (update)
=======
   "execution_count": 7,
>>>>>>> 65507fc (update)
=======
   "execution_count": 8,
>>>>>>> 540e228 (minor change)
   "source": [
    "pos = {0:[0, 0], 1:[1, 0], 2:[2, 0], 3:[3, 0]}\n",
    "one_dim_lattice.draw(pos=pos, with_labels=True)"
   ],
   "outputs": [
    {
     "output_type": "display_data",
     "data": {
      "text/plain": [
       "<Figure size 432x288 with 1 Axes>"
      ],




      "image/png": "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"
=======
      "image/png": "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"
>>>>>>> 8cd6705 (update)
=======
      "image/png": "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"
>>>>>>> 65507fc (update)
=======
      "image/png": "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"
>>>>>>> 540e228 (minor change)
=======
       "array([[ 0.+0.j, -1.+0.j, -1.+0.j,  0.+0.j,  0.+0.j,  0.+0.j],\n",
       "       [-1.+0.j,  0.+0.j,  0.+0.j,  0.+0.j,  0.+0.j,  0.+0.j],\n",
       "       [-1.+0.j,  0.+0.j,  0.+0.j,  2.+0.j, -1.+0.j, -1.+0.j],\n",
       "       [ 0.+0.j,  0.+0.j,  2.+0.j,  0.+0.j,  0.+0.j,  0.+0.j],\n",
       "       [ 0.+0.j,  0.+0.j, -1.+0.j,  0.+0.j,  3.+0.j,  0.+0.j],\n",
       "       [ 0.+0.j,  0.+0.j, -1.+0.j,  0.+0.j,  0.+0.j,  0.+0.j]])"
      ]
>>>>>>> 0d53e0c (minor change)
     },
     "metadata": {}
    }
   ],
   "metadata": {}
  },
  {
   "cell_type": "markdown",
   "source": [


    "## **Fermi-Hubbard model**"
=======
    "## hopping matrix"
>>>>>>> 4d53371 (add files and edit them)
=======
    "## **Fermi-Hubbard model**"
>>>>>>> 8cd6705 (update)
   ],
   "metadata": {}
  },
  {
   "cell_type": "code",


   "execution_count": 13,
   "source": [
    "FHM = FermiHubbard(\n",
    "    one_dim_lattice,\n",
    "    onsite_interaction\n",
    ")\n",
    "\n",
    "FHM.hamiltonian()"
   ],
   "outputs": [
    {
     "output_type": "execute_result",
     "data": {
      "text/plain": [

       "FermionicOp([('+_0 -_2', (-1+0j)), ('-_0 +_2', (1+0j)), ('+_2 -_4', (-1+0j)), ('-_2 +_4', (1+0j)), ('+_4 -_6', (-1+0j)), ('-_4 +_6', (1+0j)), ('+_0 -_6', (-1+0j)), ('-_0 +_6', (1+0j)), ('+_0 -_0', (1+0j)), ('+_2 -_2', (1+0j)), ('+_4 -_4', (1+0j)), ('+_6 -_6', (1+0j)), ('+_1 -_3', (-1+0j)), ('-_1 +_3', (1+0j)), ('+_3 -_5', (-1+0j)), ('-_3 +_5', (1+0j)), ('+_5 -_7', (-1+0j)), ('-_5 +_7', (1+0j)), ('+_1 -_7', (-1+0j)), ('-_1 +_7', (1+0j)), ('+_1 -_1', (1+0j)), ('+_3 -_3', (1+0j)), ('+_5 -_5', (1+0j)), ('+_7 -_7', (1+0j)), ('+_0 -_0 +_1 -_1', (5+0j)), ('+_2 -_2 +_3 -_3', (5+0j)), ('+_4 -_4 +_5 -_5', (5+0j)), ('+_6 -_6 +_7 -_7', (5+0j))], register_length=8)"
      ]
     },
     "metadata": {},
     "execution_count": 13
=======
    "ham = FHM.hamiltonian()\n",
    "ham.set_label_display_mode(\"sparse\")\n",
    "print(ham)"
=======
   "cell_type": "code",
   "execution_count": 1,
   "source": [
    "import lattice\n",

    "import hamiltonian\n",

    "import retworkx"
>>>>>>> a2a00fb (add files and edit them)
   ],
   "outputs": [
    {
     "output_type": "stream",

     "name": "stdout",
     "text": [
      "  +_0 -_2 * (-1+0j)\n",
      "+ -_0 +_2 * (1+0j)\n",
      "+ +_0 -_4 * (-1+0j)\n",
      "+ -_0 +_4 * (1+0j)\n",
      "+ +_4 -_6 * (2+0j)\n",
      "+ -_4 +_6 * (-2+0j)\n",
      "+ +_4 -_8 * (-1+0j)\n",
      "+ -_4 +_8 * (1+0j)\n",
      "+ +_8 -_8 * (3+0j)\n",
      "+ +_4 -_10 * (-1+0j)\n",
      "+ -_4 +_10 * (1+0j)\n",
      "+ +_1 -_3 * (-1+0j)\n",
      "+ -_1 +_3 * (1+0j)\n",
      "+ +_1 -_5 * (-1+0j)\n",
      "+ -_1 +_5 * (1+0j)\n",
      "+ +_5 -_7 * (2+0j)\n",
      "+ -_5 +_7 * (-2+0j)\n",
      "+ +_5 -_9 * (-1+0j)\n",
      "+ -_5 +_9 * (1+0j)\n",
      "+ +_9 -_9 * (3+0j)\n",
      "+ +_5 -_11 * (-1+0j)\n",
      "+ -_5 +_11 * (1+0j)\n",
      "+ +_0 -_0 +_1 -_1 * (2+0j)\n",
      "+ +_2 -_2 +_3 -_3 * (2+0j)\n",
      "+ +_4 -_4 +_5 -_5 * (2+0j)\n",
      "+ +_6 -_6 +_7 -_7 * (2+0j)\n",
      "+ +_8 -_8 +_9 -_9 * (2+0j)\n",
      "+ +_10 -_10 +_11 -_11 * (2+0j)\n"
     ]
>>>>>>> 0d53e0c (minor change)
=======
     "name": "stderr",
     "text": [
      "/Users/kensuketamura/.pyenv/versions/3.9.6/lib/python3.9/site-packages/pandas/compat/__init__.py:124: UserWarning: Could not import the lzma module. Your installed Python is incomplete. Attempting to use lzma compression will result in a RuntimeError.\n",
      "  warnings.warn(msg)\n"
     ]
>>>>>>> a2a00fb (add files and edit them)
    }
=======
=======
    "from hamiltonian import FermiHubbard\n",
>>>>>>> 580bca3 (update)
    "import retworkx\n",
    "import numpy as np"
>>>>>>> 192d8a1 (minor change)
   ],
   "outputs": [],
   "metadata": {}
  },
  {
   "cell_type": "code",
   "execution_count": 29,
   "source": [
    "class test:\n",
    "    def __init__(self, a:int, b:float) -> None:\n",
    "        self.a = a\n",
    "        self.b = b\n",
    "t = test(1.2, 3)\n"
   ],
   "outputs": [],
   "metadata": {}
  },
  {
   "cell_type": "code",
<<<<<<< HEAD

   "execution_count": 14,
   "source": [
    "FHM.hopping_matrix()"
   "source": [
    "onsite_interaction = 5.0\n",
    "FHM = FermiHubbard(\n",
    "    one_dim_lattice,\n",
    "    onsite_interaction\n",
    ")\n",
    "FHM.hamiltonian()"
>>>>>>> 8cd6705 (update)
   ],
   "outputs": [
    {
     "output_type": "execute_result",
     "data": {
      "text/plain": [

       "array([[ 1.+0.j, -1.+0.j,  0.+0.j, -1.+0.j],\n",
       "       [-1.+0.j,  1.+0.j, -1.+0.j,  0.+0.j],\n",
       "       [ 0.+0.j, -1.+0.j,  1.+0.j, -1.+0.j],\n",
       "       [-1.+0.j,  0.+0.j, -1.+0.j,  1.+0.j]])"
      ]
     },
     "metadata": {},
     "execution_count": 14
=======
       "array([[ 1., -1.,  0.,  0.],\n",
       "       [-1.,  1., -1.,  0.],\n",
       "       [ 0., -1.,  1., -1.],\n",
       "       [ 0.,  0., -1.,  1.]])"
      ]
     },
     "metadata": {},
     "execution_count": 8
>>>>>>> 4d53371 (add files and edit them)
=======
       "FermionicOp([('+I-IIIII', (-1+0j)), ('-I+IIIII', (1+0j)), ('II+I-III', (-1+0j)), ('II-I+III', (1+0j)), ('IIII+I-I', (-1+0j)), ('IIII-I+I', (1+0j)), ('NIIIIIII', (1+0j)), ('IINIIIII', (1+0j)), ('IIIINIII', (1+0j)), ('IIIIIINI', (1+0j)), ('I+I-IIII', (-1+0j)), ('I-I+IIII', (1+0j)), ('III+I-II', (-1+0j)), ('III-I+II', (1+0j)), ('IIIII+I-', (-1+0j)), ('IIIII-I+', (1+0j)), ('INIIIIII', (1+0j)), ('IIINIIII', (1+0j)), ('IIIIINII', (1+0j)), ('IIIIIIIN', (1+0j)), ('NNIIIIII', (5+0j)), ('IINNIIII', (5+0j)), ('IIIINNII', (5+0j)), ('IIIIIINN', (5+0j))])"
      ]
     },
     "metadata": {},


     "execution_count": 16
>>>>>>> 8cd6705 (update)
=======
     "execution_count": 8
>>>>>>> 65507fc (update)
=======
     "execution_count": 9
>>>>>>> 540e228 (minor change)
    }
=======
   "cell_type": "markdown",
   "source": [
    "# **General Lattice**"
>>>>>>> a2a00fb (add files and edit them)
=======
   "execution_count": 2,
   "source": [
    "graph = retworkx.PyGraph(multigraph=False)\n",
    "graph.add_nodes_from(range(6))\n",
    "weighted_edge_list = [(0, 1, 1.0), (0, 2, -1.0), (2, 3, 2.0), (4, 2, -1.0), (4, 4, 3.0), (2, 5, -1.0)]\n",
    "graph.add_edges_from(weighted_edge_list)\n",
    "graph.add_edge(0, 1, -1.0)\n",
    "list(graph.weighted_edge_list())\n",
    "general_lattice = lattice.Lattice(graph)"
>>>>>>> dba00ce (minor change)
   ],
   "outputs": [],
   "metadata": {}
  },
  {

   "cell_type": "markdown",
   "source": [

    "# **Square lattice**"
   ],
   "metadata": {}
  },
  {
   "cell_type": "code",
   "execution_count": 15,
   "source": [
    "rows = 5\n",
    "cols = 3\n",
    "square = lattice.SquareLattice(\n",
    "    rows=rows,\n",
    "    cols=cols,\n",
    "    edge_parameter=(1.0, -1.0),\n",
    "    boundary_condition=\"open\"\n",
    ")"
   ],
   "metadata": {}
  },
  {
   "cell_type": "code",
   "execution_count": 16,
   "source": [
    "def indextocoord(index:int, size:list) -> list:\n",
    "    x = index % rows\n",
    "    y = index // rows\n",
    "    return [x, y]\n",
    "pos = dict([(index, indextocoord(index, [rows, cols])) for index in range(np.prod([rows, cols]))])\n",
    "square.draw(pos=pos, with_labels=True)"
   ],
   "outputs": [
    {
     "output_type": "display_data",
     "data": {
      "text/plain": [
       "<Figure size 432x288 with 1 Axes>"
      ],


      "image/png": "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"
=======
      "image/png": "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"
>>>>>>> 7c27813 (update)
=======
      "image/png": "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"
>>>>>>> dba00ce (minor change)
     },
     "metadata": {}
    }
   ],
   "metadata": {}
  },
  {
   "cell_type": "code",
   "execution_count": 17,
   "source": [
    "onsite_interaction = 2.0\n",
    "FHM = FermiHubbard(\n",
    "    lattice=square,\n",
    "    onsite_interaction=onsite_interaction\n",
    ")\n",
    "FHM.hamiltonian()"
   ],
   "outputs": [
    {
     "output_type": "execute_result",
     "data": {
      "text/plain": [
       "FermionicOp([('+_0 -_2', (1+0j)), ('-_0 +_2', (-1+0j)), ('+_0 -_10', (-1+0j)), ('-_0 +_10', (1+0j)), ('+_0 -_0', 0j), ('+_10 -_12', (1+0j)), ('-_10 +_12', (-1+0j)), ('+_10 -_20', (-1+0j)), ('-_10 +_20', (1+0j)), ('+_10 -_10', 0j), ('+_2 -_4', (1+0j)), ('-_2 +_4', (-1+0j)), ('+_2 -_12', (-1+0j)), ('-_2 +_12', (1+0j)), ('+_2 -_2', 0j), ('+_12 -_14', (1+0j)), ('-_12 +_14', (-1+0j)), ('+_12 -_22', (-1+0j)), ('-_12 +_22', (1+0j)), ('+_12 -_12', 0j), ('+_4 -_6', (1+0j)), ('-_4 +_6', (-1+0j)), ('+_4 -_14', (-1+0j)), ('-_4 +_14', (1+0j)), ('+_4 -_4', 0j), ('+_14 -_16', (1+0j)), ('-_14 +_16', (-1+0j)), ('+_14 -_24', (-1+0j)), ('-_14 +_24', (1+0j)), ('+_14 -_14', 0j), ('+_6 -_8', (1+0j)), ('-_6 +_8', (-1+0j)), ('+_6 -_16', (-1+0j)), ('-_6 +_16', (1+0j)), ('+_6 -_6', 0j), ('+_16 -_18', (1+0j)), ('-_16 +_18', (-1+0j)), ('+_16 -_26', (-1+0j)), ('-_16 +_26', (1+0j)), ('+_16 -_16', 0j), ('+_20 -_22', (1+0j)), ('-_20 +_22', (-1+0j)), ('+_20 -_20', 0j), ('+_22 -_24', (1+0j)), ('-_22 +_24', (-1+0j)), ('+_22 -_22', 0j), ('+_24 -_26', (1+0j)), ('-_24 +_26', (-1+0j)), ('+_24 -_24', 0j), ('+_26 -_28', (1+0j)), ('-_26 +_28', (-1+0j)), ('+_26 -_26', 0j), ('+_8 -_18', (-1+0j)), ('-_8 +_18', (1+0j)), ('+_8 -_8', 0j), ('+_18 -_28', (-1+0j)), ('-_18 +_28', (1+0j)), ('+_18 -_18', 0j), ('+_28 -_28', 0j), ('+_1 -_3', (1+0j)), ('-_1 +_3', (-1+0j)), ('+_1 -_11', (-1+0j)), ('-_1 +_11', (1+0j)), ('+_1 -_1', 0j), ('+_11 -_13', (1+0j)), ('-_11 +_13', (-1+0j)), ('+_11 -_21', (-1+0j)), ('-_11 +_21', (1+0j)), ('+_11 -_11', 0j), ('+_3 -_5', (1+0j)), ('-_3 +_5', (-1+0j)), ('+_3 -_13', (-1+0j)), ('-_3 +_13', (1+0j)), ('+_3 -_3', 0j), ('+_13 -_15', (1+0j)), ('-_13 +_15', (-1+0j)), ('+_13 -_23', (-1+0j)), ('-_13 +_23', (1+0j)), ('+_13 -_13', 0j), ('+_5 -_7', (1+0j)), ('-_5 +_7', (-1+0j)), ('+_5 -_15', (-1+0j)), ('-_5 +_15', (1+0j)), ('+_5 -_5', 0j), ('+_15 -_17', (1+0j)), ('-_15 +_17', (-1+0j)), ('+_15 -_25', (-1+0j)), ('-_15 +_25', (1+0j)), ('+_15 -_15', 0j), ('+_7 -_9', (1+0j)), ('-_7 +_9', (-1+0j)), ('+_7 -_17', (-1+0j)), ('-_7 +_17', (1+0j)), ('+_7 -_7', 0j), ('+_17 -_19', (1+0j)), ('-_17 +_19', (-1+0j)), ('+_17 -_27', (-1+0j)), ('-_17 +_27', (1+0j)), ('+_17 -_17', 0j), ('+_21 -_23', (1+0j)), ('-_21 +_23', (-1+0j)), ('+_21 -_21', 0j), ('+_23 -_25', (1+0j)), ('-_23 +_25', (-1+0j)), ('+_23 -_23', 0j), ('+_25 -_27', (1+0j)), ('-_25 +_27', (-1+0j)), ('+_25 -_25', 0j), ('+_27 -_29', (1+0j)), ('-_27 +_29', (-1+0j)), ('+_27 -_27', 0j), ('+_9 -_19', (-1+0j)), ('-_9 +_19', (1+0j)), ('+_9 -_9', 0j), ('+_19 -_29', (-1+0j)), ('-_19 +_29', (1+0j)), ('+_19 -_19', 0j), ('+_29 -_29', 0j), ('+_0 -_0 +_1 -_1', (2+0j)), ('+_2 -_2 +_3 -_3', (2+0j)), ('+_4 -_4 +_5 -_5', (2+0j)), ('+_6 -_6 +_7 -_7', (2+0j)), ('+_8 -_8 +_9 -_9', (2+0j)), ('+_10 -_10 +_11 -_11', (2+0j)), ('+_12 -_12 +_13 -_13', (2+0j)), ('+_14 -_14 +_15 -_15', (2+0j)), ('+_16 -_16 +_17 -_17', (2+0j)), ('+_18 -_18 +_19 -_19', (2+0j)), ('+_20 -_20 +_21 -_21', (2+0j)), ('+_22 -_22 +_23 -_23', (2+0j)), ('+_24 -_24 +_25 -_25', (2+0j)), ('+_26 -_26 +_27 -_27', (2+0j)), ('+_28 -_28 +_29 -_29', (2+0j))], register_length=30)"
      ]
     },
     "metadata": {},
     "execution_count": 17
    }
=======
   "cell_type": "markdown",
   "source": [

    "## hopping matrix $t_{x, y}$"
>>>>>>> a2a00fb (add files and edit them)
=======
    "## **adjacency matrix(hopping matrix) $t_{x, y}$**"
>>>>>>> 580bca3 (update)
   ],
   "metadata": {}
  },
  {
   "cell_type": "code",


   "execution_count": 18,
   "source": [
    "FHM.hopping_matrix()"
=======
   "execution_count": 9,
   "source": [
    "U = 5.0\n",
    "model = hamiltonian.FermiHubbard(\n",
    "    one_dim_lattice,\n",
    "    U\n",
    ")\n",
    "model.generator()"
>>>>>>> c8a0692 (minor change)
=======
   "cell_type": "code",
   "execution_count": 10,
   "source": [
    "FHM.hopping_matrix()"
>>>>>>> 8cd6705 (update)
=======
   "execution_count": 4,
   "source": [

    "general_lattice.to_hopping_matrix()"
>>>>>>> a2a00fb (add files and edit them)
=======
    "general_lattice.to_adjacency_matrix()"
>>>>>>> 580bca3 (update)
   ],
   "outputs": [
    {
     "output_type": "execute_result",
     "data": {
      "text/plain": [



       "array([[ 0.+0.j,  1.+0.j,  0.+0.j,  0.+0.j,  0.+0.j, -1.+0.j,  0.+0.j,\n",
       "         0.+0.j,  0.+0.j,  0.+0.j,  0.+0.j,  0.+0.j,  0.+0.j,  0.+0.j,\n",
       "         0.+0.j],\n",
       "       [ 1.+0.j,  0.+0.j,  1.+0.j,  0.+0.j,  0.+0.j,  0.+0.j, -1.+0.j,\n",
       "         0.+0.j,  0.+0.j,  0.+0.j,  0.+0.j,  0.+0.j,  0.+0.j,  0.+0.j,\n",
       "         0.+0.j],\n",
       "       [ 0.+0.j,  1.+0.j,  0.+0.j,  1.+0.j,  0.+0.j,  0.+0.j,  0.+0.j,\n",
       "        -1.+0.j,  0.+0.j,  0.+0.j,  0.+0.j,  0.+0.j,  0.+0.j,  0.+0.j,\n",
       "         0.+0.j],\n",
       "       [ 0.+0.j,  0.+0.j,  1.+0.j,  0.+0.j,  1.+0.j,  0.+0.j,  0.+0.j,\n",
       "         0.+0.j, -1.+0.j,  0.+0.j,  0.+0.j,  0.+0.j,  0.+0.j,  0.+0.j,\n",
       "         0.+0.j],\n",
       "       [ 0.+0.j,  0.+0.j,  0.+0.j,  1.+0.j,  0.+0.j,  0.+0.j,  0.+0.j,\n",
       "         0.+0.j,  0.+0.j, -1.+0.j,  0.+0.j,  0.+0.j,  0.+0.j,  0.+0.j,\n",
       "         0.+0.j],\n",
       "       [-1.+0.j,  0.+0.j,  0.+0.j,  0.+0.j,  0.+0.j,  0.+0.j,  1.+0.j,\n",
       "         0.+0.j,  0.+0.j,  0.+0.j, -1.+0.j,  0.+0.j,  0.+0.j,  0.+0.j,\n",
       "         0.+0.j],\n",
       "       [ 0.+0.j, -1.+0.j,  0.+0.j,  0.+0.j,  0.+0.j,  1.+0.j,  0.+0.j,\n",
       "         1.+0.j,  0.+0.j,  0.+0.j,  0.+0.j, -1.+0.j,  0.+0.j,  0.+0.j,\n",
       "         0.+0.j],\n",
       "       [ 0.+0.j,  0.+0.j, -1.+0.j,  0.+0.j,  0.+0.j,  0.+0.j,  1.+0.j,\n",
       "         0.+0.j,  1.+0.j,  0.+0.j,  0.+0.j,  0.+0.j, -1.+0.j,  0.+0.j,\n",
       "         0.+0.j],\n",
       "       [ 0.+0.j,  0.+0.j,  0.+0.j, -1.+0.j,  0.+0.j,  0.+0.j,  0.+0.j,\n",
       "         1.+0.j,  0.+0.j,  1.+0.j,  0.+0.j,  0.+0.j,  0.+0.j, -1.+0.j,\n",
       "         0.+0.j],\n",
       "       [ 0.+0.j,  0.+0.j,  0.+0.j,  0.+0.j, -1.+0.j,  0.+0.j,  0.+0.j,\n",
       "         0.+0.j,  1.+0.j,  0.+0.j,  0.+0.j,  0.+0.j,  0.+0.j,  0.+0.j,\n",
       "        -1.+0.j],\n",
       "       [ 0.+0.j,  0.+0.j,  0.+0.j,  0.+0.j,  0.+0.j, -1.+0.j,  0.+0.j,\n",
       "         0.+0.j,  0.+0.j,  0.+0.j,  0.+0.j,  1.+0.j,  0.+0.j,  0.+0.j,\n",
       "         0.+0.j],\n",
       "       [ 0.+0.j,  0.+0.j,  0.+0.j,  0.+0.j,  0.+0.j,  0.+0.j, -1.+0.j,\n",
       "         0.+0.j,  0.+0.j,  0.+0.j,  1.+0.j,  0.+0.j,  1.+0.j,  0.+0.j,\n",
       "         0.+0.j],\n",
       "       [ 0.+0.j,  0.+0.j,  0.+0.j,  0.+0.j,  0.+0.j,  0.+0.j,  0.+0.j,\n",
       "        -1.+0.j,  0.+0.j,  0.+0.j,  0.+0.j,  1.+0.j,  0.+0.j,  1.+0.j,\n",
       "         0.+0.j],\n",
       "       [ 0.+0.j,  0.+0.j,  0.+0.j,  0.+0.j,  0.+0.j,  0.+0.j,  0.+0.j,\n",
       "         0.+0.j, -1.+0.j,  0.+0.j,  0.+0.j,  0.+0.j,  1.+0.j,  0.+0.j,\n",
       "         1.+0.j],\n",
       "       [ 0.+0.j,  0.+0.j,  0.+0.j,  0.+0.j,  0.+0.j,  0.+0.j,  0.+0.j,\n",
       "         0.+0.j,  0.+0.j, -1.+0.j,  0.+0.j,  0.+0.j,  0.+0.j,  1.+0.j,\n",
       "         0.+0.j]])"
      ]
     },
     "metadata": {},
     "execution_count": 18
=======
     "execution_count": 9
>>>>>>> c8a0692 (minor change)
=======
       "array([[ 1.+0.j, -1.+0.j,  0.+0.j,  0.+0.j],\n",
       "       [-1.+0.j,  1.+0.j, -1.+0.j,  0.+0.j],\n",
       "       [ 0.+0.j, -1.+0.j,  1.+0.j, -1.+0.j],\n",
       "       [ 0.+0.j,  0.+0.j, -1.+0.j,  1.+0.j]])"
      ]
     },
     "metadata": {},


     "execution_count": 17
>>>>>>> 8cd6705 (update)
=======
     "execution_count": 9
>>>>>>> 65507fc (update)
=======
     "execution_count": 10
>>>>>>> 540e228 (minor change)
=======
       "array([[ 0.,  1., -1.,  0.,  0.,  0.],\n",
       "       [ 1.,  0.,  0.,  0.,  0.,  0.],\n",
       "       [-1.,  0.,  0.,  2., -1., -1.],\n",
       "       [ 0.,  0.,  2.,  0.,  0.,  0.],\n",
       "       [ 0.,  0., -1.,  0.,  3.,  0.],\n",
       "       [ 0.,  0., -1.,  0.,  0.,  0.]])"
=======
       "array([[ 0.+0.j,  1.+0.j, -1.+0.j,  0.+0.j,  0.+0.j,  0.+0.j],\n",
       "       [ 1.+0.j,  0.+0.j,  0.+0.j,  0.+0.j,  0.+0.j,  0.+0.j],\n",
       "       [-1.+0.j,  0.+0.j,  0.+0.j,  2.+0.j, -1.+0.j, -1.+0.j],\n",
       "       [ 0.+0.j,  0.+0.j,  2.+0.j,  0.+0.j,  0.+0.j,  0.+0.j],\n",
       "       [ 0.+0.j,  0.+0.j, -1.+0.j,  0.+0.j,  3.+0.j,  0.+0.j],\n",
       "       [ 0.+0.j,  0.+0.j, -1.+0.j,  0.+0.j,  0.+0.j,  0.+0.j]])"
>>>>>>> 580bca3 (update)
      ]
     },
     "metadata": {},
     "execution_count": 4
>>>>>>> a2a00fb (add files and edit them)
    }
   ],
   "metadata": {}
  },
  {
   "cell_type": "markdown",
   "source": [


    "# **The FHM from parameters(hopping matrix and on-site interaction)**"
   ],
   "metadata": {}
  },
  {
   "cell_type": "code",
   "execution_count": 19,
   "source": [
    "hopping_matrix = np.array([\n",
    "    [1. , -1. + 1.j, -5.+5.j], \n",
    "    [-1.-1.j, 2., 1.], \n",
    "    [-5.-5.j, 1., 2.]\n",
    "])\n",
    "\n",
    "onsite_interaction = 2.0\n",
    "\n",
    "FHM = FermiHubbard.from_parameters(\n",
    "    hopping_matrix=hopping_matrix,\n",
    "    onsite_interaction=onsite_interaction\n",
    ")\n",
    "\n",
    "ham = FHM.hamiltonian()\n",
    "print(ham)"
   ],
   "outputs": [
    {
     "output_type": "stream",
     "name": "stdout",
     "text": [
      "  +_0 -_0 * (1+0j)\n",
      "+ +_0 -_2 * (-1+1j)\n",
      "+ -_0 +_2 * (1+1j)\n",
      "+ +_0 -_4 * (-5+5j)\n",
      "+ -_0 +_4 * (5+5j)\n",
      "+ +_2 -_2 * (2+0j)\n",
      "+ +_2 -_4 * (1+0j)\n",
      "+ -_2 +_4 * (-1+0j)\n",
      "+ +_4 -_4 * (2+0j)\n",
      "+ +_1 -_1 * (1+0j)\n",
      "+ +_1 -_3 * (-1+1j)\n",
      "+ -_1 +_3 * (1+1j)\n",
      "+ +_1 -_5 * (-5+5j)\n",
      "+ -_1 +_5 * (5+5j)\n",
      "+ +_3 -_3 * (2+0j)\n",
      "+ +_3 -_5 * (1+0j)\n",
      "+ -_3 +_5 * (-1+0j)\n",
      "+ +_5 -_5 * (2+0j)\n",
      "+ +_0 -_0 +_1 -_1 * (2+0j)\n",
      "+ +_2 -_2 +_3 -_3 * (2+0j)\n",
      "+ +_4 -_4 +_5 -_5 * (2+0j)\n"
     ]
    }
=======
    "## **Operator expression**"
>>>>>>> 8cd6705 (update)
=======
    "## **Fermi-Hubbard model**"
>>>>>>> a2a00fb (add files and edit them)
   ],
   "metadata": {}
  },
  {

   "cell_type": "code",
   "execution_count": 20,
   "source": [

    "FHM.hopping_matrix()"
=======
    "onsite_interaction = 2.0\n",
    "FHM = FermiHubbard(\n",
    "    lattice=general_lattice,\n",
    "    onsite_interaction=onsite_interaction\n",
    ")\n",
    "\n",
<<<<<<< HEAD
    "FHM.hamiltonian()"
>>>>>>> 580bca3 (update)
   ],
   "outputs": [
    {
     "output_type": "execute_result",
     "data": {
      "text/plain": [
       "array([[ 1.+0.j, -1.+1.j, -5.+5.j],\n",
       "       [-1.-1.j,  2.+0.j,  1.+0.j],\n",
       "       [-5.-5.j,  1.+0.j,  2.+0.j]])"
      ]
     },
     "metadata": {},
     "execution_count": 20
    }
    "ham = FHM.hamiltonian()\n",
    "ham.set_label_display_mode(\"sparse\")\n",
    "print(ham)"
   ],
   "outputs": [
    {
     "output_type": "stream",
     "name": "stdout",
     "text": [
      "  +_0 -_2 * (-1+0j)\n",
      "+ -_0 +_2 * (1+0j)\n",
      "+ +_0 -_4 * (-1+0j)\n",
      "+ -_0 +_4 * (1+0j)\n",
      "+ +_4 -_6 * (2+0j)\n",
      "+ -_4 +_6 * (-2+0j)\n",
      "+ +_4 -_8 * (-1+0j)\n",
      "+ -_4 +_8 * (1+0j)\n",
      "+ +_8 -_8 * (3+0j)\n",
      "+ +_4 -_10 * (-1+0j)\n",
      "+ -_4 +_10 * (1+0j)\n",
      "+ +_1 -_3 * (-1+0j)\n",
      "+ -_1 +_3 * (1+0j)\n",
      "+ +_1 -_5 * (-1+0j)\n",
      "+ -_1 +_5 * (1+0j)\n",
      "+ +_5 -_7 * (2+0j)\n",
      "+ -_5 +_7 * (-2+0j)\n",
      "+ +_5 -_9 * (-1+0j)\n",
      "+ -_5 +_9 * (1+0j)\n",
      "+ +_9 -_9 * (3+0j)\n",
      "+ +_5 -_11 * (-1+0j)\n",
      "+ -_5 +_11 * (1+0j)\n",
      "+ +_0 -_0 +_1 -_1 * (2+0j)\n",
      "+ +_2 -_2 +_3 -_3 * (2+0j)\n",
      "+ +_4 -_4 +_5 -_5 * (2+0j)\n",
      "+ +_6 -_6 +_7 -_7 * (2+0j)\n",
      "+ +_8 -_8 +_9 -_9 * (2+0j)\n",
      "+ +_10 -_10 +_11 -_11 * (2+0j)\n"
     ]
>>>>>>> eeb6d30 (minor change)
    }
>>>>>>> a2a00fb (add files and edit them)
   ],
   "metadata": {}
  },
  {
   "cell_type": "code",
   "execution_count": 6,
   "source": [
    "FHM.hopping_matrix()"
   ],
   "outputs": [
    {
     "output_type": "execute_result",
     "data": {
      "text/plain": [
       "array([[ 0.+0.j, -1.+0.j, -1.+0.j,  0.+0.j,  0.+0.j,  0.+0.j],\n",
       "       [-1.+0.j,  0.+0.j,  0.+0.j,  0.+0.j,  0.+0.j,  0.+0.j],\n",
       "       [-1.+0.j,  0.+0.j,  0.+0.j,  2.+0.j, -1.+0.j, -1.+0.j],\n",
       "       [ 0.+0.j,  0.+0.j,  2.+0.j,  0.+0.j,  0.+0.j,  0.+0.j],\n",
       "       [ 0.+0.j,  0.+0.j, -1.+0.j,  0.+0.j,  3.+0.j,  0.+0.j],\n",
       "       [ 0.+0.j,  0.+0.j, -1.+0.j,  0.+0.j,  0.+0.j,  0.+0.j]])"
      ]
     },
     "metadata": {},
     "execution_count": 6
    }
   ],
   "metadata": {}
  },
  {
   "cell_type": "markdown",
   "source": [

    "# **One-dimensional case (periodic boundary condition)**"
=======
    "# **One-dimensional case(open boundary condition)**"
>>>>>>> 580bca3 (update)
   ],
   "metadata": {}
  },
  {
   "cell_type": "code",


   "execution_count": 11,
=======
   "execution_count": 6,
>>>>>>> 7c27813 (update)
=======
   "execution_count": 7,
>>>>>>> eeb6d30 (minor change)
   "source": [
    "lattice_points = 4\n",
    "t = -1.0\n",
    "onsite_potential = 1.0\n",
    "one_dim_lattice = lattice.LineLattice(\n",
    "    num_nodes=lattice_points,\n",
    "    edge_parameter=t,\n",
    "    onsite_parameter=onsite_potential,\n",
    "    boundary_condition=\"periodic\"\n",
    ")"
   ],
   "outputs": [],
   "metadata": {}
  },
  {
   "cell_type": "markdown",
   "source": [
    "## **visualization**"
   ],
   "metadata": {}
  },
  {
   "cell_type": "code",


   "execution_count": 12,
=======
   "execution_count": 7,
>>>>>>> 7c27813 (update)
=======
   "execution_count": 8,
>>>>>>> eeb6d30 (minor change)
   "source": [
    "pos = {0:[0, 0], 1:[1, 0], 2:[2, 0], 3:[3, 0]}\n",
    "one_dim_lattice.draw(pos=pos, with_labels=True)"
   ],
   "outputs": [
    {
     "output_type": "display_data",
     "data": {
      "text/plain": [
       "<Figure size 432x288 with 1 Axes>"
      ],


      "image/png": "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"
=======
      "image/png": "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"
>>>>>>> 7c27813 (update)
=======
      "image/png": "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"
>>>>>>> eeb6d30 (minor change)
     },
     "metadata": {}
    }
   ],
   "metadata": {}
  },
  {
   "cell_type": "markdown",
   "source": [
    "## **Fermi-Hubbard model**"
   ],
   "metadata": {}
  },
  {
   "cell_type": "code",


   "execution_count": 13,
   "source": [
    "FHM = FermiHubbard(\n",
    "    one_dim_lattice,\n",
    "    onsite_interaction\n",
    ")\n",
    "\n",
    "FHM.hamiltonian()"
   ],
   "outputs": [
    {
     "output_type": "execute_result",
     "data": {
      "text/plain": [
       "FermionicOp([('+_0 -_2', (-1+0j)), ('-_0 +_2', (1+0j)), ('+_2 -_4', (-1+0j)), ('-_2 +_4', (1+0j)), ('+_4 -_6', (-1+0j)), ('-_4 +_6', (1+0j)), ('+_0 -_6', (-1+0j)), ('-_0 +_6', (1+0j)), ('+_0 -_0', (1+0j)), ('+_2 -_2', (1+0j)), ('+_4 -_4', (1+0j)), ('+_6 -_6', (1+0j)), ('+_1 -_3', (-1+0j)), ('-_1 +_3', (1+0j)), ('+_3 -_5', (-1+0j)), ('-_3 +_5', (1+0j)), ('+_5 -_7', (-1+0j)), ('-_5 +_7', (1+0j)), ('+_1 -_7', (-1+0j)), ('-_1 +_7', (1+0j)), ('+_1 -_1', (1+0j)), ('+_3 -_3', (1+0j)), ('+_5 -_5', (1+0j)), ('+_7 -_7', (1+0j)), ('+_0 -_0 +_1 -_1', (5+0j)), ('+_2 -_2 +_3 -_3', (5+0j)), ('+_4 -_4 +_5 -_5', (5+0j)), ('+_6 -_6 +_7 -_7', (5+0j))], register_length=8)"
      ]
     },
     "metadata": {},
     "execution_count": 13
    }
   ],
   "metadata": {}
  },
  {
   "cell_type": "code",
   "execution_count": 14,
   "source": [
    "FHM.hopping_matrix()"
=======
   "execution_count": 9,
>>>>>>> eeb6d30 (minor change)
   "source": [
    "onsite_interaction = 5.0\n",
    "FHM = FermiHubbard(\n",
    "    one_dim_lattice,\n",
    "    onsite_interaction\n",
    ")\n",
    "FHM.hamiltonian()"
>>>>>>> 580bca3 (update)
   ],
   "outputs": [
    {
     "output_type": "execute_result",
     "data": {
      "text/plain": [

       "array([[ 1.+0.j, -1.+0.j,  0.+0.j, -1.+0.j],\n",
       "       [-1.+0.j,  1.+0.j, -1.+0.j,  0.+0.j],\n",
       "       [ 0.+0.j, -1.+0.j,  1.+0.j, -1.+0.j],\n",
       "       [-1.+0.j,  0.+0.j, -1.+0.j,  1.+0.j]])"
      ]
     },
     "metadata": {},
     "execution_count": 14
      ]
     },
     "metadata": {},
<<<<<<< HEAD

     "execution_count": 16
>>>>>>> 580bca3 (update)
    }
   ],
   "metadata": {}
  },
  {

   "cell_type": "markdown",
   "source": [
    "# **Square lattice**"
   ],
   "metadata": {}
  },
  {
   "cell_type": "code",
   "execution_count": 15,
   "source": [
    "rows = 5\n",
    "cols = 3\n",
    "square = lattice.SquareLattice(\n",
    "    rows=rows,\n",
    "    cols=cols,\n",
    "    edge_parameter=(1.0, -1.0),\n",
    "    boundary_condition=\"open\"\n",
    ")"
   ],
   "outputs": [],
   "metadata": {}
  },
  {
   "cell_type": "code",
   "execution_count": 16,
   "source": [
    "def indextocoord(index:int, size:list) -> list:\n",
    "    x = index % rows\n",
    "    y = index // rows\n",
    "    return [x, y]\n",
    "pos = dict([(index, indextocoord(index, [rows, cols])) for index in range(np.prod([rows, cols]))])\n",
    "square.draw(pos=pos, with_labels=True)"
   ],
   "outputs": [
    {
     "output_type": "display_data",
     "data": {
      "text/plain": [
       "<Figure size 432x288 with 1 Axes>"
      ],
      "image/png": "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"
     },
     "metadata": {}
=======
     "execution_count": 8
>>>>>>> 7c27813 (update)
=======
     "execution_count": 9
>>>>>>> eeb6d30 (minor change)
    }
   ],
   "metadata": {}
  },
  {
   "cell_type": "code",
   "execution_count": 10,
   "source": [
    "onsite_interaction = 2.0\n",
    "FHM = FermiHubbard(\n",
    "    lattice=square,\n",
    "    onsite_interaction=onsite_interaction\n",
    ")\n",
    "FHM.hamiltonian()"
=======
   "cell_type": "code",
   "execution_count": 17,
   "source": [
    "FHM.hopping_matrix()"
>>>>>>> 580bca3 (update)
   ],
   "outputs": [
    {
     "output_type": "execute_result",
     "data": {
      "text/plain": [

       "FermionicOp([('+_0 -_2', (1+0j)), ('-_0 +_2', (-1+0j)), ('+_0 -_10', (-1+0j)), ('-_0 +_10', (1+0j)), ('+_0 -_0', 0j), ('+_10 -_12', (1+0j)), ('-_10 +_12', (-1+0j)), ('+_10 -_20', (-1+0j)), ('-_10 +_20', (1+0j)), ('+_10 -_10', 0j), ('+_2 -_4', (1+0j)), ('-_2 +_4', (-1+0j)), ('+_2 -_12', (-1+0j)), ('-_2 +_12', (1+0j)), ('+_2 -_2', 0j), ('+_12 -_14', (1+0j)), ('-_12 +_14', (-1+0j)), ('+_12 -_22', (-1+0j)), ('-_12 +_22', (1+0j)), ('+_12 -_12', 0j), ('+_4 -_6', (1+0j)), ('-_4 +_6', (-1+0j)), ('+_4 -_14', (-1+0j)), ('-_4 +_14', (1+0j)), ('+_4 -_4', 0j), ('+_14 -_16', (1+0j)), ('-_14 +_16', (-1+0j)), ('+_14 -_24', (-1+0j)), ('-_14 +_24', (1+0j)), ('+_14 -_14', 0j), ('+_6 -_8', (1+0j)), ('-_6 +_8', (-1+0j)), ('+_6 -_16', (-1+0j)), ('-_6 +_16', (1+0j)), ('+_6 -_6', 0j), ('+_16 -_18', (1+0j)), ('-_16 +_18', (-1+0j)), ('+_16 -_26', (-1+0j)), ('-_16 +_26', (1+0j)), ('+_16 -_16', 0j), ('+_20 -_22', (1+0j)), ('-_20 +_22', (-1+0j)), ('+_20 -_20', 0j), ('+_22 -_24', (1+0j)), ('-_22 +_24', (-1+0j)), ('+_22 -_22', 0j), ('+_24 -_26', (1+0j)), ('-_24 +_26', (-1+0j)), ('+_24 -_24', 0j), ('+_26 -_28', (1+0j)), ('-_26 +_28', (-1+0j)), ('+_26 -_26', 0j), ('+_8 -_18', (-1+0j)), ('-_8 +_18', (1+0j)), ('+_8 -_8', 0j), ('+_18 -_28', (-1+0j)), ('-_18 +_28', (1+0j)), ('+_18 -_18', 0j), ('+_28 -_28', 0j), ('+_1 -_3', (1+0j)), ('-_1 +_3', (-1+0j)), ('+_1 -_11', (-1+0j)), ('-_1 +_11', (1+0j)), ('+_1 -_1', 0j), ('+_11 -_13', (1+0j)), ('-_11 +_13', (-1+0j)), ('+_11 -_21', (-1+0j)), ('-_11 +_21', (1+0j)), ('+_11 -_11', 0j), ('+_3 -_5', (1+0j)), ('-_3 +_5', (-1+0j)), ('+_3 -_13', (-1+0j)), ('-_3 +_13', (1+0j)), ('+_3 -_3', 0j), ('+_13 -_15', (1+0j)), ('-_13 +_15', (-1+0j)), ('+_13 -_23', (-1+0j)), ('-_13 +_23', (1+0j)), ('+_13 -_13', 0j), ('+_5 -_7', (1+0j)), ('-_5 +_7', (-1+0j)), ('+_5 -_15', (-1+0j)), ('-_5 +_15', (1+0j)), ('+_5 -_5', 0j), ('+_15 -_17', (1+0j)), ('-_15 +_17', (-1+0j)), ('+_15 -_25', (-1+0j)), ('-_15 +_25', (1+0j)), ('+_15 -_15', 0j), ('+_7 -_9', (1+0j)), ('-_7 +_9', (-1+0j)), ('+_7 -_17', (-1+0j)), ('-_7 +_17', (1+0j)), ('+_7 -_7', 0j), ('+_17 -_19', (1+0j)), ('-_17 +_19', (-1+0j)), ('+_17 -_27', (-1+0j)), ('-_17 +_27', (1+0j)), ('+_17 -_17', 0j), ('+_21 -_23', (1+0j)), ('-_21 +_23', (-1+0j)), ('+_21 -_21', 0j), ('+_23 -_25', (1+0j)), ('-_23 +_25', (-1+0j)), ('+_23 -_23', 0j), ('+_25 -_27', (1+0j)), ('-_25 +_27', (-1+0j)), ('+_25 -_25', 0j), ('+_27 -_29', (1+0j)), ('-_27 +_29', (-1+0j)), ('+_27 -_27', 0j), ('+_9 -_19', (-1+0j)), ('-_9 +_19', (1+0j)), ('+_9 -_9', 0j), ('+_19 -_29', (-1+0j)), ('-_19 +_29', (1+0j)), ('+_19 -_19', 0j), ('+_29 -_29', 0j), ('+_0 -_0 +_1 -_1', (2+0j)), ('+_2 -_2 +_3 -_3', (2+0j)), ('+_4 -_4 +_5 -_5', (2+0j)), ('+_6 -_6 +_7 -_7', (2+0j)), ('+_8 -_8 +_9 -_9', (2+0j)), ('+_10 -_10 +_11 -_11', (2+0j)), ('+_12 -_12 +_13 -_13', (2+0j)), ('+_14 -_14 +_15 -_15', (2+0j)), ('+_16 -_16 +_17 -_17', (2+0j)), ('+_18 -_18 +_19 -_19', (2+0j)), ('+_20 -_20 +_21 -_21', (2+0j)), ('+_22 -_22 +_23 -_23', (2+0j)), ('+_24 -_24 +_25 -_25', (2+0j)), ('+_26 -_26 +_27 -_27', (2+0j)), ('+_28 -_28 +_29 -_29', (2+0j))], register_length=30)"
=======
       "array([[ 1.+0.j, -1.+0.j,  0.+0.j,  0.+0.j],\n",
       "       [-1.+0.j,  1.+0.j, -1.+0.j,  0.+0.j],\n",
       "       [ 0.+0.j, -1.+0.j,  1.+0.j, -1.+0.j],\n",
       "       [ 0.+0.j,  0.+0.j, -1.+0.j,  1.+0.j]])"
>>>>>>> 580bca3 (update)
      ]
     },
     "metadata": {},
     "execution_count": 10
    }
   ],
   "metadata": {}
  },
  {
   "cell_type": "code",
   "execution_count": 18,
   "source": [

    "FHM.hopping_matrix()"
   ],
   "outputs": [
    {
     "output_type": "execute_result",
     "data": {
      "text/plain": [
       "array([[ 0.+0.j,  1.+0.j,  0.+0.j,  0.+0.j,  0.+0.j, -1.+0.j,  0.+0.j,\n",
       "         0.+0.j,  0.+0.j,  0.+0.j,  0.+0.j,  0.+0.j,  0.+0.j,  0.+0.j,\n",
       "         0.+0.j],\n",
       "       [ 1.+0.j,  0.+0.j,  1.+0.j,  0.+0.j,  0.+0.j,  0.+0.j, -1.+0.j,\n",
       "         0.+0.j,  0.+0.j,  0.+0.j,  0.+0.j,  0.+0.j,  0.+0.j,  0.+0.j,\n",
       "         0.+0.j],\n",
       "       [ 0.+0.j,  1.+0.j,  0.+0.j,  1.+0.j,  0.+0.j,  0.+0.j,  0.+0.j,\n",
       "        -1.+0.j,  0.+0.j,  0.+0.j,  0.+0.j,  0.+0.j,  0.+0.j,  0.+0.j,\n",
       "         0.+0.j],\n",
       "       [ 0.+0.j,  0.+0.j,  1.+0.j,  0.+0.j,  1.+0.j,  0.+0.j,  0.+0.j,\n",
       "         0.+0.j, -1.+0.j,  0.+0.j,  0.+0.j,  0.+0.j,  0.+0.j,  0.+0.j,\n",
       "         0.+0.j],\n",
       "       [ 0.+0.j,  0.+0.j,  0.+0.j,  1.+0.j,  0.+0.j,  0.+0.j,  0.+0.j,\n",
       "         0.+0.j,  0.+0.j, -1.+0.j,  0.+0.j,  0.+0.j,  0.+0.j,  0.+0.j,\n",
       "         0.+0.j],\n",
       "       [-1.+0.j,  0.+0.j,  0.+0.j,  0.+0.j,  0.+0.j,  0.+0.j,  1.+0.j,\n",
       "         0.+0.j,  0.+0.j,  0.+0.j, -1.+0.j,  0.+0.j,  0.+0.j,  0.+0.j,\n",
       "         0.+0.j],\n",
       "       [ 0.+0.j, -1.+0.j,  0.+0.j,  0.+0.j,  0.+0.j,  1.+0.j,  0.+0.j,\n",
       "         1.+0.j,  0.+0.j,  0.+0.j,  0.+0.j, -1.+0.j,  0.+0.j,  0.+0.j,\n",
       "         0.+0.j],\n",
       "       [ 0.+0.j,  0.+0.j, -1.+0.j,  0.+0.j,  0.+0.j,  0.+0.j,  1.+0.j,\n",
       "         0.+0.j,  1.+0.j,  0.+0.j,  0.+0.j,  0.+0.j, -1.+0.j,  0.+0.j,\n",
       "         0.+0.j],\n",
       "       [ 0.+0.j,  0.+0.j,  0.+0.j, -1.+0.j,  0.+0.j,  0.+0.j,  0.+0.j,\n",
       "         1.+0.j,  0.+0.j,  1.+0.j,  0.+0.j,  0.+0.j,  0.+0.j, -1.+0.j,\n",
       "         0.+0.j],\n",
       "       [ 0.+0.j,  0.+0.j,  0.+0.j,  0.+0.j, -1.+0.j,  0.+0.j,  0.+0.j,\n",
       "         0.+0.j,  1.+0.j,  0.+0.j,  0.+0.j,  0.+0.j,  0.+0.j,  0.+0.j,\n",
       "        -1.+0.j],\n",
       "       [ 0.+0.j,  0.+0.j,  0.+0.j,  0.+0.j,  0.+0.j, -1.+0.j,  0.+0.j,\n",
       "         0.+0.j,  0.+0.j,  0.+0.j,  0.+0.j,  1.+0.j,  0.+0.j,  0.+0.j,\n",
       "         0.+0.j],\n",
       "       [ 0.+0.j,  0.+0.j,  0.+0.j,  0.+0.j,  0.+0.j,  0.+0.j, -1.+0.j,\n",
       "         0.+0.j,  0.+0.j,  0.+0.j,  1.+0.j,  0.+0.j,  1.+0.j,  0.+0.j,\n",
       "         0.+0.j],\n",
       "       [ 0.+0.j,  0.+0.j,  0.+0.j,  0.+0.j,  0.+0.j,  0.+0.j,  0.+0.j,\n",
       "        -1.+0.j,  0.+0.j,  0.+0.j,  0.+0.j,  1.+0.j,  0.+0.j,  1.+0.j,\n",
       "         0.+0.j],\n",
       "       [ 0.+0.j,  0.+0.j,  0.+0.j,  0.+0.j,  0.+0.j,  0.+0.j,  0.+0.j,\n",
       "         0.+0.j, -1.+0.j,  0.+0.j,  0.+0.j,  0.+0.j,  1.+0.j,  0.+0.j,\n",
       "         1.+0.j],\n",
       "       [ 0.+0.j,  0.+0.j,  0.+0.j,  0.+0.j,  0.+0.j,  0.+0.j,  0.+0.j,\n",
       "         0.+0.j,  0.+0.j, -1.+0.j,  0.+0.j,  0.+0.j,  0.+0.j,  1.+0.j,\n",
       "         0.+0.j]])"
      ]
     },
     "metadata": {},
     "execution_count": 18
    }
=======
    "## **Operator expression**"
>>>>>>> 580bca3 (update)
   ],
   "metadata": {}
  },
  {
   "cell_type": "markdown",
   "source": [
    "# **The FHM from parameters(hopping matrix and on-site interaction)**"
   ],
   "metadata": {}
  },
  {
   "cell_type": "code",
   "execution_count": 19,
   "source": [
    "hopping_matrix = np.array([\n",
    "    [1. , -1. + 1.j, -5.+5.j], \n",
    "    [-1.-1.j, 2., 1.], \n",
    "    [-5.-5.j, 1., 2.]\n",
    "])\n",
    "\n",
    "onsite_interaction = 2.0\n",
    "\n",
    "FHM = FermiHubbard.from_parameters(\n",
    "    hopping_matrix=hopping_matrix,\n",
    "    onsite_interaction=onsite_interaction\n",
    ")\n",
    "\n",
    "ham = FHM.hamiltonian()\n",
    "print(ham)"
   ],
   "outputs": [
    {
     "output_type": "stream",
     "name": "stdout",
     "text": [
      "  +_0 -_0 * (1+0j)\n",
      "+ +_0 -_2 * (-1+1j)\n",
      "+ -_0 +_2 * (1+1j)\n",
      "+ +_0 -_4 * (-5+5j)\n",
      "+ -_0 +_4 * (5+5j)\n",
      "+ +_2 -_2 * (2+0j)\n",
      "+ +_2 -_4 * (1+0j)\n",
      "+ -_2 +_4 * (-1+0j)\n",
      "+ +_4 -_4 * (2+0j)\n",
      "+ +_1 -_1 * (1+0j)\n",
      "+ +_1 -_3 * (-1+1j)\n",
      "+ -_1 +_3 * (1+1j)\n",
      "+ +_1 -_5 * (-5+5j)\n",
      "+ -_1 +_5 * (5+5j)\n",
      "+ +_3 -_3 * (2+0j)\n",
      "+ +_3 -_5 * (1+0j)\n",
      "+ -_3 +_5 * (-1+0j)\n",
      "+ +_5 -_5 * (2+0j)\n",
      "+ +_0 -_0 +_1 -_1 * (2+0j)\n",
      "+ +_2 -_2 +_3 -_3 * (2+0j)\n",
      "+ +_4 -_4 +_5 -_5 * (2+0j)\n"
     ]
    }
   ],
   "metadata": {}
  },
  {
   "cell_type": "code",
   "execution_count": 20,
   "source": [
    "FHM.hopping_matrix()"
   ],
   "outputs": [
    {
     "output_type": "execute_result",
     "data": {
      "text/plain": [
       "array([[ 1.+0.j, -1.+1.j, -5.+5.j],\n",
       "       [-1.-1.j,  2.+0.j,  1.+0.j],\n",
       "       [-5.-5.j,  1.+0.j,  2.+0.j]])"
      ]
     },
     "metadata": {},
     "execution_count": 20
    }
   ],
   "metadata": {}
  },
  {
   "cell_type": "markdown",
   "source": [
    "# **One-dimensional case (periodic boundary condition)**"
   ],
   "metadata": {}
  },
  {
   "cell_type": "code",
   "execution_count": 11,
   "source": [
    "lattice_points = 4\n",
    "t = -1.0\n",
    "onsite_potential = 1.0\n",
    "one_dim_lattice = lattice.LineLattice(\n",
    "    num_nodes=lattice_points,\n",
    "    edge_parameter=t,\n",
    "    onsite_parameter=onsite_potential,\n",
    "    boundary_condition=\"periodic\"\n",
    ")"
   ],
   "outputs": [],
   "metadata": {}
  },
  {
   "cell_type": "markdown",
   "source": [
    "## **visualization**"
   ],
   "metadata": {}
  },
  {
   "cell_type": "code",
   "execution_count": 12,
   "source": [
    "one_dim_lattice.draw(with_labels=True)"
   ],
   "outputs": [
    {
     "output_type": "display_data",
     "data": {
      "text/plain": [
       "<Figure size 432x288 with 1 Axes>"
      ],
      "image/png": "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"
     },
     "metadata": {}
    }
   ],
   "metadata": {}
  },
  {
   "cell_type": "markdown",
   "source": [
    "## **Fermi-Hubbard model**"
   ],
   "metadata": {}
  },
  {
   "cell_type": "code",
   "execution_count": 13,
   "source": [
    "FHM = FermiHubbard(\n",
    "    one_dim_lattice,\n",
    "    onsite_interaction\n",
    ")\n",
    "\n",
    "FHM.hamiltonian()"
   ],
   "outputs": [
    {
     "output_type": "execute_result",
     "data": {
      "text/plain": [
       "FermionicOp([('+_0 -_2', (-1+0j)), ('-_0 +_2', (1+0j)), ('+_2 -_4', (-1+0j)), ('-_2 +_4', (1+0j)), ('+_4 -_6', (-1+0j)), ('-_4 +_6', (1+0j)), ('+_0 -_6', (-1+0j)), ('-_0 +_6', (1+0j)), ('+_0 -_0', (1+0j)), ('+_2 -_2', (1+0j)), ('+_4 -_4', (1+0j)), ('+_6 -_6', (1+0j)), ('+_1 -_3', (-1+0j)), ('-_1 +_3', (1+0j)), ('+_3 -_5', (-1+0j)), ('-_3 +_5', (1+0j)), ('+_5 -_7', (-1+0j)), ('-_5 +_7', (1+0j)), ('+_1 -_7', (-1+0j)), ('-_1 +_7', (1+0j)), ('+_1 -_1', (1+0j)), ('+_3 -_3', (1+0j)), ('+_5 -_5', (1+0j)), ('+_7 -_7', (1+0j)), ('+_0 -_0 +_1 -_1', (5+0j)), ('+_2 -_2 +_3 -_3', (5+0j)), ('+_4 -_4 +_5 -_5', (5+0j)), ('+_6 -_6 +_7 -_7', (5+0j))], register_length=8)"
      ]
     },
     "metadata": {},
     "execution_count": 13
    }
   ],
   "metadata": {}
  },
  {
   "cell_type": "code",
   "execution_count": 14,
   "source": [
    "FHM.hopping_matrix()"
   ],
   "outputs": [
    {
     "output_type": "execute_result",
     "data": {
      "text/plain": [
       "array([[ 1.+0.j, -1.+0.j,  0.+0.j, -1.+0.j],\n",
       "       [-1.+0.j,  1.+0.j, -1.+0.j,  0.+0.j],\n",
       "       [ 0.+0.j, -1.+0.j,  1.+0.j, -1.+0.j],\n",
       "       [-1.+0.j,  0.+0.j, -1.+0.j,  1.+0.j]])"
      ]
     },
     "metadata": {},
     "execution_count": 14
    }
   ],
   "metadata": {}
  },
  {
   "cell_type": "markdown",
   "source": [
    "# **Square lattice**"
   ],
   "metadata": {}
  },
  {
   "cell_type": "code",
   "execution_count": 15,
   "source": [
    "rows = 5\n",
    "cols = 3\n",
    "square = lattice.SquareLattice(\n",
    "    rows=rows,\n",
    "    cols=cols,\n",
    "    edge_parameter=(1.0, -1.0),\n",
    "    boundary_condition=\"open\"\n",
    ")"
   ],
   "outputs": [],
   "metadata": {}
  },
  {
   "cell_type": "code",
   "execution_count": 16,
   "source": [
    "def indextocoord(index:int, size:list) -> list:\n",
    "    x = index % rows\n",
    "    y = index // rows\n",
    "    return [x, y]\n",
    "pos = dict([(index, indextocoord(index, [rows, cols])) for index in range(np.prod([rows, cols]))])\n",
    "square.draw(pos=pos, with_labels=True)"
   ],
   "outputs": [
    {
     "output_type": "display_data",
     "data": {
      "text/plain": [
       "<Figure size 432x288 with 1 Axes>"
      ],
      "image/png": "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"
     },
     "metadata": {}
    }
   ],
   "metadata": {}
  },
  {
   "cell_type": "code",
   "execution_count": 17,
   "source": [
    "onsite_interaction = 2.0\n",
    "FHM = FermiHubbard(\n",
    "    lattice=square,\n",
    "    onsite_interaction=onsite_interaction\n",
    ")\n",
    "FHM.hamiltonian()"
   ],
   "outputs": [
    {
     "output_type": "execute_result",
     "data": {
      "text/plain": [
       "FermionicOp([('+_0 -_2', (1+0j)), ('-_0 +_2', (-1+0j)), ('+_0 -_10', (-1+0j)), ('-_0 +_10', (1+0j)), ('+_0 -_0', 0j), ('+_10 -_12', (1+0j)), ('-_10 +_12', (-1+0j)), ('+_10 -_20', (-1+0j)), ('-_10 +_20', (1+0j)), ('+_10 -_10', 0j), ('+_2 -_4', (1+0j)), ('-_2 +_4', (-1+0j)), ('+_2 -_12', (-1+0j)), ('-_2 +_12', (1+0j)), ('+_2 -_2', 0j), ('+_12 -_14', (1+0j)), ('-_12 +_14', (-1+0j)), ('+_12 -_22', (-1+0j)), ('-_12 +_22', (1+0j)), ('+_12 -_12', 0j), ('+_4 -_6', (1+0j)), ('-_4 +_6', (-1+0j)), ('+_4 -_14', (-1+0j)), ('-_4 +_14', (1+0j)), ('+_4 -_4', 0j), ('+_14 -_16', (1+0j)), ('-_14 +_16', (-1+0j)), ('+_14 -_24', (-1+0j)), ('-_14 +_24', (1+0j)), ('+_14 -_14', 0j), ('+_6 -_8', (1+0j)), ('-_6 +_8', (-1+0j)), ('+_6 -_16', (-1+0j)), ('-_6 +_16', (1+0j)), ('+_6 -_6', 0j), ('+_16 -_18', (1+0j)), ('-_16 +_18', (-1+0j)), ('+_16 -_26', (-1+0j)), ('-_16 +_26', (1+0j)), ('+_16 -_16', 0j), ('+_20 -_22', (1+0j)), ('-_20 +_22', (-1+0j)), ('+_20 -_20', 0j), ('+_22 -_24', (1+0j)), ('-_22 +_24', (-1+0j)), ('+_22 -_22', 0j), ('+_24 -_26', (1+0j)), ('-_24 +_26', (-1+0j)), ('+_24 -_24', 0j), ('+_26 -_28', (1+0j)), ('-_26 +_28', (-1+0j)), ('+_26 -_26', 0j), ('+_8 -_18', (-1+0j)), ('-_8 +_18', (1+0j)), ('+_8 -_8', 0j), ('+_18 -_28', (-1+0j)), ('-_18 +_28', (1+0j)), ('+_18 -_18', 0j), ('+_28 -_28', 0j), ('+_1 -_3', (1+0j)), ('-_1 +_3', (-1+0j)), ('+_1 -_11', (-1+0j)), ('-_1 +_11', (1+0j)), ('+_1 -_1', 0j), ('+_11 -_13', (1+0j)), ('-_11 +_13', (-1+0j)), ('+_11 -_21', (-1+0j)), ('-_11 +_21', (1+0j)), ('+_11 -_11', 0j), ('+_3 -_5', (1+0j)), ('-_3 +_5', (-1+0j)), ('+_3 -_13', (-1+0j)), ('-_3 +_13', (1+0j)), ('+_3 -_3', 0j), ('+_13 -_15', (1+0j)), ('-_13 +_15', (-1+0j)), ('+_13 -_23', (-1+0j)), ('-_13 +_23', (1+0j)), ('+_13 -_13', 0j), ('+_5 -_7', (1+0j)), ('-_5 +_7', (-1+0j)), ('+_5 -_15', (-1+0j)), ('-_5 +_15', (1+0j)), ('+_5 -_5', 0j), ('+_15 -_17', (1+0j)), ('-_15 +_17', (-1+0j)), ('+_15 -_25', (-1+0j)), ('-_15 +_25', (1+0j)), ('+_15 -_15', 0j), ('+_7 -_9', (1+0j)), ('-_7 +_9', (-1+0j)), ('+_7 -_17', (-1+0j)), ('-_7 +_17', (1+0j)), ('+_7 -_7', 0j), ('+_17 -_19', (1+0j)), ('-_17 +_19', (-1+0j)), ('+_17 -_27', (-1+0j)), ('-_17 +_27', (1+0j)), ('+_17 -_17', 0j), ('+_21 -_23', (1+0j)), ('-_21 +_23', (-1+0j)), ('+_21 -_21', 0j), ('+_23 -_25', (1+0j)), ('-_23 +_25', (-1+0j)), ('+_23 -_23', 0j), ('+_25 -_27', (1+0j)), ('-_25 +_27', (-1+0j)), ('+_25 -_25', 0j), ('+_27 -_29', (1+0j)), ('-_27 +_29', (-1+0j)), ('+_27 -_27', 0j), ('+_9 -_19', (-1+0j)), ('-_9 +_19', (1+0j)), ('+_9 -_9', 0j), ('+_19 -_29', (-1+0j)), ('-_19 +_29', (1+0j)), ('+_19 -_19', 0j), ('+_29 -_29', 0j), ('+_0 -_0 +_1 -_1', (2+0j)), ('+_2 -_2 +_3 -_3', (2+0j)), ('+_4 -_4 +_5 -_5', (2+0j)), ('+_6 -_6 +_7 -_7', (2+0j)), ('+_8 -_8 +_9 -_9', (2+0j)), ('+_10 -_10 +_11 -_11', (2+0j)), ('+_12 -_12 +_13 -_13', (2+0j)), ('+_14 -_14 +_15 -_15', (2+0j)), ('+_16 -_16 +_17 -_17', (2+0j)), ('+_18 -_18 +_19 -_19', (2+0j)), ('+_20 -_20 +_21 -_21', (2+0j)), ('+_22 -_22 +_23 -_23', (2+0j)), ('+_24 -_24 +_25 -_25', (2+0j)), ('+_26 -_26 +_27 -_27', (2+0j)), ('+_28 -_28 +_29 -_29', (2+0j))], register_length=30)"
      ]
     },
     "metadata": {},
     "execution_count": 17
    }
   ],
   "metadata": {}
  },
  {
   "cell_type": "code",
   "execution_count": 18,
   "source": [
    "FHM.hopping_matrix()"
   ],
   "outputs": [
    {
     "output_type": "execute_result",
     "data": {
      "text/plain": [
       "array([[ 0.+0.j,  1.+0.j,  0.+0.j,  0.+0.j,  0.+0.j, -1.+0.j,  0.+0.j,\n",
       "         0.+0.j,  0.+0.j,  0.+0.j,  0.+0.j,  0.+0.j,  0.+0.j,  0.+0.j,\n",
       "         0.+0.j],\n",
       "       [ 1.+0.j,  0.+0.j,  1.+0.j,  0.+0.j,  0.+0.j,  0.+0.j, -1.+0.j,\n",
       "         0.+0.j,  0.+0.j,  0.+0.j,  0.+0.j,  0.+0.j,  0.+0.j,  0.+0.j,\n",
       "         0.+0.j],\n",
       "       [ 0.+0.j,  1.+0.j,  0.+0.j,  1.+0.j,  0.+0.j,  0.+0.j,  0.+0.j,\n",
       "        -1.+0.j,  0.+0.j,  0.+0.j,  0.+0.j,  0.+0.j,  0.+0.j,  0.+0.j,\n",
       "         0.+0.j],\n",
       "       [ 0.+0.j,  0.+0.j,  1.+0.j,  0.+0.j,  1.+0.j,  0.+0.j,  0.+0.j,\n",
       "         0.+0.j, -1.+0.j,  0.+0.j,  0.+0.j,  0.+0.j,  0.+0.j,  0.+0.j,\n",
       "         0.+0.j],\n",
       "       [ 0.+0.j,  0.+0.j,  0.+0.j,  1.+0.j,  0.+0.j,  0.+0.j,  0.+0.j,\n",
       "         0.+0.j,  0.+0.j, -1.+0.j,  0.+0.j,  0.+0.j,  0.+0.j,  0.+0.j,\n",
       "         0.+0.j],\n",
       "       [-1.+0.j,  0.+0.j,  0.+0.j,  0.+0.j,  0.+0.j,  0.+0.j,  1.+0.j,\n",
       "         0.+0.j,  0.+0.j,  0.+0.j, -1.+0.j,  0.+0.j,  0.+0.j,  0.+0.j,\n",
       "         0.+0.j],\n",
       "       [ 0.+0.j, -1.+0.j,  0.+0.j,  0.+0.j,  0.+0.j,  1.+0.j,  0.+0.j,\n",
       "         1.+0.j,  0.+0.j,  0.+0.j,  0.+0.j, -1.+0.j,  0.+0.j,  0.+0.j,\n",
       "         0.+0.j],\n",
       "       [ 0.+0.j,  0.+0.j, -1.+0.j,  0.+0.j,  0.+0.j,  0.+0.j,  1.+0.j,\n",
       "         0.+0.j,  1.+0.j,  0.+0.j,  0.+0.j,  0.+0.j, -1.+0.j,  0.+0.j,\n",
       "         0.+0.j],\n",
       "       [ 0.+0.j,  0.+0.j,  0.+0.j, -1.+0.j,  0.+0.j,  0.+0.j,  0.+0.j,\n",
       "         1.+0.j,  0.+0.j,  1.+0.j,  0.+0.j,  0.+0.j,  0.+0.j, -1.+0.j,\n",
       "         0.+0.j],\n",
       "       [ 0.+0.j,  0.+0.j,  0.+0.j,  0.+0.j, -1.+0.j,  0.+0.j,  0.+0.j,\n",
       "         0.+0.j,  1.+0.j,  0.+0.j,  0.+0.j,  0.+0.j,  0.+0.j,  0.+0.j,\n",
       "        -1.+0.j],\n",
       "       [ 0.+0.j,  0.+0.j,  0.+0.j,  0.+0.j,  0.+0.j, -1.+0.j,  0.+0.j,\n",
       "         0.+0.j,  0.+0.j,  0.+0.j,  0.+0.j,  1.+0.j,  0.+0.j,  0.+0.j,\n",
       "         0.+0.j],\n",
       "       [ 0.+0.j,  0.+0.j,  0.+0.j,  0.+0.j,  0.+0.j,  0.+0.j, -1.+0.j,\n",
       "         0.+0.j,  0.+0.j,  0.+0.j,  1.+0.j,  0.+0.j,  1.+0.j,  0.+0.j,\n",
       "         0.+0.j],\n",
       "       [ 0.+0.j,  0.+0.j,  0.+0.j,  0.+0.j,  0.+0.j,  0.+0.j,  0.+0.j,\n",
       "        -1.+0.j,  0.+0.j,  0.+0.j,  0.+0.j,  1.+0.j,  0.+0.j,  1.+0.j,\n",
       "         0.+0.j],\n",
       "       [ 0.+0.j,  0.+0.j,  0.+0.j,  0.+0.j,  0.+0.j,  0.+0.j,  0.+0.j,\n",
       "         0.+0.j, -1.+0.j,  0.+0.j,  0.+0.j,  0.+0.j,  1.+0.j,  0.+0.j,\n",
       "         1.+0.j],\n",
       "       [ 0.+0.j,  0.+0.j,  0.+0.j,  0.+0.j,  0.+0.j,  0.+0.j,  0.+0.j,\n",
       "         0.+0.j,  0.+0.j, -1.+0.j,  0.+0.j,  0.+0.j,  0.+0.j,  1.+0.j,\n",
       "         0.+0.j]])"
      ]
     },
     "metadata": {},
     "execution_count": 18
    }
   ],
   "metadata": {}
  },
  {
   "cell_type": "markdown",
   "source": [
    "# **The FHM from parameters(hopping matrix and on-site interaction)**"
   ],
   "metadata": {}
  },
  {
   "cell_type": "code",
   "execution_count": 19,
   "source": [
    "hopping_matrix = np.array([\n",
    "    [1. , -1. + 1.j, -5.+5.j], \n",
    "    [-1.-1.j, 2., 1.], \n",
    "    [-5.-5.j, 1., 2.]\n",
    "])\n",
    "\n",
    "onsite_interaction = 2.0\n",
    "\n",
    "FHM = FermiHubbard.from_parameters(\n",
    "    hopping_matrix=hopping_matrix,\n",
    "    onsite_interaction=onsite_interaction\n",
    ")\n",
    "\n",
    "ham = FHM.hamiltonian()\n",
    "print(ham)"
   ],
   "outputs": [
    {
     "output_type": "stream",
     "name": "stdout",
     "text": [
      "  +_0 -_0 * (1+0j)\n",
      "+ +_0 -_2 * (-1+1j)\n",
      "+ -_0 +_2 * (1+1j)\n",
      "+ +_0 -_4 * (-5+5j)\n",
      "+ -_0 +_4 * (5+5j)\n",
      "+ +_2 -_2 * (2+0j)\n",
      "+ +_2 -_4 * (1+0j)\n",
      "+ -_2 +_4 * (-1+0j)\n",
      "+ +_4 -_4 * (2+0j)\n",
      "+ +_1 -_1 * (1+0j)\n",
      "+ +_1 -_3 * (-1+1j)\n",
      "+ -_1 +_3 * (1+1j)\n",
      "+ +_1 -_5 * (-5+5j)\n",
      "+ -_1 +_5 * (5+5j)\n",
      "+ +_3 -_3 * (2+0j)\n",
      "+ +_3 -_5 * (1+0j)\n",
      "+ -_3 +_5 * (-1+0j)\n",
      "+ +_5 -_5 * (2+0j)\n",
      "+ +_0 -_0 +_1 -_1 * (2+0j)\n",
      "+ +_2 -_2 +_3 -_3 * (2+0j)\n",
      "+ +_4 -_4 +_5 -_5 * (2+0j)\n"
     ]
    }
   ],
   "metadata": {}
  },
  {
   "cell_type": "code",
   "execution_count": 20,
   "source": [
    "FHM.hopping_matrix()"
   ],
   "outputs": [
    {
     "output_type": "execute_result",
     "data": {
      "text/plain": [
       "array([[ 1.+0.j, -1.+1.j, -5.+5.j],\n",
       "       [-1.-1.j,  2.+0.j,  1.+0.j],\n",
       "       [-5.-5.j,  1.+0.j,  2.+0.j]])"
      ]
     },
     "metadata": {},
     "execution_count": 20
    }
   ],
   "metadata": {}
  },
  {
   "cell_type": "code",
   "execution_count": null,
   "source": [],
   "outputs": [],
   "metadata": {}
  }
 ],
 "metadata": {


  "celltoolbar": "スライドショー",
  "interpreter": {
   "hash": "f098cfac84d7616a27900d8489bf4403ac10b050e20733a638db380d2a07a2de"
  },
  "kernelspec": {
   "display_name": "Python 3 (ipykernel)",
   "language": "python",
   "name": "python3"
=======
  "interpreter": {
   "hash": "f098cfac84d7616a27900d8489bf4403ac10b050e20733a638db380d2a07a2de"
  },
  "kernelspec": {
   "name": "python3",


   "display_name": "Python 3.9.6 64-bit ('3.9.6': pyenv)"
>>>>>>> 4d53371 (add files and edit them)
=======
   "display_name": "Python 3.9.6 64-bit ('.venv')"
>>>>>>> 540e228 (minor change)
=======
   "display_name": "Python 3.9.6 64-bit"
>>>>>>> 0d53e0c (minor change)
=======
  "interpreter": {
   "hash": "f098cfac84d7616a27900d8489bf4403ac10b050e20733a638db380d2a07a2de"
  },
  "kernelspec": {
   "name": "python3",
<<<<<<< HEAD
<<<<<<< HEAD
   "display_name": "Python 3.9.6 64-bit ('3.9.6': pyenv)"
>>>>>>> a2a00fb (add files and edit them)
=======
   "display_name": "Python 3.9.6 64-bit ('.venv')"
>>>>>>> eeb6d30 (minor change)
=======
   "display_name": "Python 3.9.6 64-bit"
>>>>>>> dba00ce (minor change)
  },
  "language_info": {
   "codemirror_mode": {
    "name": "ipython",
    "version": 3
   },
   "file_extension": ".py",
   "mimetype": "text/x-python",
   "name": "python",
   "nbconvert_exporter": "python",
   "pygments_lexer": "ipython3",
   "version": "3.9.6"
  }
 },
 "nbformat": 4,
 "nbformat_minor": 2
}