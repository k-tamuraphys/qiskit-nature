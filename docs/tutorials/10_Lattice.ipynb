{
 "cells": [
  {
   "cell_type": "markdown",
   "metadata": {},
   "source": [
    "# Lattice"
   ]
  },
  {
   "cell_type": "markdown",
   "metadata": {},
   "source": [
    "## Introduction\n",
    "In quantum physics including condensed matter physics, high energy physics, we often study models on lattices. \n",
    "For example, when we think about behavior of electrons in a solid, we can study a model defined on a lattice by considering the positions of atoms as lattice points.\n",
    "This notebook demonstrates how we can utilize `Lattice` classes to generate various lattice systems such as `LineLattice`, `SquareLattice`, `HyperCubicLattice`, `TriangularLattice`, and a general lattice. \n",
    "It also includes an example of a lattice model, the Fermi-Hubbard model. \n",
    "We see how we can define the Hamiltonian of the Fermi-Hubbard model for a given lattice using `FermiHubbardModel` class. "
   ]
  },
  {
   "cell_type": "code",
   "execution_count": 1,
   "metadata": {},
   "outputs": [],
   "source": [
    "from qiskit_nature.problems.second_quantization.lattice import DrawStyle, Lattice, LineLattice, SquareLattice, TriangularLattice, HyperCubicLattice\n",
    "from qiskit_nature.problems.second_quantization.lattice import FermiHubbardModel\n",
    "import retworkx as rx\n",
    "import numpy as np\n",
    "from math import pi"
   ]
  },
  {
   "cell_type": "markdown",
   "metadata": {},
   "source": [
    "## LineLattice\n",
    "`LineLattice` provides a one-dimansional lattice.\n",
    "We can construct a one-dimensional lattice as follows."
   ]
  },
  {
   "cell_type": "code",
   "execution_count": 2,
   "metadata": {},
   "outputs": [],
   "source": [
    "num_nodes = 11\n",
    "boundary_condition = \"open\"\n",
    "line_lattice = LineLattice(\n",
    "    num_nodes=num_nodes,\n",
    "    boundary_condition=boundary_condition\n",
    ")"
   ]
  },
  {
   "cell_type": "markdown",
   "metadata": {},
   "source": [
    "Here, it is visualised."
   ]
  },
  {
   "cell_type": "code",
   "execution_count": 3,
   "metadata": {},
   "outputs": [
    {
     "data": {
      "image/png": "[encoded data removed]",
      "text/plain": [
       "<Figure size 432x288 with 1 Axes>"
      ]
     },
     "metadata": {},
     "output_type": "display_data"
    }
   ],
   "source": [
    "line_lattice.draw()"
   ]
  },
  {
   "cell_type": "markdown",
   "metadata": {},
   "source": [
    "We can also construct a one-dimensional lattice with the periodic boundary conditions by specifying \"periodic\" as the argument of `boundary_condition`."
   ]
  },
  {
   "cell_type": "code",
   "execution_count": 4,
   "metadata": {},
   "outputs": [
    {
     "data": {
      "image/png": "[encoded data removed]",
      "text/plain": [
       "<Figure size 432x288 with 1 Axes>"
      ]
     },
     "metadata": {},
     "output_type": "display_data"
    }
   ],
   "source": [
    "num_nodes = 11\n",
    "boundary_condition = \"periodic\"\n",
    "line_lattice = LineLattice(\n",
    "    num_nodes=num_nodes,\n",
    "    boundary_condition=boundary_condition\n",
    ")\n",
    "\n",
    "line_lattice.draw()"
   ]
  },
  {
   "cell_type": "markdown",
   "metadata": {},
   "source": [
    "When we want to draw the lattice ignoring the boundary conditions, we use the method `draw_without_boundary`."
   ]
  },
  {
   "cell_type": "code",
   "execution_count": 5,
   "metadata": {},
   "outputs": [
    {
     "data": {
      "image/png": "[encoded data removed]",
      "text/plain": [
       "<Figure size 432x288 with 1 Axes>"
      ]
     },
     "metadata": {},
     "output_type": "display_data"
    }
   ],
   "source": [
    "line_lattice.draw_without_boundary()"
   ]
  },
  {
   "cell_type": "markdown",
   "metadata": {},
   "source": [
    "We can define real or complex weights for the edges of the lattice.\n",
    "This is done by giving a value to the argument `edge_parameter`.\n",
    "We can also give a value for the self-loops of the lattice by passing the value for `onsite_parameter`."
   ]
  },
  {
   "cell_type": "code",
   "execution_count": 6,
   "metadata": {},
   "outputs": [
    {
     "data": {
      "text/plain": [
       "{(0, 0, 1.0),\n",
       " (0, 1, (1+1j)),\n",
       " (0, 10, (1-1j)),\n",
       " (1, 1, 1.0),\n",
       " (1, 2, (1+1j)),\n",
       " (2, 2, 1.0),\n",
       " (2, 3, (1+1j)),\n",
       " (3, 3, 1.0),\n",
       " (3, 4, (1+1j)),\n",
       " (4, 4, 1.0),\n",
       " (4, 5, (1+1j)),\n",
       " (5, 5, 1.0),\n",
       " (5, 6, (1+1j)),\n",
       " (6, 6, 1.0),\n",
       " (6, 7, (1+1j)),\n",
       " (7, 7, 1.0),\n",
       " (7, 8, (1+1j)),\n",
       " (8, 8, 1.0),\n",
       " (8, 9, (1+1j)),\n",
       " (9, 9, 1.0),\n",
       " (9, 10, (1+1j)),\n",
       " (10, 10, 1.0)}"
      ]
     },
     "execution_count": 6,
     "metadata": {},
     "output_type": "execute_result"
    }
   ],
   "source": [
    "num_nodes = 11\n",
    "boundary_condition = \"periodic\"\n",
    "edge_parameter = 1.0 + 1.0j\n",
    "onsite_parameter = 1.0\n",
    "line_lattice = LineLattice(\n",
    "    num_nodes=num_nodes,\n",
    "    edge_parameter=edge_parameter, \n",
    "    onsite_parameter=onsite_parameter, \n",
    "    boundary_condition=boundary_condition\n",
    ")\n",
    "set(line_lattice.graph.weighted_edge_list())"
   ]
  },
  {
   "cell_type": "markdown",
   "metadata": {},
   "source": [
    "The connectivity of the lattice can be seen as the adjacency matrix, which is done by `to_adjacency_matrix`."
   ]
  },
  {
   "cell_type": "code",
   "execution_count": 7,
   "metadata": {},
   "outputs": [
    {
     "data": {
      "text/plain": [
       "array([[1., 1., 0., 0., 0., 0., 0., 0., 0., 0., 1.],\n",
       "       [1., 1., 1., 0., 0., 0., 0., 0., 0., 0., 0.],\n",
       "       [0., 1., 1., 1., 0., 0., 0., 0., 0., 0., 0.],\n",
       "       [0., 0., 1., 1., 1., 0., 0., 0., 0., 0., 0.],\n",
       "       [0., 0., 0., 1., 1., 1., 0., 0., 0., 0., 0.],\n",
       "       [0., 0., 0., 0., 1., 1., 1., 0., 0., 0., 0.],\n",
       "       [0., 0., 0., 0., 0., 1., 1., 1., 0., 0., 0.],\n",
       "       [0., 0., 0., 0., 0., 0., 1., 1., 1., 0., 0.],\n",
       "       [0., 0., 0., 0., 0., 0., 0., 1., 1., 1., 0.],\n",
       "       [0., 0., 0., 0., 0., 0., 0., 0., 1., 1., 1.],\n",
       "       [1., 0., 0., 0., 0., 0., 0., 0., 0., 1., 1.]])"
      ]
     },
     "execution_count": 7,
     "metadata": {},
     "output_type": "execute_result"
    }
   ],
   "source": [
    "line_lattice.to_adjacency_matrix()"
   ]
  },
  {
   "cell_type": "markdown",
   "metadata": {},
   "source": [
    "By setting `weighted=True`, we obtain a Hermitian matrix whose matrix elements are the weights."
   ]
  },
  {
   "cell_type": "code",
   "execution_count": 8,
   "metadata": {},
   "outputs": [
    {
     "data": {
      "text/plain": [
       "array([[1.+0.j, 1.+1.j, 0.+0.j, 0.+0.j, 0.+0.j, 0.+0.j, 0.+0.j, 0.+0.j,\n",
       "        0.+0.j, 0.+0.j, 1.-1.j],\n",
       "       [1.-1.j, 1.+0.j, 1.+1.j, 0.+0.j, 0.+0.j, 0.+0.j, 0.+0.j, 0.+0.j,\n",
       "        0.+0.j, 0.+0.j, 0.+0.j],\n",
       "       [0.+0.j, 1.-1.j, 1.+0.j, 1.+1.j, 0.+0.j, 0.+0.j, 0.+0.j, 0.+0.j,\n",
       "        0.+0.j, 0.+0.j, 0.+0.j],\n",
       "       [0.+0.j, 0.+0.j, 1.-1.j, 1.+0.j, 1.+1.j, 0.+0.j, 0.+0.j, 0.+0.j,\n",
       "        0.+0.j, 0.+0.j, 0.+0.j],\n",
       "       [0.+0.j, 0.+0.j, 0.+0.j, 1.-1.j, 1.+0.j, 1.+1.j, 0.+0.j, 0.+0.j,\n",
       "        0.+0.j, 0.+0.j, 0.+0.j],\n",
       "       [0.+0.j, 0.+0.j, 0.+0.j, 0.+0.j, 1.-1.j, 1.+0.j, 1.+1.j, 0.+0.j,\n",
       "        0.+0.j, 0.+0.j, 0.+0.j],\n",
       "       [0.+0.j, 0.+0.j, 0.+0.j, 0.+0.j, 0.+0.j, 1.-1.j, 1.+0.j, 1.+1.j,\n",
       "        0.+0.j, 0.+0.j, 0.+0.j],\n",
       "       [0.+0.j, 0.+0.j, 0.+0.j, 0.+0.j, 0.+0.j, 0.+0.j, 1.-1.j, 1.+0.j,\n",
       "        1.+1.j, 0.+0.j, 0.+0.j],\n",
       "       [0.+0.j, 0.+0.j, 0.+0.j, 0.+0.j, 0.+0.j, 0.+0.j, 0.+0.j, 1.-1.j,\n",
       "        1.+0.j, 1.+1.j, 0.+0.j],\n",
       "       [0.+0.j, 0.+0.j, 0.+0.j, 0.+0.j, 0.+0.j, 0.+0.j, 0.+0.j, 0.+0.j,\n",
       "        1.-1.j, 1.+0.j, 1.+1.j],\n",
       "       [1.+1.j, 0.+0.j, 0.+0.j, 0.+0.j, 0.+0.j, 0.+0.j, 0.+0.j, 0.+0.j,\n",
       "        0.+0.j, 1.-1.j, 1.+0.j]])"
      ]
     },
     "execution_count": 8,
     "metadata": {},
     "output_type": "execute_result"
    }
   ],
   "source": [
    "line_lattice.to_adjacency_matrix(weighted=True)"
   ]
  },
  {
   "cell_type": "markdown",
   "metadata": {},
   "source": [
    "## SquareLattice\n",
    "`SquareLattice` provides a two-dimensional lattice.\n",
    "Here, we make a two-dimensional lattice with the open boundary conditions."
   ]
  },
  {
   "cell_type": "code",
   "execution_count": 9,
   "metadata": {},
   "outputs": [
    {
     "data": {
      "image/png": "[encoded data removed]",
      "text/plain": [
       "<Figure size 432x288 with 1 Axes>"
      ]
     },
     "metadata": {},
     "output_type": "display_data"
    }
   ],
   "source": [
    "rows = 5\n",
    "cols = 4\n",
    "boundary_condition = 'open'\n",
    "square_lattice = SquareLattice(\n",
    "    rows=rows,\n",
    "    cols=cols,\n",
    "    boundary_condition=boundary_condition\n",
    ")\n",
    "\n",
    "square_lattice.draw()"
   ]
  },
  {
   "cell_type": "markdown",
   "metadata": {},
   "source": [
    "We can specify the boundary conditions for each direction by setting `boundary_condition` as a tuple."
   ]
  },
  {
   "cell_type": "code",
   "execution_count": 10,
   "metadata": {},
   "outputs": [
    {
     "data": {
      "image/png": "[encoded data removed]",
      "text/plain": [
       "<Figure size 432x288 with 1 Axes>"
      ]
     },
     "metadata": {},
     "output_type": "display_data"
    }
   ],
   "source": [
    "rows = 5\n",
    "cols = 4\n",
    "boundary_condition = ('open', 'periodic') # open in the x-direction, periodic in the y-direction\n",
    "square_lattice = SquareLattice(\n",
    "    rows=rows,\n",
    "    cols=cols,\n",
    "    boundary_condition=boundary_condition\n",
    ")\n",
    "\n",
    "square_lattice.draw()"
   ]
  },
  {
   "cell_type": "markdown",
   "metadata": {},
   "source": [
    "Again, we can give weights on the edges and the self-loops of the lattice.\n",
    "Here, it is possible to give weights for each direction as a tuple."
   ]
  },
  {
   "cell_type": "code",
   "execution_count": 11,
   "metadata": {},
   "outputs": [
    {
     "data": {
      "text/plain": [
       "{(0, 0, 1.0),\n",
       " (0, 1, 1.0),\n",
       " (0, 5, (1+1j)),\n",
       " (0, 15, (1-1j)),\n",
       " (1, 1, 1.0),\n",
       " (1, 2, 1.0),\n",
       " (1, 6, (1+1j)),\n",
       " (1, 16, (1-1j)),\n",
       " (2, 2, 1.0),\n",
       " (2, 3, 1.0),\n",
       " (2, 7, (1+1j)),\n",
       " (2, 17, (1-1j)),\n",
       " (3, 3, 1.0),\n",
       " (3, 4, 1.0),\n",
       " (3, 8, (1+1j)),\n",
       " (3, 18, (1-1j)),\n",
       " (4, 4, 1.0),\n",
       " (4, 9, (1+1j)),\n",
       " (4, 19, (1-1j)),\n",
       " (5, 5, 1.0),\n",
       " (5, 6, 1.0),\n",
       " (5, 10, (1+1j)),\n",
       " (6, 6, 1.0),\n",
       " (6, 7, 1.0),\n",
       " (6, 11, (1+1j)),\n",
       " (7, 7, 1.0),\n",
       " (7, 8, 1.0),\n",
       " (7, 12, (1+1j)),\n",
       " (8, 8, 1.0),\n",
       " (8, 9, 1.0),\n",
       " (8, 13, (1+1j)),\n",
       " (9, 9, 1.0),\n",
       " (9, 14, (1+1j)),\n",
       " (10, 10, 1.0),\n",
       " (10, 11, 1.0),\n",
       " (10, 15, (1+1j)),\n",
       " (11, 11, 1.0),\n",
       " (11, 12, 1.0),\n",
       " (11, 16, (1+1j)),\n",
       " (12, 12, 1.0),\n",
       " (12, 13, 1.0),\n",
       " (12, 17, (1+1j)),\n",
       " (13, 13, 1.0),\n",
       " (13, 14, 1.0),\n",
       " (13, 18, (1+1j)),\n",
       " (14, 14, 1.0),\n",
       " (14, 19, (1+1j)),\n",
       " (15, 15, 1.0),\n",
       " (15, 16, 1.0),\n",
       " (16, 16, 1.0),\n",
       " (16, 17, 1.0),\n",
       " (17, 17, 1.0),\n",
       " (17, 18, 1.0),\n",
       " (18, 18, 1.0),\n",
       " (18, 19, 1.0),\n",
       " (19, 19, 1.0)}"
      ]
     },
     "execution_count": 11,
     "metadata": {},
     "output_type": "execute_result"
    }
   ],
   "source": [
    "rows = 5\n",
    "cols = 4\n",
    "edge_parameter = (1.0, 1.0 + 1.0j)\n",
    "boundary_condition = ('open', 'periodic') # open in the x-direction, periodic in the y-direction\n",
    "onsite_parameter = 1.0\n",
    "square_lattice = SquareLattice(\n",
    "    rows=rows,\n",
    "    cols=cols, \n",
    "    edge_parameter=edge_parameter, \n",
    "    onsite_parameter=onsite_parameter,\n",
    "    boundary_condition=boundary_condition\n",
    ")\n",
    "\n",
    "set(square_lattice.graph.weighted_edge_list())"
   ]
  },
  {
   "cell_type": "markdown",
   "metadata": {},
   "source": [
    "## HyperCubicLattice\n",
    "`HyperCubicLattice` is a generalization of `LineLattice` and `SquareLattice`. \n",
    "It provides an arbitrary d-dimensional lattice.\n",
    "Here, we make a three-dimensional lattice of size 3 by 4 by 5 as an example.\n",
    "The size is given as a tuple, and the boundary conditions can be specified for each direction too.\n",
    "In the example, the boundary conditions are open."
   ]
  },
  {
   "cell_type": "code",
   "execution_count": 12,
   "metadata": {},
   "outputs": [],
   "source": [
    "size = (3, 4, 5)\n",
    "boundary_condition = ('open', 'open', 'open')\n",
    "cubic_lattice = HyperCubicLattice(\n",
    "    size=size,\n",
    "    boundary_condition=boundary_condition\n",
    ")"
   ]
  },
  {
   "cell_type": "markdown",
   "metadata": {},
   "source": [
    "We draw the cubic lattice specifying the positions of the lattice points."
   ]
  },
  {
   "cell_type": "code",
   "execution_count": 13,
   "metadata": {},
   "outputs": [
    {
     "data": {
      "image/png": "[encoded data removed]",
      "text/plain": [
       "<Figure size 432x288 with 1 Axes>"
      ]
     },
     "metadata": {},
     "output_type": "display_data"
    }
   ],
   "source": [
    "# function for setting the positions\n",
    "def indextocoord_3d(index:int, size:tuple, angle) -> list:\n",
    "    z = index // (size[0]*size[1])\n",
    "    a = index % (size[0]*size[1])\n",
    "    y = a // size[0]\n",
    "    x = a % size[0]\n",
    "    vec_x = np.array([1, 0])\n",
    "    vec_y = np.array([np.cos(angle), np.sin(angle)])\n",
    "    vec_z = np.array([0, 1])\n",
    "    return_coord = x*vec_x + y*vec_y + z*vec_z\n",
    "    return return_coord.tolist()\n",
    "\n",
    "pos = dict([(index, indextocoord_3d(index, size, angle=pi/4)) for index in range(np.prod(size))])\n",
    "\n",
    "cubic_lattice.draw(style=DrawStyle(pos=pos))"
   ]
  },
  {
   "cell_type": "markdown",
   "metadata": {},
   "source": [
    "## TriangularLattice\n",
    "`TriangularLattice` procides a triangular lattice, which can be seen as a two-dimensional lattice with diagonal edges.\n",
    "The argument `boundary_condition` can take either \"open\" or \"periodic\"."
   ]
  },
  {
   "cell_type": "code",
   "execution_count": 14,
   "metadata": {},
   "outputs": [
    {
     "data": {
      "image/png": "[encoded data removed]",
      "text/plain": [
       "<Figure size 432x288 with 1 Axes>"
      ]
     },
     "metadata": {},
     "output_type": "display_data"
    }
   ],
   "source": [
    "rows = 4\n",
    "cols = 3\n",
    "boundary_condition = 'open'\n",
    "\n",
    "triangular_lattice = TriangularLattice(\n",
    "    rows=rows,\n",
    "    cols=cols,\n",
    "    boundary_condition=boundary_condition\n",
    ")\n",
    "\n",
    "triangular_lattice.draw()"
   ]
  },
  {
   "cell_type": "markdown",
   "metadata": {},
   "source": [
    "## General Lattice\n",
    "Above, we have seen translational invariant lattices.\n",
    "Here, we consider a general lattice.\n",
    "We can construct a general lattice consisting of nodes and edges using an instance of PyGraph."
   ]
  },
  {
   "cell_type": "code",
   "execution_count": 15,
   "metadata": {},
   "outputs": [
    {
     "data": {
      "text/plain": [
       "{(0, 1, (1+1j)),\n",
       " (0, 2, -1.0),\n",
       " (2, 3, 2.0),\n",
       " (2, 5, -1.0),\n",
       " (4, 2, (-1+2j)),\n",
       " (4, 4, 3.0)}"
      ]
     },
     "execution_count": 15,
     "metadata": {},
     "output_type": "execute_result"
    }
   ],
   "source": [
    "graph = rx.PyGraph(multigraph=False) # multiigraph shoud be False\n",
    "graph.add_nodes_from(range(6))\n",
    "weighted_edge_list = [(0, 1, 1.0+1.0j), (0, 2, -1.0), (2, 3, 2.0), (4, 2, -1.0 + 2.0j), (4, 4, 3.0), (2, 5, -1.0)]\n",
    "graph.add_edges_from(weighted_edge_list)\n",
    "\n",
    "# make a lattice\n",
    "general_lattice = Lattice(graph)\n",
    "set(general_lattice.graph.weighted_edge_list())"
   ]
  },
  {
   "cell_type": "markdown",
   "metadata": {},
   "source": [
    "Here is its visualization."
   ]
  },
  {
   "cell_type": "code",
   "execution_count": 16,
   "metadata": {},
   "outputs": [
    {
     "data": {
      "image/png": "[encoded data removed]",
      "text/plain": [
       "<Figure size 432x288 with 1 Axes>"
      ]
     },
     "metadata": {},
     "output_type": "display_data"
    }
   ],
   "source": [
    "general_lattice.draw()"
   ]
  },
  {
   "cell_type": "markdown",
   "metadata": {},
   "source": [
    "When we want to visualize the self-loops in the lattice, we set `self_loop` to True."
   ]
  },
  {
   "cell_type": "code",
   "execution_count": 17,
   "metadata": {},
   "outputs": [
    {
     "data": {
      "image/png": "[encoded data removed]",
      "text/plain": [
       "<Figure size 432x288 with 1 Axes>"
      ]
     },
     "metadata": {},
     "output_type": "display_data"
    }
   ],
   "source": [
    "general_lattice.draw(self_loop=True)"
   ]
  },
  {
   "cell_type": "markdown",
   "metadata": {},
   "source": [
    "The labels of the lattice sites are drawn when `with_labels` is True."
   ]
  },
  {
   "cell_type": "code",
   "execution_count": 18,
   "metadata": {},
   "outputs": [
    {
     "data": {
      "image/png": "[encoded data removed]",
      "text/plain": [
       "<Figure size 432x288 with 1 Axes>"
      ]
     },
     "metadata": {},
     "output_type": "display_data"
    }
   ],
   "source": [
    "general_lattice.draw(self_loop=True, style=DrawStyle(with_labels=True))"
   ]
  },
  {
   "cell_type": "markdown",
   "metadata": {},
   "source": [
    "## The Fermi-Hubbard model\n",
    "The Fermi-Hubbard model is the simplest model describing electrons moving on a lattice ans interaction with each other at the same site.\n",
    "The Hamiltonian is given as follows:"
   ]
  },
  {
   "cell_type": "markdown",
   "metadata": {},
   "source": [
    "$$\n",
    "H = \\sum_{i, j}\\sum_{\\sigma = \\uparrow, \\downarrow} t_{i, j} c_{i, \\sigma}^\\dagger c_{j, \\sigma} + U \\sum_{i} n_{i, \\uparrow} n_{i, \\downarrow},\n",
    "$$"
   ]
  },
  {
   "cell_type": "markdown",
   "metadata": {},
   "source": [
    "where $ c_{i, \\sigma}^\\dagger $ and $ c_{i, \\sigma} $ are creation and annihilation operators of fermion at the site $ i $ with spin $ \\sigma $.\n",
    "The operator $n_{i, \\sigma}$ is the number operator, which is defined by $n_{i, \\sigma} = c_{i, \\sigma}^\\dag c_{i, \\sigma}$. \n",
    "The matrix $t_{i, j}$ is a Hermitian matrix called hopping matrix.\n",
    "The parameter $U$ represents the strength of the interaction."
   ]
  },
  {
   "cell_type": "markdown",
   "metadata": {},
   "source": [
    "We can make the Hamiltonian for a given lattice using `FermiHubbardModel` class.\n",
    "Here, we make the Hamiltonian with uniform hopping and interaction parameters on a two-dimensional lattice."
   ]
  },
  {
   "cell_type": "code",
   "execution_count": 19,
   "metadata": {},
   "outputs": [],
   "source": [
    "square_lattice = SquareLattice(\n",
    "    rows=5, \n",
    "    cols=4, \n",
    "    boundary_condition=\"periodic\"\n",
    ")\n",
    "\n",
    "t = -1.0 # the hopping parameter\n",
    "v = 0.0 # the onsite potential\n",
    "u = 5.0 # the interaction parameter U\n",
    "\n",
    "fhm = FermiHubbardModel.uniform_parameters(\n",
    "    lattice=square_lattice, \n",
    "    uniform_hopping=t, \n",
    "    uniform_onsite_potential=v, \n",
    "    onsite_interaction=u\n",
    ")"
   ]
  },
  {
   "cell_type": "markdown",
   "metadata": {},
   "source": [
    "To obtain the Hamiltonian in terms of the fermionic operators, we use `second_q_ops` method.\n",
    "The Hamiltonian is returned as an instance of `FermionicOp`."
   ]
  },
  {
   "cell_type": "markdown",
   "metadata": {},
   "source": [
    "- Note\n",
    "    - The number of fermionic operators required is twice of the number of lattice sites because of the spin degrees of freedom.\n",
    "    - In the implementation, even indexes correspond to up-spin and odd indexes to down-spin."
   ]
  },
  {
   "cell_type": "code",
   "execution_count": 20,
   "metadata": {},
   "outputs": [
    {
     "name": "stdout",
     "output_type": "stream",
     "text": [
      "Fermionic Operator\n",
      "register length=40, number terms=220\n",
      "  (-1+0j) * ( +_0 -_2 )\n",
      "+ (1+0j) * ( -_0 +_2 )\n",
      "+ (-1+0j) * ( +_0 -_10 )\n",
      "+ (1+0j) * ( -_0 +_10 )\n",
      "+ (-1+0j) * ( +_10 -_12 )\n",
      "+ (1+0j) * ( -_10 +_12 )\n",
      "+ (-1+0j) * ( +_10 -_20 )\n",
      "+ (1+0j) * ( -_10 +_20  ...\n"
     ]
    }
   ],
   "source": [
    "ham = fhm.second_q_ops(display_format='sparse')\n",
    "print(ham)"
   ]
  },
  {
   "cell_type": "markdown",
   "metadata": {},
   "source": [
    "`Lattice` has weights on its edges, so we can define a general hopping matrix using a Lattice instance.\n",
    "Here, we consider the Fermi-Hubbard model on a general lattice on which non-uniform hopping parameters are given.\n",
    "In this case, the weights of the lattice are regarded as the hopping matrix."
   ]
  },
  {
   "cell_type": "code",
   "execution_count": 21,
   "metadata": {},
   "outputs": [
    {
     "name": "stdout",
     "output_type": "stream",
     "text": [
      "Fermionic Operator\n",
      "register length=12, number terms=28\n",
      "  (1+1j) * ( +_0 -_2 )\n",
      "+ (-1+1j) * ( -_0 +_2 )\n",
      "+ (-1+0j) * ( +_0 -_4 )\n",
      "+ (1+0j) * ( -_0 +_4 )\n",
      "+ (2+0j) * ( +_4 -_6 )\n",
      "+ (-2+0j) * ( -_4 +_6 )\n",
      "+ (-1-2j) * ( +_4 -_8 )\n",
      "+ (1-2j) * ( -_4 +_8 )\n",
      "+ (3+0j) ...\n"
     ]
    }
   ],
   "source": [
    "graph = rx.PyGraph(multigraph=False) # multiigraph shoud be False\n",
    "graph.add_nodes_from(range(6))\n",
    "weighted_edge_list = [(0, 1, 1.0+1.0j), (0, 2, -1.0), (2, 3, 2.0), (4, 2, -1.0 + 2.0j), (4, 4, 3.0), (2, 5, -1.0)]\n",
    "graph.add_edges_from(weighted_edge_list)\n",
    "\n",
    "general_lattice = Lattice(graph) # the lattice whose weights are seen as the hopping matrix.\n",
    "u = 5.0 # the interaction parameter U\n",
    "\n",
    "fhm = FermiHubbardModel(\n",
    "    lattice=general_lattice, \n",
    "    onsite_interaction=u\n",
    ")\n",
    "\n",
    "ham = fhm.second_q_ops(display_format='sparse')\n",
    "print(ham)"
   ]
  },
  {
   "cell_type": "code",
   "execution_count": 22,
   "metadata": {},
   "outputs": [
    {
     "data": {
      "text/html": [
       "<h3>Version Information</h3><table><tr><th>Qiskit Software</th><th>Version</th></tr><tr><td><code>qiskit-terra</code></td><td>0.18.3</td></tr><tr><td><code>qiskit-nature</code></td><td>0.3.0</td></tr><tr><th>System information</th></tr><tr><td>Python</td><td>3.8.6 (default, Dec 20 2020, 19:41:29) \n",
       "[GCC 9.3.0]</td></tr><tr><td>OS</td><td>Linux</td></tr><tr><td>CPUs</td><td>8</td></tr><tr><td>Memory (Gb)</td><td>15.01168441772461</td></tr><tr><td colspan='2'>Thu Nov 11 15:43:36 2021 JST</td></tr></table>"
      ],
      "text/plain": [
       "<IPython.core.display.HTML object>"
      ]
     },
     "metadata": {},
     "output_type": "display_data"
    },
    {
     "data": {
      "text/html": [
       "<div style='width: 100%; background-color:#d5d9e0;padding-left: 10px; padding-bottom: 10px; padding-right: 10px; padding-top: 5px'><h3>This code is a part of Qiskit</h3><p>&copy; Copyright IBM 2017, 2021.</p><p>This code is licensed under the Apache License, Version 2.0. You may<br>obtain a copy of this license in the LICENSE.txt file in the root directory<br> of this source tree or at http://www.apache.org/licenses/LICENSE-2.0.<p>Any modifications or derivative works of this code must retain this<br>copyright notice, and modified files need to carry a notice indicating<br>that they have been altered from the originals.</p></div>"
      ],
      "text/plain": [
       "<IPython.core.display.HTML object>"
      ]
     },
     "metadata": {},
     "output_type": "display_data"
    }
   ],
   "source": [
    "import qiskit.tools.jupyter\n",
    "%qiskit_version_table\n",
    "%qiskit_copyright"
   ]
  },
  {
   "cell_type": "code",
   "execution_count": null,
   "metadata": {},
   "outputs": [],
   "source": []
  }
 ],
 "metadata": {
  "interpreter": {
   "hash": "916dbcbb3f70747c44a77c7bcd40155683ae19c65e1c03b4aa3499c5328201f1"
  },
  "kernelspec": {
   "display_name": "Python 3.8.10 64-bit",
   "language": "python",
   "name": "python3"
  },
  "language_info": {
   "codemirror_mode": {
    "name": "ipython",
    "version": 3
   },
   "file_extension": ".py",
   "mimetype": "text/x-python",
   "name": "python",
   "nbconvert_exporter": "python",
   "pygments_lexer": "ipython3",
   "version": "3.8.6"
  },
  "orig_nbformat": 4
 },
 "nbformat": 4,
 "nbformat_minor": 2
}
